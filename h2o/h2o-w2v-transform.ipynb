{
 "cells": [
  {
   "cell_type": "code",
   "execution_count": 18,
   "metadata": {},
   "outputs": [
    {
     "name": "stdout",
     "output_type": "stream",
     "text": [
      "Checking whether there is an H2O instance running at http://localhost:54321. connected.\n"
     ]
    },
    {
     "data": {
      "text/html": [
       "<div style=\"overflow:auto\"><table style=\"width:50%\"><tr><td>H2O cluster uptime:</td>\n",
       "<td>3 hours 11 mins</td></tr>\n",
       "<tr><td>H2O cluster timezone:</td>\n",
       "<td>America/Los_Angeles</td></tr>\n",
       "<tr><td>H2O data parsing timezone:</td>\n",
       "<td>UTC</td></tr>\n",
       "<tr><td>H2O cluster version:</td>\n",
       "<td>3.20.0.8</td></tr>\n",
       "<tr><td>H2O cluster version age:</td>\n",
       "<td>15 days </td></tr>\n",
       "<tr><td>H2O cluster name:</td>\n",
       "<td>H2O_from_python_kyanyoga_j4osue</td></tr>\n",
       "<tr><td>H2O cluster total nodes:</td>\n",
       "<td>1</td></tr>\n",
       "<tr><td>H2O cluster free memory:</td>\n",
       "<td>1.108 Gb</td></tr>\n",
       "<tr><td>H2O cluster total cores:</td>\n",
       "<td>4</td></tr>\n",
       "<tr><td>H2O cluster allowed cores:</td>\n",
       "<td>4</td></tr>\n",
       "<tr><td>H2O cluster status:</td>\n",
       "<td>locked, healthy</td></tr>\n",
       "<tr><td>H2O connection url:</td>\n",
       "<td>http://localhost:54321</td></tr>\n",
       "<tr><td>H2O connection proxy:</td>\n",
       "<td>None</td></tr>\n",
       "<tr><td>H2O internal security:</td>\n",
       "<td>False</td></tr>\n",
       "<tr><td>H2O API Extensions:</td>\n",
       "<td>XGBoost, Algos, AutoML, Core V3, Core V4</td></tr>\n",
       "<tr><td>Python version:</td>\n",
       "<td>2.7.14 final</td></tr></table></div>"
      ],
      "text/plain": [
       "--------------------------  ----------------------------------------\n",
       "H2O cluster uptime:         3 hours 11 mins\n",
       "H2O cluster timezone:       America/Los_Angeles\n",
       "H2O data parsing timezone:  UTC\n",
       "H2O cluster version:        3.20.0.8\n",
       "H2O cluster version age:    15 days\n",
       "H2O cluster name:           H2O_from_python_kyanyoga_j4osue\n",
       "H2O cluster total nodes:    1\n",
       "H2O cluster free memory:    1.108 Gb\n",
       "H2O cluster total cores:    4\n",
       "H2O cluster allowed cores:  4\n",
       "H2O cluster status:         locked, healthy\n",
       "H2O connection url:         http://localhost:54321\n",
       "H2O connection proxy:\n",
       "H2O internal security:      False\n",
       "H2O API Extensions:         XGBoost, Algos, AutoML, Core V3, Core V4\n",
       "Python version:             2.7.14 final\n",
       "--------------------------  ----------------------------------------"
      ]
     },
     "metadata": {},
     "output_type": "display_data"
    }
   ],
   "source": [
    "# http://docs.h2o.ai/h2o/latest-stable/h2o-r/docs/reference/h2o.transform.html\n",
    "\n",
    "import h2o\n",
    "import numpy as np\n",
    "\n",
    "h2o.init()"
   ]
  },
  {
   "cell_type": "code",
   "execution_count": 23,
   "metadata": {},
   "outputs": [
    {
     "name": "stdout",
     "output_type": "stream",
     "text": [
      "Parse progress: |█████████████████████████████████████████████████████████| 100%\n"
     ]
    },
    {
     "ename": "H2OResponseError",
     "evalue": "ModelBuilderErrorV3  (water.exceptions.H2OModelBuilderIllegalArgumentException):\n    stacktrace =\n        water.exceptions.H2OModelBuilderIllegalArgumentException: Illegal argument(s) for Word2Vec model: data.hex.  Details: ERRR on field: _train: The first column of the training input frame has to be column of Strings.\n        water.exceptions.H2OModelBuilderIllegalArgumentException.makeFromBuilder(H2OModelBuilderIllegalArgumentException.java:20)\n        hex.ModelBuilder.trainModel(ModelBuilder.java:239)\n        water.api.ModelBuilderHandler.handle(ModelBuilderHandler.java:64)\n        water.api.ModelBuilderHandler.handle(ModelBuilderHandler.java:17)\n        water.api.RequestServer.serve(RequestServer.java:451)\n        water.api.RequestServer.doGeneric(RequestServer.java:296)\n        water.api.RequestServer.doPost(RequestServer.java:222)\n        javax.servlet.http.HttpServlet.service(HttpServlet.java:755)\n        javax.servlet.http.HttpServlet.service(HttpServlet.java:848)\n        org.eclipse.jetty.servlet.ServletHolder.handle(ServletHolder.java:684)\n        org.eclipse.jetty.servlet.ServletHandler.doHandle(ServletHandler.java:503)\n        org.eclipse.jetty.server.handler.ContextHandler.doHandle(ContextHandler.java:1086)\n        org.eclipse.jetty.servlet.ServletHandler.doScope(ServletHandler.java:429)\n        org.eclipse.jetty.server.handler.ContextHandler.doScope(ContextHandler.java:1020)\n        org.eclipse.jetty.server.handler.ScopedHandler.handle(ScopedHandler.java:135)\n        org.eclipse.jetty.server.handler.HandlerCollection.handle(HandlerCollection.java:154)\n        org.eclipse.jetty.server.handler.HandlerWrapper.handle(HandlerWrapper.java:116)\n        water.JettyHTTPD$LoginHandler.handle(JettyHTTPD.java:197)\n        org.eclipse.jetty.server.handler.HandlerCollection.handle(HandlerCollection.java:154)\n        org.eclipse.jetty.server.handler.HandlerWrapper.handle(HandlerWrapper.java:116)\n        org.eclipse.jetty.server.Server.handle(Server.java:370)\n        org.eclipse.jetty.server.AbstractHttpConnection.handleRequest(AbstractHttpConnection.java:494)\n        org.eclipse.jetty.server.BlockingHttpConnection.handleRequest(BlockingHttpConnection.java:53)\n        org.eclipse.jetty.server.AbstractHttpConnection.content(AbstractHttpConnection.java:982)\n        org.eclipse.jetty.server.AbstractHttpConnection$RequestHandler.content(AbstractHttpConnection.java:1043)\n        org.eclipse.jetty.http.HttpParser.parseNext(HttpParser.java:865)\n        org.eclipse.jetty.http.HttpParser.parseAvailable(HttpParser.java:240)\n        org.eclipse.jetty.server.BlockingHttpConnection.handle(BlockingHttpConnection.java:72)\n        org.eclipse.jetty.server.bio.SocketConnector$ConnectorEndPoint.run(SocketConnector.java:264)\n        org.eclipse.jetty.util.thread.QueuedThreadPool.runJob(QueuedThreadPool.java:608)\n        org.eclipse.jetty.util.thread.QueuedThreadPool$3.run(QueuedThreadPool.java:543)\n        java.lang.Thread.run(Thread.java:745)\n    parameters = {u'fold_column': None, u'response_column': None, u'stopping_metric': u'AUTO', u'parallelize_cross_validation': True, u'word_model': u'SkipGram', u'epochs': 5, u'weights_column': None, u'stopping_rounds': 0, u'nfolds': 0, u'offset_column': None, u'categorical_encoding': u'AUTO', u'checkpoint': None, u'stopping_tolerance': 0.001, u'window_size': 5, u'huber_alpha': 0.9, u'max_runtime_secs': 0.0, u'quantile_alpha': 0.5, u'min_word_freq': 5, u'norm_model': u'HSM', u'validation_frame': None, u'custom_metric_func': None, u'model_id': None, u'ignored_columns': None, u'tweedie_power': 1.5, u'max_categorical_levels': 10, u'score_each_iteration': False, u'sent_sample_rate': 0.001, u'training_frame': {u'URL': u'/3/Frames/Key_Frame__upload_961b72a716217eb5a4accf2df45e4c7c.hex', u'type': u'Key<Frame>', u'name': u'Key_Frame__upload_961b72a716217eb5a4accf2df45e4c7c.hex', u'__meta': {u'schema_name': u'FrameKeyV3', u'schema_version': 3, u'schema_type': u'Key<Frame>'}}, u'fold_assignment': u'AUTO', u'vec_size': 2, u'keep_cross_validation_predictions': False, u'__meta': {u'schema_name': u'Word2VecParametersV3', u'schema_version': 3, u'schema_type': u'Word2VecParameters'}, u'init_learning_rate': 0.025, u'distribution': u'AUTO', u'pre_trained': None, u'ignore_const_cols': True, u'keep_cross_validation_fold_assignment': False}\n    exception_msg = u'Illegal argument(s) for Word2Vec model: data.hex.  Details: ERRR on field: _train: The first column of the training input frame has to be column of Strings.'\n    timestamp = 1538875804857\n    messages = [{u'field_name': u'keep_cross_validation_predictions', u'message': u'Only for cross-validation.', u'message_type': u'TRACE', u'__meta': {u'schema_name': u'ValidationMessageV3', u'schema_version': 3, u'schema_type': u'ValidationMessage'}}, {u'field_name': u'keep_cross_validation_fold_assignment', u'message': u'Only for cross-validation.', u'message_type': u'TRACE', u'__meta': {u'schema_name': u'ValidationMessageV3', u'schema_version': 3, u'schema_type': u'ValidationMessage'}}, {u'field_name': u'fold_assignment', u'message': u'Only for cross-validation.', u'message_type': u'TRACE', u'__meta': {u'schema_name': u'ValidationMessageV3', u'schema_version': 3, u'schema_type': u'ValidationMessage'}}, {u'field_name': u'tweedie_power', u'message': u'Only for Tweedie Distribution.', u'message_type': u'TRACE', u'__meta': {u'schema_name': u'ValidationMessageV3', u'schema_version': 3, u'schema_type': u'ValidationMessage'}}, {u'field_name': u'response_column', u'message': u'Ignored for unsupervised methods.', u'message_type': u'TRACE', u'__meta': {u'schema_name': u'ValidationMessageV3', u'schema_version': 3, u'schema_type': u'ValidationMessage'}}, {u'field_name': u'balance_classes', u'message': u'Ignored for unsupervised methods.', u'message_type': u'TRACE', u'__meta': {u'schema_name': u'ValidationMessageV3', u'schema_version': 3, u'schema_type': u'ValidationMessage'}}, {u'field_name': u'class_sampling_factors', u'message': u'Ignored for unsupervised methods.', u'message_type': u'TRACE', u'__meta': {u'schema_name': u'ValidationMessageV3', u'schema_version': 3, u'schema_type': u'ValidationMessage'}}, {u'field_name': u'max_after_balance_size', u'message': u'Ignored for unsupervised methods.', u'message_type': u'TRACE', u'__meta': {u'schema_name': u'ValidationMessageV3', u'schema_version': 3, u'schema_type': u'ValidationMessage'}}, {u'field_name': u'max_confusion_matrix_size', u'message': u'Ignored for unsupervised methods.', u'message_type': u'TRACE', u'__meta': {u'schema_name': u'ValidationMessageV3', u'schema_version': 3, u'schema_type': u'ValidationMessage'}}, {u'field_name': u'train', u'message': u'The first column of the training input frame has to be column of Strings.', u'message_type': u'ERRR', u'__meta': {u'schema_name': u'ValidationMessageV3', u'schema_version': 3, u'schema_type': u'ValidationMessage'}}]\n    error_url = u'/3/ModelBuilders/word2vec'\n    values = {u'messages': [{u'_log_level': 5, u'_message': u'Only for cross-validation.', u'_field_name': u'_keep_cross_validation_predictions'}, {u'_log_level': 5, u'_message': u'Only for cross-validation.', u'_field_name': u'_keep_cross_validation_fold_assignment'}, {u'_log_level': 5, u'_message': u'Only for cross-validation.', u'_field_name': u'_fold_assignment'}, {u'_log_level': 5, u'_message': u'Only for Tweedie Distribution.', u'_field_name': u'_tweedie_power'}, {u'_log_level': 5, u'_message': u'Ignored for unsupervised methods.', u'_field_name': u'_response_column'}, {u'_log_level': 5, u'_message': u'Ignored for unsupervised methods.', u'_field_name': u'_balance_classes'}, {u'_log_level': 5, u'_message': u'Ignored for unsupervised methods.', u'_field_name': u'_class_sampling_factors'}, {u'_log_level': 5, u'_message': u'Ignored for unsupervised methods.', u'_field_name': u'_max_after_balance_size'}, {u'_log_level': 5, u'_message': u'Ignored for unsupervised methods.', u'_field_name': u'_max_confusion_matrix_size'}, {u'_log_level': 1, u'_message': u'The first column of the training input frame has to be column of Strings.', u'_field_name': u'_train'}], u'algo': u'Word2Vec', u'parameters': {u'_max_categorical_levels': 10, u'_fold_assignment': u'AUTO', u'_norm_model': u'HSM', u'_epochs': 5, u'_class_sampling_factors': None, u'_custom_metric_func': None, u'_max_confusion_matrix_size': 20, u'_response_column': None, u'_score_each_iteration': False, u'_word_model': u'SkipGram', u'_stopping_tolerance': 0.001, u'_distribution': u'AUTO', u'_stopping_metric': u'AUTO', u'_min_word_freq': 5, u'_huber_alpha': 0.9, u'_pre_trained': None, u'_max_after_balance_size': 5.0, u'_parallelize_cross_validation': True, u'_train': {u'type': u'Key', u'name': u'Key_Frame__upload_961b72a716217eb5a4accf2df45e4c7c.hex'}, u'_pretrained_autoencoder': None, u'_valid': None, u'_checkpoint': None, u'_nfolds': 0, u'_is_cv_model': False, u'_vec_size': 2, u'_sent_sample_rate': 0.001, u'_offset_column': None, u'_seed': -1, u'_ignore_const_cols': True, u'_auto_rebalance': True, u'_init_learning_rate': 0.025, u'_max_runtime_secs': 0.0, u'_balance_classes': False, u'_stopping_rounds': 0, u'_fold_column': None, u'_keep_cross_validation_predictions': False, u'_categorical_encoding': u'AUTO', u'_tweedie_power': 1.5, u'_weights_column': None, u'_window_size': 5, u'_quantile_alpha': 0.5, u'_keep_cross_validation_fold_assignment': False, u'_ignored_columns': None}, u'error_count': 2}\n    error_count = 2\n    http_status = 412\n    msg = u'Illegal argument(s) for Word2Vec model: data.hex.  Details: ERRR on field: _train: The first column of the training input frame has to be column of Strings.'\n    dev_msg = u'Illegal argument(s) for Word2Vec model: data.hex.  Details: ERRR on field: _train: The first column of the training input frame has to be column of Strings.'\n",
     "output_type": "error",
     "traceback": [
      "\u001b[0;31m---------------------------------------------------------------------------\u001b[0m",
      "\u001b[0;31mH2OResponseError\u001b[0m                          Traceback (most recent call last)",
      "\u001b[0;32m<ipython-input-23-aa0d897d48a6>\u001b[0m in \u001b[0;36m<module>\u001b[0;34m()\u001b[0m\n\u001b[1;32m      8\u001b[0m \u001b[0;31m# This takes time to run - left commented out\u001b[0m\u001b[0;34m\u001b[0m\u001b[0;34m\u001b[0m\u001b[0m\n\u001b[1;32m      9\u001b[0m \u001b[0mw2v_model\u001b[0m \u001b[0;34m=\u001b[0m \u001b[0mH2OWord2vecEstimator\u001b[0m\u001b[0;34m(\u001b[0m\u001b[0mvec_size\u001b[0m \u001b[0;34m=\u001b[0m \u001b[0;36m2\u001b[0m\u001b[0;34m,\u001b[0m \u001b[0mmodel_id\u001b[0m \u001b[0;34m=\u001b[0m \u001b[0;34m\"data.hex\"\u001b[0m\u001b[0;34m)\u001b[0m\u001b[0;34m\u001b[0m\u001b[0m\n\u001b[0;32m---> 10\u001b[0;31m \u001b[0mw2v_model\u001b[0m\u001b[0;34m.\u001b[0m\u001b[0mtrain\u001b[0m\u001b[0;34m(\u001b[0m\u001b[0mtraining_frame\u001b[0m\u001b[0;34m=\u001b[0m\u001b[0mdata\u001b[0m\u001b[0;34m)\u001b[0m\u001b[0;34m\u001b[0m\u001b[0m\n\u001b[0m",
      "\u001b[0;32m/Users/kyanyoga/miniconda2/envs/h2o/lib/python2.7/site-packages/h2o/estimators/estimator_base.pyc\u001b[0m in \u001b[0;36mtrain\u001b[0;34m(self, x, y, training_frame, offset_column, fold_column, weights_column, validation_frame, max_runtime_secs, ignored_columns, model_id, verbose)\u001b[0m\n\u001b[1;32m    225\u001b[0m         \u001b[0mrest_ver\u001b[0m \u001b[0;34m=\u001b[0m \u001b[0mparms\u001b[0m\u001b[0;34m.\u001b[0m\u001b[0mpop\u001b[0m\u001b[0;34m(\u001b[0m\u001b[0;34m\"_rest_version\"\u001b[0m\u001b[0;34m)\u001b[0m \u001b[0;32mif\u001b[0m \u001b[0;34m\"_rest_version\"\u001b[0m \u001b[0;32min\u001b[0m \u001b[0mparms\u001b[0m \u001b[0;32melse\u001b[0m \u001b[0;36m3\u001b[0m\u001b[0;34m\u001b[0m\u001b[0m\n\u001b[1;32m    226\u001b[0m \u001b[0;34m\u001b[0m\u001b[0m\n\u001b[0;32m--> 227\u001b[0;31m         \u001b[0mmodel_builder_json\u001b[0m \u001b[0;34m=\u001b[0m \u001b[0mh2o\u001b[0m\u001b[0;34m.\u001b[0m\u001b[0mapi\u001b[0m\u001b[0;34m(\u001b[0m\u001b[0;34m\"POST /%d/ModelBuilders/%s\"\u001b[0m \u001b[0;34m%\u001b[0m \u001b[0;34m(\u001b[0m\u001b[0mrest_ver\u001b[0m\u001b[0;34m,\u001b[0m \u001b[0mself\u001b[0m\u001b[0;34m.\u001b[0m\u001b[0malgo\u001b[0m\u001b[0;34m)\u001b[0m\u001b[0;34m,\u001b[0m \u001b[0mdata\u001b[0m\u001b[0;34m=\u001b[0m\u001b[0mparms\u001b[0m\u001b[0;34m)\u001b[0m\u001b[0;34m\u001b[0m\u001b[0m\n\u001b[0m\u001b[1;32m    228\u001b[0m         \u001b[0mmodel\u001b[0m \u001b[0;34m=\u001b[0m \u001b[0mH2OJob\u001b[0m\u001b[0;34m(\u001b[0m\u001b[0mmodel_builder_json\u001b[0m\u001b[0;34m,\u001b[0m \u001b[0mjob_type\u001b[0m\u001b[0;34m=\u001b[0m\u001b[0;34m(\u001b[0m\u001b[0mself\u001b[0m\u001b[0;34m.\u001b[0m\u001b[0malgo\u001b[0m \u001b[0;34m+\u001b[0m \u001b[0;34m\" Model Build\"\u001b[0m\u001b[0;34m)\u001b[0m\u001b[0;34m)\u001b[0m\u001b[0;34m\u001b[0m\u001b[0m\n\u001b[1;32m    229\u001b[0m \u001b[0;34m\u001b[0m\u001b[0m\n",
      "\u001b[0;32m/Users/kyanyoga/miniconda2/envs/h2o/lib/python2.7/site-packages/h2o/h2o.pyc\u001b[0m in \u001b[0;36mapi\u001b[0;34m(endpoint, data, json, filename, save_to)\u001b[0m\n\u001b[1;32m    101\u001b[0m     \u001b[0;31m# type checks are performed in H2OConnection class\u001b[0m\u001b[0;34m\u001b[0m\u001b[0;34m\u001b[0m\u001b[0m\n\u001b[1;32m    102\u001b[0m     \u001b[0m_check_connection\u001b[0m\u001b[0;34m(\u001b[0m\u001b[0;34m)\u001b[0m\u001b[0;34m\u001b[0m\u001b[0m\n\u001b[0;32m--> 103\u001b[0;31m     \u001b[0;32mreturn\u001b[0m \u001b[0mh2oconn\u001b[0m\u001b[0;34m.\u001b[0m\u001b[0mrequest\u001b[0m\u001b[0;34m(\u001b[0m\u001b[0mendpoint\u001b[0m\u001b[0;34m,\u001b[0m \u001b[0mdata\u001b[0m\u001b[0;34m=\u001b[0m\u001b[0mdata\u001b[0m\u001b[0;34m,\u001b[0m \u001b[0mjson\u001b[0m\u001b[0;34m=\u001b[0m\u001b[0mjson\u001b[0m\u001b[0;34m,\u001b[0m \u001b[0mfilename\u001b[0m\u001b[0;34m=\u001b[0m\u001b[0mfilename\u001b[0m\u001b[0;34m,\u001b[0m \u001b[0msave_to\u001b[0m\u001b[0;34m=\u001b[0m\u001b[0msave_to\u001b[0m\u001b[0;34m)\u001b[0m\u001b[0;34m\u001b[0m\u001b[0m\n\u001b[0m\u001b[1;32m    104\u001b[0m \u001b[0;34m\u001b[0m\u001b[0m\n\u001b[1;32m    105\u001b[0m \u001b[0;34m\u001b[0m\u001b[0m\n",
      "\u001b[0;32m/Users/kyanyoga/miniconda2/envs/h2o/lib/python2.7/site-packages/h2o/backend/connection.pyc\u001b[0m in \u001b[0;36mrequest\u001b[0;34m(self, endpoint, data, json, filename, save_to)\u001b[0m\n\u001b[1;32m    400\u001b[0m                                     auth=self._auth, verify=self._verify_ssl_cert, proxies=self._proxies)\n\u001b[1;32m    401\u001b[0m             \u001b[0mself\u001b[0m\u001b[0;34m.\u001b[0m\u001b[0m_log_end_transaction\u001b[0m\u001b[0;34m(\u001b[0m\u001b[0mstart_time\u001b[0m\u001b[0;34m,\u001b[0m \u001b[0mresp\u001b[0m\u001b[0;34m)\u001b[0m\u001b[0;34m\u001b[0m\u001b[0m\n\u001b[0;32m--> 402\u001b[0;31m             \u001b[0;32mreturn\u001b[0m \u001b[0mself\u001b[0m\u001b[0;34m.\u001b[0m\u001b[0m_process_response\u001b[0m\u001b[0;34m(\u001b[0m\u001b[0mresp\u001b[0m\u001b[0;34m,\u001b[0m \u001b[0msave_to\u001b[0m\u001b[0;34m)\u001b[0m\u001b[0;34m\u001b[0m\u001b[0m\n\u001b[0m\u001b[1;32m    403\u001b[0m \u001b[0;34m\u001b[0m\u001b[0m\n\u001b[1;32m    404\u001b[0m         \u001b[0;32mexcept\u001b[0m \u001b[0;34m(\u001b[0m\u001b[0mrequests\u001b[0m\u001b[0;34m.\u001b[0m\u001b[0mexceptions\u001b[0m\u001b[0;34m.\u001b[0m\u001b[0mConnectionError\u001b[0m\u001b[0;34m,\u001b[0m \u001b[0mrequests\u001b[0m\u001b[0;34m.\u001b[0m\u001b[0mexceptions\u001b[0m\u001b[0;34m.\u001b[0m\u001b[0mHTTPError\u001b[0m\u001b[0;34m)\u001b[0m \u001b[0;32mas\u001b[0m \u001b[0me\u001b[0m\u001b[0;34m:\u001b[0m\u001b[0;34m\u001b[0m\u001b[0m\n",
      "\u001b[0;32m/Users/kyanyoga/miniconda2/envs/h2o/lib/python2.7/site-packages/h2o/backend/connection.pyc\u001b[0m in \u001b[0;36m_process_response\u001b[0;34m(response, save_to)\u001b[0m\n\u001b[1;32m    723\u001b[0m         \u001b[0;31m# Client errors (400 = \"Bad Request\", 404 = \"Not Found\", 412 = \"Precondition Failed\")\u001b[0m\u001b[0;34m\u001b[0m\u001b[0;34m\u001b[0m\u001b[0m\n\u001b[1;32m    724\u001b[0m         \u001b[0;32mif\u001b[0m \u001b[0mstatus_code\u001b[0m \u001b[0;32min\u001b[0m \u001b[0;34m{\u001b[0m\u001b[0;36m400\u001b[0m\u001b[0;34m,\u001b[0m \u001b[0;36m404\u001b[0m\u001b[0;34m,\u001b[0m \u001b[0;36m412\u001b[0m\u001b[0;34m}\u001b[0m \u001b[0;32mand\u001b[0m \u001b[0misinstance\u001b[0m\u001b[0;34m(\u001b[0m\u001b[0mdata\u001b[0m\u001b[0;34m,\u001b[0m \u001b[0;34m(\u001b[0m\u001b[0mH2OErrorV3\u001b[0m\u001b[0;34m,\u001b[0m \u001b[0mH2OModelBuilderErrorV3\u001b[0m\u001b[0;34m)\u001b[0m\u001b[0;34m)\u001b[0m\u001b[0;34m:\u001b[0m\u001b[0;34m\u001b[0m\u001b[0m\n\u001b[0;32m--> 725\u001b[0;31m             \u001b[0;32mraise\u001b[0m \u001b[0mH2OResponseError\u001b[0m\u001b[0;34m(\u001b[0m\u001b[0mdata\u001b[0m\u001b[0;34m)\u001b[0m\u001b[0;34m\u001b[0m\u001b[0m\n\u001b[0m\u001b[1;32m    726\u001b[0m \u001b[0;34m\u001b[0m\u001b[0m\n\u001b[1;32m    727\u001b[0m         \u001b[0;31m# Server errors (notably 500 = \"Server Error\")\u001b[0m\u001b[0;34m\u001b[0m\u001b[0;34m\u001b[0m\u001b[0m\n",
      "\u001b[0;31mH2OResponseError\u001b[0m: ModelBuilderErrorV3  (water.exceptions.H2OModelBuilderIllegalArgumentException):\n    stacktrace =\n        water.exceptions.H2OModelBuilderIllegalArgumentException: Illegal argument(s) for Word2Vec model: data.hex.  Details: ERRR on field: _train: The first column of the training input frame has to be column of Strings.\n        water.exceptions.H2OModelBuilderIllegalArgumentException.makeFromBuilder(H2OModelBuilderIllegalArgumentException.java:20)\n        hex.ModelBuilder.trainModel(ModelBuilder.java:239)\n        water.api.ModelBuilderHandler.handle(ModelBuilderHandler.java:64)\n        water.api.ModelBuilderHandler.handle(ModelBuilderHandler.java:17)\n        water.api.RequestServer.serve(RequestServer.java:451)\n        water.api.RequestServer.doGeneric(RequestServer.java:296)\n        water.api.RequestServer.doPost(RequestServer.java:222)\n        javax.servlet.http.HttpServlet.service(HttpServlet.java:755)\n        javax.servlet.http.HttpServlet.service(HttpServlet.java:848)\n        org.eclipse.jetty.servlet.ServletHolder.handle(ServletHolder.java:684)\n        org.eclipse.jetty.servlet.ServletHandler.doHandle(ServletHandler.java:503)\n        org.eclipse.jetty.server.handler.ContextHandler.doHandle(ContextHandler.java:1086)\n        org.eclipse.jetty.servlet.ServletHandler.doScope(ServletHandler.java:429)\n        org.eclipse.jetty.server.handler.ContextHandler.doScope(ContextHandler.java:1020)\n        org.eclipse.jetty.server.handler.ScopedHandler.handle(ScopedHandler.java:135)\n        org.eclipse.jetty.server.handler.HandlerCollection.handle(HandlerCollection.java:154)\n        org.eclipse.jetty.server.handler.HandlerWrapper.handle(HandlerWrapper.java:116)\n        water.JettyHTTPD$LoginHandler.handle(JettyHTTPD.java:197)\n        org.eclipse.jetty.server.handler.HandlerCollection.handle(HandlerCollection.java:154)\n        org.eclipse.jetty.server.handler.HandlerWrapper.handle(HandlerWrapper.java:116)\n        org.eclipse.jetty.server.Server.handle(Server.java:370)\n        org.eclipse.jetty.server.AbstractHttpConnection.handleRequest(AbstractHttpConnection.java:494)\n        org.eclipse.jetty.server.BlockingHttpConnection.handleRequest(BlockingHttpConnection.java:53)\n        org.eclipse.jetty.server.AbstractHttpConnection.content(AbstractHttpConnection.java:982)\n        org.eclipse.jetty.server.AbstractHttpConnection$RequestHandler.content(AbstractHttpConnection.java:1043)\n        org.eclipse.jetty.http.HttpParser.parseNext(HttpParser.java:865)\n        org.eclipse.jetty.http.HttpParser.parseAvailable(HttpParser.java:240)\n        org.eclipse.jetty.server.BlockingHttpConnection.handle(BlockingHttpConnection.java:72)\n        org.eclipse.jetty.server.bio.SocketConnector$ConnectorEndPoint.run(SocketConnector.java:264)\n        org.eclipse.jetty.util.thread.QueuedThreadPool.runJob(QueuedThreadPool.java:608)\n        org.eclipse.jetty.util.thread.QueuedThreadPool$3.run(QueuedThreadPool.java:543)\n        java.lang.Thread.run(Thread.java:745)\n    parameters = {u'fold_column': None, u'response_column': None, u'stopping_metric': u'AUTO', u'parallelize_cross_validation': True, u'word_model': u'SkipGram', u'epochs': 5, u'weights_column': None, u'stopping_rounds': 0, u'nfolds': 0, u'offset_column': None, u'categorical_encoding': u'AUTO', u'checkpoint': None, u'stopping_tolerance': 0.001, u'window_size': 5, u'huber_alpha': 0.9, u'max_runtime_secs': 0.0, u'quantile_alpha': 0.5, u'min_word_freq': 5, u'norm_model': u'HSM', u'validation_frame': None, u'custom_metric_func': None, u'model_id': None, u'ignored_columns': None, u'tweedie_power': 1.5, u'max_categorical_levels': 10, u'score_each_iteration': False, u'sent_sample_rate': 0.001, u'training_frame': {u'URL': u'/3/Frames/Key_Frame__upload_961b72a716217eb5a4accf2df45e4c7c.hex', u'type': u'Key<Frame>', u'name': u'Key_Frame__upload_961b72a716217eb5a4accf2df45e4c7c.hex', u'__meta': {u'schema_name': u'FrameKeyV3', u'schema_version': 3, u'schema_type': u'Key<Frame>'}}, u'fold_assignment': u'AUTO', u'vec_size': 2, u'keep_cross_validation_predictions': False, u'__meta': {u'schema_name': u'Word2VecParametersV3', u'schema_version': 3, u'schema_type': u'Word2VecParameters'}, u'init_learning_rate': 0.025, u'distribution': u'AUTO', u'pre_trained': None, u'ignore_const_cols': True, u'keep_cross_validation_fold_assignment': False}\n    exception_msg = u'Illegal argument(s) for Word2Vec model: data.hex.  Details: ERRR on field: _train: The first column of the training input frame has to be column of Strings.'\n    timestamp = 1538875804857\n    messages = [{u'field_name': u'keep_cross_validation_predictions', u'message': u'Only for cross-validation.', u'message_type': u'TRACE', u'__meta': {u'schema_name': u'ValidationMessageV3', u'schema_version': 3, u'schema_type': u'ValidationMessage'}}, {u'field_name': u'keep_cross_validation_fold_assignment', u'message': u'Only for cross-validation.', u'message_type': u'TRACE', u'__meta': {u'schema_name': u'ValidationMessageV3', u'schema_version': 3, u'schema_type': u'ValidationMessage'}}, {u'field_name': u'fold_assignment', u'message': u'Only for cross-validation.', u'message_type': u'TRACE', u'__meta': {u'schema_name': u'ValidationMessageV3', u'schema_version': 3, u'schema_type': u'ValidationMessage'}}, {u'field_name': u'tweedie_power', u'message': u'Only for Tweedie Distribution.', u'message_type': u'TRACE', u'__meta': {u'schema_name': u'ValidationMessageV3', u'schema_version': 3, u'schema_type': u'ValidationMessage'}}, {u'field_name': u'response_column', u'message': u'Ignored for unsupervised methods.', u'message_type': u'TRACE', u'__meta': {u'schema_name': u'ValidationMessageV3', u'schema_version': 3, u'schema_type': u'ValidationMessage'}}, {u'field_name': u'balance_classes', u'message': u'Ignored for unsupervised methods.', u'message_type': u'TRACE', u'__meta': {u'schema_name': u'ValidationMessageV3', u'schema_version': 3, u'schema_type': u'ValidationMessage'}}, {u'field_name': u'class_sampling_factors', u'message': u'Ignored for unsupervised methods.', u'message_type': u'TRACE', u'__meta': {u'schema_name': u'ValidationMessageV3', u'schema_version': 3, u'schema_type': u'ValidationMessage'}}, {u'field_name': u'max_after_balance_size', u'message': u'Ignored for unsupervised methods.', u'message_type': u'TRACE', u'__meta': {u'schema_name': u'ValidationMessageV3', u'schema_version': 3, u'schema_type': u'ValidationMessage'}}, {u'field_name': u'max_confusion_matrix_size', u'message': u'Ignored for unsupervised methods.', u'message_type': u'TRACE', u'__meta': {u'schema_name': u'ValidationMessageV3', u'schema_version': 3, u'schema_type': u'ValidationMessage'}}, {u'field_name': u'train', u'message': u'The first column of the training input frame has to be column of Strings.', u'message_type': u'ERRR', u'__meta': {u'schema_name': u'ValidationMessageV3', u'schema_version': 3, u'schema_type': u'ValidationMessage'}}]\n    error_url = u'/3/ModelBuilders/word2vec'\n    values = {u'messages': [{u'_log_level': 5, u'_message': u'Only for cross-validation.', u'_field_name': u'_keep_cross_validation_predictions'}, {u'_log_level': 5, u'_message': u'Only for cross-validation.', u'_field_name': u'_keep_cross_validation_fold_assignment'}, {u'_log_level': 5, u'_message': u'Only for cross-validation.', u'_field_name': u'_fold_assignment'}, {u'_log_level': 5, u'_message': u'Only for Tweedie Distribution.', u'_field_name': u'_tweedie_power'}, {u'_log_level': 5, u'_message': u'Ignored for unsupervised methods.', u'_field_name': u'_response_column'}, {u'_log_level': 5, u'_message': u'Ignored for unsupervised methods.', u'_field_name': u'_balance_classes'}, {u'_log_level': 5, u'_message': u'Ignored for unsupervised methods.', u'_field_name': u'_class_sampling_factors'}, {u'_log_level': 5, u'_message': u'Ignored for unsupervised methods.', u'_field_name': u'_max_after_balance_size'}, {u'_log_level': 5, u'_message': u'Ignored for unsupervised methods.', u'_field_name': u'_max_confusion_matrix_size'}, {u'_log_level': 1, u'_message': u'The first column of the training input frame has to be column of Strings.', u'_field_name': u'_train'}], u'algo': u'Word2Vec', u'parameters': {u'_max_categorical_levels': 10, u'_fold_assignment': u'AUTO', u'_norm_model': u'HSM', u'_epochs': 5, u'_class_sampling_factors': None, u'_custom_metric_func': None, u'_max_confusion_matrix_size': 20, u'_response_column': None, u'_score_each_iteration': False, u'_word_model': u'SkipGram', u'_stopping_tolerance': 0.001, u'_distribution': u'AUTO', u'_stopping_metric': u'AUTO', u'_min_word_freq': 5, u'_huber_alpha': 0.9, u'_pre_trained': None, u'_max_after_balance_size': 5.0, u'_parallelize_cross_validation': True, u'_train': {u'type': u'Key', u'name': u'Key_Frame__upload_961b72a716217eb5a4accf2df45e4c7c.hex'}, u'_pretrained_autoencoder': None, u'_valid': None, u'_checkpoint': None, u'_nfolds': 0, u'_is_cv_model': False, u'_vec_size': 2, u'_sent_sample_rate': 0.001, u'_offset_column': None, u'_seed': -1, u'_ignore_const_cols': True, u'_auto_rebalance': True, u'_init_learning_rate': 0.025, u'_max_runtime_secs': 0.0, u'_balance_classes': False, u'_stopping_rounds': 0, u'_fold_column': None, u'_keep_cross_validation_predictions': False, u'_categorical_encoding': u'AUTO', u'_tweedie_power': 1.5, u'_weights_column': None, u'_window_size': 5, u'_quantile_alpha': 0.5, u'_keep_cross_validation_fold_assignment': False, u'_ignored_columns': None}, u'error_count': 2}\n    error_count = 2\n    http_status = 412\n    msg = u'Illegal argument(s) for Word2Vec model: data.hex.  Details: ERRR on field: _train: The first column of the training input frame has to be column of Strings.'\n    dev_msg = u'Illegal argument(s) for Word2Vec model: data.hex.  Details: ERRR on field: _train: The first column of the training input frame has to be column of Strings.'\n"
     ]
    }
   ],
   "source": [
    "# Build a dummy word2vec model\n",
    "words = np.array({\"a\",\"b\",\"a\"})\n",
    "data = h2o.H2OFrame.from_python(words)\n",
    "\n",
    "# Train Word2Vec Model\n",
    "from h2o.estimators.word2vec import H2OWord2vecEstimator\n",
    "\n",
    "# This takes time to run - left commented out\n",
    "w2v_model = H2OWord2vecEstimator(vec_size = 2, model_id = \"data.hex\")\n",
    "w2v_model.train(training_frame=data)\n"
   ]
  },
  {
   "cell_type": "code",
   "execution_count": 11,
   "metadata": {},
   "outputs": [
    {
     "ename": "AttributeError",
     "evalue": "'module' object has no attribute 'word2vec'",
     "output_type": "error",
     "traceback": [
      "\u001b[0;31m---------------------------------------------------------------------------\u001b[0m",
      "\u001b[0;31mAttributeError\u001b[0m                            Traceback (most recent call last)",
      "\u001b[0;32m<ipython-input-11-a13c128b10bd>\u001b[0m in \u001b[0;36m<module>\u001b[0;34m()\u001b[0m\n\u001b[1;32m      1\u001b[0m \u001b[0;31m# w2v.model = h2o.word2vec(data, sent_sample_rate = 0, min_word_freq = 0, epochs = 1, vec_size = 2)\u001b[0m\u001b[0;34m\u001b[0m\u001b[0;34m\u001b[0m\u001b[0m\n\u001b[0;32m----> 2\u001b[0;31m \u001b[0mw2v_model\u001b[0m \u001b[0;34m=\u001b[0m \u001b[0mh2o\u001b[0m\u001b[0;34m.\u001b[0m\u001b[0mword2vec\u001b[0m\u001b[0;34m(\u001b[0m\u001b[0mdata\u001b[0m\u001b[0;34m,\u001b[0m \u001b[0msent_sample_rate\u001b[0m \u001b[0;34m=\u001b[0m \u001b[0;36m0\u001b[0m\u001b[0;34m,\u001b[0m \u001b[0mmin_word_freq\u001b[0m \u001b[0;34m=\u001b[0m \u001b[0;36m0\u001b[0m\u001b[0;34m,\u001b[0m \u001b[0mepochs\u001b[0m \u001b[0;34m=\u001b[0m \u001b[0;36m1\u001b[0m\u001b[0;34m,\u001b[0m \u001b[0mvec_size\u001b[0m \u001b[0;34m=\u001b[0m \u001b[0;36m2\u001b[0m\u001b[0;34m)\u001b[0m\u001b[0;34m\u001b[0m\u001b[0m\n\u001b[0m",
      "\u001b[0;31mAttributeError\u001b[0m: 'module' object has no attribute 'word2vec'"
     ]
    }
   ],
   "source": [
    "# w2v.model = h2o.word2vec(data, sent_sample_rate = 0, min_word_freq = 0, epochs = 1, vec_size = 2)\n",
    "w2v_model = h2o.word2vec(data, sent_sample_rate = 0, min_word_freq = 0, epochs = 1, vec_size = 2)"
   ]
  },
  {
   "cell_type": "code",
   "execution_count": 3,
   "metadata": {},
   "outputs": [
    {
     "ename": "SyntaxError",
     "evalue": "invalid syntax (<ipython-input-3-66da033e5a9e>, line 2)",
     "output_type": "error",
     "traceback": [
      "\u001b[0;36m  File \u001b[0;32m\"<ipython-input-3-66da033e5a9e>\"\u001b[0;36m, line \u001b[0;32m2\u001b[0m\n\u001b[0;31m    sentences <- as.character(as.h2o(c(\"b\", \"c\", \"a\", NA, \"b\")))\u001b[0m\n\u001b[0m                  ^\u001b[0m\n\u001b[0;31mSyntaxError\u001b[0m\u001b[0;31m:\u001b[0m invalid syntax\n"
     ]
    }
   ],
   "source": [
    "# Transform words to vectors without aggregation\n",
    "sentences <- as.character(as.h2o(c(\"b\", \"c\", \"a\", NA, \"b\")))\n",
    "h2o.transform(w2v.model, sentences) # -> 5 rows total, 2 rows NA (\"c\" is not in the vocabulary)\n"
   ]
  },
  {
   "cell_type": "code",
   "execution_count": null,
   "metadata": {},
   "outputs": [],
   "source": [
    "# Transform words to vectors and return average vector for each sentence\n",
    "h2o.transform(w2v.model, sentences, aggregate_method = \"AVERAGE\") # -> 2 rows\n",
    "#"
   ]
  }
 ],
 "metadata": {
  "kernelspec": {
   "display_name": "Python 2",
   "language": "python",
   "name": "python2"
  },
  "language_info": {
   "codemirror_mode": {
    "name": "ipython",
    "version": 2
   },
   "file_extension": ".py",
   "mimetype": "text/x-python",
   "name": "python",
   "nbconvert_exporter": "python",
   "pygments_lexer": "ipython2",
   "version": "2.7.14"
  }
 },
 "nbformat": 4,
 "nbformat_minor": 2
}
