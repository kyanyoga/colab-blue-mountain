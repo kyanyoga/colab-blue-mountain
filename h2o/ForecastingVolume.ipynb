{
 "cells": [
  {
   "cell_type": "markdown",
   "metadata": {},
   "source": [
    "# Forecasting Stock Volume\n",
    "\n",
    "In this example, we will be forecasting the volume of different Dow Jones stocks for a given day.  The data used is a public Kaggle dataset consisting of stock market data for the DJIA 30: [DJIA Stock Data](https://www.kaggle.com/szrlee/stock-time-series-20050101-to-20171231).\n",
    "\n",
    "We will be using Sparkling Water to ingest the data and add historical lags.\n",
    "\n",
    "Our Machine Learning Workflow is: \n",
    "\n",
    "1. Import data into Spark\n",
    "2. Feature engineering\n",
    "   * Add time lag columns\n",
    "3. Train a single DRF model\n",
    "4. Examine DRF model\n",
    "5. Run AutoML (from Python)\n",
    "6. Watch AutoML progress (in the H2O Flow Web UI)"
   ]
  },
  {
   "cell_type": "markdown",
   "metadata": {},
   "source": [
    "# Step 1 (of 6).  Import data into Spark"
   ]
  },
  {
   "cell_type": "code",
   "execution_count": 1,
   "metadata": {},
   "outputs": [
    {
     "name": "stdout",
     "output_type": "stream",
     "text": [
      "Connecting to H2O server at http://172.31.98.72:54321... successful.\n"
     ]
    },
    {
     "data": {
      "text/html": [
       "<div style=\"overflow:auto\"><table style=\"width:50%\"><tr><td>H2O cluster uptime:</td>\n",
       "<td>12 secs</td></tr>\n",
       "<tr><td>H2O cluster timezone:</td>\n",
       "<td>America/Los_Angeles</td></tr>\n",
       "<tr><td>H2O data parsing timezone:</td>\n",
       "<td>UTC</td></tr>\n",
       "<tr><td>H2O cluster version:</td>\n",
       "<td>3.18.0.4</td></tr>\n",
       "<tr><td>H2O cluster version age:</td>\n",
       "<td>7 months !!!</td></tr>\n",
       "<tr><td>H2O cluster name:</td>\n",
       "<td>sparkling-water-kyanyoga_local-1539114729136</td></tr>\n",
       "<tr><td>H2O cluster total nodes:</td>\n",
       "<td>1</td></tr>\n",
       "<tr><td>H2O cluster free memory:</td>\n",
       "<td>749 Mb</td></tr>\n",
       "<tr><td>H2O cluster total cores:</td>\n",
       "<td>4</td></tr>\n",
       "<tr><td>H2O cluster allowed cores:</td>\n",
       "<td>4</td></tr>\n",
       "<tr><td>H2O cluster status:</td>\n",
       "<td>accepting new members, healthy</td></tr>\n",
       "<tr><td>H2O connection url:</td>\n",
       "<td>http://172.31.98.72:54321</td></tr>\n",
       "<tr><td>H2O connection proxy:</td>\n",
       "<td>None</td></tr>\n",
       "<tr><td>H2O internal security:</td>\n",
       "<td>False</td></tr>\n",
       "<tr><td>H2O API Extensions:</td>\n",
       "<td>XGBoost, Algos, AutoML, Core V3, Core V4</td></tr>\n",
       "<tr><td>Python version:</td>\n",
       "<td>2.7.14 final</td></tr></table></div>"
      ],
      "text/plain": [
       "--------------------------  --------------------------------------------\n",
       "H2O cluster uptime:         12 secs\n",
       "H2O cluster timezone:       America/Los_Angeles\n",
       "H2O data parsing timezone:  UTC\n",
       "H2O cluster version:        3.18.0.4\n",
       "H2O cluster version age:    7 months !!!\n",
       "H2O cluster name:           sparkling-water-kyanyoga_local-1539114729136\n",
       "H2O cluster total nodes:    1\n",
       "H2O cluster free memory:    749 Mb\n",
       "H2O cluster total cores:    4\n",
       "H2O cluster allowed cores:  4\n",
       "H2O cluster status:         accepting new members, healthy\n",
       "H2O connection url:         http://172.31.98.72:54321\n",
       "H2O connection proxy:\n",
       "H2O internal security:      False\n",
       "H2O API Extensions:         XGBoost, Algos, AutoML, Core V3, Core V4\n",
       "Python version:             2.7.14 final\n",
       "--------------------------  --------------------------------------------"
      ]
     },
     "metadata": {},
     "output_type": "display_data"
    },
    {
     "name": "stdout",
     "output_type": "stream",
     "text": [
      "\n",
      "Sparkling Water Context:\n",
      " * H2O name: sparkling-water-kyanyoga_local-1539114729136\n",
      " * cluster size: 1\n",
      " * list of used nodes:\n",
      "  (executorId, host, port)\n",
      "  ------------------------\n",
      "  (driver,172.31.98.72,54321)\n",
      "  ------------------------\n",
      "\n",
      "  Open H2O Flow in browser: http://172.31.98.72:54321 (CMD + click in Mac OSX)\n",
      "\n",
      "    \n"
     ]
    }
   ],
   "source": [
    "# Initiate H2OContext on top of Spark\n",
    "\n",
    "from pysparkling import *\n",
    "hc = H2OContext.getOrCreate(spark)"
   ]
  },
  {
   "cell_type": "code",
   "execution_count": 4,
   "metadata": {},
   "outputs": [],
   "source": [
    "# Import data\n",
    "\n",
    "from pyspark.sql.types import *\n",
    "\n",
    "schema = StructType([StructField(\"Date\", TimestampType(), True),\n",
    "                     StructField(\"Open\", DoubleType(), True),\n",
    "                     StructField(\"High\", DoubleType(), True),\n",
    "                     StructField(\"Low\", DoubleType(), True),\n",
    "                     StructField(\"Close\", DoubleType(), True),\n",
    "                     StructField(\"Volume\", DoubleType(), True),\n",
    "                     StructField(\"Name\", StringType(), True)])\n",
    "\n",
    "# https://s3.amazonaws.com/h2o-training/events/h2o_world/TimeSeries/all_stocks_2006-01-01_to_2018-01-01.csv\n",
    "stock_df = spark.read.csv(\"../data/all_stocks_2006-01-01_to_2018-01-01.csv\", header = True, schema = schema)"
   ]
  },
  {
   "cell_type": "code",
   "execution_count": 5,
   "metadata": {},
   "outputs": [
    {
     "data": {
      "text/plain": [
       "[Row(Date=datetime.datetime(2006, 1, 3, 0, 0), Open=77.76, High=79.35, Low=77.24, Close=79.11, Volume=3117200.0, Name=u'MMM'),\n",
       " Row(Date=datetime.datetime(2006, 1, 4, 0, 0), Open=79.49, High=79.49, Low=78.25, Close=78.71, Volume=2558000.0, Name=u'MMM'),\n",
       " Row(Date=datetime.datetime(2006, 1, 5, 0, 0), Open=78.41, High=78.65, Low=77.56, Close=77.99, Volume=2529500.0, Name=u'MMM'),\n",
       " Row(Date=datetime.datetime(2006, 1, 6, 0, 0), Open=78.64, High=78.9, Low=77.64, Close=78.63, Volume=2479500.0, Name=u'MMM'),\n",
       " Row(Date=datetime.datetime(2006, 1, 9, 0, 0), Open=78.5, High=79.83, Low=78.46, Close=79.02, Volume=1845600.0, Name=u'MMM')]"
      ]
     },
     "execution_count": 5,
     "metadata": {},
     "output_type": "execute_result"
    }
   ],
   "source": [
    "stock_df.head(5)"
   ]
  },
  {
   "cell_type": "markdown",
   "metadata": {},
   "source": [
    "# Step 2 (of 6).  Feature Engineering\n",
    "\n",
    "We will add new features to our data that can help predict the Volume for a given company.  Features that tell us:\n",
    "* what was the Volume for a company yesterday, two days ago, three days ago?  \n",
    "* what was the Close price, Open price, High price, Low price for a company yesterday?\n",
    "\n",
    "can be very predictive in forecasting.  To create these features we will use PySpark's window function."
   ]
  },
  {
   "cell_type": "code",
   "execution_count": 6,
   "metadata": {},
   "outputs": [],
   "source": [
    "## Add Volume from the Previous Day, Previous 2 days, Previous 3 days per Company\n",
    "from pyspark.sql.functions import lag, col\n",
    "from pyspark.sql.window import Window\n",
    "\n",
    "w = Window().partitionBy(col(\"Name\")).orderBy(col(\"Date\"))\n",
    "ext_stock_df = stock_df.select(\"*\", lag(\"Volume\", count = 1).over(w).alias(\"Volume_lag1\"),\n",
    "               lag(\"Volume\", count = 2).over(w).alias(\"Volume_lag2\"),\n",
    "               lag(\"Volume\", count = 3).over(w).alias(\"Volume_lag3\")).na.drop()"
   ]
  },
  {
   "cell_type": "code",
   "execution_count": 7,
   "metadata": {},
   "outputs": [
    {
     "name": "stdout",
     "output_type": "stream",
     "text": [
      "+-------------------+-----+-----+-----+-----+---------+----+-----------+-----------+-----------+\n",
      "|               Date| Open| High|  Low|Close|   Volume|Name|Volume_lag1|Volume_lag2|Volume_lag3|\n",
      "+-------------------+-----+-----+-----+-----+---------+----+-----------+-----------+-----------+\n",
      "|2006-01-06 00:00:00|78.64| 78.9|77.64|78.63|2479500.0| MMM|  2529500.0|  2558000.0|  3117200.0|\n",
      "|2006-01-09 00:00:00| 78.5|79.83|78.46|79.02|1845600.0| MMM|  2479500.0|  2529500.0|  2558000.0|\n",
      "|2006-01-10 00:00:00| 79.0|79.01|78.08|78.53|1919900.0| MMM|  1845600.0|  2479500.0|  2529500.0|\n",
      "|2006-01-11 00:00:00|78.44|78.66|77.84|78.37|1911900.0| MMM|  1919900.0|  1845600.0|  2479500.0|\n",
      "|2006-01-12 00:00:00| 78.2|78.23| 77.2| 77.7|2121100.0| MMM|  1911900.0|  1919900.0|  1845600.0|\n",
      "|2006-01-13 00:00:00|76.95| 78.2|76.95| 77.5|1925300.0| MMM|  2121100.0|  1911900.0|  1919900.0|\n",
      "|2006-01-17 00:00:00| 77.1|77.62| 77.0|77.09|2073400.0| MMM|  1925300.0|  2121100.0|  1911900.0|\n",
      "|2006-01-18 00:00:00| 77.0|77.28|76.52|76.99|1838400.0| MMM|  2073400.0|  1925300.0|  2121100.0|\n",
      "|2006-01-19 00:00:00|77.19|77.37| 76.7|76.91|1807100.0| MMM|  1838400.0|  2073400.0|  1925300.0|\n",
      "|2006-01-20 00:00:00|76.91|76.91|75.18|75.24|3286900.0| MMM|  1807100.0|  1838400.0|  2073400.0|\n",
      "|2006-01-23 00:00:00| 75.5|76.23|74.81| 75.7|2953500.0| MMM|  3286900.0|  1807100.0|  1838400.0|\n",
      "|2006-01-24 00:00:00|74.01| 75.6|73.72| 74.2|5511200.0| MMM|  2953500.0|  3286900.0|  1807100.0|\n",
      "|2006-01-25 00:00:00|73.25|73.83|72.75| 73.0|7475200.0| MMM|  5511200.0|  2953500.0|  3286900.0|\n",
      "|2006-01-26 00:00:00|73.22|73.43|72.02| 72.7|5027500.0| MMM|  7475200.0|  5511200.0|  2953500.0|\n",
      "|2006-01-27 00:00:00|72.45|73.25| 72.4|72.65|3813100.0| MMM|  5027500.0|  7475200.0|  5511200.0|\n",
      "|2006-01-30 00:00:00| 72.9|73.34|72.42|72.65|3463600.0| MMM|  3813100.0|  5027500.0|  7475200.0|\n",
      "|2006-01-31 00:00:00| 72.4|73.25|71.96|72.75|5317900.0| MMM|  3463600.0|  3813100.0|  5027500.0|\n",
      "|2006-02-01 00:00:00| 72.3| 73.4|72.01|73.19|3828100.0| MMM|  5317900.0|  3463600.0|  3813100.0|\n",
      "|2006-02-02 00:00:00|73.16|73.68|72.05|72.15|3207100.0| MMM|  3828100.0|  5317900.0|  3463600.0|\n",
      "|2006-02-03 00:00:00|71.75|72.09| 71.0| 71.1|3258300.0| MMM|  3207100.0|  3828100.0|  5317900.0|\n",
      "+-------------------+-----+-----+-----+-----+---------+----+-----------+-----------+-----------+\n",
      "only showing top 20 rows\n",
      "\n"
     ]
    }
   ],
   "source": [
    "ext_stock_df.show()"
   ]
  },
  {
   "cell_type": "code",
   "execution_count": 8,
   "metadata": {},
   "outputs": [],
   "source": [
    "## Add Close, Open, Low, and High by Company for Previous day per Company\n",
    "\n",
    "ext_stock_df = ext_stock_df.select(\"*\", lag(\"Close\", count = 1).over(w).alias(\"Close_lag1\")).na.drop()\n",
    "ext_stock_df = ext_stock_df.select(\"*\", lag(\"Low\", count = 1).over(w).alias(\"Low_lag1\")).na.drop()\n",
    "ext_stock_df = ext_stock_df.select(\"*\", lag(\"High\", count = 1).over(w).alias(\"High_lag1\")).na.drop()\n",
    "ext_stock_df = ext_stock_df.select(\"*\", lag(\"Open\", count = 1).over(w).alias(\"Open_lag1\")).na.drop()"
   ]
  },
  {
   "cell_type": "code",
   "execution_count": 9,
   "metadata": {},
   "outputs": [],
   "source": [
    "## Convert Spark DataFrame to H2O Frame\n",
    "\n",
    "import h2o\n",
    "ext_stock_hf = hc.as_h2o_frame(ext_stock_df, \"stockWithLagsTable\")"
   ]
  },
  {
   "cell_type": "code",
   "execution_count": 10,
   "metadata": {},
   "outputs": [],
   "source": [
    "## Convert strings to categoricals\n",
    "\n",
    "ext_stock_hf[\"Name\"] = ext_stock_hf[\"Name\"].asfactor()"
   ]
  },
  {
   "cell_type": "markdown",
   "metadata": {},
   "source": [
    "# Step 3 (of 6).  Train a single DRF model\n",
    "\n",
    "We will train a random forest model with our added lag features as predictors."
   ]
  },
  {
   "cell_type": "code",
   "execution_count": 11,
   "metadata": {},
   "outputs": [],
   "source": [
    "# Set Predictors\n",
    "predictors = list(set(ext_stock_hf.col_names) - set([\"Volume\", \"Open\", \"Close\", \"High\", \"Low\"]))\n",
    "response = \"Volume\""
   ]
  },
  {
   "cell_type": "code",
   "execution_count": 12,
   "metadata": {},
   "outputs": [],
   "source": [
    "# Split data into training and testing by time\n",
    "# Test data is the last day of data\n",
    "\n",
    "is_test = (ext_stock_hf[\"Date\"].year() == 2017) & \\\n",
    "          (ext_stock_hf[\"Date\"].month() == 12) & \\\n",
    "          (ext_stock_hf[\"Date\"].day() == 29)\n",
    "\n",
    "train = ext_stock_hf[is_test == 0]\n",
    "test = ext_stock_hf[is_test == 1]"
   ]
  },
  {
   "cell_type": "code",
   "execution_count": 13,
   "metadata": {},
   "outputs": [
    {
     "name": "stdout",
     "output_type": "stream",
     "text": [
      "drf Model Build progress: |███████████████████████████████████████████████| 100%\n"
     ]
    }
   ],
   "source": [
    "# Train Random Forest\n",
    "\n",
    "from h2o.estimators import H2ORandomForestEstimator\n",
    "drf_model = H2ORandomForestEstimator(model_id = \"drf_model.hex\",\n",
    "                                     seed = 1234,\n",
    "                                     ntrees = 5)\n",
    "drf_model.train(x = predictors,\n",
    "                y = response,\n",
    "                training_frame = train,\n",
    "                validation_frame = test)"
   ]
  },
  {
   "cell_type": "markdown",
   "metadata": {},
   "source": [
    "# Step 4 (of 6).  Examine DRF model\n",
    "\n",
    "The Mean Absolute Percent Error is about 20% on our test data."
   ]
  },
  {
   "cell_type": "code",
   "execution_count": 14,
   "metadata": {},
   "outputs": [
    {
     "name": "stdout",
     "output_type": "stream",
     "text": [
      "drf prediction progress: |████████████████████████████████████████████████| 100%\n",
      "Mean Absolute Percent Error: 24%\n"
     ]
    }
   ],
   "source": [
    "preds = drf_model.predict(test)\n",
    "mape = ((test[\"Volume\"] - preds).abs()/test[\"Volume\"]).mean()[0]\n",
    "print(\"Mean Absolute Percent Error: \" + \"{0:.0f}%\".format(100*mape))"
   ]
  },
  {
   "cell_type": "markdown",
   "metadata": {},
   "source": [
    "The graph below shows the variable importance for the random forest model.  The most important predictors are the volume lags.  We can use the partial dependency plots to see the relationship between these features and the model's prediction."
   ]
  },
  {
   "cell_type": "code",
   "execution_count": 15,
   "metadata": {},
   "outputs": [
    {
     "data": {
      "image/png": "[encoded data removed]",
      "text/plain": [
       "<Figure size 1008x720 with 1 Axes>"
      ]
     },
     "metadata": {
      "needs_background": "light"
     },
     "output_type": "display_data"
    }
   ],
   "source": [
    "%matplotlib inline\n",
    "drf_model.varimp_plot()"
   ]
  },
  {
   "cell_type": "code",
   "execution_count": 16,
   "metadata": {},
   "outputs": [
    {
     "name": "stdout",
     "output_type": "stream",
     "text": [
      "PartialDependencePlot progress: |█████████████████████████████████████████| 100%\n"
     ]
    },
    {
     "data": {
      "image/png": "[encoded data removed]",
      "text/plain": [
       "<Figure size 504x720 with 3 Axes>"
      ]
     },
     "metadata": {
      "needs_background": "light"
     },
     "output_type": "display_data"
    }
   ],
   "source": [
    "# Filter data to common volume\n",
    "max_volume = train[\"Volume\"].quantile(prob = [0.9])[0, 1]\n",
    "pdp_data = train[(train[\"Volume_lag1\"] < max_volume) & \n",
    "                 (train[\"Volume_lag2\"] < max_volume) & \n",
    "                 (train[\"Volume_lag3\"] < max_volume) ]\n",
    "# create pdp's\n",
    "pdps = drf_model.partial_plot(data = pdp_data, cols = [\"Volume_lag1\", \"Volume_lag2\", \"Volume_lag3\"])"
   ]
  },
  {
   "cell_type": "markdown",
   "metadata": {},
   "source": [
    "The partial plots show that the Volume trend tracks the Volume values from the previous days for the company."
   ]
  },
  {
   "cell_type": "markdown",
   "metadata": {},
   "source": [
    "# Step 5 (of 6).  Run AutoML\n",
    "\n",
    "Now we can try running AutoML to see if we can improve the results even further."
   ]
  },
  {
   "cell_type": "code",
   "execution_count": 20,
   "metadata": {},
   "outputs": [],
   "source": [
    "from h2o.automl import H2OAutoML\n"
   ]
  },
  {
   "cell_type": "code",
   "execution_count": 22,
   "metadata": {},
   "outputs": [
    {
     "name": "stdout",
     "output_type": "stream",
     "text": [
      "AutoML progress: |████████████████████████████████████████████████████████| 100%\n",
      "Parse progress: |█████████████████████████████████████████████████████████| 100%\n"
     ]
    }
   ],
   "source": [
    "auto_ml = H2OAutoML(project_name = \"stock_forecast\",\n",
    "                    max_runtime_secs = 120, \n",
    "                    exclude_algos = [\"DRF\"],\n",
    "                    # keep_cross_validation_predictions = False,\n",
    "                    # keep_cross_validation_models = False,\n",
    "                    seed = 1234)\n",
    "\n",
    "auto_ml.train(x = predictors,\n",
    "              y = response,\n",
    "              training_frame = train,\n",
    "              leaderboard_frame = test)\n"
   ]
  },
  {
   "cell_type": "code",
   "execution_count": 23,
   "metadata": {},
   "outputs": [
    {
     "data": {
      "text/html": [
       "<table>\n",
       "<thead>\n",
       "<tr><th>model_id                                             </th><th style=\"text-align: right;\">  mean_residual_deviance</th><th style=\"text-align: right;\">       rmse</th><th style=\"text-align: right;\">        mae</th><th style=\"text-align: right;\">   rmsle</th></tr>\n",
       "</thead>\n",
       "<tbody>\n",
       "<tr><td>GBM_grid_0_AutoML_20181009_131505_model_4            </td><td style=\"text-align: right;\">             5.69165e+12</td><td style=\"text-align: right;\">2.38572e+06</td><td style=\"text-align: right;\">1.1569e+06 </td><td style=\"text-align: right;\">0.154899</td></tr>\n",
       "<tr><td>GBM_grid_0_AutoML_20181009_131505_model_1            </td><td style=\"text-align: right;\">             6.39076e+12</td><td style=\"text-align: right;\">2.528e+06  </td><td style=\"text-align: right;\">1.17737e+06</td><td style=\"text-align: right;\">0.204055</td></tr>\n",
       "<tr><td>GBM_grid_0_AutoML_20181009_131505_model_0            </td><td style=\"text-align: right;\">             6.84865e+12</td><td style=\"text-align: right;\">2.61699e+06</td><td style=\"text-align: right;\">1.21831e+06</td><td style=\"text-align: right;\">0.220161</td></tr>\n",
       "<tr><td>GBM_grid_0_AutoML_20181009_131505_model_3            </td><td style=\"text-align: right;\">             7.06824e+12</td><td style=\"text-align: right;\">2.65862e+06</td><td style=\"text-align: right;\">1.13249e+06</td><td style=\"text-align: right;\">0.17509 </td></tr>\n",
       "<tr><td>GBM_grid_0_AutoML_20181009_131505_model_2            </td><td style=\"text-align: right;\">             9.29607e+12</td><td style=\"text-align: right;\">3.04895e+06</td><td style=\"text-align: right;\">1.27889e+06</td><td style=\"text-align: right;\">0.195405</td></tr>\n",
       "<tr><td>DeepLearning_0_AutoML_20181009_131505                </td><td style=\"text-align: right;\">             2.44222e+13</td><td style=\"text-align: right;\">4.94189e+06</td><td style=\"text-align: right;\">2.6556e+06 </td><td style=\"text-align: right;\">0.412539</td></tr>\n",
       "<tr><td>GBM_grid_0_AutoML_20181009_131505_model_5            </td><td style=\"text-align: right;\">             3.10717e+14</td><td style=\"text-align: right;\">1.76272e+07</td><td style=\"text-align: right;\">1.53204e+07</td><td style=\"text-align: right;\">1.69611 </td></tr>\n",
       "<tr><td>StackedEnsemble_AllModels_0_AutoML_20181009_131505   </td><td style=\"text-align: right;\">             3.14123e+14</td><td style=\"text-align: right;\">1.77235e+07</td><td style=\"text-align: right;\">1.54023e+07</td><td style=\"text-align: right;\">1.70008 </td></tr>\n",
       "<tr><td>GLM_grid_0_AutoML_20181009_131505_model_0            </td><td style=\"text-align: right;\">             3.14123e+14</td><td style=\"text-align: right;\">1.77235e+07</td><td style=\"text-align: right;\">1.54023e+07</td><td style=\"text-align: right;\">1.70008 </td></tr>\n",
       "<tr><td>StackedEnsemble_BestOfFamily_0_AutoML_20181009_131505</td><td style=\"text-align: right;\">             3.14123e+14</td><td style=\"text-align: right;\">1.77235e+07</td><td style=\"text-align: right;\">1.54023e+07</td><td style=\"text-align: right;\">1.70008 </td></tr>\n",
       "</tbody>\n",
       "</table>"
      ]
     },
     "metadata": {},
     "output_type": "display_data"
    },
    {
     "data": {
      "text/plain": []
     },
     "execution_count": 23,
     "metadata": {},
     "output_type": "execute_result"
    }
   ],
   "source": [
    "auto_ml.leaderboard"
   ]
  },
  {
   "cell_type": "markdown",
   "metadata": {},
   "source": [
    "# Step 6 (of 6). Watch AutoML progress (in the H2O Flow Web UI)\n",
    "\n",
    "* Go to port 54321\n",
    "* In H2O Flow, go to Admin -> Jobs\n",
    "* Click on the \"Auto Model\" job with the \"stock_forecast\" job name and explore it"
   ]
  },
  {
   "cell_type": "markdown",
   "metadata": {},
   "source": [
    "# Bonus: Github location for this tutorial\n",
    "\n",
    "* https://github.com/h2oai/h2o-tutorials/tree/master/nyc-workshop-2018/h2o_sw/sparkling-water-hands-on"
   ]
  }
 ],
 "metadata": {
  "kernelspec": {
   "display_name": "Python 2",
   "language": "python",
   "name": "python2"
  },
  "language_info": {
   "codemirror_mode": {
    "name": "ipython",
    "version": 2
   },
   "file_extension": ".py",
   "mimetype": "text/x-python",
   "name": "python",
   "nbconvert_exporter": "python",
   "pygments_lexer": "ipython2",
   "version": "2.7.14"
  }
 },
 "nbformat": 4,
 "nbformat_minor": 2
}
