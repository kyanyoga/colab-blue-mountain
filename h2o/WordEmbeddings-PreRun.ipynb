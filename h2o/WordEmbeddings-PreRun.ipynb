{
 "cells": [
  {
   "cell_type": "markdown",
   "metadata": {},
   "source": [
    "## Predicting Good Amazon Reviews\n",
    "\n",
    "For this demo, we will be using the [Amazon Fine Food Reviews Data](https://www.kaggle.com/snap/amazon-fine-food-reviews).  The Amazon Fine Food Reviews dataset consists of 568,454 food reviews Amazon users left up to October 2012.\n",
    "\n",
    "This script is based off of the [Craigslist Word2Vec Demo](https://github.com/h2oai/h2o-3/blob/master/h2o-py/demos/word2vec_craigslistjobtitles.ipynb).\n",
    "\n",
    "Our Machine Learning Workflow is: \n",
    "\n",
    "1. Import data into H2O\n",
    "2. Exploratory Analysis\n",
    "3. Tokenize Text\n",
    "4. Train Word2Vec Model\n",
    "5. Analyze Word Embeddings\n",
    "6. Train Positive Review Model with Original Data\n",
    "7. Train Positive Review Model with Word Embeddings\n",
    "8. Run AutoML\n",
    "9. View AutoML in Flow\n",
    "10. Shutdown H2O cluster\n",
    "\n",
    "# Step 1 (of 10).  Import data into H2O\n",
    "\n",
    "We will begin by importing our review data into our H2O cluster."
   ]
  },
  {
   "cell_type": "code",
   "execution_count": 1,
   "metadata": {},
   "outputs": [],
   "source": [
    "import h2o"
   ]
  },
  {
   "cell_type": "code",
   "execution_count": 2,
   "metadata": {},
   "outputs": [
    {
     "name": "stdout",
     "output_type": "stream",
     "text": [
      "Checking whether there is an H2O instance running at http://localhost:54321..... not found.\n",
      "Attempting to start a local H2O server...\n",
      "; Java HotSpot(TM) 64-Bit Server VM (build 25.181-b13, mixed mode)\n",
      "  Starting server from C:\\ProgramData\\Miniconda2\\lib\\site-packages\\h2o\\backend\\bin\\h2o.jar\n",
      "  Ice root: c:\\users\\grseg\\appdata\\local\\temp\\tmpn1vfgb\n",
      "  JVM stdout: c:\\users\\grseg\\appdata\\local\\temp\\tmpn1vfgb\\h2o_grseg_started_from_python.out\n",
      "  JVM stderr: c:\\users\\grseg\\appdata\\local\\temp\\tmpn1vfgb\\h2o_grseg_started_from_python.err\n",
      "  Server is running at http://127.0.0.1:54321\n",
      "Connecting to H2O server at http://127.0.0.1:54321... successful.\n"
     ]
    },
    {
     "ename": "H2OConnectionError",
     "evalue": "Version mismatch. H2O is version 3.20.0.8, but the h2o-python package is version 3.20.0.9. Install the matching h2o-Python version from - http://h2o-release.s3.amazonaws.com/h2o/rel-wright/8/index.html.",
     "output_type": "error",
     "traceback": [
      "\u001b[1;31m---------------------------------------------------------------------------\u001b[0m",
      "\u001b[1;31mH2OConnectionError\u001b[0m                        Traceback (most recent call last)",
      "\u001b[1;32m<ipython-input-2-50a61122c895>\u001b[0m in \u001b[0;36m<module>\u001b[1;34m()\u001b[0m\n\u001b[1;32m----> 1\u001b[1;33m \u001b[0mh2o\u001b[0m\u001b[1;33m.\u001b[0m\u001b[0minit\u001b[0m\u001b[1;33m(\u001b[0m\u001b[0mmax_mem_size\u001b[0m\u001b[1;33m=\u001b[0m\u001b[1;34m\"4G\"\u001b[0m\u001b[1;33m)\u001b[0m\u001b[1;33m\u001b[0m\u001b[0m\n\u001b[0m",
      "\u001b[1;32mC:\\ProgramData\\Miniconda2\\lib\\site-packages\\h2o\\h2o.pyc\u001b[0m in \u001b[0;36minit\u001b[1;34m(url, ip, port, https, insecure, username, password, cookies, proxy, start_h2o, nthreads, ice_root, enable_assertions, max_mem_size, min_mem_size, strict_version_check, ignore_config, extra_classpath, **kwargs)\u001b[0m\n\u001b[0;32m    263\u001b[0m                                      auth=auth, proxy=proxy,cookies=cookies, verbose=True)\n\u001b[0;32m    264\u001b[0m     \u001b[1;32mif\u001b[0m \u001b[0mcheck_version\u001b[0m\u001b[1;33m:\u001b[0m\u001b[1;33m\u001b[0m\u001b[0m\n\u001b[1;32m--> 265\u001b[1;33m         \u001b[0mversion_check\u001b[0m\u001b[1;33m(\u001b[0m\u001b[1;33m)\u001b[0m\u001b[1;33m\u001b[0m\u001b[0m\n\u001b[0m\u001b[0;32m    266\u001b[0m     \u001b[0mh2oconn\u001b[0m\u001b[1;33m.\u001b[0m\u001b[0mcluster\u001b[0m\u001b[1;33m.\u001b[0m\u001b[0mtimezone\u001b[0m \u001b[1;33m=\u001b[0m \u001b[1;34m\"UTC\"\u001b[0m\u001b[1;33m\u001b[0m\u001b[0m\n\u001b[0;32m    267\u001b[0m     \u001b[0mh2oconn\u001b[0m\u001b[1;33m.\u001b[0m\u001b[0mcluster\u001b[0m\u001b[1;33m.\u001b[0m\u001b[0mshow_status\u001b[0m\u001b[1;33m(\u001b[0m\u001b[1;33m)\u001b[0m\u001b[1;33m\u001b[0m\u001b[0m\n",
      "\u001b[1;32mC:\\ProgramData\\Miniconda2\\lib\\site-packages\\h2o\\h2o.pyc\u001b[0m in \u001b[0;36mversion_check\u001b[1;34m()\u001b[0m\n\u001b[0;32m    137\u001b[0m                 \u001b[1;34m\"Install the matching h2o-Python version from - \"\u001b[0m\u001b[1;33m\u001b[0m\u001b[0m\n\u001b[0;32m    138\u001b[0m                 \u001b[1;34m\"http://h2o-release.s3.amazonaws.com/h2o/{2}/{3}/index.html.\"\u001b[0m\u001b[1;33m\u001b[0m\u001b[0m\n\u001b[1;32m--> 139\u001b[1;33m                 \"\".format(ver_h2o, ver_pkg, branch_name_h2o, build_number_h2o))\n\u001b[0m\u001b[0;32m    140\u001b[0m     \u001b[1;31m# Check age of the install\u001b[0m\u001b[1;33m\u001b[0m\u001b[1;33m\u001b[0m\u001b[0m\n\u001b[0;32m    141\u001b[0m     \u001b[1;32mif\u001b[0m \u001b[0mci\u001b[0m\u001b[1;33m.\u001b[0m\u001b[0mbuild_too_old\u001b[0m\u001b[1;33m:\u001b[0m\u001b[1;33m\u001b[0m\u001b[0m\n",
      "\u001b[1;31mH2OConnectionError\u001b[0m: Version mismatch. H2O is version 3.20.0.8, but the h2o-python package is version 3.20.0.9. Install the matching h2o-Python version from - http://h2o-release.s3.amazonaws.com/h2o/rel-wright/8/index.html."
     ]
    }
   ],
   "source": [
    "h2o.init(max_mem_size=\"4G\")"
   ]
  },
  {
   "cell_type": "code",
   "execution_count": 3,
   "metadata": {},
   "outputs": [
    {
     "name": "stdout",
     "output_type": "stream",
     "text": [
      "Parse progress: |█████████████████████████████████████████████████████████| 100%\n"
     ]
    }
   ],
   "source": [
    "# Load data into H2O\n",
    "\n",
    "# https://s3-us-west-2.amazonaws.com/h2o-tutorials/data/topics/nlp/amazon_reviews/AmazonReviews.csv\n",
    "#reviews = h2o.import_file(\"../../data/topics/nlp/amazon_reviews/AmazonReviews.csv\")\n",
    "reviews = h2o.import_file(\"https://s3-us-west-2.amazonaws.com/h2o-tutorials/data/topics/nlp/amazon_reviews/AmazonReviews.csv\")"
   ]
  },
  {
   "cell_type": "markdown",
   "metadata": {},
   "source": [
    "# Step 2 (of 10).  Exploratory Analysis\n",
    "\n",
    "We will start our analysis by exploring the dataset and creating our target column.  In this case, we would like to predict whether or not a reviewer liked the product."
   ]
  },
  {
   "cell_type": "code",
   "execution_count": 4,
   "metadata": {},
   "outputs": [
    {
     "name": "stdout",
     "output_type": "stream",
     "text": [
      "[100000, 10]\n"
     ]
    }
   ],
   "source": [
    "print(reviews.dim)"
   ]
  },
  {
   "cell_type": "code",
   "execution_count": 5,
   "metadata": {},
   "outputs": [
    {
     "data": {
      "text/html": [
       "<table>\n",
       "<thead>\n",
       "<tr><th>ProductId  </th><th>UserId        </th><th>Summary                               </th><th style=\"text-align: right;\">  Score</th><th style=\"text-align: right;\">  HelpfulnessDenominator</th><th style=\"text-align: right;\">    Id</th><th>ProfileName                                      </th><th style=\"text-align: right;\">  HelpfulnessNumerator</th><th style=\"text-align: right;\">       Time</th><th>Text                                                                                                                                                                                                                                                                                                                                                                                                                                                                                                                                                                                                                                                                                                                                                                                                                                                                                                                                                                                                                                                                                                                                                                                                                                                                                                                                                                                                                                                                                                                                                                                                                                                                                                                                                                                                                                                                                                                                                                                                                                                                                                                                                                                                                                                                                                                                                                                                                                                                                                                                                                                                                                                                                                                                                                                                                                                                                                                                                                                                                                                                                                                                                                                                                                                                </th></tr>\n",
       "</thead>\n",
       "<tbody>\n",
       "<tr><td>B00141QYSQ </td><td>A1YS02UZZGRDCT</td><td>Do Not Buy                            </td><td style=\"text-align: right;\">      1</td><td style=\"text-align: right;\">                       2</td><td style=\"text-align: right;\"> 41471</td><td>Evan Eberhardt                                   </td><td style=\"text-align: right;\">                     2</td><td style=\"text-align: right;\">1.34836e+09</td><td>These are made in China (do not buy ANY pet food from China).  Dogswell has been using propylene glycol to soften their treats (what are they thinkng?).  Do not purchase or support this company in any way until they clean up their act.  And for whatever reason Amazon doesn't allow returns of this item, so I had to toss mine out.  Bad business all around on this one.                                                                                                                                                                                                                                                                                                                                                                                                                                                                                                                                                                                                                                                                                                                                                                                                                                                                                                                                                                                                                                                                                                                                                                                                                                                                                                                                                                                                                                                                                                                                                                                                                                                                                                                                                                                                                                                                                                                                                                                                                                                                                                                                                                                                                                                                                                                                                                                                                                                                                                                                                                                                                                                                                                                                                                                                                                                                                    </td></tr>\n",
       "<tr><td>B0089SPEO2 </td><td>A3JOYNYL458QHP</td><td>Less lemon and less zing              </td><td style=\"text-align: right;\">      3</td><td style=\"text-align: right;\">                       0</td><td style=\"text-align: right;\"> 28582</td><td>coleridge                                        </td><td style=\"text-align: right;\">                     0</td><td style=\"text-align: right;\">1.32391e+09</td><td>Everything is ok, except it just isn't as good as it is in the bags.  Just considerably more bland -- less lemon and less zing.  Boring.                                                                                                                                                                                                                                                                                                                                                                                                                                                                                                                                                                                                                                                                                                                                                                                                                                                                                                                                                                                                                                                                                                                                                                                                                                                                                                                                                                                                                                                                                                                                                                                                                                                                                                                                                                                                                                                                                                                                                                                                                                                                                                                                                                                                                                                                                                                                                                                                                                                                                                                                                                                                                                                                                                                                                                                                                                                                                                                                                                                                                                                                                                                            </td></tr>\n",
       "<tr><td>B001PMCDK2 </td><td>A14TTMM0Z03Y2W</td><td>my cat goes crazy for these!          </td><td style=\"text-align: right;\">      5</td><td style=\"text-align: right;\">                       0</td><td style=\"text-align: right;\">389965</td><td>Lindsay S. Bradford                              </td><td style=\"text-align: right;\">                     0</td><td style=\"text-align: right;\">1.3106e+09 </td><td>Best cat treat ever. There isn't anything comparable to the love my cat has for these treats, he snubs away any other kind now.<br />I know he likes to manipulate me with his cattiness but these treats are my way of manipulating him to come sit on my lap and have some chill time. :)                                                                                                                                                                                                                                                                                                                                                                                                                                                                                                                                                                                                                                                                                                                                                                                                                                                                                                                                                                                                                                                                                                                                                                                                                                                                                                                                                                                                                                                                                                                                                                                                                                                                                                                                                                                                                                                                                                                                                                                                                                                                                                                                                                                                                                                                                                                                                                                                                                                                                                                                                                                                                                                                                                                                                                                                                                                                                                                                                                         </td></tr>\n",
       "<tr><td>B002Q8JOSI </td><td>A17UQD2RSSQH5X</td><td>My dogs tell me these treats are YUMMY</td><td style=\"text-align: right;\">      5</td><td style=\"text-align: right;\">                       1</td><td style=\"text-align: right;\">212536</td><td>in the dark                                      </td><td style=\"text-align: right;\">                     1</td><td style=\"text-align: right;\">1.31613e+09</td><td>My two Corgis were thoroughly spoiled by my late husband (I spent a year and a half dieting them down a combined total of 25 pounds!)<br /><br />They are accustomed to the finest of fare, and they absolutely love the Wellness brand of treats.                                                                                                                                                                                                                                                                                                                                                                                                                                                                                                                                                                                                                                                                                                                                                                                                                                                                                                                                                                                                                                                                                                                                                                                                                                                                                                                                                                                                                                                                                                                                                                                                                                                                                                                                                                                                                                                                                                                                                                                                                                                                                                                                                                                                                                                                                                                                                                                                                                                                                                                                                                                                                                                                                                                                                                                                                                                                                                                                                                                                                  </td></tr>\n",
       "<tr><td>B00176G870 </td><td>A2F2MZW8EOGH5J</td><td>Yummy to the tummy                    </td><td style=\"text-align: right;\">      5</td><td style=\"text-align: right;\">                       0</td><td style=\"text-align: right;\">115971</td><td>daemoncycler \"\"When you arrive at a fork in th...</td><td style=\"text-align: right;\">                     0</td><td style=\"text-align: right;\">1.33479e+09</td><td>We used to have drive down to the specialty pet food store for this product.  So glad we discovered Amazon.  As far as I can tell it is no more expensive & in some cases less - Prime membership is awesome.  Loving Pets treats are some of the best according to my dog.  They do not develop that nasty smell like some dog treats do.                                                                                                                                                                                                                                                                                                                                                                                                                                                                                                                                                                                                                                                                                                                                                                                                                                                                                                                                                                                                                                                                                                                                                                                                                                                                                                                                                                                                                                                                                                                                                                                                                                                                                                                                                                                                                                                                                                                                                                                                                                                                                                                                                                                                                                                                                                                                                                                                                                                                                                                                                                                                                                                                                                                                                                                                                                                                                                                          </td></tr>\n",
       "<tr><td>B001CHFUGY </td><td>A2M8VROSDPU4JT</td><td>Very good coffee                      </td><td style=\"text-align: right;\">      5</td><td style=\"text-align: right;\">                       1</td><td style=\"text-align: right;\">434484</td><td>Officefan \"\"Officefankt\"\"                        </td><td style=\"text-align: right;\">                     1</td><td style=\"text-align: right;\">1.27725e+09</td><td>I really liked this coffee, it was just as good as everyone claimed it was.  Strong, bold and flavorful!  I would recommend!                                                                                                                                                                                                                                                                                                                                                                                                                                                                                                                                                                                                                                                                                                                                                                                                                                                                                                                                                                                                                                                                                                                                                                                                                                                                                                                                                                                                                                                                                                                                                                                                                                                                                                                                                                                                                                                                                                                                                                                                                                                                                                                                                                                                                                                                                                                                                                                                                                                                                                                                                                                                                                                                                                                                                                                                                                                                                                                                                                                                                                                                                                                                        </td></tr>\n",
       "<tr><td>B0041CIR62 </td><td>A16I6WJUEBJ1C3</td><td>okay but not as healthy as it appears </td><td style=\"text-align: right;\">      2</td><td style=\"text-align: right;\">                       1</td><td style=\"text-align: right;\">138997</td><td>doctorsirena \"\"doctorsirena\"\"                    </td><td style=\"text-align: right;\">                     1</td><td style=\"text-align: right;\">1.34369e+09</td><td>I am always looking for healthier, whole grain versions of foods I enjoy.  Unfortunately, these Peacock brand noodles are yet another food masquerading as healthy.  The product title in big letters on the front says \"\"Brown Rice Vermicelli\"\", making the consumer think \"\"this is made with brown rice, so it should be a healthy choice\"\".  But the first indication that it is not is when looking at the fiber content on the nutrition facts - only 0.6g per 2oz serving.  Then onto the ingredients list to see why so low... contains brown rice, sago starch and water.  The sago starch comes from palms and must not have much (if any) fiber.<br /><br />The Annie Chun's Maifun Brown Rice Noodles (sold on Amazon and in my local healthy grocer) has become one of my staples and is my frame of reference when comparing to the Peacock brand.  The Annie Chun's product is made with 100% whole grain, with ingredients brown rice flour and water.  Per 2oz serving, it has 4g fiber and pretty much the same calories and other nutrients as the Peacock brand.<br /><br />If you do try this Peacock brand noodles and have not used rice noodles before, you will need to seek guidance elsewhere on preparation.  As others have pointed out, the Peacock package gives almost no directions on how to prepare the product, aside from a brief mention in the recipes (in the header text it does say that they are \"\"easy-to-cook\"\" but does not say how).  It also contains a very strange recipe for rice noodles: Aglio Olio style - this is an Italian recipe for noodles with olive oil/garlic/sprinkled with grated cheese that I think would not be very tasty.  The second recipe appears to be for a soup with veggie strips.  Neither recipe gives amounts or much direction.  In comparison, the Annie Chun's package gives clear, specific directions on rice noodle preparation and two recipes.<br /><br />I use rice noodles = maifun = rice sticks = sometimes called vermicelli for making the Vietnamese salad \"\"bun tofu\"\", to serve with stir-fried veggies or in lettuce rolls.  They can also be used in spring rolls/egg rolls.  When cooking with thin rice noodles, be careful not to oversoak/overcook/overmix or they tend to disintegrate.  Asian rice noodle vermicelli (maifun) are not the same as Italian vermicelli and are not readily interchangeable.  If making an Italian recipe, the best results would be expected from Italian pasta and not maifun.<br /><br />A few final notes...  Both Peacock and Annie Chun's brown rice noodles are gluten free.  The Peacock is made in Singapore and the Annie Chun's in Thailand.  The Peacock noodles do taste fine (kind of bland), but so do the Annie Chun's.  At this time, they are both approximately the same price.  Peacock come in an plastic bag with some noodle crushage upon shipping; Annie Chun's are perfect upon removal from their cellophane bag in a box.  Overall, I highly recommend the Annie Chun's Maifun as a healthier option over the Peacock brand.  On a related note, the Annie Chun's soba and brown rice pad thai noodles are also excellent.<br /><br />Rating for this product: 2.5 stars rounded down to 2 stars.</td></tr>\n",
       "<tr><td>B001R3BQFW </td><td>AM50E42AFUVNL </td><td>Taste great.                          </td><td style=\"text-align: right;\">      5</td><td style=\"text-align: right;\">                       0</td><td style=\"text-align: right;\">126555</td><td>T. Higley \"\"Tina\"\"                               </td><td style=\"text-align: right;\">                     0</td><td style=\"text-align: right;\">1.32356e+09</td><td>I have tried many different drink mix, this is the best tasting by far. It does not have the after taste of the sweetener and I really like it, it is pretty strong, so I use a big water bottle (20 oz) for one tube, it still a little stronger than I like, but it is just my taste.                                                                                                                                                                                                                                                                                                                                                                                                                                                                                                                                                                                                                                                                                                                                                                                                                                                                                                                                                                                                                                                                                                                                                                                                                                                                                                                                                                                                                                                                                                                                                                                                                                                                                                                                                                                                                                                                                                                                                                                                                                                                                                                                                                                                                                                                                                                                                                                                                                                                                                                                                                                                                                                                                                                                                                                                                                                                                                                                                                             </td></tr>\n",
       "<tr><td>B005HGAV8I </td><td>A2I5KDNOESGJ1H</td><td>variety galore                        </td><td style=\"text-align: right;\">      5</td><td style=\"text-align: right;\">                       1</td><td style=\"text-align: right;\">438837</td><td>TJ                                               </td><td style=\"text-align: right;\">                     1</td><td style=\"text-align: right;\">1.33402e+09</td><td>This is my favorite item to order for my Keurig. There are so many flavors, my finicky palate never gets bored!  The only downside is there are probably 5-6 decaf varieties.  I don't drink decaf (I REQUIRE copious amounts of caffeine), so they sit on the shelf...                                                                                                                                                                                                                                                                                                                                                                                                                                                                                                                                                                                                                                                                                                                                                                                                                                                                                                                                                                                                                                                                                                                                                                                                                                                                                                                                                                                                                                                                                                                                                                                                                                                                                                                                                                                                                                                                                                                                                                                                                                                                                                                                                                                                                                                                                                                                                                                                                                                                                                                                                                                                                                                                                                                                                                                                                                                                                                                                                                                             </td></tr>\n",
       "<tr><td>B000GFYRHQ </td><td>A3A7YUR6FS6ZCI</td><td>Bigelow Earl Grey Green Tea           </td><td style=\"text-align: right;\">      5</td><td style=\"text-align: right;\">                       0</td><td style=\"text-align: right;\">245379</td><td>Tea Lover                                        </td><td style=\"text-align: right;\">                     0</td><td style=\"text-align: right;\">1.17841e+09</td><td>Tastes like Earl Grey, but it's green tea so it's healthier.                                                                                                                                                                                                                                                                                                                                                                                                                                                                                                                                                                                                                                                                                                                                                                                                                                                                                                                                                                                                                                                                                                                                                                                                                                                                                                                                                                                                                                                                                                                                                                                                                                                                                                                                                                                                                                                                                                                                                                                                                                                                                                                                                                                                                                                                                                                                                                                                                                                                                                                                                                                                                                                                                                                                                                                                                                                                                                                                                                                                                                                                                                                                                                                                        </td></tr>\n",
       "</tbody>\n",
       "</table>"
      ]
     },
     "metadata": {},
     "output_type": "display_data"
    },
    {
     "data": {
      "text/plain": []
     },
     "execution_count": 5,
     "metadata": {},
     "output_type": "execute_result"
    }
   ],
   "source": [
    "reviews.head()"
   ]
  },
  {
   "cell_type": "code",
   "execution_count": 6,
   "metadata": {},
   "outputs": [
    {
     "data": {
      "image/png": "[encoded data removed]",
      "text/plain": [
       "<matplotlib.figure.Figure at 0x11484a978>"
      ]
     },
     "metadata": {},
     "output_type": "display_data"
    }
   ],
   "source": [
    "%matplotlib inline\n",
    "reviews[\"Score\"].hist()"
   ]
  },
  {
   "cell_type": "code",
   "execution_count": 7,
   "metadata": {},
   "outputs": [
    {
     "data": {
      "text/html": [
       "<table>\n",
       "<thead>\n",
       "<tr><th>Summary      </th><th style=\"text-align: right;\">  Count</th></tr>\n",
       "</thead>\n",
       "<tbody>\n",
       "<tr><td>Delicious    </td><td style=\"text-align: right;\">    426</td></tr>\n",
       "<tr><td>Delicious!   </td><td style=\"text-align: right;\">    417</td></tr>\n",
       "<tr><td>Yummy!       </td><td style=\"text-align: right;\">    284</td></tr>\n",
       "<tr><td>Yummy        </td><td style=\"text-align: right;\">    222</td></tr>\n",
       "<tr><td>Great product</td><td style=\"text-align: right;\">    204</td></tr>\n",
       "<tr><td>Yum!         </td><td style=\"text-align: right;\">    193</td></tr>\n",
       "<tr><td>Excellent    </td><td style=\"text-align: right;\">    183</td></tr>\n",
       "<tr><td>Great Product</td><td style=\"text-align: right;\">    155</td></tr>\n",
       "<tr><td>Love it!     </td><td style=\"text-align: right;\">    154</td></tr>\n",
       "<tr><td>Great        </td><td style=\"text-align: right;\">    138</td></tr>\n",
       "</tbody>\n",
       "</table>"
      ]
     },
     "metadata": {},
     "output_type": "display_data"
    },
    {
     "data": {
      "text/plain": []
     },
     "execution_count": 7,
     "metadata": {},
     "output_type": "execute_result"
    }
   ],
   "source": [
    "summary_freq = reviews[\"Summary\"].table()\n",
    "summary_freq = summary_freq.sort(\"Count\", ascending = [False])\n",
    "summary_freq.head()"
   ]
  },
  {
   "cell_type": "code",
   "execution_count": 8,
   "metadata": {
    "collapsed": true
   },
   "outputs": [],
   "source": [
    "#' Add Target Column: \"PositiveReview\"\n",
    "reviews[\"PositiveReview\"] = (reviews[\"Score\"] >= 4).ifelse(\"1\", \"0\")"
   ]
  },
  {
   "cell_type": "code",
   "execution_count": 9,
   "metadata": {},
   "outputs": [
    {
     "data": {
      "text/html": [
       "<table>\n",
       "<thead>\n",
       "<tr><th style=\"text-align: right;\">  PositiveReview</th><th style=\"text-align: right;\">  Count</th></tr>\n",
       "</thead>\n",
       "<tbody>\n",
       "<tr><td style=\"text-align: right;\">               0</td><td style=\"text-align: right;\">  21791</td></tr>\n",
       "<tr><td style=\"text-align: right;\">               1</td><td style=\"text-align: right;\">  78209</td></tr>\n",
       "</tbody>\n",
       "</table>"
      ]
     },
     "metadata": {},
     "output_type": "display_data"
    },
    {
     "data": {
      "text/plain": []
     },
     "execution_count": 9,
     "metadata": {},
     "output_type": "execute_result"
    }
   ],
   "source": [
    "reviews[\"PositiveReview\"].table()"
   ]
  },
  {
   "cell_type": "markdown",
   "metadata": {},
   "source": [
    "# Step 3 (of 10).  Tokenize Words\n",
    "\n",
    "\n",
    "We will tokenize the words in the review column. We will do this by creating a function called `tokenize`.  This will split the reviews into words and remove any stop words, small words, or words with numbers in them."
   ]
  },
  {
   "cell_type": "code",
   "execution_count": 10,
   "metadata": {},
   "outputs": [
    {
     "data": {
      "text/plain": [
       "['all',\n",
       " 'just',\n",
       " 'being',\n",
       " 'over',\n",
       " 'both',\n",
       " 'through',\n",
       " 'yourselves',\n",
       " 'its',\n",
       " 'before',\n",
       " 'o',\n",
       " 'hadn',\n",
       " 'herself',\n",
       " 'll',\n",
       " 'had',\n",
       " 'should',\n",
       " 'to',\n",
       " 'only',\n",
       " 'won',\n",
       " 'under',\n",
       " 'ours',\n",
       " 'has',\n",
       " 'do',\n",
       " 'them',\n",
       " 'his',\n",
       " 'very',\n",
       " 'they',\n",
       " 'not',\n",
       " 'during',\n",
       " 'now',\n",
       " 'him',\n",
       " 'nor',\n",
       " 'd',\n",
       " 'did',\n",
       " 'didn',\n",
       " 'this',\n",
       " 'she',\n",
       " 'each',\n",
       " 'further',\n",
       " 'where',\n",
       " 'few',\n",
       " 'because',\n",
       " 'doing',\n",
       " 'some',\n",
       " 'hasn',\n",
       " 'are',\n",
       " 'our',\n",
       " 'ourselves',\n",
       " 'out',\n",
       " 'what',\n",
       " 'for',\n",
       " 'while',\n",
       " 're',\n",
       " 'does',\n",
       " 'above',\n",
       " 'between',\n",
       " 'mustn',\n",
       " 't',\n",
       " 'be',\n",
       " 'we',\n",
       " 'who',\n",
       " 'were',\n",
       " 'here',\n",
       " 'shouldn',\n",
       " 'hers',\n",
       " 'by',\n",
       " 'on',\n",
       " 'about',\n",
       " 'couldn',\n",
       " 'of',\n",
       " 'against',\n",
       " 's',\n",
       " 'isn',\n",
       " 'or',\n",
       " 'own',\n",
       " 'into',\n",
       " 'yourself',\n",
       " 'down',\n",
       " 'mightn',\n",
       " 'wasn',\n",
       " 'your',\n",
       " 'from',\n",
       " 'her',\n",
       " 'their',\n",
       " 'aren',\n",
       " 'there',\n",
       " 'been',\n",
       " 'whom',\n",
       " 'too',\n",
       " 'wouldn',\n",
       " 'themselves',\n",
       " 'weren',\n",
       " 'was',\n",
       " 'until',\n",
       " 'more',\n",
       " 'himself',\n",
       " 'that',\n",
       " 'but',\n",
       " 'don',\n",
       " 'with',\n",
       " 'than',\n",
       " 'those',\n",
       " 'he',\n",
       " 'me',\n",
       " 'myself',\n",
       " 'ma',\n",
       " 'these',\n",
       " 'up',\n",
       " 'will',\n",
       " 'below',\n",
       " 'ain',\n",
       " 'can',\n",
       " 'theirs',\n",
       " 'my',\n",
       " 'and',\n",
       " 've',\n",
       " 'then',\n",
       " 'is',\n",
       " 'am',\n",
       " 'it',\n",
       " 'doesn',\n",
       " 'an',\n",
       " 'as',\n",
       " 'itself',\n",
       " 'at',\n",
       " 'have',\n",
       " 'in',\n",
       " 'any',\n",
       " 'if',\n",
       " 'again',\n",
       " 'no',\n",
       " 'when',\n",
       " 'same',\n",
       " 'how',\n",
       " 'other',\n",
       " 'which',\n",
       " 'you',\n",
       " 'shan',\n",
       " 'needn',\n",
       " 'haven',\n",
       " 'after',\n",
       " 'most',\n",
       " 'such',\n",
       " 'why',\n",
       " 'a',\n",
       " 'off',\n",
       " 'i',\n",
       " 'm',\n",
       " 'yours',\n",
       " 'so',\n",
       " 'y',\n",
       " 'the',\n",
       " 'having',\n",
       " 'once']"
      ]
     },
     "execution_count": 10,
     "metadata": {},
     "output_type": "execute_result"
    }
   ],
   "source": [
    "# Set Stop Words\n",
    "# The STOP WORDS we are importing are from the nltk package\n",
    "import pandas as pd\n",
    "\n",
    "# https://s3-us-west-2.amazonaws.com/h2o-tutorials/data/topics/nlp/amazon_reviews/stopwords.csv\n",
    "#STOP_WORDS = pd.read_csv(\"../../data/topics/nlp/amazon_reviews/stopwords.csv\", header=0)\n",
    "STOP_WORDS = pd.read_csv(\"https://s3-us-west-2.amazonaws.com/h2o-tutorials/data/topics/nlp/amazon_reviews/stopwords.csv\", header=0)\n",
    "STOP_WORDS = list(STOP_WORDS['STOP_WORD'])\n",
    "\n",
    "STOP_WORDS"
   ]
  },
  {
   "cell_type": "code",
   "execution_count": 11,
   "metadata": {
    "collapsed": true
   },
   "outputs": [],
   "source": [
    "def tokenize(sentences, stop_word = STOP_WORDS):\n",
    "    tokenized = sentences.tokenize(\"\\\\W+\")\n",
    "    tokenized_lower = tokenized.tolower()\n",
    "    tokenized_filtered = tokenized_lower[(tokenized_lower.nchar() >= 2) | (tokenized_lower.isna()),:]\n",
    "    tokenized_words = tokenized_filtered[tokenized_filtered.grep(\"[0-9]\",invert=True,output_logical=True),:]\n",
    "    tokenized_words = tokenized_words[(tokenized_words.isna()) | (~ tokenized_words.isin(STOP_WORDS)),:]\n",
    "    return tokenized_words"
   ]
  },
  {
   "cell_type": "code",
   "execution_count": 12,
   "metadata": {
    "collapsed": true
   },
   "outputs": [],
   "source": [
    "# Break reviews into sequence of words\n",
    "words = tokenize(reviews[\"Text\"])"
   ]
  },
  {
   "cell_type": "code",
   "execution_count": 13,
   "metadata": {},
   "outputs": [
    {
     "data": {
      "text/html": [
       "<table>\n",
       "<thead>\n",
       "<tr><th>C1       </th></tr>\n",
       "</thead>\n",
       "<tbody>\n",
       "<tr><td>made     </td></tr>\n",
       "<tr><td>china    </td></tr>\n",
       "<tr><td>buy      </td></tr>\n",
       "<tr><td>pet      </td></tr>\n",
       "<tr><td>food     </td></tr>\n",
       "<tr><td>china    </td></tr>\n",
       "<tr><td>dogswell </td></tr>\n",
       "<tr><td>using    </td></tr>\n",
       "<tr><td>propylene</td></tr>\n",
       "<tr><td>glycol   </td></tr>\n",
       "</tbody>\n",
       "</table>"
      ]
     },
     "metadata": {},
     "output_type": "display_data"
    },
    {
     "data": {
      "text/plain": []
     },
     "execution_count": 13,
     "metadata": {},
     "output_type": "execute_result"
    }
   ],
   "source": [
    "words.head()"
   ]
  },
  {
   "cell_type": "markdown",
   "metadata": {},
   "source": [
    "# Step 4 (of 10).  Train Word2Vec Model\n",
    "\n",
    "Now that we've tokenized our words, we can train a word2vec model. We will start by creating word embeddings of length 2.  We will use these to understand the word embedding since they can be easily visualized. "
   ]
  },
  {
   "cell_type": "code",
   "execution_count": 14,
   "metadata": {},
   "outputs": [
    {
     "name": "stdout",
     "output_type": "stream",
     "text": [
      "word2vec Model Build progress: |██████████████████████████████████████████| 100%\n"
     ]
    }
   ],
   "source": [
    "# Train Word2Vec Model for vec size = 2\n",
    "from h2o.estimators.word2vec import H2OWord2vecEstimator\n",
    "\n",
    "w2v_len2_model = H2OWord2vecEstimator(vec_size = 2, model_id = \"w2v_len2.hex\")\n",
    "w2v_len2_model.train(training_frame=words)"
   ]
  },
  {
   "cell_type": "markdown",
   "metadata": {},
   "source": [
    "# Step 5 (of 10).  Analyze Word Embeddings\n",
    "\n",
    "We have created word embeddings for each word in our corpus, now we want to understand what they mean and how to interpret them.  The word embeddings for the first few words are shown below."
   ]
  },
  {
   "cell_type": "code",
   "execution_count": 15,
   "metadata": {},
   "outputs": [
    {
     "data": {
      "text/html": [
       "<table>\n",
       "<thead>\n",
       "<tr><th>Word     </th><th style=\"text-align: right;\">        C1</th><th style=\"text-align: right;\">       C2</th></tr>\n",
       "</thead>\n",
       "<tbody>\n",
       "<tr><td>made     </td><td style=\"text-align: right;\"> 0.53834  </td><td style=\"text-align: right;\">-0.338847</td></tr>\n",
       "<tr><td>china    </td><td style=\"text-align: right;\"> 0.134573 </td><td style=\"text-align: right;\">-0.810373</td></tr>\n",
       "<tr><td>buy      </td><td style=\"text-align: right;\"> 0.278648 </td><td style=\"text-align: right;\">-0.730829</td></tr>\n",
       "<tr><td>pet      </td><td style=\"text-align: right;\">-0.322129 </td><td style=\"text-align: right;\">-1.27302 </td></tr>\n",
       "<tr><td>food     </td><td style=\"text-align: right;\"> 0.0972247</td><td style=\"text-align: right;\">-0.94408 </td></tr>\n",
       "<tr><td>china    </td><td style=\"text-align: right;\"> 0.134573 </td><td style=\"text-align: right;\">-0.810373</td></tr>\n",
       "<tr><td>dogswell </td><td style=\"text-align: right;\">-0.162063 </td><td style=\"text-align: right;\">-1.19581 </td></tr>\n",
       "<tr><td>using    </td><td style=\"text-align: right;\"> 0.506245 </td><td style=\"text-align: right;\">-0.40677 </td></tr>\n",
       "<tr><td>propylene</td><td style=\"text-align: right;\"> 0.906857 </td><td style=\"text-align: right;\"> 0.567227</td></tr>\n",
       "<tr><td>glycol   </td><td style=\"text-align: right;\"> 0.791394 </td><td style=\"text-align: right;\"> 0.5135  </td></tr>\n",
       "</tbody>\n",
       "</table>"
      ]
     },
     "metadata": {},
     "output_type": "display_data"
    },
    {
     "data": {
      "text/plain": []
     },
     "execution_count": 15,
     "metadata": {},
     "output_type": "execute_result"
    }
   ],
   "source": [
    "sample_embeddings = words.head()\n",
    "sample_embeddings.col_names = [\"Word\"]\n",
    "sample_embeddings = sample_embeddings.cbind(w2v_len2_model.transform(sample_embeddings, aggregate_method=\"None\"))\n",
    "\n",
    "sample_embeddings"
   ]
  },
  {
   "cell_type": "markdown",
   "metadata": {},
   "source": [
    "We will plot the word embeddings to see which words are related to one another."
   ]
  },
  {
   "cell_type": "code",
   "execution_count": 16,
   "metadata": {},
   "outputs": [
    {
     "data": {
      "text/html": [
       "<table>\n",
       "<thead>\n",
       "<tr><th>Word   </th><th style=\"text-align: right;\">  Count</th><th style=\"text-align: right;\">      C1</th><th style=\"text-align: right;\">        C2</th></tr>\n",
       "</thead>\n",
       "<tbody>\n",
       "<tr><td>aa     </td><td style=\"text-align: right;\">     26</td><td style=\"text-align: right;\">0.875071</td><td style=\"text-align: right;\"> 0.0475979</td></tr>\n",
       "<tr><td>aaa    </td><td style=\"text-align: right;\">      9</td><td style=\"text-align: right;\">0.448416</td><td style=\"text-align: right;\">-0.469924 </td></tr>\n",
       "<tr><td>aaaaa  </td><td style=\"text-align: right;\">      5</td><td style=\"text-align: right;\">0.274079</td><td style=\"text-align: right;\">-0.586905 </td></tr>\n",
       "<tr><td>aaah   </td><td style=\"text-align: right;\">      6</td><td style=\"text-align: right;\">0.83122 </td><td style=\"text-align: right;\">-0.185603 </td></tr>\n",
       "<tr><td>aacute </td><td style=\"text-align: right;\">     12</td><td style=\"text-align: right;\">0.392722</td><td style=\"text-align: right;\"> 0.197443 </td></tr>\n",
       "<tr><td>aafco  </td><td style=\"text-align: right;\">      8</td><td style=\"text-align: right;\">0.2431  </td><td style=\"text-align: right;\">-0.59297  </td></tr>\n",
       "<tr><td>aah    </td><td style=\"text-align: right;\">      5</td><td style=\"text-align: right;\">0.754727</td><td style=\"text-align: right;\">-0.184267 </td></tr>\n",
       "<tr><td>ab     </td><td style=\"text-align: right;\">     11</td><td style=\"text-align: right;\">0.81234 </td><td style=\"text-align: right;\"> 0.210216 </td></tr>\n",
       "<tr><td>aback  </td><td style=\"text-align: right;\">     16</td><td style=\"text-align: right;\">0.586913</td><td style=\"text-align: right;\">-0.303008 </td></tr>\n",
       "<tr><td>abandon</td><td style=\"text-align: right;\">     11</td><td style=\"text-align: right;\">0.650477</td><td style=\"text-align: right;\">-0.35015  </td></tr>\n",
       "</tbody>\n",
       "</table>"
      ]
     },
     "metadata": {},
     "output_type": "display_data"
    },
    {
     "data": {
      "text/plain": []
     },
     "execution_count": 16,
     "metadata": {},
     "output_type": "execute_result"
    }
   ],
   "source": [
    "unique_words = words.asfactor().table()\n",
    "unique_words.col_names = [\"Word\", \"Count\"]\n",
    "\n",
    "word_embeddings = w2v_len2_model.transform(unique_words[\"Word\"].ascharacter(), aggregate_method=\"None\")\n",
    "word_embeddings = unique_words.cbind(word_embeddings)\n",
    "word_embeddings = word_embeddings[~word_embeddings[\"C1\"].isna()]\n",
    "word_embeddings.head()"
   ]
  },
  {
   "cell_type": "code",
   "execution_count": 17,
   "metadata": {},
   "outputs": [],
   "source": [
    "# Filter Word Embeddings to selected words\n",
    "\n",
    "selected_words = [\"coffee\", \"espresso\", \"starbucks\", \"sweet\", \"salty\", \"savory\", \"email\", \"support\", \"answered\", \n",
    "                  \"unhappy\", \"waited\", \"returned\", \"tasty\", \"yummy\", \"moldy\", \"expired\", \"salmonella\", \"best\", \n",
    "                  \"amazing\", \"abdominal\", \"folic\", \"zinc\"]\n",
    "\n",
    "filtered_embeddings = word_embeddings[word_embeddings[\"Word\"].isin(selected_words)]\n",
    "plot_data = filtered_embeddings.as_data_frame(use_pandas = True)"
   ]
  },
  {
   "cell_type": "code",
   "execution_count": 18,
   "metadata": {},
   "outputs": [
    {
     "data": {
      "image/png": "[encoded data removed]",
      "text/plain": [
       "<matplotlib.figure.Figure at 0x11ff6bc18>"
      ]
     },
     "metadata": {},
     "output_type": "display_data"
    }
   ],
   "source": [
    "# Plot Word Embeddings\n",
    "import matplotlib.pyplot as plt\n",
    "\n",
    "fig, ax = plt.subplots(figsize=(20, 10))\n",
    "ax.scatter(plot_data[\"C1\"], plot_data[\"C2\"])\n",
    "\n",
    "for i, txt in enumerate(plot_data[\"Word\"]):\n",
    "    ax.annotate(txt, (plot_data[\"C1\"].iloc[i], plot_data[\"C2\"].iloc[i]))"
   ]
  },
  {
   "cell_type": "markdown",
   "metadata": {},
   "source": [
    "We will train a more complex word2vec model with length 100 - this will be able to catch further nuances in the text."
   ]
  },
  {
   "cell_type": "code",
   "execution_count": 19,
   "metadata": {},
   "outputs": [
    {
     "name": "stdout",
     "output_type": "stream",
     "text": [
      "word2vec Model Build progress: |██████████████████████████████████████████| 100%\n"
     ]
    }
   ],
   "source": [
    "# Train Word2Vec Model for vec size = 100\n",
    "w2v_model = H2OWord2vecEstimator(vec_size = 100, model_id = \"w2v.hex\")\n",
    "w2v_model.train(training_frame=words)"
   ]
  },
  {
   "cell_type": "markdown",
   "metadata": {},
   "source": [
    "One way to interpret the word embeddings is to use them to find synonyms. The `find_synonyms` function finds the words that have the smallest cosine distance in word embeddings.  We assume that if the word embeddings are similar, the two words are synonyms."
   ]
  },
  {
   "cell_type": "code",
   "execution_count": 20,
   "metadata": {},
   "outputs": [
    {
     "data": {
      "text/plain": [
       "OrderedDict([('coffe', 0.8106526136398315),\n",
       "             ('coffees', 0.7752676010131836),\n",
       "             ('brew', 0.7635484933853149),\n",
       "             ('espresso', 0.7487479448318481),\n",
       "             ('expresso', 0.7487366199493408)])"
      ]
     },
     "execution_count": 20,
     "metadata": {},
     "output_type": "execute_result"
    }
   ],
   "source": [
    "# Sanity check - find synonyms for the word 'coffee'\n",
    "w2v_model.find_synonyms(\"coffee\", count = 5)"
   ]
  },
  {
   "cell_type": "code",
   "execution_count": 21,
   "metadata": {},
   "outputs": [
    {
     "data": {
      "text/plain": [
       "OrderedDict([('moldy', 0.694185733795166),\n",
       "             ('rancid', 0.6910488605499268),\n",
       "             ('inedible', 0.6386507749557495),\n",
       "             ('staleness', 0.6223535537719727),\n",
       "             ('unedible', 0.6204297542572021)])"
      ]
     },
     "execution_count": 21,
     "metadata": {},
     "output_type": "execute_result"
    }
   ],
   "source": [
    "# Sanity check - find synonyms for the word 'stale'\n",
    "w2v_model.find_synonyms(\"stale\", count = 5)"
   ]
  },
  {
   "cell_type": "markdown",
   "metadata": {},
   "source": [
    "We will cluster the word embeddings to identify segments of similar words. "
   ]
  },
  {
   "cell_type": "code",
   "execution_count": 22,
   "metadata": {},
   "outputs": [],
   "source": [
    "word_embeddings = w2v_model.transform(unique_words[\"Word\"].ascharacter(), aggregate_method=\"None\")\n",
    "word_embeddings = unique_words.cbind(word_embeddings)\n",
    "word_embeddings = word_embeddings[~word_embeddings[\"C1\"].isna()]"
   ]
  },
  {
   "cell_type": "code",
   "execution_count": 23,
   "metadata": {},
   "outputs": [
    {
     "name": "stdout",
     "output_type": "stream",
     "text": [
      "kmeans Model Build progress: |████████████████████████████████████████████| 100%\n"
     ]
    }
   ],
   "source": [
    "from h2o.estimators import H2OKMeansEstimator\n",
    "\n",
    "kmeans = H2OKMeansEstimator(model_id = \"word_segments.hex\",\n",
    "                            estimate_k = True, k = 100, # Max number of clusters\n",
    "                            seed = 1234)\n",
    "\n",
    "x = list(set(word_embeddings.col_names) - set([\"Word\", \"Count\"]))\n",
    "kmeans.train(x = x, training_frame = word_embeddings)"
   ]
  },
  {
   "cell_type": "code",
   "execution_count": 24,
   "metadata": {},
   "outputs": [
    {
     "name": "stdout",
     "output_type": "stream",
     "text": [
      "Centroid Statistics: \n"
     ]
    },
    {
     "data": {
      "text/html": [
       "<div style=\"overflow:auto\"><table style=\"width:50%\"><tr><td><b></b></td>\n",
       "<td><b>centroid</b></td>\n",
       "<td><b>size</b></td>\n",
       "<td><b>within_cluster_sum_of_squares</b></td></tr>\n",
       "<tr><td></td>\n",
       "<td>1.0</td>\n",
       "<td>11684.0</td>\n",
       "<td>1129712.2806108</td></tr>\n",
       "<tr><td></td>\n",
       "<td>2.0</td>\n",
       "<td>7395.0</td>\n",
       "<td>722835.5624282</td></tr></table></div>"
      ],
      "text/plain": [
       "    centroid    size    within_cluster_sum_of_squares\n",
       "--  ----------  ------  -------------------------------\n",
       "    1           11684   1.12971e+06\n",
       "    2           7395    722836"
      ]
     },
     "metadata": {},
     "output_type": "display_data"
    },
    {
     "data": {
      "text/plain": []
     },
     "execution_count": 24,
     "metadata": {},
     "output_type": "execute_result"
    }
   ],
   "source": [
    "# Clusters\n",
    "kmeans.centroid_stats()"
   ]
  },
  {
   "cell_type": "code",
   "execution_count": 25,
   "metadata": {},
   "outputs": [
    {
     "name": "stdout",
     "output_type": "stream",
     "text": [
      "kmeans prediction progress: |█████████████████████████████████████████████| 100%\n"
     ]
    },
    {
     "data": {
      "text/html": [
       "<table>\n",
       "<thead>\n",
       "<tr><th>Word   </th><th style=\"text-align: right;\">  predict</th></tr>\n",
       "</thead>\n",
       "<tbody>\n",
       "<tr><td>aa     </td><td style=\"text-align: right;\">        0</td></tr>\n",
       "<tr><td>aaa    </td><td style=\"text-align: right;\">        0</td></tr>\n",
       "<tr><td>aaaaa  </td><td style=\"text-align: right;\">        0</td></tr>\n",
       "<tr><td>aaah   </td><td style=\"text-align: right;\">        0</td></tr>\n",
       "<tr><td>aacute </td><td style=\"text-align: right;\">        0</td></tr>\n",
       "<tr><td>aafco  </td><td style=\"text-align: right;\">        1</td></tr>\n",
       "<tr><td>aah    </td><td style=\"text-align: right;\">        0</td></tr>\n",
       "<tr><td>ab     </td><td style=\"text-align: right;\">        0</td></tr>\n",
       "<tr><td>aback  </td><td style=\"text-align: right;\">        0</td></tr>\n",
       "<tr><td>abandon</td><td style=\"text-align: right;\">        0</td></tr>\n",
       "</tbody>\n",
       "</table>"
      ]
     },
     "metadata": {},
     "output_type": "display_data"
    },
    {
     "data": {
      "text/plain": []
     },
     "execution_count": 25,
     "metadata": {},
     "output_type": "execute_result"
    }
   ],
   "source": [
    "word_clusters = word_embeddings.cbind(kmeans.predict(word_embeddings))\n",
    "word_clusters[[\"Word\", \"predict\"]].head()"
   ]
  },
  {
   "cell_type": "code",
   "execution_count": 26,
   "metadata": {},
   "outputs": [],
   "source": [
    "selected_clusters = word_clusters[word_clusters[\"Word\"].isin(selected_words)]"
   ]
  },
  {
   "cell_type": "code",
   "execution_count": 27,
   "metadata": {},
   "outputs": [
    {
     "name": "stdout",
     "output_type": "stream",
     "text": [
      "Cluster 0\n"
     ]
    },
    {
     "data": {
      "text/html": [
       "<table>\n",
       "<thead>\n",
       "<tr><th>Word    </th></tr>\n",
       "</thead>\n",
       "<tbody>\n",
       "<tr><td>amazing </td></tr>\n",
       "<tr><td>best    </td></tr>\n",
       "<tr><td>coffee  </td></tr>\n",
       "<tr><td>email   </td></tr>\n",
       "<tr><td>espresso</td></tr>\n",
       "<tr><td>expired </td></tr>\n",
       "<tr><td>moldy   </td></tr>\n",
       "<tr><td>returned</td></tr>\n",
       "<tr><td>salty   </td></tr>\n",
       "<tr><td>savory  </td></tr>\n",
       "</tbody>\n",
       "</table>"
      ]
     },
     "metadata": {},
     "output_type": "display_data"
    },
    {
     "name": "stdout",
     "output_type": "stream",
     "text": [
      "\n"
     ]
    }
   ],
   "source": [
    "print(\"Cluster 0\")\n",
    "print(selected_clusters[selected_clusters[\"predict\"] == 0, \"Word\"])"
   ]
  },
  {
   "cell_type": "code",
   "execution_count": 28,
   "metadata": {},
   "outputs": [
    {
     "name": "stdout",
     "output_type": "stream",
     "text": [
      "Cluster 1\n"
     ]
    },
    {
     "data": {
      "text/html": [
       "<table>\n",
       "<thead>\n",
       "<tr><th>Word      </th></tr>\n",
       "</thead>\n",
       "<tbody>\n",
       "<tr><td>abdominal </td></tr>\n",
       "<tr><td>answered  </td></tr>\n",
       "<tr><td>folic     </td></tr>\n",
       "<tr><td>salmonella</td></tr>\n",
       "<tr><td>support   </td></tr>\n",
       "<tr><td>zinc      </td></tr>\n",
       "</tbody>\n",
       "</table>"
      ]
     },
     "metadata": {},
     "output_type": "display_data"
    },
    {
     "name": "stdout",
     "output_type": "stream",
     "text": [
      "\n"
     ]
    }
   ],
   "source": [
    "print(\"Cluster 1\")\n",
    "print(selected_clusters[selected_clusters[\"predict\"] == 1, \"Word\"])"
   ]
  },
  {
   "cell_type": "markdown",
   "metadata": {},
   "source": [
    "# Step 6 (of 10).  Train Model with Original Data\n",
    "\n",
    "Now that we have analyzed our word embeddings, we will turn to our supervised learning task to predict whether someone liked the review.  We will first train a model on our original data - not our word embeddings to see what our accuracy is. We will use this model as a baseline model."
   ]
  },
  {
   "cell_type": "code",
   "execution_count": 29,
   "metadata": {
    "collapsed": true
   },
   "outputs": [],
   "source": [
    "# Find the 80th quantile of time in the dataset\n",
    "time_split = reviews[\"Time\"].quantile(prob = [0.8])[1]\n",
    "reviews[\"Train\"] = (reviews[\"Time\"] < time_split).ifelse(\"Yes\", \"No\")"
   ]
  },
  {
   "cell_type": "code",
   "execution_count": 30,
   "metadata": {
    "collapsed": true
   },
   "outputs": [],
   "source": [
    "train = reviews[reviews[\"Train\"] == \"Yes\"]\n",
    "test = reviews[reviews[\"Train\"] == \"No\"]"
   ]
  },
  {
   "cell_type": "code",
   "execution_count": 31,
   "metadata": {},
   "outputs": [
    {
     "name": "stdout",
     "output_type": "stream",
     "text": [
      "gbm Model Build progress: |███████████████████████████████████████████████| 100%\n"
     ]
    }
   ],
   "source": [
    "from h2o.estimators import H2OGradientBoostingEstimator\n",
    "\n",
    "predictors = ['ProductId', 'UserId', 'HelpfulnessNumerator', 'HelpfulnessDenominator', 'Time']\n",
    "response = 'PositiveReview'\n",
    "\n",
    "gbm_baseline = H2OGradientBoostingEstimator(stopping_metric = \"AUC\", stopping_tolerance = 0.001,\n",
    "                                            stopping_rounds = 5, score_tree_interval = 10,\n",
    "                                            model_id = \"gbm_baseline.hex\"\n",
    "                                           )\n",
    "gbm_baseline.train(x = predictors, y = response, \n",
    "                   training_frame = train, validation_frame = test\n",
    "                  )"
   ]
  },
  {
   "cell_type": "code",
   "execution_count": 32,
   "metadata": {},
   "outputs": [
    {
     "name": "stdout",
     "output_type": "stream",
     "text": [
      "AUC on Validation Data: 0.616\n"
     ]
    }
   ],
   "source": [
    "print(\"AUC on Validation Data: \" + str(round(gbm_baseline.auc(valid = True), 3)))"
   ]
  },
  {
   "cell_type": "markdown",
   "metadata": {},
   "source": [
    "We can see that there is a big room for improvement.  Our error is 22%.  To improve our model, we will train word embeddings for the review."
   ]
  },
  {
   "cell_type": "code",
   "execution_count": 33,
   "metadata": {},
   "outputs": [
    {
     "name": "stdout",
     "output_type": "stream",
     "text": [
      "Confusion Matrix (Act/Pred) for max f1 @ threshold = 0.45931625811239496: \n"
     ]
    },
    {
     "data": {
      "text/html": [
       "<div style=\"overflow:auto\"><table style=\"width:50%\"><tr><td><b></b></td>\n",
       "<td><b>0</b></td>\n",
       "<td><b>1</b></td>\n",
       "<td><b>Error</b></td>\n",
       "<td><b>Rate</b></td></tr>\n",
       "<tr><td>0</td>\n",
       "<td>384.0</td>\n",
       "<td>4276.0</td>\n",
       "<td>0.9176</td>\n",
       "<td> (4276.0/4660.0)</td></tr>\n",
       "<tr><td>1</td>\n",
       "<td>128.0</td>\n",
       "<td>15220.0</td>\n",
       "<td>0.0083</td>\n",
       "<td> (128.0/15348.0)</td></tr>\n",
       "<tr><td>Total</td>\n",
       "<td>512.0</td>\n",
       "<td>19496.0</td>\n",
       "<td>0.2201</td>\n",
       "<td> (4404.0/20008.0)</td></tr></table></div>"
      ],
      "text/plain": [
       "       0    1      Error    Rate\n",
       "-----  ---  -----  -------  ----------------\n",
       "0      384  4276   0.9176   (4276.0/4660.0)\n",
       "1      128  15220  0.0083   (128.0/15348.0)\n",
       "Total  512  19496  0.2201   (4404.0/20008.0)"
      ]
     },
     "metadata": {},
     "output_type": "display_data"
    },
    {
     "data": {
      "text/plain": []
     },
     "execution_count": 33,
     "metadata": {},
     "output_type": "execute_result"
    }
   ],
   "source": [
    "gbm_baseline.confusion_matrix(valid = True)"
   ]
  },
  {
   "cell_type": "markdown",
   "metadata": {},
   "source": [
    "The variable importance plot below shows us that the most important variable is `HelpfulnessNumerator`.  Looking at the partial dependency plot for that variable, we see that the more people who find the review helpful, the more likely it is a good review."
   ]
  },
  {
   "cell_type": "code",
   "execution_count": 34,
   "metadata": {},
   "outputs": [
    {
     "data": {
      "image/png": "[encoded data removed]",
      "text/plain": [
       "<matplotlib.figure.Figure at 0x120eea550>"
      ]
     },
     "metadata": {},
     "output_type": "display_data"
    }
   ],
   "source": [
    "gbm_baseline.varimp_plot()"
   ]
  },
  {
   "cell_type": "code",
   "execution_count": 35,
   "metadata": {
    "scrolled": false
   },
   "outputs": [
    {
     "name": "stdout",
     "output_type": "stream",
     "text": [
      "PartialDependencePlot progress: |█████████████████████████████████████████| 100%\n"
     ]
    },
    {
     "data": {
      "image/png": "[encoded data removed]",
      "text/plain": [
       "<matplotlib.figure.Figure at 0x1220ce5f8>"
      ]
     },
     "metadata": {},
     "output_type": "display_data"
    }
   ],
   "source": [
    "%matplotlib inline  \n",
    "pdp_helpfulness = gbm_baseline.partial_plot(train, cols = [\"HelpfulnessNumerator\"])"
   ]
  },
  {
   "cell_type": "markdown",
   "metadata": {},
   "source": [
    "# Step 7 (of 10).  Train Model with Word Embeddings\n",
    "\n",
    "We will train a GBM model with the same parameters as our baseline gbm.  This time, however, we will add the aggregated word embeddings as predictors. "
   ]
  },
  {
   "cell_type": "code",
   "execution_count": 36,
   "metadata": {
    "collapsed": true
   },
   "outputs": [],
   "source": [
    "# Calculate a vector for each review\n",
    "review_vecs = w2v_model.transform(words, aggregate_method = \"AVERAGE\")"
   ]
  },
  {
   "cell_type": "code",
   "execution_count": 37,
   "metadata": {
    "scrolled": true
   },
   "outputs": [
    {
     "data": {
      "text/html": [
       "<table>\n",
       "<thead>\n",
       "<tr><th style=\"text-align: right;\">        C1</th><th style=\"text-align: right;\">         C2</th><th style=\"text-align: right;\">        C3</th><th style=\"text-align: right;\">       C4</th><th style=\"text-align: right;\">         C5</th><th style=\"text-align: right;\">        C6</th><th style=\"text-align: right;\">         C7</th><th style=\"text-align: right;\">         C8</th><th style=\"text-align: right;\">         C9</th><th style=\"text-align: right;\">        C10</th><th style=\"text-align: right;\">       C11</th><th style=\"text-align: right;\">     C12</th><th style=\"text-align: right;\">         C13</th><th style=\"text-align: right;\">       C14</th><th style=\"text-align: right;\">        C15</th><th style=\"text-align: right;\">        C16</th><th style=\"text-align: right;\">        C17</th><th style=\"text-align: right;\">        C18</th><th style=\"text-align: right;\">      C19</th><th style=\"text-align: right;\">       C20</th><th style=\"text-align: right;\">       C21</th><th style=\"text-align: right;\">        C22</th><th style=\"text-align: right;\">       C23</th><th style=\"text-align: right;\">        C24</th><th style=\"text-align: right;\">        C25</th><th style=\"text-align: right;\">       C26</th><th style=\"text-align: right;\">         C27</th><th style=\"text-align: right;\">       C28</th><th style=\"text-align: right;\">        C29</th><th style=\"text-align: right;\">        C30</th><th style=\"text-align: right;\">        C31</th><th style=\"text-align: right;\">       C32</th><th style=\"text-align: right;\">        C33</th><th style=\"text-align: right;\">       C34</th><th style=\"text-align: right;\">       C35</th><th style=\"text-align: right;\">       C36</th><th style=\"text-align: right;\">       C37</th><th style=\"text-align: right;\">       C38</th><th style=\"text-align: right;\">       C39</th><th style=\"text-align: right;\">        C40</th><th style=\"text-align: right;\">       C41</th><th style=\"text-align: right;\">       C42</th><th style=\"text-align: right;\">        C43</th><th style=\"text-align: right;\">      C44</th><th style=\"text-align: right;\">        C45</th><th style=\"text-align: right;\">        C46</th><th style=\"text-align: right;\">         C47</th><th style=\"text-align: right;\">        C48</th><th style=\"text-align: right;\">         C49</th><th style=\"text-align: right;\">       C50</th><th style=\"text-align: right;\">       C51</th><th style=\"text-align: right;\">        C52</th><th style=\"text-align: right;\">       C53</th><th style=\"text-align: right;\">        C54</th><th style=\"text-align: right;\">      C55</th><th style=\"text-align: right;\">      C56</th><th style=\"text-align: right;\">       C57</th><th style=\"text-align: right;\">        C58</th><th style=\"text-align: right;\">        C59</th><th style=\"text-align: right;\">         C60</th><th style=\"text-align: right;\">         C61</th><th style=\"text-align: right;\">       C62</th><th style=\"text-align: right;\">       C63</th><th style=\"text-align: right;\">        C64</th><th style=\"text-align: right;\">       C65</th><th style=\"text-align: right;\">       C66</th><th style=\"text-align: right;\">       C67</th><th style=\"text-align: right;\">        C68</th><th style=\"text-align: right;\">       C69</th><th style=\"text-align: right;\">       C70</th><th style=\"text-align: right;\">       C71</th><th style=\"text-align: right;\">        C72</th><th style=\"text-align: right;\">       C73</th><th style=\"text-align: right;\">      C74</th><th style=\"text-align: right;\">        C75</th><th style=\"text-align: right;\">       C76</th><th style=\"text-align: right;\">        C77</th><th style=\"text-align: right;\">      C78</th><th style=\"text-align: right;\">       C79</th><th style=\"text-align: right;\">       C80</th><th style=\"text-align: right;\">        C81</th><th style=\"text-align: right;\">       C82</th><th style=\"text-align: right;\">       C83</th><th style=\"text-align: right;\">        C84</th><th style=\"text-align: right;\">        C85</th><th style=\"text-align: right;\">        C86</th><th style=\"text-align: right;\">       C87</th><th style=\"text-align: right;\">       C88</th><th style=\"text-align: right;\">        C89</th><th style=\"text-align: right;\">        C90</th><th style=\"text-align: right;\">       C91</th><th style=\"text-align: right;\">       C92</th><th style=\"text-align: right;\">       C93</th><th style=\"text-align: right;\">        C94</th><th style=\"text-align: right;\">       C95</th><th style=\"text-align: right;\">        C96</th><th style=\"text-align: right;\">       C97</th><th style=\"text-align: right;\">       C98</th><th style=\"text-align: right;\">       C99</th><th style=\"text-align: right;\">       C100</th></tr>\n",
       "</thead>\n",
       "<tbody>\n",
       "<tr><td style=\"text-align: right;\">-0.0411651</td><td style=\"text-align: right;\">-0.0225721 </td><td style=\"text-align: right;\"> 0.0977097</td><td style=\"text-align: right;\">0.0317035</td><td style=\"text-align: right;\"> 0.00827251</td><td style=\"text-align: right;\">-0.1112   </td><td style=\"text-align: right;\">-0.0623265 </td><td style=\"text-align: right;\"> 0.114749  </td><td style=\"text-align: right;\">-0.109771  </td><td style=\"text-align: right;\">-0.00870417</td><td style=\"text-align: right;\"> 0.0299077</td><td style=\"text-align: right;\">0.154203</td><td style=\"text-align: right;\"> 0.0150425  </td><td style=\"text-align: right;\">-0.084493 </td><td style=\"text-align: right;\"> 0.00862695</td><td style=\"text-align: right;\"> 0.0894963 </td><td style=\"text-align: right;\">-0.0827894 </td><td style=\"text-align: right;\"> 0.0854073 </td><td style=\"text-align: right;\">0.0679386</td><td style=\"text-align: right;\">-0.0246088</td><td style=\"text-align: right;\">0.0528775 </td><td style=\"text-align: right;\"> 0.0235283 </td><td style=\"text-align: right;\"> 0.300922 </td><td style=\"text-align: right;\">-0.0627108 </td><td style=\"text-align: right;\"> 0.0918795 </td><td style=\"text-align: right;\">-0.0920639</td><td style=\"text-align: right;\">-0.000319116</td><td style=\"text-align: right;\">-0.179466 </td><td style=\"text-align: right;\"> 0.00880894</td><td style=\"text-align: right;\"> 0.138743  </td><td style=\"text-align: right;\">-0.0251724 </td><td style=\"text-align: right;\"> 0.10171  </td><td style=\"text-align: right;\">-0.0276517 </td><td style=\"text-align: right;\"> 0.0553703</td><td style=\"text-align: right;\"> 0.0142095</td><td style=\"text-align: right;\"> 0.0257705</td><td style=\"text-align: right;\"> 0.0537379</td><td style=\"text-align: right;\">-0.0805859</td><td style=\"text-align: right;\">-0.224911 </td><td style=\"text-align: right;\"> 0.185279  </td><td style=\"text-align: right;\"> 0.168018 </td><td style=\"text-align: right;\">-0.132376 </td><td style=\"text-align: right;\">-0.0218014 </td><td style=\"text-align: right;\">0.155169 </td><td style=\"text-align: right;\">-0.00640225</td><td style=\"text-align: right;\">-0.0257301 </td><td style=\"text-align: right;\"> 0.0481335  </td><td style=\"text-align: right;\"> 0.0785774 </td><td style=\"text-align: right;\">-0.0743316  </td><td style=\"text-align: right;\">-0.109044 </td><td style=\"text-align: right;\">-0.207947 </td><td style=\"text-align: right;\"> 0.0932449 </td><td style=\"text-align: right;\"> 0.038951 </td><td style=\"text-align: right;\">-0.159145  </td><td style=\"text-align: right;\">-0.132319</td><td style=\"text-align: right;\">0.0223576</td><td style=\"text-align: right;\"> 0.0591159</td><td style=\"text-align: right;\">-0.00286384</td><td style=\"text-align: right;\"> 0.00226066</td><td style=\"text-align: right;\"> 0.0196761  </td><td style=\"text-align: right;\">-0.0460211  </td><td style=\"text-align: right;\"> 0.0461877</td><td style=\"text-align: right;\">-0.110922 </td><td style=\"text-align: right;\">-0.0529647 </td><td style=\"text-align: right;\">0.0705346 </td><td style=\"text-align: right;\">-0.0325621</td><td style=\"text-align: right;\">-0.115452 </td><td style=\"text-align: right;\"> 0.0544586 </td><td style=\"text-align: right;\"> 0.0379511</td><td style=\"text-align: right;\"> 0.18502  </td><td style=\"text-align: right;\">-0.0676889</td><td style=\"text-align: right;\"> 0.0772619 </td><td style=\"text-align: right;\"> 0.152668 </td><td style=\"text-align: right;\">0.0976494</td><td style=\"text-align: right;\">-0.00168786</td><td style=\"text-align: right;\">-0.103011 </td><td style=\"text-align: right;\"> 0.0698417 </td><td style=\"text-align: right;\">0.139114 </td><td style=\"text-align: right;\"> 0.0996111</td><td style=\"text-align: right;\">-0.172244 </td><td style=\"text-align: right;\"> 0.0735202 </td><td style=\"text-align: right;\">-0.0313859</td><td style=\"text-align: right;\">-0.0398932</td><td style=\"text-align: right;\">-0.00927413</td><td style=\"text-align: right;\"> 0.271725  </td><td style=\"text-align: right;\">-0.113954  </td><td style=\"text-align: right;\"> 0.0143845</td><td style=\"text-align: right;\"> 0.258758 </td><td style=\"text-align: right;\"> 0.0236413 </td><td style=\"text-align: right;\"> 0.00171477</td><td style=\"text-align: right;\"> 0.0411305</td><td style=\"text-align: right;\">-0.0261075</td><td style=\"text-align: right;\"> 0.101587 </td><td style=\"text-align: right;\">-0.00111832</td><td style=\"text-align: right;\">-0.138773 </td><td style=\"text-align: right;\">-0.103927  </td><td style=\"text-align: right;\"> 0.0377682</td><td style=\"text-align: right;\"> 0.0439941</td><td style=\"text-align: right;\">-0.187326 </td><td style=\"text-align: right;\"> 0.173025  </td></tr>\n",
       "<tr><td style=\"text-align: right;\">-0.204013 </td><td style=\"text-align: right;\"> 0.133697  </td><td style=\"text-align: right;\"> 0.109404 </td><td style=\"text-align: right;\">0.359176 </td><td style=\"text-align: right;\"> 0.0677057 </td><td style=\"text-align: right;\">-0.153905 </td><td style=\"text-align: right;\"> 0.0953846 </td><td style=\"text-align: right;\">-0.0569697 </td><td style=\"text-align: right;\"> 0.0139357 </td><td style=\"text-align: right;\">-0.0286975 </td><td style=\"text-align: right;\">-0.133746 </td><td style=\"text-align: right;\">0.110057</td><td style=\"text-align: right;\"> 0.0723812  </td><td style=\"text-align: right;\"> 0.0369767</td><td style=\"text-align: right;\">-0.104913  </td><td style=\"text-align: right;\"> 0.143603  </td><td style=\"text-align: right;\"> 0.155509  </td><td style=\"text-align: right;\"> 0.00742212</td><td style=\"text-align: right;\">0.159557 </td><td style=\"text-align: right;\">-0.0687317</td><td style=\"text-align: right;\">0.126898  </td><td style=\"text-align: right;\"> 0.00991979</td><td style=\"text-align: right;\"> 0.0431549</td><td style=\"text-align: right;\">-0.0354102 </td><td style=\"text-align: right;\">-0.0420328 </td><td style=\"text-align: right;\">-0.0768963</td><td style=\"text-align: right;\"> 0.0161643  </td><td style=\"text-align: right;\">-0.136115 </td><td style=\"text-align: right;\"> 0.015669  </td><td style=\"text-align: right;\">-0.0558735 </td><td style=\"text-align: right;\"> 0.113933  </td><td style=\"text-align: right;\">-0.0119193</td><td style=\"text-align: right;\">-0.00352161</td><td style=\"text-align: right;\"> 0.0564411</td><td style=\"text-align: right;\"> 0.0816627</td><td style=\"text-align: right;\">-0.0718474</td><td style=\"text-align: right;\"> 0.0517578</td><td style=\"text-align: right;\">-0.029018 </td><td style=\"text-align: right;\">-0.16112  </td><td style=\"text-align: right;\"> 0.0317373 </td><td style=\"text-align: right;\"> 0.100433 </td><td style=\"text-align: right;\">-0.0931166</td><td style=\"text-align: right;\">-0.0437419 </td><td style=\"text-align: right;\">0.201529 </td><td style=\"text-align: right;\">-0.0155831 </td><td style=\"text-align: right;\"> 0.0583257 </td><td style=\"text-align: right;\"> 0.00415679 </td><td style=\"text-align: right;\">-0.001976  </td><td style=\"text-align: right;\">-0.116699   </td><td style=\"text-align: right;\">-0.0923564</td><td style=\"text-align: right;\">-0.060528 </td><td style=\"text-align: right;\">-0.0563473 </td><td style=\"text-align: right;\"> 0.0965477</td><td style=\"text-align: right;\">-0.0568415 </td><td style=\"text-align: right;\">-0.147685</td><td style=\"text-align: right;\">0.261039 </td><td style=\"text-align: right;\"> 0.0865339</td><td style=\"text-align: right;\">-0.131048  </td><td style=\"text-align: right;\"> 0.0482311 </td><td style=\"text-align: right;\"> 0.108311   </td><td style=\"text-align: right;\">-0.0184535  </td><td style=\"text-align: right;\"> 0.0139505</td><td style=\"text-align: right;\">-0.0990998</td><td style=\"text-align: right;\">-0.0822455 </td><td style=\"text-align: right;\">0.00885771</td><td style=\"text-align: right;\"> 0.0834067</td><td style=\"text-align: right;\">-0.0443234</td><td style=\"text-align: right;\"> 0.0553171 </td><td style=\"text-align: right;\">-0.112787 </td><td style=\"text-align: right;\"> 0.0335179</td><td style=\"text-align: right;\"> 0.0638032</td><td style=\"text-align: right;\">-0.0369613 </td><td style=\"text-align: right;\"> 0.0304408</td><td style=\"text-align: right;\">0.111729 </td><td style=\"text-align: right;\"> 0.0401858 </td><td style=\"text-align: right;\"> 0.0404184</td><td style=\"text-align: right;\"> 0.0366817 </td><td style=\"text-align: right;\">0.31168  </td><td style=\"text-align: right;\"> 0.0280138</td><td style=\"text-align: right;\"> 0.0251174</td><td style=\"text-align: right;\"> 0.0793892 </td><td style=\"text-align: right;\">-0.0647312</td><td style=\"text-align: right;\">-0.196166 </td><td style=\"text-align: right;\">-0.0355115 </td><td style=\"text-align: right;\"> 0.00958345</td><td style=\"text-align: right;\"> 0.101267  </td><td style=\"text-align: right;\"> 0.0183896</td><td style=\"text-align: right;\"> 0.0254299</td><td style=\"text-align: right;\">-0.0537391 </td><td style=\"text-align: right;\">-0.0284413 </td><td style=\"text-align: right;\">-0.0380019</td><td style=\"text-align: right;\"> 0.0513342</td><td style=\"text-align: right;\"> 0.161391 </td><td style=\"text-align: right;\">-0.110431  </td><td style=\"text-align: right;\">-0.0539889</td><td style=\"text-align: right;\">-0.0572466 </td><td style=\"text-align: right;\"> 0.125483 </td><td style=\"text-align: right;\">-0.0778729</td><td style=\"text-align: right;\">-0.0200718</td><td style=\"text-align: right;\"> 0.0292536 </td></tr>\n",
       "<tr><td style=\"text-align: right;\">-0.125227 </td><td style=\"text-align: right;\"> 0.0517041 </td><td style=\"text-align: right;\"> 0.0694437</td><td style=\"text-align: right;\">0.037141 </td><td style=\"text-align: right;\">-0.0636814 </td><td style=\"text-align: right;\">-0.196238 </td><td style=\"text-align: right;\">-0.00730344</td><td style=\"text-align: right;\"> 0.0217337 </td><td style=\"text-align: right;\">-0.0110971 </td><td style=\"text-align: right;\"> 0.0888144 </td><td style=\"text-align: right;\">-0.108859 </td><td style=\"text-align: right;\">0.178154</td><td style=\"text-align: right;\">-0.000340461</td><td style=\"text-align: right;\"> 0.0784437</td><td style=\"text-align: right;\">-0.0795309 </td><td style=\"text-align: right;\"> 0.11574   </td><td style=\"text-align: right;\">-0.0506225 </td><td style=\"text-align: right;\">-0.0110365 </td><td style=\"text-align: right;\">0.162512 </td><td style=\"text-align: right;\"> 0.0417027</td><td style=\"text-align: right;\">0.0680936 </td><td style=\"text-align: right;\">-0.0527757 </td><td style=\"text-align: right;\"> 0.252225 </td><td style=\"text-align: right;\">-0.0681429 </td><td style=\"text-align: right;\">-0.00134883</td><td style=\"text-align: right;\">-0.132345 </td><td style=\"text-align: right;\">-0.0521092  </td><td style=\"text-align: right;\">-0.180583 </td><td style=\"text-align: right;\">-0.0614254 </td><td style=\"text-align: right;\"> 0.0922225 </td><td style=\"text-align: right;\">-0.100433  </td><td style=\"text-align: right;\"> 0.0499854</td><td style=\"text-align: right;\"> 0.0393939 </td><td style=\"text-align: right;\"> 0.110218 </td><td style=\"text-align: right;\">-0.0009505</td><td style=\"text-align: right;\">-0.015145 </td><td style=\"text-align: right;\"> 0.074319 </td><td style=\"text-align: right;\">-0.0208237</td><td style=\"text-align: right;\">-0.219759 </td><td style=\"text-align: right;\"> 0.0249702 </td><td style=\"text-align: right;\"> 0.0790242</td><td style=\"text-align: right;\">-0.0823556</td><td style=\"text-align: right;\">-0.0338499 </td><td style=\"text-align: right;\">0.1283   </td><td style=\"text-align: right;\">-0.0402951 </td><td style=\"text-align: right;\"> 0.0345159 </td><td style=\"text-align: right;\"> 0.04422    </td><td style=\"text-align: right;\"> 0.10041   </td><td style=\"text-align: right;\"> 0.000224503</td><td style=\"text-align: right;\"> 0.0567963</td><td style=\"text-align: right;\">-0.166523 </td><td style=\"text-align: right;\"> 0.00725962</td><td style=\"text-align: right;\"> 0.053333 </td><td style=\"text-align: right;\">-0.0983073 </td><td style=\"text-align: right;\">-0.204821</td><td style=\"text-align: right;\">0.151033 </td><td style=\"text-align: right;\">-0.132105 </td><td style=\"text-align: right;\"> 0.121548  </td><td style=\"text-align: right;\"> 0.00916353</td><td style=\"text-align: right;\">-0.0344088  </td><td style=\"text-align: right;\">-0.0133541  </td><td style=\"text-align: right;\">-0.0244128</td><td style=\"text-align: right;\">-0.0368411</td><td style=\"text-align: right;\">-0.0448399 </td><td style=\"text-align: right;\">0.0156814 </td><td style=\"text-align: right;\"> 0.0172176</td><td style=\"text-align: right;\">-0.0652199</td><td style=\"text-align: right;\"> 0.0510261 </td><td style=\"text-align: right;\">-0.082076 </td><td style=\"text-align: right;\"> 0.226917 </td><td style=\"text-align: right;\">-0.109371 </td><td style=\"text-align: right;\"> 0.0212326 </td><td style=\"text-align: right;\">-0.084781 </td><td style=\"text-align: right;\">0.107864 </td><td style=\"text-align: right;\"> 0.196641  </td><td style=\"text-align: right;\"> 0.12114  </td><td style=\"text-align: right;\">-0.0846563 </td><td style=\"text-align: right;\">0.222306 </td><td style=\"text-align: right;\"> 0.053504 </td><td style=\"text-align: right;\"> 0.0201316</td><td style=\"text-align: right;\"> 0.0547259 </td><td style=\"text-align: right;\">-0.0207217</td><td style=\"text-align: right;\">-0.102015 </td><td style=\"text-align: right;\"> 0.028232  </td><td style=\"text-align: right;\"> 0.0267912 </td><td style=\"text-align: right;\">-0.0804393 </td><td style=\"text-align: right;\"> 0.114822 </td><td style=\"text-align: right;\"> 0.191742 </td><td style=\"text-align: right;\">-0.0574491 </td><td style=\"text-align: right;\"> 0.0109353 </td><td style=\"text-align: right;\">-0.0205228</td><td style=\"text-align: right;\">-0.137502 </td><td style=\"text-align: right;\"> 0.0523642</td><td style=\"text-align: right;\">-0.0535035 </td><td style=\"text-align: right;\">-0.0371743</td><td style=\"text-align: right;\">-0.0511137 </td><td style=\"text-align: right;\">-0.0406468</td><td style=\"text-align: right;\">-0.0194726</td><td style=\"text-align: right;\">-0.1044   </td><td style=\"text-align: right;\"> 0.0723359 </td></tr>\n",
       "<tr><td style=\"text-align: right;\">-0.0534868</td><td style=\"text-align: right;\">-0.00940615</td><td style=\"text-align: right;\"> 0.0552647</td><td style=\"text-align: right;\">0.0284367</td><td style=\"text-align: right;\"> 0.0273677 </td><td style=\"text-align: right;\">-0.272345 </td><td style=\"text-align: right;\"> 0.110624  </td><td style=\"text-align: right;\"> 0.0576282 </td><td style=\"text-align: right;\"> 0.0209958 </td><td style=\"text-align: right;\">-0.0502041 </td><td style=\"text-align: right;\">-0.0968481</td><td style=\"text-align: right;\">0.19989 </td><td style=\"text-align: right;\">-0.0928355  </td><td style=\"text-align: right;\"> 0.0649953</td><td style=\"text-align: right;\">-0.0193873 </td><td style=\"text-align: right;\"> 0.0860662 </td><td style=\"text-align: right;\">-0.127084  </td><td style=\"text-align: right;\"> 0.0205981 </td><td style=\"text-align: right;\">0.103328 </td><td style=\"text-align: right;\">-0.0605606</td><td style=\"text-align: right;\">0.0169782 </td><td style=\"text-align: right;\">-0.109107  </td><td style=\"text-align: right;\"> 0.0678867</td><td style=\"text-align: right;\"> 0.0408014 </td><td style=\"text-align: right;\"> 0.0734843 </td><td style=\"text-align: right;\">-0.0697606</td><td style=\"text-align: right;\">-0.0121017  </td><td style=\"text-align: right;\">-0.19158  </td><td style=\"text-align: right;\">-0.0153094 </td><td style=\"text-align: right;\">-0.0628713 </td><td style=\"text-align: right;\"> 0.0658247 </td><td style=\"text-align: right;\"> 0.0202968</td><td style=\"text-align: right;\"> 0.0806996 </td><td style=\"text-align: right;\"> 0.169907 </td><td style=\"text-align: right;\"> 0.0816592</td><td style=\"text-align: right;\">-0.0438126</td><td style=\"text-align: right;\"> 0.0312366</td><td style=\"text-align: right;\">-0.0472819</td><td style=\"text-align: right;\">-0.110369 </td><td style=\"text-align: right;\"> 0.15206   </td><td style=\"text-align: right;\"> 0.205178 </td><td style=\"text-align: right;\">-0.100143 </td><td style=\"text-align: right;\">-0.0755797 </td><td style=\"text-align: right;\">0.223365 </td><td style=\"text-align: right;\">-0.0154941 </td><td style=\"text-align: right;\">-0.0282394 </td><td style=\"text-align: right;\">-0.0343424  </td><td style=\"text-align: right;\"> 0.0121457 </td><td style=\"text-align: right;\">-0.0380958  </td><td style=\"text-align: right;\">-0.0208188</td><td style=\"text-align: right;\">-0.0755802</td><td style=\"text-align: right;\">-0.031608  </td><td style=\"text-align: right;\">-0.0559012</td><td style=\"text-align: right;\">-0.0745017 </td><td style=\"text-align: right;\">-0.104828</td><td style=\"text-align: right;\">0.145167 </td><td style=\"text-align: right;\">-0.031634 </td><td style=\"text-align: right;\"> 0.0256144 </td><td style=\"text-align: right;\"> 0.0711264 </td><td style=\"text-align: right;\"> 0.000396578</td><td style=\"text-align: right;\">-0.0354169  </td><td style=\"text-align: right;\"> 0.0404824</td><td style=\"text-align: right;\">-0.0618147</td><td style=\"text-align: right;\">-0.0568796 </td><td style=\"text-align: right;\">0.0748422 </td><td style=\"text-align: right;\">-0.021796 </td><td style=\"text-align: right;\">-0.0108141</td><td style=\"text-align: right;\"> 0.124805  </td><td style=\"text-align: right;\">-0.0248817</td><td style=\"text-align: right;\"> 0.2258   </td><td style=\"text-align: right;\">-0.0921015</td><td style=\"text-align: right;\"> 0.0390111 </td><td style=\"text-align: right;\">-0.0300077</td><td style=\"text-align: right;\">0.0833331</td><td style=\"text-align: right;\"> 0.222306  </td><td style=\"text-align: right;\"> 0.0615057</td><td style=\"text-align: right;\"> 0.0624753 </td><td style=\"text-align: right;\">0.199844 </td><td style=\"text-align: right;\"> 0.040391 </td><td style=\"text-align: right;\"> 0.0368396</td><td style=\"text-align: right;\"> 0.00965867</td><td style=\"text-align: right;\">-0.0806894</td><td style=\"text-align: right;\">-0.131217 </td><td style=\"text-align: right;\"> 0.116572  </td><td style=\"text-align: right;\"> 0.0471549 </td><td style=\"text-align: right;\">-0.0316651 </td><td style=\"text-align: right;\"> 0.0733008</td><td style=\"text-align: right;\"> 0.0984581</td><td style=\"text-align: right;\">-0.00543244</td><td style=\"text-align: right;\">-0.00226313</td><td style=\"text-align: right;\">-0.134195 </td><td style=\"text-align: right;\">-0.159056 </td><td style=\"text-align: right;\"> 0.0502121</td><td style=\"text-align: right;\">-0.114458  </td><td style=\"text-align: right;\"> 0.0241096</td><td style=\"text-align: right;\">-0.00210497</td><td style=\"text-align: right;\"> 0.0292551</td><td style=\"text-align: right;\"> 0.0405193</td><td style=\"text-align: right;\">-0.080013 </td><td style=\"text-align: right;\"> 0.108493  </td></tr>\n",
       "<tr><td style=\"text-align: right;\">-0.142048 </td><td style=\"text-align: right;\"> 0.0604995 </td><td style=\"text-align: right;\"> 0.116901 </td><td style=\"text-align: right;\">0.0373894</td><td style=\"text-align: right;\">-0.0779609 </td><td style=\"text-align: right;\">-0.129331 </td><td style=\"text-align: right;\">-0.0199083 </td><td style=\"text-align: right;\"> 0.110228  </td><td style=\"text-align: right;\"> 0.021499  </td><td style=\"text-align: right;\"> 0.00701304</td><td style=\"text-align: right;\">-0.0154888</td><td style=\"text-align: right;\">0.196655</td><td style=\"text-align: right;\"> 0.0287082  </td><td style=\"text-align: right;\">-0.0918479</td><td style=\"text-align: right;\"> 0.0584466 </td><td style=\"text-align: right;\"> 0.0945492 </td><td style=\"text-align: right;\">-0.104981  </td><td style=\"text-align: right;\">-0.00300956</td><td style=\"text-align: right;\">0.146636 </td><td style=\"text-align: right;\">-0.0473278</td><td style=\"text-align: right;\">0.138441  </td><td style=\"text-align: right;\"> 0.0271052 </td><td style=\"text-align: right;\"> 0.186143 </td><td style=\"text-align: right;\">-0.160816  </td><td style=\"text-align: right;\"> 0.0865892 </td><td style=\"text-align: right;\">-0.0853307</td><td style=\"text-align: right;\">-0.0197309  </td><td style=\"text-align: right;\">-0.227183 </td><td style=\"text-align: right;\">-0.0473278 </td><td style=\"text-align: right;\"> 0.0250494 </td><td style=\"text-align: right;\"> 0.00434278</td><td style=\"text-align: right;\"> 0.0181618</td><td style=\"text-align: right;\">-0.0800929 </td><td style=\"text-align: right;\"> 0.0369073</td><td style=\"text-align: right;\"> 0.0266081</td><td style=\"text-align: right;\">-0.112078 </td><td style=\"text-align: right;\"> 0.0427687</td><td style=\"text-align: right;\">-0.0975736</td><td style=\"text-align: right;\">-0.208809 </td><td style=\"text-align: right;\"> 0.130848  </td><td style=\"text-align: right;\"> 0.0767707</td><td style=\"text-align: right;\">-0.0825346</td><td style=\"text-align: right;\"> 0.0121318 </td><td style=\"text-align: right;\">0.175768 </td><td style=\"text-align: right;\">-0.0696827 </td><td style=\"text-align: right;\">-0.0499166 </td><td style=\"text-align: right;\"> 0.000792838</td><td style=\"text-align: right;\"> 0.0405812 </td><td style=\"text-align: right;\">-0.0803273  </td><td style=\"text-align: right;\">-0.0486847</td><td style=\"text-align: right;\">-0.152766 </td><td style=\"text-align: right;\"> 0.0705347 </td><td style=\"text-align: right;\"> 0.0577842</td><td style=\"text-align: right;\">-0.0830731 </td><td style=\"text-align: right;\">-0.148656</td><td style=\"text-align: right;\">0.0929356</td><td style=\"text-align: right;\"> 0.0778274</td><td style=\"text-align: right;\"> 0.0931534 </td><td style=\"text-align: right;\">-0.0102327 </td><td style=\"text-align: right;\"> 0.0974507  </td><td style=\"text-align: right;\">-0.00316447 </td><td style=\"text-align: right;\"> 0.101084 </td><td style=\"text-align: right;\">-0.0664837</td><td style=\"text-align: right;\">-0.0129317 </td><td style=\"text-align: right;\">0.13168   </td><td style=\"text-align: right;\"> 0.0547587</td><td style=\"text-align: right;\">-0.0828733</td><td style=\"text-align: right;\"> 0.119883  </td><td style=\"text-align: right;\">-0.0652627</td><td style=\"text-align: right;\"> 0.0991527</td><td style=\"text-align: right;\">-0.156855 </td><td style=\"text-align: right;\"> 0.0527769 </td><td style=\"text-align: right;\"> 0.023852 </td><td style=\"text-align: right;\">0.159655 </td><td style=\"text-align: right;\"> 0.148931  </td><td style=\"text-align: right;\">-0.0273167</td><td style=\"text-align: right;\"> 0.0231091 </td><td style=\"text-align: right;\">0.226201 </td><td style=\"text-align: right;\"> 0.0064816</td><td style=\"text-align: right;\">-0.0843955</td><td style=\"text-align: right;\"> 0.0968335 </td><td style=\"text-align: right;\">-0.0083017</td><td style=\"text-align: right;\">-0.10808  </td><td style=\"text-align: right;\"> 0.0319597 </td><td style=\"text-align: right;\"> 0.0554515 </td><td style=\"text-align: right;\">-0.0183959 </td><td style=\"text-align: right;\"> 0.064175 </td><td style=\"text-align: right;\"> 0.0762761</td><td style=\"text-align: right;\">-0.00106258</td><td style=\"text-align: right;\"> 0.0507358 </td><td style=\"text-align: right;\">-0.033729 </td><td style=\"text-align: right;\">-0.180964 </td><td style=\"text-align: right;\">-0.0041765</td><td style=\"text-align: right;\">-0.0694154 </td><td style=\"text-align: right;\">-0.0585778</td><td style=\"text-align: right;\">-0.0510131 </td><td style=\"text-align: right;\">-0.0591075</td><td style=\"text-align: right;\"> 0.0852839</td><td style=\"text-align: right;\">-0.210933 </td><td style=\"text-align: right;\"> 0.167012  </td></tr>\n",
       "<tr><td style=\"text-align: right;\">-0.0384425</td><td style=\"text-align: right;\"> 0.220728  </td><td style=\"text-align: right;\"> 0.0562506</td><td style=\"text-align: right;\">0.322295 </td><td style=\"text-align: right;\">-0.0636401 </td><td style=\"text-align: right;\">-0.243616 </td><td style=\"text-align: right;\"> 0.0261628 </td><td style=\"text-align: right;\"> 0.057485  </td><td style=\"text-align: right;\">-0.0852639 </td><td style=\"text-align: right;\">-0.00997478</td><td style=\"text-align: right;\">-0.086154 </td><td style=\"text-align: right;\">0.307504</td><td style=\"text-align: right;\">-5.61733e-05</td><td style=\"text-align: right;\"> 0.164664 </td><td style=\"text-align: right;\"> 0.0456469 </td><td style=\"text-align: right;\"> 0.0203391 </td><td style=\"text-align: right;\"> 0.00241029</td><td style=\"text-align: right;\"> 0.0625663 </td><td style=\"text-align: right;\">0.281948 </td><td style=\"text-align: right;\"> 0.0762348</td><td style=\"text-align: right;\">0.127446  </td><td style=\"text-align: right;\">-0.0739505 </td><td style=\"text-align: right;\">-0.0335234</td><td style=\"text-align: right;\"> 0.0387386 </td><td style=\"text-align: right;\"> 0.00869147</td><td style=\"text-align: right;\">-0.133317 </td><td style=\"text-align: right;\">-0.1857     </td><td style=\"text-align: right;\"> 0.0437966</td><td style=\"text-align: right;\"> 0.112878  </td><td style=\"text-align: right;\"> 0.0570753 </td><td style=\"text-align: right;\">-0.0811411 </td><td style=\"text-align: right;\"> 0.133596 </td><td style=\"text-align: right;\">-0.0736882 </td><td style=\"text-align: right;\"> 0.128194 </td><td style=\"text-align: right;\">-0.0107496</td><td style=\"text-align: right;\">-0.0281017</td><td style=\"text-align: right;\"> 0.075194 </td><td style=\"text-align: right;\">-0.0586848</td><td style=\"text-align: right;\">-0.190161 </td><td style=\"text-align: right;\">-0.0347262 </td><td style=\"text-align: right;\"> 0.0742034</td><td style=\"text-align: right;\">-0.0119191</td><td style=\"text-align: right;\">-0.00612929</td><td style=\"text-align: right;\">0.107276 </td><td style=\"text-align: right;\">-0.0203885 </td><td style=\"text-align: right;\">-0.136118  </td><td style=\"text-align: right;\">-0.0371213  </td><td style=\"text-align: right;\">-0.127934  </td><td style=\"text-align: right;\"> 0.157349   </td><td style=\"text-align: right;\">-0.139534 </td><td style=\"text-align: right;\">-0.111103 </td><td style=\"text-align: right;\">-0.0531651 </td><td style=\"text-align: right;\"> 0.170767 </td><td style=\"text-align: right;\">-0.0644052 </td><td style=\"text-align: right;\">-0.109243</td><td style=\"text-align: right;\">0.34293  </td><td style=\"text-align: right;\"> 0.125392 </td><td style=\"text-align: right;\"> 0.0124483 </td><td style=\"text-align: right;\"> 0.0856245 </td><td style=\"text-align: right;\"> 0.0650279  </td><td style=\"text-align: right;\">-0.000572004</td><td style=\"text-align: right;\">-0.0515719</td><td style=\"text-align: right;\">-0.073209 </td><td style=\"text-align: right;\"> 0.0111756 </td><td style=\"text-align: right;\">0.0728325 </td><td style=\"text-align: right;\">-0.0496325</td><td style=\"text-align: right;\"> 0.0612304</td><td style=\"text-align: right;\"> 0.0233196 </td><td style=\"text-align: right;\">-0.0311356</td><td style=\"text-align: right;\"> 0.196561 </td><td style=\"text-align: right;\"> 0.0499353</td><td style=\"text-align: right;\"> 0.0065835 </td><td style=\"text-align: right;\"> 0.0577818</td><td style=\"text-align: right;\">0.103036 </td><td style=\"text-align: right;\"> 0.00985324</td><td style=\"text-align: right;\"> 0.0446248</td><td style=\"text-align: right;\"> 0.0263694 </td><td style=\"text-align: right;\">0.173734 </td><td style=\"text-align: right;\">-0.101249 </td><td style=\"text-align: right;\">-0.0261857</td><td style=\"text-align: right;\"> 0.167596  </td><td style=\"text-align: right;\">-0.0652603</td><td style=\"text-align: right;\"> 0.0539062</td><td style=\"text-align: right;\"> 0.0757574 </td><td style=\"text-align: right;\">-0.0953987 </td><td style=\"text-align: right;\"> 0.11779   </td><td style=\"text-align: right;\">-0.0890104</td><td style=\"text-align: right;\"> 0.125752 </td><td style=\"text-align: right;\"> 0.0348749 </td><td style=\"text-align: right;\">-0.113017  </td><td style=\"text-align: right;\">-0.116892 </td><td style=\"text-align: right;\">-0.156505 </td><td style=\"text-align: right;\"> 0.0639119</td><td style=\"text-align: right;\"> 0.0157357 </td><td style=\"text-align: right;\">-0.0241282</td><td style=\"text-align: right;\"> 0.0804348 </td><td style=\"text-align: right;\">-0.0434489</td><td style=\"text-align: right;\">-0.091302 </td><td style=\"text-align: right;\">-0.0623487</td><td style=\"text-align: right;\"> 0.0358394 </td></tr>\n",
       "<tr><td style=\"text-align: right;\">-0.116372 </td><td style=\"text-align: right;\"> 0.140181  </td><td style=\"text-align: right;\"> 0.0954478</td><td style=\"text-align: right;\">0.308695 </td><td style=\"text-align: right;\"> 0.0552784 </td><td style=\"text-align: right;\">-0.0510936</td><td style=\"text-align: right;\">-0.0305131 </td><td style=\"text-align: right;\"> 0.150261  </td><td style=\"text-align: right;\">-0.078968  </td><td style=\"text-align: right;\"> 0.0812636 </td><td style=\"text-align: right;\">-0.204928 </td><td style=\"text-align: right;\">0.144694</td><td style=\"text-align: right;\">-0.0317158  </td><td style=\"text-align: right;\">-0.0222253</td><td style=\"text-align: right;\">-0.0142462 </td><td style=\"text-align: right;\">-0.00351367</td><td style=\"text-align: right;\"> 0.0540788 </td><td style=\"text-align: right;\">-0.0261362 </td><td style=\"text-align: right;\">0.072265 </td><td style=\"text-align: right;\">-0.0110055</td><td style=\"text-align: right;\">0.00244158</td><td style=\"text-align: right;\"> 0.00728571</td><td style=\"text-align: right;\"> 0.020223 </td><td style=\"text-align: right;\"> 0.00569492</td><td style=\"text-align: right;\"> 0.0491149 </td><td style=\"text-align: right;\">-0.177589 </td><td style=\"text-align: right;\"> 0.0200941  </td><td style=\"text-align: right;\">-0.138429 </td><td style=\"text-align: right;\"> 0.040862  </td><td style=\"text-align: right;\">-0.0684042 </td><td style=\"text-align: right;\">-0.0181298 </td><td style=\"text-align: right;\"> 0.0160294</td><td style=\"text-align: right;\">-0.0664349 </td><td style=\"text-align: right;\"> 0.150015 </td><td style=\"text-align: right;\"> 0.031506 </td><td style=\"text-align: right;\"> 0.0283264</td><td style=\"text-align: right;\"> 0.231656 </td><td style=\"text-align: right;\">-0.0261298</td><td style=\"text-align: right;\">-0.108682 </td><td style=\"text-align: right;\"> 0.118469  </td><td style=\"text-align: right;\"> 0.239451 </td><td style=\"text-align: right;\">-0.17645  </td><td style=\"text-align: right;\">-0.0819771 </td><td style=\"text-align: right;\">0.186121 </td><td style=\"text-align: right;\">-0.0413921 </td><td style=\"text-align: right;\">-0.0937525 </td><td style=\"text-align: right;\">-0.0626885  </td><td style=\"text-align: right;\"> 0.0421468 </td><td style=\"text-align: right;\">-0.145521   </td><td style=\"text-align: right;\"> 0.0416614</td><td style=\"text-align: right;\"> 0.0135338</td><td style=\"text-align: right;\"> 0.173924  </td><td style=\"text-align: right;\">-0.138252 </td><td style=\"text-align: right;\">-0.105086  </td><td style=\"text-align: right;\">-0.17093 </td><td style=\"text-align: right;\">0.135578 </td><td style=\"text-align: right;\"> 0.0429997</td><td style=\"text-align: right;\">-0.0955066 </td><td style=\"text-align: right;\"> 0.12791   </td><td style=\"text-align: right;\"> 0.0961596  </td><td style=\"text-align: right;\">-0.0381823  </td><td style=\"text-align: right;\">-0.191543 </td><td style=\"text-align: right;\"> 0.100454 </td><td style=\"text-align: right;\">-0.0453343 </td><td style=\"text-align: right;\">0.0512945 </td><td style=\"text-align: right;\"> 0.0131598</td><td style=\"text-align: right;\">-0.0924272</td><td style=\"text-align: right;\">-0.00931809</td><td style=\"text-align: right;\"> 0.03244  </td><td style=\"text-align: right;\"> 0.165848 </td><td style=\"text-align: right;\">-0.0185757</td><td style=\"text-align: right;\"> 0.0473241 </td><td style=\"text-align: right;\"> 0.109946 </td><td style=\"text-align: right;\">0.0866584</td><td style=\"text-align: right;\"> 0.0234393 </td><td style=\"text-align: right;\">-0.0482172</td><td style=\"text-align: right;\"> 0.0303285 </td><td style=\"text-align: right;\">0.139124 </td><td style=\"text-align: right;\"> 0.114556 </td><td style=\"text-align: right;\">-0.105763 </td><td style=\"text-align: right;\"> 0.140273  </td><td style=\"text-align: right;\">-0.0382505</td><td style=\"text-align: right;\">-0.0785826</td><td style=\"text-align: right;\"> 0.0736953 </td><td style=\"text-align: right;\"> 0.142652  </td><td style=\"text-align: right;\">-0.10079   </td><td style=\"text-align: right;\"> 0.114796 </td><td style=\"text-align: right;\"> 0.0765757</td><td style=\"text-align: right;\">-0.115583  </td><td style=\"text-align: right;\">-0.0127046 </td><td style=\"text-align: right;\"> 0.0650448</td><td style=\"text-align: right;\">-0.096127 </td><td style=\"text-align: right;\"> 0.0924571</td><td style=\"text-align: right;\"> 0.0389302 </td><td style=\"text-align: right;\">-0.0672365</td><td style=\"text-align: right;\"> 0.0136721 </td><td style=\"text-align: right;\">-0.0391757</td><td style=\"text-align: right;\">-0.0668739</td><td style=\"text-align: right;\">-0.060196 </td><td style=\"text-align: right;\">-0.00150375</td></tr>\n",
       "<tr><td style=\"text-align: right;\">-0.0953068</td><td style=\"text-align: right;\"> 0.159761  </td><td style=\"text-align: right;\"> 0.0197301</td><td style=\"text-align: right;\">0.277917 </td><td style=\"text-align: right;\">-0.00884892</td><td style=\"text-align: right;\">-0.196476 </td><td style=\"text-align: right;\"> 0.0403038 </td><td style=\"text-align: right;\"> 0.00319633</td><td style=\"text-align: right;\">-0.00800891</td><td style=\"text-align: right;\"> 0.0296828 </td><td style=\"text-align: right;\">-0.105793 </td><td style=\"text-align: right;\">0.242839</td><td style=\"text-align: right;\"> 0.0371338  </td><td style=\"text-align: right;\"> 0.0558717</td><td style=\"text-align: right;\">-0.0866703 </td><td style=\"text-align: right;\"> 0.0463865 </td><td style=\"text-align: right;\"> 0.083729  </td><td style=\"text-align: right;\"> 0.0884916 </td><td style=\"text-align: right;\">0.225096 </td><td style=\"text-align: right;\"> 0.0248916</td><td style=\"text-align: right;\">0.0780227 </td><td style=\"text-align: right;\">-0.0231413 </td><td style=\"text-align: right;\"> 0.094952 </td><td style=\"text-align: right;\">-0.0953212 </td><td style=\"text-align: right;\"> 0.0558259 </td><td style=\"text-align: right;\">-0.09516  </td><td style=\"text-align: right;\">-0.131904   </td><td style=\"text-align: right;\">-0.113105 </td><td style=\"text-align: right;\">-0.0318019 </td><td style=\"text-align: right;\"> 0.0516563 </td><td style=\"text-align: right;\"> 0.00673204</td><td style=\"text-align: right;\"> 0.0921536</td><td style=\"text-align: right;\"> 0.0304436 </td><td style=\"text-align: right;\"> 0.111638 </td><td style=\"text-align: right;\"> 0.0488116</td><td style=\"text-align: right;\">-0.0198298</td><td style=\"text-align: right;\"> 0.0298845</td><td style=\"text-align: right;\">-0.0453495</td><td style=\"text-align: right;\">-0.134987 </td><td style=\"text-align: right;\"> 0.00354336</td><td style=\"text-align: right;\"> 0.0518331</td><td style=\"text-align: right;\">-0.0148142</td><td style=\"text-align: right;\">-0.0544943 </td><td style=\"text-align: right;\">0.168635 </td><td style=\"text-align: right;\">-0.088051  </td><td style=\"text-align: right;\">-0.0338816 </td><td style=\"text-align: right;\"> 0.0290654  </td><td style=\"text-align: right;\">-0.0217884 </td><td style=\"text-align: right;\">-0.0572331  </td><td style=\"text-align: right;\">-0.0659533</td><td style=\"text-align: right;\">-0.0377766</td><td style=\"text-align: right;\"> 0.0263064 </td><td style=\"text-align: right;\"> 0.105832 </td><td style=\"text-align: right;\">-0.0212553 </td><td style=\"text-align: right;\">-0.156336</td><td style=\"text-align: right;\">0.283042 </td><td style=\"text-align: right;\"> 0.0195743</td><td style=\"text-align: right;\">-0.0182793 </td><td style=\"text-align: right;\">-0.0286586 </td><td style=\"text-align: right;\"> 0.0922316  </td><td style=\"text-align: right;\">-0.107219   </td><td style=\"text-align: right;\">-0.0828351</td><td style=\"text-align: right;\">-0.0514789</td><td style=\"text-align: right;\"> 0.00967744</td><td style=\"text-align: right;\">0.0957558 </td><td style=\"text-align: right;\"> 0.0302894</td><td style=\"text-align: right;\">-0.029344 </td><td style=\"text-align: right;\">-0.00496105</td><td style=\"text-align: right;\">-0.064279 </td><td style=\"text-align: right;\"> 0.185744 </td><td style=\"text-align: right;\"> 0.0732053</td><td style=\"text-align: right;\"> 0.00678333</td><td style=\"text-align: right;\"> 0.0402397</td><td style=\"text-align: right;\">0.0308677</td><td style=\"text-align: right;\"> 0.0943154 </td><td style=\"text-align: right;\">-0.0029111</td><td style=\"text-align: right;\">-0.026901  </td><td style=\"text-align: right;\">0.210991 </td><td style=\"text-align: right;\"> 0.051136 </td><td style=\"text-align: right;\">-0.0165022</td><td style=\"text-align: right;\">-0.0580738 </td><td style=\"text-align: right;\">-0.17421  </td><td style=\"text-align: right;\">-0.0752882</td><td style=\"text-align: right;\"> 0.0172334 </td><td style=\"text-align: right;\">-0.0431738 </td><td style=\"text-align: right;\"> 0.045534  </td><td style=\"text-align: right;\"> 0.0270677</td><td style=\"text-align: right;\">-0.0186358</td><td style=\"text-align: right;\"> 0.0154527 </td><td style=\"text-align: right;\">-0.128348  </td><td style=\"text-align: right;\">-0.0752941</td><td style=\"text-align: right;\"> 0.0122681</td><td style=\"text-align: right;\"> 0.0892521</td><td style=\"text-align: right;\"> 0.00526069</td><td style=\"text-align: right;\">-0.0213239</td><td style=\"text-align: right;\">-0.0455805 </td><td style=\"text-align: right;\"> 0.0371935</td><td style=\"text-align: right;\">-0.117959 </td><td style=\"text-align: right;\">-0.0468584</td><td style=\"text-align: right;\"> 0.0539616 </td></tr>\n",
       "<tr><td style=\"text-align: right;\">-0.0729027</td><td style=\"text-align: right;\"> 0.107446  </td><td style=\"text-align: right;\">-0.0146672</td><td style=\"text-align: right;\">0.19567  </td><td style=\"text-align: right;\">-0.00230252</td><td style=\"text-align: right;\">-0.23494  </td><td style=\"text-align: right;\"> 0.0697395 </td><td style=\"text-align: right;\"> 0.131211  </td><td style=\"text-align: right;\"> 0.0418909 </td><td style=\"text-align: right;\"> 0.0610486 </td><td style=\"text-align: right;\">-0.0834599</td><td style=\"text-align: right;\">0.183831</td><td style=\"text-align: right;\"> 0.0487509  </td><td style=\"text-align: right;\"> 0.213215 </td><td style=\"text-align: right;\"> 0.0317926 </td><td style=\"text-align: right;\"> 0.0745135 </td><td style=\"text-align: right;\">-0.0675578 </td><td style=\"text-align: right;\"> 0.0863343 </td><td style=\"text-align: right;\">0.238849 </td><td style=\"text-align: right;\"> 0.02376  </td><td style=\"text-align: right;\">0.106056  </td><td style=\"text-align: right;\">-0.0907665 </td><td style=\"text-align: right;\"> 0.149801 </td><td style=\"text-align: right;\">-0.00870656</td><td style=\"text-align: right;\"> 0.0613738 </td><td style=\"text-align: right;\">-0.0182881</td><td style=\"text-align: right;\">-0.0833904  </td><td style=\"text-align: right;\">-0.114087 </td><td style=\"text-align: right;\">-0.0317828 </td><td style=\"text-align: right;\"> 0.00727929</td><td style=\"text-align: right;\">-0.0468159 </td><td style=\"text-align: right;\"> 0.143882 </td><td style=\"text-align: right;\"> 0.017728  </td><td style=\"text-align: right;\">-0.032272 </td><td style=\"text-align: right;\"> 0.0701781</td><td style=\"text-align: right;\">-0.0391876</td><td style=\"text-align: right;\"> 0.139755 </td><td style=\"text-align: right;\">-0.0846113</td><td style=\"text-align: right;\">-0.0908305</td><td style=\"text-align: right;\"> 0.0596796 </td><td style=\"text-align: right;\"> 0.0137587</td><td style=\"text-align: right;\">-0.031534 </td><td style=\"text-align: right;\">-0.108401  </td><td style=\"text-align: right;\">0.0888604</td><td style=\"text-align: right;\">-0.0666779 </td><td style=\"text-align: right;\"> 0.00597634</td><td style=\"text-align: right;\"> 0.0909796  </td><td style=\"text-align: right;\">-0.00355786</td><td style=\"text-align: right;\"> 0.0631832  </td><td style=\"text-align: right;\">-0.0606489</td><td style=\"text-align: right;\">-0.101441 </td><td style=\"text-align: right;\"> 0.0741406 </td><td style=\"text-align: right;\"> 0.061015 </td><td style=\"text-align: right;\"> 0.00773962</td><td style=\"text-align: right;\">-0.151295</td><td style=\"text-align: right;\">0.230121 </td><td style=\"text-align: right;\"> 0.0618269</td><td style=\"text-align: right;\"> 0.0888509 </td><td style=\"text-align: right;\"> 0.00442154</td><td style=\"text-align: right;\"> 0.101132   </td><td style=\"text-align: right;\">-0.0500389  </td><td style=\"text-align: right;\"> 0.0450013</td><td style=\"text-align: right;\">-0.0471882</td><td style=\"text-align: right;\">-0.0392742 </td><td style=\"text-align: right;\">0.0839905 </td><td style=\"text-align: right;\">-0.0396048</td><td style=\"text-align: right;\">-0.0928899</td><td style=\"text-align: right;\"> 0.0265694 </td><td style=\"text-align: right;\">-0.0723193</td><td style=\"text-align: right;\"> 0.287636 </td><td style=\"text-align: right;\">-0.037998 </td><td style=\"text-align: right;\">-0.0377995 </td><td style=\"text-align: right;\"> 0.049744 </td><td style=\"text-align: right;\">0.0106237</td><td style=\"text-align: right;\"> 0.0950294 </td><td style=\"text-align: right;\"> 0.0126393</td><td style=\"text-align: right;\"> 0.0170405 </td><td style=\"text-align: right;\">0.163431 </td><td style=\"text-align: right;\">-0.0417014</td><td style=\"text-align: right;\">-0.0161608</td><td style=\"text-align: right;\"> 0.118714  </td><td style=\"text-align: right;\">-0.109331 </td><td style=\"text-align: right;\">-0.0684142</td><td style=\"text-align: right;\"> 0.0955637 </td><td style=\"text-align: right;\">-0.0285336 </td><td style=\"text-align: right;\"> 0.00969447</td><td style=\"text-align: right;\"> 0.0966408</td><td style=\"text-align: right;\"> 0.166586 </td><td style=\"text-align: right;\">-0.0813758 </td><td style=\"text-align: right;\">-0.0631611 </td><td style=\"text-align: right;\">-0.0172482</td><td style=\"text-align: right;\">-0.0523226</td><td style=\"text-align: right;\"> 0.0480183</td><td style=\"text-align: right;\">-0.098279  </td><td style=\"text-align: right;\"> 0.033186 </td><td style=\"text-align: right;\">-0.0876839 </td><td style=\"text-align: right;\">-0.0173596</td><td style=\"text-align: right;\">-0.0404386</td><td style=\"text-align: right;\">-0.0122122</td><td style=\"text-align: right;\"> 0.039697  </td></tr>\n",
       "<tr><td style=\"text-align: right;\">-0.116638 </td><td style=\"text-align: right;\"> 0.174121  </td><td style=\"text-align: right;\"> 0.174885 </td><td style=\"text-align: right;\">0.40008  </td><td style=\"text-align: right;\">-0.0424527 </td><td style=\"text-align: right;\">-0.501357 </td><td style=\"text-align: right;\">-0.0132847 </td><td style=\"text-align: right;\"> 0.240005  </td><td style=\"text-align: right;\">-0.272387  </td><td style=\"text-align: right;\">-0.0422336 </td><td style=\"text-align: right;\">-0.0977036</td><td style=\"text-align: right;\">0.281441</td><td style=\"text-align: right;\"> 0.00541629 </td><td style=\"text-align: right;\"> 0.209866 </td><td style=\"text-align: right;\">-0.244284  </td><td style=\"text-align: right;\"> 0.0822107 </td><td style=\"text-align: right;\">-0.249107  </td><td style=\"text-align: right;\"> 0.323789  </td><td style=\"text-align: right;\">0.326655 </td><td style=\"text-align: right;\"> 0.142458 </td><td style=\"text-align: right;\">0.0805733 </td><td style=\"text-align: right;\">-0.241841  </td><td style=\"text-align: right;\">-0.0664167</td><td style=\"text-align: right;\"> 0.157806  </td><td style=\"text-align: right;\"> 0.0660422 </td><td style=\"text-align: right;\">-0.166708 </td><td style=\"text-align: right;\"> 0.00959845 </td><td style=\"text-align: right;\">-0.0391197</td><td style=\"text-align: right;\">-0.141746  </td><td style=\"text-align: right;\"> 0.00969022</td><td style=\"text-align: right;\"> 0.042389  </td><td style=\"text-align: right;\">-0.203331 </td><td style=\"text-align: right;\">-0.0291807 </td><td style=\"text-align: right;\">-0.0536384</td><td style=\"text-align: right;\">-0.0914523</td><td style=\"text-align: right;\">-0.195513 </td><td style=\"text-align: right;\">-0.05766  </td><td style=\"text-align: right;\">-0.318849 </td><td style=\"text-align: right;\">-0.113383 </td><td style=\"text-align: right;\"> 0.0774557 </td><td style=\"text-align: right;\">-0.211185 </td><td style=\"text-align: right;\">-0.204758 </td><td style=\"text-align: right;\">-0.236592  </td><td style=\"text-align: right;\">0.0228285</td><td style=\"text-align: right;\">-0.0977507 </td><td style=\"text-align: right;\"> 0.0396567 </td><td style=\"text-align: right;\"> 0.226196   </td><td style=\"text-align: right;\"> 0.0297842 </td><td style=\"text-align: right;\">-0.116867   </td><td style=\"text-align: right;\">-0.039694 </td><td style=\"text-align: right;\"> 0.103304 </td><td style=\"text-align: right;\"> 0.153434  </td><td style=\"text-align: right;\"> 0.0457493</td><td style=\"text-align: right;\">-0.00658369</td><td style=\"text-align: right;\">-0.180168</td><td style=\"text-align: right;\">0.382252 </td><td style=\"text-align: right;\"> 0.276123 </td><td style=\"text-align: right;\"> 0.02522   </td><td style=\"text-align: right;\"> 0.0830736 </td><td style=\"text-align: right;\">-0.14866    </td><td style=\"text-align: right;\"> 0.121317   </td><td style=\"text-align: right;\"> 0.0914572</td><td style=\"text-align: right;\"> 0.150519 </td><td style=\"text-align: right;\">-0.0743415 </td><td style=\"text-align: right;\">0.256258  </td><td style=\"text-align: right;\">-0.0232548</td><td style=\"text-align: right;\">-0.0179105</td><td style=\"text-align: right;\">-0.0253489 </td><td style=\"text-align: right;\">-0.0114215</td><td style=\"text-align: right;\">-0.0899566</td><td style=\"text-align: right;\"> 0.190417 </td><td style=\"text-align: right;\">-0.388017  </td><td style=\"text-align: right;\"> 0.0821667</td><td style=\"text-align: right;\">0.152155 </td><td style=\"text-align: right;\"> 0.0130144 </td><td style=\"text-align: right;\"> 0.265299 </td><td style=\"text-align: right;\"> 0.00902755</td><td style=\"text-align: right;\">0.0647938</td><td style=\"text-align: right;\"> 0.0657216</td><td style=\"text-align: right;\">-0.117371 </td><td style=\"text-align: right;\"> 0.285282  </td><td style=\"text-align: right;\">-0.144888 </td><td style=\"text-align: right;\">-0.0528972</td><td style=\"text-align: right;\">-0.0572923 </td><td style=\"text-align: right;\">-0.0440306 </td><td style=\"text-align: right;\"> 0.258036  </td><td style=\"text-align: right;\">-0.0652207</td><td style=\"text-align: right;\"> 0.0503725</td><td style=\"text-align: right;\"> 0.00863809</td><td style=\"text-align: right;\">-0.205789  </td><td style=\"text-align: right;\">-0.29391  </td><td style=\"text-align: right;\"> 0.0937793</td><td style=\"text-align: right;\"> 0.158203 </td><td style=\"text-align: right;\">-0.0387907 </td><td style=\"text-align: right;\"> 0.176901 </td><td style=\"text-align: right;\">-0.0318359 </td><td style=\"text-align: right;\"> 0.199039 </td><td style=\"text-align: right;\"> 0.0258542</td><td style=\"text-align: right;\"> 0.262192 </td><td style=\"text-align: right;\"> 0.136841  </td></tr>\n",
       "</tbody>\n",
       "</table>"
      ]
     },
     "metadata": {},
     "output_type": "display_data"
    },
    {
     "data": {
      "text/plain": []
     },
     "execution_count": 37,
     "metadata": {},
     "output_type": "execute_result"
    }
   ],
   "source": [
    "review_vecs"
   ]
  },
  {
   "cell_type": "code",
   "execution_count": 38,
   "metadata": {
    "collapsed": true
   },
   "outputs": [],
   "source": [
    "# Add aggregated word embeddings \n",
    "ext_reviews = reviews.cbind(review_vecs)"
   ]
  },
  {
   "cell_type": "code",
   "execution_count": 39,
   "metadata": {
    "collapsed": true
   },
   "outputs": [],
   "source": [
    "ext_train = ext_reviews[ext_reviews[\"Train\"] == \"Yes\"]\n",
    "ext_test = ext_reviews[ext_reviews[\"Train\"] == \"No\"]"
   ]
  },
  {
   "cell_type": "code",
   "execution_count": 40,
   "metadata": {},
   "outputs": [
    {
     "name": "stdout",
     "output_type": "stream",
     "text": [
      "gbm Model Build progress: |███████████████████████████████████████████████| 100%\n"
     ]
    }
   ],
   "source": [
    "predictors = predictors + review_vecs.names\n",
    "response = 'PositiveReview'\n",
    "\n",
    "gbm_embeddings = H2OGradientBoostingEstimator(stopping_metric = \"AUC\", stopping_tolerance = 0.001,\n",
    "                                              stopping_rounds = 5, score_tree_interval = 10,\n",
    "                                              model_id = \"gbm_embeddings.hex\"\n",
    "                                             )\n",
    "gbm_embeddings.train(x = predictors, y = response, \n",
    "                   training_frame = ext_train, validation_frame = ext_test\n",
    "                  )"
   ]
  },
  {
   "cell_type": "code",
   "execution_count": 41,
   "metadata": {},
   "outputs": [
    {
     "name": "stdout",
     "output_type": "stream",
     "text": [
      "Baseline AUC: 0.616\n",
      "With Embeddings AUC: 0.878\n"
     ]
    }
   ],
   "source": [
    "print(\"Baseline AUC: \" + str(round(gbm_baseline.auc(valid = True), 3)))\n",
    "print(\"With Embeddings AUC: \" + str(round(gbm_embeddings.auc(valid = True), 3)))"
   ]
  },
  {
   "cell_type": "code",
   "execution_count": 42,
   "metadata": {},
   "outputs": [
    {
     "name": "stdout",
     "output_type": "stream",
     "text": [
      "Confusion Matrix (Act/Pred) for max f1 @ threshold = 0.6268657989498512: \n"
     ]
    },
    {
     "data": {
      "text/html": [
       "<div style=\"overflow:auto\"><table style=\"width:50%\"><tr><td><b></b></td>\n",
       "<td><b>0</b></td>\n",
       "<td><b>1</b></td>\n",
       "<td><b>Error</b></td>\n",
       "<td><b>Rate</b></td></tr>\n",
       "<tr><td>0</td>\n",
       "<td>2478.0</td>\n",
       "<td>2182.0</td>\n",
       "<td>0.4682</td>\n",
       "<td> (2182.0/4660.0)</td></tr>\n",
       "<tr><td>1</td>\n",
       "<td>874.0</td>\n",
       "<td>14474.0</td>\n",
       "<td>0.0569</td>\n",
       "<td> (874.0/15348.0)</td></tr>\n",
       "<tr><td>Total</td>\n",
       "<td>3352.0</td>\n",
       "<td>16656.0</td>\n",
       "<td>0.1527</td>\n",
       "<td> (3056.0/20008.0)</td></tr></table></div>"
      ],
      "text/plain": [
       "       0     1      Error    Rate\n",
       "-----  ----  -----  -------  ----------------\n",
       "0      2478  2182   0.4682   (2182.0/4660.0)\n",
       "1      874   14474  0.0569   (874.0/15348.0)\n",
       "Total  3352  16656  0.1527   (3056.0/20008.0)"
      ]
     },
     "metadata": {},
     "output_type": "display_data"
    },
    {
     "data": {
      "text/plain": []
     },
     "execution_count": 42,
     "metadata": {},
     "output_type": "execute_result"
    }
   ],
   "source": [
    "gbm_embeddings.confusion_matrix(valid = True)"
   ]
  },
  {
   "cell_type": "code",
   "execution_count": 43,
   "metadata": {
    "scrolled": true
   },
   "outputs": [
    {
     "data": {
      "image/png": "[encoded data removed]",
      "text/plain": [
       "<matplotlib.figure.Figure at 0x1223a2390>"
      ]
     },
     "metadata": {},
     "output_type": "display_data"
    }
   ],
   "source": [
    "gbm_embeddings.varimp_plot()"
   ]
  },
  {
   "cell_type": "markdown",
   "metadata": {
    "collapsed": true
   },
   "source": [
    "# Step 8 (of 10).  Run AutoML\n",
    "\n",
    "We will use H2O's AutoML to see if we can improve the performance further by exploring the algorithm and parameter space. "
   ]
  },
  {
   "cell_type": "code",
   "execution_count": 44,
   "metadata": {},
   "outputs": [
    {
     "name": "stdout",
     "output_type": "stream",
     "text": [
      "AutoML progress: |████████████████████████████████████████████████████████| 100%\n"
     ]
    }
   ],
   "source": [
    "from h2o.automl import H2OAutoML\n",
    "\n",
    "automl = H2OAutoML(project_name = \"positive_reviews\", max_runtime_secs = 180, \n",
    "                   keep_cross_validation_models = False, keep_cross_validation_predictions = False,\n",
    "                   nfolds = 3, exclude_algos = [\"DRF\"], seed = 1234)\n",
    "automl.train(x = predictors, y = response, training_frame = ext_train, leaderboard_frame = ext_test)"
   ]
  },
  {
   "cell_type": "code",
   "execution_count": 45,
   "metadata": {},
   "outputs": [
    {
     "data": {
      "text/html": [
       "<table>\n",
       "<thead>\n",
       "<tr><th>model_id                                             </th><th style=\"text-align: right;\">     auc</th><th style=\"text-align: right;\">  logloss</th><th style=\"text-align: right;\">  mean_per_class_error</th><th style=\"text-align: right;\">    rmse</th><th style=\"text-align: right;\">     mse</th></tr>\n",
       "</thead>\n",
       "<tbody>\n",
       "<tr><td>StackedEnsemble_AllModels_0_AutoML_20180723_141420   </td><td style=\"text-align: right;\">0.90239 </td><td style=\"text-align: right;\"> 0.336235</td><td style=\"text-align: right;\">              0.226252</td><td style=\"text-align: right;\">0.321566</td><td style=\"text-align: right;\">0.103405</td></tr>\n",
       "<tr><td>StackedEnsemble_BestOfFamily_0_AutoML_20180723_141420</td><td style=\"text-align: right;\">0.902143</td><td style=\"text-align: right;\"> 0.33667 </td><td style=\"text-align: right;\">              0.230617</td><td style=\"text-align: right;\">0.321703</td><td style=\"text-align: right;\">0.103493</td></tr>\n",
       "<tr><td>GLM_grid_0_AutoML_20180723_141420_model_0            </td><td style=\"text-align: right;\">0.897439</td><td style=\"text-align: right;\"> 0.328441</td><td style=\"text-align: right;\">              0.231677</td><td style=\"text-align: right;\">0.31961 </td><td style=\"text-align: right;\">0.102151</td></tr>\n",
       "<tr><td>GBM_grid_0_AutoML_20180723_141420_model_0            </td><td style=\"text-align: right;\">0.896833</td><td style=\"text-align: right;\"> 0.332638</td><td style=\"text-align: right;\">              0.253024</td><td style=\"text-align: right;\">0.322285</td><td style=\"text-align: right;\">0.103867</td></tr>\n",
       "<tr><td>GBM_grid_0_AutoML_20180723_141420_model_1            </td><td style=\"text-align: right;\">0.891641</td><td style=\"text-align: right;\"> 0.339505</td><td style=\"text-align: right;\">              0.260653</td><td style=\"text-align: right;\">0.326165</td><td style=\"text-align: right;\">0.106383</td></tr>\n",
       "</tbody>\n",
       "</table>"
      ]
     },
     "metadata": {},
     "output_type": "display_data"
    },
    {
     "data": {
      "text/plain": []
     },
     "execution_count": 45,
     "metadata": {},
     "output_type": "execute_result"
    }
   ],
   "source": [
    "automl.leaderboard"
   ]
  },
  {
   "cell_type": "markdown",
   "metadata": {},
   "source": [
    "# Step 9 (of 10). Watch AutoML progress (in the H2O Flow Web UI)¶\n",
    "\n",
    "* Go to port 54321\n",
    "* In H2O Flow, go to Admin -> Jobs\n",
    "* Click on the \"Auto Model\" job with the \"positive_reviews\" job name and explore it"
   ]
  },
  {
   "cell_type": "markdown",
   "metadata": {
    "collapsed": true
   },
   "source": [
    "# Step 10 (of 10).  Shutdown the H2O Cluster"
   ]
  },
  {
   "cell_type": "code",
   "execution_count": 46,
   "metadata": {},
   "outputs": [
    {
     "name": "stdout",
     "output_type": "stream",
     "text": [
      "H2O session _sid_9374 closed.\n"
     ]
    }
   ],
   "source": [
    "h2o.cluster().shutdown()"
   ]
  },
  {
   "cell_type": "markdown",
   "metadata": {},
   "source": [
    "# Bonus: Github location for this tutorial\n",
    "\n",
    "* https://github.com/h2oai/h2o-tutorials/tree/master/training/h2o_3_hands_on/nlp"
   ]
  },
  {
   "cell_type": "code",
   "execution_count": null,
   "metadata": {
    "collapsed": true
   },
   "outputs": [],
   "source": []
  }
 ],
 "metadata": {
  "kernelspec": {
   "display_name": "Python 2",
   "language": "python",
   "name": "python2"
  },
  "language_info": {
   "codemirror_mode": {
    "name": "ipython",
    "version": 2
   },
   "file_extension": ".py",
   "mimetype": "text/x-python",
   "name": "python",
   "nbconvert_exporter": "python",
   "pygments_lexer": "ipython2",
   "version": "2.7.14"
  }
 },
 "nbformat": 4,
 "nbformat_minor": 2
}
