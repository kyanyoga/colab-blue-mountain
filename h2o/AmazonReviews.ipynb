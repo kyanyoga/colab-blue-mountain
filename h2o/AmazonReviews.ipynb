{
  "nbformat": 4,
  "nbformat_minor": 0,
  "metadata": {
    "colab": {
      "name": "AmazonReviews.ipynb",
      "version": "0.3.2",
      "provenance": [],
      "toc_visible": true
    },
    "kernelspec": {
      "display_name": "Python 2",
      "language": "python",
      "name": "python2"
    }
  },
  "cells": [
    {
      "metadata": {
        "id": "PMWPbMdzoa99",
        "colab_type": "text"
      },
      "cell_type": "markdown",
      "source": [
        "## Predicting Good Amazon Reviews\n",
        "\n",
        "For this demo, we will be using the [Amazon Fine Food Reviews Data](https://www.kaggle.com/snap/amazon-fine-food-reviews).  The Amazon Fine Food Reviews dataset consists of 568,454 food reviews Amazon users left up to October 2012.\n",
        "\n",
        "This script is based off of the [Craigslist Word2Vec Demo](https://github.com/h2oai/h2o-3/blob/master/h2o-py/demos/word2vec_craigslistjobtitles.ipynb).\n",
        "\n",
        "## Import Data\n",
        "\n",
        "We will begin by importing our review data into our H2O cluster.  In this case, I will be starting up an H2O cluster on my local computer."
      ]
    },
    {
      "metadata": {
        "id": "YcptgR9-orPe",
        "colab_type": "code",
        "colab": {
          "base_uri": "https://localhost:8080/",
          "height": 230
        },
        "outputId": "1496a086-1550-4f94-bbd4-0dd6081af142"
      },
      "cell_type": "code",
      "source": [
        "# installing h2o on colab\n",
        "! apt-get install default-jre\n",
        "!java -version"
      ],
      "execution_count": 1,
      "outputs": [
        {
          "output_type": "stream",
          "text": [
            "Reading package lists... Done\n",
            "Building dependency tree       \n",
            "Reading state information... Done\n",
            "default-jre is already the newest version (2:1.10-63ubuntu1~02).\n",
            "default-jre set to manually installed.\n",
            "The following package was automatically installed and is no longer required:\n",
            "  libnvidia-common-410\n",
            "Use 'apt autoremove' to remove it.\n",
            "0 upgraded, 0 newly installed, 0 to remove and 10 not upgraded.\n",
            "openjdk version \"10.0.2\" 2018-07-17\n",
            "OpenJDK Runtime Environment (build 10.0.2+13-Ubuntu-1ubuntu0.18.04.4)\n",
            "OpenJDK 64-Bit Server VM (build 10.0.2+13-Ubuntu-1ubuntu0.18.04.4, mixed mode)\n"
          ],
          "name": "stdout"
        }
      ]
    },
    {
      "metadata": {
        "id": "hJA75qERo6Hs",
        "colab_type": "code",
        "colab": {
          "base_uri": "https://localhost:8080/",
          "height": 356
        },
        "outputId": "e956141e-0b4d-4c74-9839-168a9a2cd8d2"
      },
      "cell_type": "code",
      "source": [
        "! pip install h2o"
      ],
      "execution_count": 2,
      "outputs": [
        {
          "output_type": "stream",
          "text": [
            "Collecting h2o\n",
            "\u001b[?25l  Downloading https://files.pythonhosted.org/packages/94/8a/cce6663380742405994eb2de6f93c93ac63fa8c026c937d7270539e16eaa/h2o-3.22.1.6.tar.gz (120.9MB)\n",
            "\u001b[K    100% |████████████████████████████████| 120.9MB 141kB/s \n",
            "\u001b[?25hRequirement already satisfied: requests in /usr/local/lib/python2.7/dist-packages (from h2o) (2.18.4)\n",
            "Requirement already satisfied: tabulate in /usr/local/lib/python2.7/dist-packages (from h2o) (0.8.3)\n",
            "Requirement already satisfied: future in /usr/local/lib/python2.7/dist-packages (from h2o) (0.16.0)\n",
            "Collecting colorama>=0.3.8 (from h2o)\n",
            "  Downloading https://files.pythonhosted.org/packages/4f/a6/728666f39bfff1719fc94c481890b2106837da9318031f71a8424b662e12/colorama-0.4.1-py2.py3-none-any.whl\n",
            "Requirement already satisfied: idna<2.7,>=2.5 in /usr/local/lib/python2.7/dist-packages (from requests->h2o) (2.6)\n",
            "Requirement already satisfied: urllib3<1.23,>=1.21.1 in /usr/local/lib/python2.7/dist-packages (from requests->h2o) (1.22)\n",
            "Requirement already satisfied: certifi>=2017.4.17 in /usr/local/lib/python2.7/dist-packages (from requests->h2o) (2019.3.9)\n",
            "Requirement already satisfied: chardet<3.1.0,>=3.0.2 in /usr/local/lib/python2.7/dist-packages (from requests->h2o) (3.0.4)\n",
            "Building wheels for collected packages: h2o\n",
            "  Building wheel for h2o (setup.py) ... \u001b[?25ldone\n",
            "\u001b[?25h  Stored in directory: /root/.cache/pip/wheels/f4/21/59/e953dbf8206d5061ce1346e119dad9ffafd7f88011430682ba\n",
            "Successfully built h2o\n",
            "Installing collected packages: colorama, h2o\n",
            "Successfully installed colorama-0.4.1 h2o-3.22.1.6\n"
          ],
          "name": "stdout"
        }
      ]
    },
    {
      "metadata": {
        "id": "QSPlYrcaoa9_",
        "colab_type": "code",
        "colab": {}
      },
      "cell_type": "code",
      "source": [
        "import h2o"
      ],
      "execution_count": 0,
      "outputs": []
    },
    {
      "metadata": {
        "id": "CtLpkomQoa-D",
        "colab_type": "code",
        "colab": {}
      },
      "cell_type": "code",
      "source": [
        "# import pyspark"
      ],
      "execution_count": 0,
      "outputs": []
    },
    {
      "metadata": {
        "id": "e_ex1N-2oa-F",
        "colab_type": "code",
        "colab": {
          "base_uri": "https://localhost:8080/",
          "height": 532
        },
        "outputId": "25f76f65-4216-48c4-fbb7-e24b5deea8f2"
      },
      "cell_type": "code",
      "source": [
        "# h2o.init(max_mem_size=\"4G\")\n",
        "# h2o.init(max_mem_size=\"1G\", strict_version_check = False)\n",
        "# h2o.init(ip=\"192.168.1.10\", port=54321)\n",
        "#h2o.init()\n",
        "h2o.init(ip = \"127.0.0.1\", port = 54321, max_mem_size=\"1G\")"
      ],
      "execution_count": 4,
      "outputs": [
        {
          "output_type": "stream",
          "text": [
            "Checking whether there is an H2O instance running at http://127.0.0.1:54321..... not found.\n",
            "Attempting to start a local H2O server...\n",
            "  Java Version: openjdk version \"10.0.2\" 2018-07-17; OpenJDK Runtime Environment (build 10.0.2+13-Ubuntu-1ubuntu0.18.04.4); OpenJDK 64-Bit Server VM (build 10.0.2+13-Ubuntu-1ubuntu0.18.04.4, mixed mode)\n",
            "  Starting server from /usr/local/lib/python2.7/dist-packages/h2o/backend/bin/h2o.jar\n",
            "  Ice root: /tmp/tmpzaHKRR\n",
            "  JVM stdout: /tmp/tmpzaHKRR/h2o_unknownUser_started_from_python.out\n",
            "  JVM stderr: /tmp/tmpzaHKRR/h2o_unknownUser_started_from_python.err\n",
            "  Server is running at http://127.0.0.1:54321\n",
            "Connecting to H2O server at http://127.0.0.1:54321... successful.\n"
          ],
          "name": "stdout"
        },
        {
          "output_type": "display_data",
          "data": {
            "text/plain": [
              "--------------------------  ---------------------------------------------------\n",
              "H2O cluster uptime:         02 secs\n",
              "H2O cluster timezone:       Etc/UTC\n",
              "H2O data parsing timezone:  UTC\n",
              "H2O cluster version:        3.22.1.6\n",
              "H2O cluster version age:    7 days, 3 hours and 58 minutes\n",
              "H2O cluster name:           H2O_from_python_unknownUser_k5hn82\n",
              "H2O cluster total nodes:    1\n",
              "H2O cluster free memory:    1 Gb\n",
              "H2O cluster total cores:    2\n",
              "H2O cluster allowed cores:  2\n",
              "H2O cluster status:         accepting new members, healthy\n",
              "H2O connection url:         http://127.0.0.1:54321\n",
              "H2O connection proxy:\n",
              "H2O internal security:      False\n",
              "H2O API Extensions:         Amazon S3, XGBoost, Algos, AutoML, Core V3, Core V4\n",
              "Python version:             2.7.15 candidate\n",
              "--------------------------  ---------------------------------------------------"
            ],
            "text/html": [
              "<div style=\"overflow:auto\"><table style=\"width:50%\"><tr><td>H2O cluster uptime:</td>\n",
              "<td>02 secs</td></tr>\n",
              "<tr><td>H2O cluster timezone:</td>\n",
              "<td>Etc/UTC</td></tr>\n",
              "<tr><td>H2O data parsing timezone:</td>\n",
              "<td>UTC</td></tr>\n",
              "<tr><td>H2O cluster version:</td>\n",
              "<td>3.22.1.6</td></tr>\n",
              "<tr><td>H2O cluster version age:</td>\n",
              "<td>7 days, 3 hours and 58 minutes </td></tr>\n",
              "<tr><td>H2O cluster name:</td>\n",
              "<td>H2O_from_python_unknownUser_k5hn82</td></tr>\n",
              "<tr><td>H2O cluster total nodes:</td>\n",
              "<td>1</td></tr>\n",
              "<tr><td>H2O cluster free memory:</td>\n",
              "<td>1 Gb</td></tr>\n",
              "<tr><td>H2O cluster total cores:</td>\n",
              "<td>2</td></tr>\n",
              "<tr><td>H2O cluster allowed cores:</td>\n",
              "<td>2</td></tr>\n",
              "<tr><td>H2O cluster status:</td>\n",
              "<td>accepting new members, healthy</td></tr>\n",
              "<tr><td>H2O connection url:</td>\n",
              "<td>http://127.0.0.1:54321</td></tr>\n",
              "<tr><td>H2O connection proxy:</td>\n",
              "<td>None</td></tr>\n",
              "<tr><td>H2O internal security:</td>\n",
              "<td>False</td></tr>\n",
              "<tr><td>H2O API Extensions:</td>\n",
              "<td>Amazon S3, XGBoost, Algos, AutoML, Core V3, Core V4</td></tr>\n",
              "<tr><td>Python version:</td>\n",
              "<td>2.7.15 candidate</td></tr></table></div>"
            ]
          },
          "metadata": {
            "tags": []
          }
        }
      ]
    },
    {
      "metadata": {
        "id": "04QD5Kdaoa-L",
        "colab_type": "code",
        "colab": {
          "base_uri": "https://localhost:8080/",
          "height": 34
        },
        "outputId": "b71f9d58-edf0-4612-81ee-556d385c5545"
      },
      "cell_type": "code",
      "source": [
        "# Use local data file or download from GitHub\n",
        "# import os\n",
        "# docker_data_path = \"AmazonReviews.csv\"\n",
        "# if os.path.isfile(docker_data_path):\n",
        "#   data_path = docker_data_path\n",
        "# else:\n",
        "#   #data_path = \"https://s3.amazonaws.com/tomk/h2o-world/megan/AmazonReviews.csv\"\n",
        "#   print('nothing')\n",
        "  \n",
        "url = \"https://github.com/kyanyoga/colab-blue-mountain/blob/master/data/csv/AmazonReviews.csv?raw=true\"\n",
        "\n",
        "# Load data into H2O\n",
        "reviews = h2o.import_file(url)"
      ],
      "execution_count": 7,
      "outputs": [
        {
          "output_type": "stream",
          "text": [
            "Parse progress: |█████████████████████████████████████████████████████████| 100%\n"
          ],
          "name": "stdout"
        }
      ]
    },
    {
      "metadata": {
        "id": "MKq_i-qLoa-O",
        "colab_type": "code",
        "colab": {}
      },
      "cell_type": "code",
      "source": [
        "#' Add Target Column: \"PositiveReview\"\n",
        "reviews[\"PositiveReview\"] = (reviews[\"Score\"] >= 4).ifelse(\"1\", \"0\")"
      ],
      "execution_count": 0,
      "outputs": []
    },
    {
      "metadata": {
        "id": "aSzln3rvoa-Q",
        "colab_type": "code",
        "colab": {},
        "outputId": "bf1d73d2-3078-4002-a167-f0420ecc25b7"
      },
      "cell_type": "code",
      "source": [
        "reviews.head()"
      ],
      "execution_count": 0,
      "outputs": [
        {
          "output_type": "display_data",
          "data": {
            "text/html": [
              "<table>\n",
              "<thead>\n",
              "<tr><th>ProductId  </th><th>UserId        </th><th>Summary                               </th><th style=\"text-align: right;\">  Score</th><th style=\"text-align: right;\">  HelpfulnessDenominator</th><th style=\"text-align: right;\">    Id</th><th>ProfileName                                     </th><th style=\"text-align: right;\">  HelpfulnessNumerator</th><th style=\"text-align: right;\">       Time</th><th>Text                                                                                                                                                                                                                                                                                                                                                                                                                                                                                                                                                                                                                                                                                                                                                                                                                                                                                                                                                                                                                                                                                                                                                                                                                                                                                                                                                                                                                                                                                                                                                                                                                                                                                                                                                                                                                                                                                                                                                                                                                                                                                                                                                                                                                                                                                                                                                                                                                                                                                                                                                                                                                                                                                                                                                                                                                                                                                                                                                                                                                                                                                                                                                                                                                                                        </th><th style=\"text-align: right;\">  PositiveReview</th></tr>\n",
              "</thead>\n",
              "<tbody>\n",
              "<tr><td>B00141QYSQ </td><td>A1YS02UZZGRDCT</td><td>Do Not Buy                            </td><td style=\"text-align: right;\">      1</td><td style=\"text-align: right;\">                       2</td><td style=\"text-align: right;\"> 41471</td><td>Evan Eberhardt                                  </td><td style=\"text-align: right;\">                     2</td><td style=\"text-align: right;\">1.34836e+09</td><td>These are made in China (do not buy ANY pet food from China).  Dogswell has been using propylene glycol to soften their treats (what are they thinkng?).  Do not purchase or support this company in any way until they clean up their act.  And for whatever reason Amazon doesn't allow returns of this item, so I had to toss mine out.  Bad business all around on this one.                                                                                                                                                                                                                                                                                                                                                                                                                                                                                                                                                                                                                                                                                                                                                                                                                                                                                                                                                                                                                                                                                                                                                                                                                                                                                                                                                                                                                                                                                                                                                                                                                                                                                                                                                                                                                                                                                                                                                                                                                                                                                                                                                                                                                                                                                                                                                                                                                                                                                                                                                                                                                                                                                                                                                                                                                                                                            </td><td style=\"text-align: right;\">               0</td></tr>\n",
              "<tr><td>B0089SPEO2 </td><td>A3JOYNYL458QHP</td><td>Less lemon and less zing              </td><td style=\"text-align: right;\">      3</td><td style=\"text-align: right;\">                       0</td><td style=\"text-align: right;\"> 28582</td><td>coleridge                                       </td><td style=\"text-align: right;\">                     0</td><td style=\"text-align: right;\">1.32391e+09</td><td>Everything is ok, except it just isn't as good as it is in the bags.  Just considerably more bland -- less lemon and less zing.  Boring.                                                                                                                                                                                                                                                                                                                                                                                                                                                                                                                                                                                                                                                                                                                                                                                                                                                                                                                                                                                                                                                                                                                                                                                                                                                                                                                                                                                                                                                                                                                                                                                                                                                                                                                                                                                                                                                                                                                                                                                                                                                                                                                                                                                                                                                                                                                                                                                                                                                                                                                                                                                                                                                                                                                                                                                                                                                                                                                                                                                                                                                                                                                    </td><td style=\"text-align: right;\">               0</td></tr>\n",
              "<tr><td>B001PMCDK2 </td><td>A14TTMM0Z03Y2W</td><td>my cat goes crazy for these!          </td><td style=\"text-align: right;\">      5</td><td style=\"text-align: right;\">                       0</td><td style=\"text-align: right;\">389965</td><td>Lindsay S. Bradford                             </td><td style=\"text-align: right;\">                     0</td><td style=\"text-align: right;\">1.3106e+09 </td><td>Best cat treat ever. There isn't anything comparable to the love my cat has for these treats, he snubs away any other kind now.<br />I know he likes to manipulate me with his cattiness but these treats are my way of manipulating him to come sit on my lap and have some chill time. :)                                                                                                                                                                                                                                                                                                                                                                                                                                                                                                                                                                                                                                                                                                                                                                                                                                                                                                                                                                                                                                                                                                                                                                                                                                                                                                                                                                                                                                                                                                                                                                                                                                                                                                                                                                                                                                                                                                                                                                                                                                                                                                                                                                                                                                                                                                                                                                                                                                                                                                                                                                                                                                                                                                                                                                                                                                                                                                                                                                 </td><td style=\"text-align: right;\">               1</td></tr>\n",
              "<tr><td>B002Q8JOSI </td><td>A17UQD2RSSQH5X</td><td>My dogs tell me these treats are YUMMY</td><td style=\"text-align: right;\">      5</td><td style=\"text-align: right;\">                       1</td><td style=\"text-align: right;\">212536</td><td>in the dark                                     </td><td style=\"text-align: right;\">                     1</td><td style=\"text-align: right;\">1.31613e+09</td><td>My two Corgis were thoroughly spoiled by my late husband (I spent a year and a half dieting them down a combined total of 25 pounds!)<br /><br />They are accustomed to the finest of fare, and they absolutely love the Wellness brand of treats.                                                                                                                                                                                                                                                                                                                                                                                                                                                                                                                                                                                                                                                                                                                                                                                                                                                                                                                                                                                                                                                                                                                                                                                                                                                                                                                                                                                                                                                                                                                                                                                                                                                                                                                                                                                                                                                                                                                                                                                                                                                                                                                                                                                                                                                                                                                                                                                                                                                                                                                                                                                                                                                                                                                                                                                                                                                                                                                                                                                                          </td><td style=\"text-align: right;\">               1</td></tr>\n",
              "<tr><td>B00176G870 </td><td>A2F2MZW8EOGH5J</td><td>Yummy to the tummy                    </td><td style=\"text-align: right;\">      5</td><td style=\"text-align: right;\">                       0</td><td style=\"text-align: right;\">115971</td><td>daemoncycler \"When you arrive at a fork in th...</td><td style=\"text-align: right;\">                     0</td><td style=\"text-align: right;\">1.33479e+09</td><td>We used to have drive down to the specialty pet food store for this product.  So glad we discovered Amazon.  As far as I can tell it is no more expensive & in some cases less - Prime membership is awesome.  Loving Pets treats are some of the best according to my dog.  They do not develop that nasty smell like some dog treats do.                                                                                                                                                                                                                                                                                                                                                                                                                                                                                                                                                                                                                                                                                                                                                                                                                                                                                                                                                                                                                                                                                                                                                                                                                                                                                                                                                                                                                                                                                                                                                                                                                                                                                                                                                                                                                                                                                                                                                                                                                                                                                                                                                                                                                                                                                                                                                                                                                                                                                                                                                                                                                                                                                                                                                                                                                                                                                                                  </td><td style=\"text-align: right;\">               1</td></tr>\n",
              "<tr><td>B001CHFUGY </td><td>A2M8VROSDPU4JT</td><td>Very good coffee                      </td><td style=\"text-align: right;\">      5</td><td style=\"text-align: right;\">                       1</td><td style=\"text-align: right;\">434484</td><td>Officefan \"Officefankt\"                         </td><td style=\"text-align: right;\">                     1</td><td style=\"text-align: right;\">1.27725e+09</td><td>I really liked this coffee, it was just as good as everyone claimed it was.  Strong, bold and flavorful!  I would recommend!                                                                                                                                                                                                                                                                                                                                                                                                                                                                                                                                                                                                                                                                                                                                                                                                                                                                                                                                                                                                                                                                                                                                                                                                                                                                                                                                                                                                                                                                                                                                                                                                                                                                                                                                                                                                                                                                                                                                                                                                                                                                                                                                                                                                                                                                                                                                                                                                                                                                                                                                                                                                                                                                                                                                                                                                                                                                                                                                                                                                                                                                                                                                </td><td style=\"text-align: right;\">               1</td></tr>\n",
              "<tr><td>B0041CIR62 </td><td>A16I6WJUEBJ1C3</td><td>okay but not as healthy as it appears </td><td style=\"text-align: right;\">      2</td><td style=\"text-align: right;\">                       1</td><td style=\"text-align: right;\">138997</td><td>doctorsirena \"doctorsirena\"                     </td><td style=\"text-align: right;\">                     1</td><td style=\"text-align: right;\">1.34369e+09</td><td>I am always looking for healthier, whole grain versions of foods I enjoy.  Unfortunately, these Peacock brand noodles are yet another food masquerading as healthy.  The product title in big letters on the front says \"Brown Rice Vermicelli\", making the consumer think \"this is made with brown rice, so it should be a healthy choice\".  But the first indication that it is not is when looking at the fiber content on the nutrition facts - only 0.6g per 2oz serving.  Then onto the ingredients list to see why so low... contains brown rice, sago starch and water.  The sago starch comes from palms and must not have much (if any) fiber.<br /><br />The Annie Chun's Maifun Brown Rice Noodles (sold on Amazon and in my local healthy grocer) has become one of my staples and is my frame of reference when comparing to the Peacock brand.  The Annie Chun's product is made with 100% whole grain, with ingredients brown rice flour and water.  Per 2oz serving, it has 4g fiber and pretty much the same calories and other nutrients as the Peacock brand.<br /><br />If you do try this Peacock brand noodles and have not used rice noodles before, you will need to seek guidance elsewhere on preparation.  As others have pointed out, the Peacock package gives almost no directions on how to prepare the product, aside from a brief mention in the recipes (in the header text it does say that they are \"easy-to-cook\" but does not say how).  It also contains a very strange recipe for rice noodles: Aglio Olio style - this is an Italian recipe for noodles with olive oil/garlic/sprinkled with grated cheese that I think would not be very tasty.  The second recipe appears to be for a soup with veggie strips.  Neither recipe gives amounts or much direction.  In comparison, the Annie Chun's package gives clear, specific directions on rice noodle preparation and two recipes.<br /><br />I use rice noodles = maifun = rice sticks = sometimes called vermicelli for making the Vietnamese salad \"bun tofu\", to serve with stir-fried veggies or in lettuce rolls.  They can also be used in spring rolls/egg rolls.  When cooking with thin rice noodles, be careful not to oversoak/overcook/overmix or they tend to disintegrate.  Asian rice noodle vermicelli (maifun) are not the same as Italian vermicelli and are not readily interchangeable.  If making an Italian recipe, the best results would be expected from Italian pasta and not maifun.<br /><br />A few final notes...  Both Peacock and Annie Chun's brown rice noodles are gluten free.  The Peacock is made in Singapore and the Annie Chun's in Thailand.  The Peacock noodles do taste fine (kind of bland), but so do the Annie Chun's.  At this time, they are both approximately the same price.  Peacock come in an plastic bag with some noodle crushage upon shipping; Annie Chun's are perfect upon removal from their cellophane bag in a box.  Overall, I highly recommend the Annie Chun's Maifun as a healthier option over the Peacock brand.  On a related note, the Annie Chun's soba and brown rice pad thai noodles are also excellent.<br /><br />Rating for this product: 2.5 stars rounded down to 2 stars.</td><td style=\"text-align: right;\">               0</td></tr>\n",
              "<tr><td>B001R3BQFW </td><td>AM50E42AFUVNL </td><td>Taste great.                          </td><td style=\"text-align: right;\">      5</td><td style=\"text-align: right;\">                       0</td><td style=\"text-align: right;\">126555</td><td>T. Higley \"Tina\"                                </td><td style=\"text-align: right;\">                     0</td><td style=\"text-align: right;\">1.32356e+09</td><td>I have tried many different drink mix, this is the best tasting by far. It does not have the after taste of the sweetener and I really like it, it is pretty strong, so I use a big water bottle (20 oz) for one tube, it still a little stronger than I like, but it is just my taste.                                                                                                                                                                                                                                                                                                                                                                                                                                                                                                                                                                                                                                                                                                                                                                                                                                                                                                                                                                                                                                                                                                                                                                                                                                                                                                                                                                                                                                                                                                                                                                                                                                                                                                                                                                                                                                                                                                                                                                                                                                                                                                                                                                                                                                                                                                                                                                                                                                                                                                                                                                                                                                                                                                                                                                                                                                                                                                                                                                     </td><td style=\"text-align: right;\">               1</td></tr>\n",
              "<tr><td>B005HGAV8I </td><td>A2I5KDNOESGJ1H</td><td>variety galore                        </td><td style=\"text-align: right;\">      5</td><td style=\"text-align: right;\">                       1</td><td style=\"text-align: right;\">438837</td><td>TJ                                              </td><td style=\"text-align: right;\">                     1</td><td style=\"text-align: right;\">1.33402e+09</td><td>This is my favorite item to order for my Keurig. There are so many flavors, my finicky palate never gets bored!  The only downside is there are probably 5-6 decaf varieties.  I don't drink decaf (I REQUIRE copious amounts of caffeine), so they sit on the shelf...                                                                                                                                                                                                                                                                                                                                                                                                                                                                                                                                                                                                                                                                                                                                                                                                                                                                                                                                                                                                                                                                                                                                                                                                                                                                                                                                                                                                                                                                                                                                                                                                                                                                                                                                                                                                                                                                                                                                                                                                                                                                                                                                                                                                                                                                                                                                                                                                                                                                                                                                                                                                                                                                                                                                                                                                                                                                                                                                                                                     </td><td style=\"text-align: right;\">               1</td></tr>\n",
              "<tr><td>B000GFYRHQ </td><td>A3A7YUR6FS6ZCI</td><td>Bigelow Earl Grey Green Tea           </td><td style=\"text-align: right;\">      5</td><td style=\"text-align: right;\">                       0</td><td style=\"text-align: right;\">245379</td><td>Tea Lover                                       </td><td style=\"text-align: right;\">                     0</td><td style=\"text-align: right;\">1.17841e+09</td><td>Tastes like Earl Grey, but it's green tea so it's healthier.                                                                                                                                                                                                                                                                                                                                                                                                                                                                                                                                                                                                                                                                                                                                                                                                                                                                                                                                                                                                                                                                                                                                                                                                                                                                                                                                                                                                                                                                                                                                                                                                                                                                                                                                                                                                                                                                                                                                                                                                                                                                                                                                                                                                                                                                                                                                                                                                                                                                                                                                                                                                                                                                                                                                                                                                                                                                                                                                                                                                                                                                                                                                                                                                </td><td style=\"text-align: right;\">               1</td></tr>\n",
              "</tbody>\n",
              "</table>"
            ]
          },
          "metadata": {
            "tags": []
          }
        },
        {
          "output_type": "execute_result",
          "data": {
            "text/plain": [
              ""
            ]
          },
          "metadata": {
            "tags": []
          },
          "execution_count": 5
        }
      ]
    },
    {
      "metadata": {
        "id": "X6tdOaWdoa-T",
        "colab_type": "code",
        "colab": {
          "base_uri": "https://localhost:8080/",
          "height": 71
        },
        "outputId": "d54a42ca-1b47-4bb3-a620-60c27ac409c8"
      },
      "cell_type": "code",
      "source": [
        "reviews[\"PositiveReview\"].table()"
      ],
      "execution_count": 9,
      "outputs": [
        {
          "output_type": "display_data",
          "data": {
            "text/html": [
              "<table>\n",
              "<thead>\n",
              "<tr><th style=\"text-align: right;\">  PositiveReview</th><th style=\"text-align: right;\">  Count</th></tr>\n",
              "</thead>\n",
              "<tbody>\n",
              "<tr><td style=\"text-align: right;\">               0</td><td style=\"text-align: right;\">  21791</td></tr>\n",
              "<tr><td style=\"text-align: right;\">               1</td><td style=\"text-align: right;\">  78209</td></tr>\n",
              "</tbody>\n",
              "</table>"
            ]
          },
          "metadata": {
            "tags": []
          }
        },
        {
          "output_type": "execute_result",
          "data": {
            "text/plain": [
              ""
            ]
          },
          "metadata": {
            "tags": []
          },
          "execution_count": 9
        }
      ]
    },
    {
      "metadata": {
        "id": "LJCWPaAOoa-W",
        "colab_type": "text"
      },
      "cell_type": "markdown",
      "source": [
        "## Train Baseline Model\n",
        "\n",
        "We will start by training a baseline model that does not use the review and instead uses other attributes in our dataset."
      ]
    },
    {
      "metadata": {
        "id": "69vtihUXoa-X",
        "colab_type": "code",
        "colab": {}
      },
      "cell_type": "code",
      "source": [
        "# Find the 80th quantile of time in the dataset\n",
        "time_split = reviews[\"Time\"].quantile(prob = [0.8])[1]\n",
        "reviews[\"Train\"] = (reviews[\"Time\"] < time_split).ifelse(\"Yes\", \"No\")"
      ],
      "execution_count": 0,
      "outputs": []
    },
    {
      "metadata": {
        "id": "V_X74w4Roa-Z",
        "colab_type": "code",
        "colab": {}
      },
      "cell_type": "code",
      "source": [
        "train = reviews[reviews[\"Train\"] == \"Yes\"]\n",
        "test = reviews[reviews[\"Train\"] == \"No\"]"
      ],
      "execution_count": 0,
      "outputs": []
    },
    {
      "metadata": {
        "id": "Mp20dziLoa-c",
        "colab_type": "code",
        "colab": {
          "base_uri": "https://localhost:8080/",
          "height": 34
        },
        "outputId": "9d4e3f75-ec49-4391-f22a-8d61dc51eb65"
      },
      "cell_type": "code",
      "source": [
        "from h2o.estimators import H2OGradientBoostingEstimator\n",
        "\n",
        "predictors = ['ProductId', 'UserId', 'HelpfulnessNumerator', 'HelpfulnessDenominator', 'Time']\n",
        "response = 'PositiveReview'\n",
        "\n",
        "gbm_baseline = H2OGradientBoostingEstimator(stopping_metric = \"AUC\", stopping_tolerance = 0.001,\n",
        "                                            stopping_rounds = 5, score_tree_interval = 10,\n",
        "                                            model_id = \"gbm_baseline.hex\"\n",
        "                                           )\n",
        "gbm_baseline.train(x = predictors, y = response, \n",
        "                   training_frame = train, validation_frame = test\n",
        "                  )"
      ],
      "execution_count": 12,
      "outputs": [
        {
          "output_type": "stream",
          "text": [
            "gbm Model Build progress: |███████████████████████████████████████████████| 100%\n"
          ],
          "name": "stdout"
        }
      ]
    },
    {
      "metadata": {
        "id": "iC1qKTP3oa-f",
        "colab_type": "code",
        "colab": {
          "base_uri": "https://localhost:8080/",
          "height": 34
        },
        "outputId": "16ce5e78-22e5-4b90-db60-5bf476725bb7"
      },
      "cell_type": "code",
      "source": [
        "print(\"AUC on Validation Data: \" + str(round(gbm_baseline.auc(valid = True), 3)))"
      ],
      "execution_count": 13,
      "outputs": [
        {
          "output_type": "stream",
          "text": [
            "AUC on Validation Data: 0.616\n"
          ],
          "name": "stdout"
        }
      ]
    },
    {
      "metadata": {
        "id": "f38Z0eqioa-i",
        "colab_type": "text"
      },
      "cell_type": "markdown",
      "source": [
        "We can see that there is a big room for improvement.  Our error is 22%.  To improve our model, we will train word embeddings for the review."
      ]
    },
    {
      "metadata": {
        "id": "iKK6FYkyoa-j",
        "colab_type": "code",
        "colab": {
          "base_uri": "https://localhost:8080/",
          "height": 106
        },
        "outputId": "48741f4f-dd91-4e97-d650-c39e90fb7216"
      },
      "cell_type": "code",
      "source": [
        "gbm_baseline.confusion_matrix(valid = True)"
      ],
      "execution_count": 14,
      "outputs": [
        {
          "output_type": "stream",
          "text": [
            "Confusion Matrix (Act/Pred) for max f1 @ threshold = 0.459316258112: \n"
          ],
          "name": "stdout"
        },
        {
          "output_type": "display_data",
          "data": {
            "text/plain": [
              "       0    1      Error    Rate\n",
              "-----  ---  -----  -------  ----------------\n",
              "0      384  4276   0.9176   (4276.0/4660.0)\n",
              "1      128  15220  0.0083   (128.0/15348.0)\n",
              "Total  512  19496  0.2201   (4404.0/20008.0)"
            ],
            "text/html": [
              "<div style=\"overflow:auto\"><table style=\"width:50%\"><tr><td><b></b></td>\n",
              "<td><b>0</b></td>\n",
              "<td><b>1</b></td>\n",
              "<td><b>Error</b></td>\n",
              "<td><b>Rate</b></td></tr>\n",
              "<tr><td>0</td>\n",
              "<td>384.0</td>\n",
              "<td>4276.0</td>\n",
              "<td>0.9176</td>\n",
              "<td> (4276.0/4660.0)</td></tr>\n",
              "<tr><td>1</td>\n",
              "<td>128.0</td>\n",
              "<td>15220.0</td>\n",
              "<td>0.0083</td>\n",
              "<td> (128.0/15348.0)</td></tr>\n",
              "<tr><td>Total</td>\n",
              "<td>512.0</td>\n",
              "<td>19496.0</td>\n",
              "<td>0.2201</td>\n",
              "<td> (4404.0/20008.0)</td></tr></table></div>"
            ]
          },
          "metadata": {
            "tags": []
          }
        },
        {
          "output_type": "execute_result",
          "data": {
            "text/plain": [
              ""
            ]
          },
          "metadata": {
            "tags": []
          },
          "execution_count": 14
        }
      ]
    },
    {
      "metadata": {
        "id": "TBmw0OS5oa-m",
        "colab_type": "text"
      },
      "cell_type": "markdown",
      "source": [
        "The variable importance plot below shows us that the most important variable is `HelpfulnessNumerator`.  Looking at the partial dependency plot for that variable, we see that the more people who find the review helpful, the more likely it is a good review."
      ]
    },
    {
      "metadata": {
        "id": "NHXwkNn5oa-n",
        "colab_type": "code",
        "colab": {
          "base_uri": "https://localhost:8080/",
          "height": 612
        },
        "outputId": "a0629a25-70b7-41cb-f546-e81d7c5e5252"
      },
      "cell_type": "code",
      "source": [
        "gbm_baseline.varimp_plot()"
      ],
      "execution_count": 15,
      "outputs": [
        {
          "output_type": "display_data",
          "data": {
            "image/png": "[encoded data removed]",
            "text/plain": [
              "<Figure size 1008x720 with 1 Axes>"
            ]
          },
          "metadata": {
            "tags": []
          }
        }
      ]
    },
    {
      "metadata": {
        "id": "WOObtNbuoa-r",
        "colab_type": "code",
        "colab": {
          "base_uri": "https://localhost:8080/",
          "height": 760
        },
        "outputId": "35b7a62d-c34b-4a67-ec1e-bd0023ea8b6a"
      },
      "cell_type": "code",
      "source": [
        "%matplotlib inline  \n",
        "pdp_helpfulness = gbm_baseline.partial_plot(train, cols = [\"HelpfulnessNumerator\"])"
      ],
      "execution_count": 16,
      "outputs": [
        {
          "output_type": "stream",
          "text": [
            "PartialDependencePlot progress: |█████████████████████████████████████████| 100%\n"
          ],
          "name": "stdout"
        },
        {
          "output_type": "display_data",
          "data": {
            "image/png": "[encoded data removed]",
            "text/plain": [
              "<Figure size 504x720 with 1 Axes>"
            ]
          },
          "metadata": {
            "tags": []
          }
        }
      ]
    },
    {
      "metadata": {
        "id": "OdanVM2Soa-v",
        "colab_type": "text"
      },
      "cell_type": "markdown",
      "source": [
        "## Tokenize Words in Review\n",
        "\n",
        "Our first step will be to tokenize the words in the review column. We will do this by creating a function called `tokenize`.  This will split the reviews into words and remove any stop words, small words, or words with numbers in them."
      ]
    },
    {
      "metadata": {
        "id": "y_DiPjQDoa-x",
        "colab_type": "code",
        "colab": {}
      },
      "cell_type": "code",
      "source": [
        "# Set Stop Words\n",
        "# The STOP WORDS we are importing are from the nltk package\n",
        "import pandas as pd\n",
        "import os\n",
        "\n",
        "# Use local data file or download from GitHub\n",
        "# docker_data_path = \"/home/h2o/data/nlp/stopwords.csv\"\n",
        "# if os.path.isfile(docker_data_path):\n",
        "#   data_path = docker_data_path\n",
        "# else:\n",
        "data_path = \"https://raw.githubusercontent.com/h2oai/h2o-tutorials/master/h2o-world-2017/nlp/stopwords.csv\"\n",
        "\n",
        "STOP_WORDS = pd.read_csv(data_path, header=0)\n",
        "STOP_WORDS = list(STOP_WORDS['STOP_WORD'])\n",
        "# STOP_WORDS"
      ],
      "execution_count": 0,
      "outputs": []
    },
    {
      "metadata": {
        "id": "4O7vzRC5oa-3",
        "colab_type": "code",
        "colab": {}
      },
      "cell_type": "code",
      "source": [
        "def tokenize(sentences, stop_word = STOP_WORDS):\n",
        "    tokenized = sentences.tokenize(\"\\\\W+\")\n",
        "    tokenized_lower = tokenized.tolower()\n",
        "    tokenized_filtered = tokenized_lower[(tokenized_lower.nchar() >= 2) | (tokenized_lower.isna()),:]\n",
        "    tokenized_words = tokenized_filtered[tokenized_filtered.grep(\"[0-9]\",invert=True,output_logical=True),:]\n",
        "    tokenized_words = tokenized_words[(tokenized_words.isna()) | (~ tokenized_words.isin(STOP_WORDS)),:]\n",
        "    return tokenized_words"
      ],
      "execution_count": 0,
      "outputs": []
    },
    {
      "metadata": {
        "id": "50L1F4peoa-9",
        "colab_type": "code",
        "colab": {}
      },
      "cell_type": "code",
      "source": [
        "# Break reviews into sequence of words\n",
        "words = tokenize(reviews[\"Text\"])"
      ],
      "execution_count": 0,
      "outputs": []
    },
    {
      "metadata": {
        "id": "QXvAWUrWoa_B",
        "colab_type": "code",
        "colab": {
          "base_uri": "https://localhost:8080/",
          "height": 213
        },
        "outputId": "0de33a38-a3a4-4b96-f263-81da2584e100"
      },
      "cell_type": "code",
      "source": [
        "words.head()"
      ],
      "execution_count": 24,
      "outputs": [
        {
          "output_type": "display_data",
          "data": {
            "text/html": [
              "<table>\n",
              "<thead>\n",
              "<tr><th>C1       </th></tr>\n",
              "</thead>\n",
              "<tbody>\n",
              "<tr><td>made     </td></tr>\n",
              "<tr><td>china    </td></tr>\n",
              "<tr><td>buy      </td></tr>\n",
              "<tr><td>pet      </td></tr>\n",
              "<tr><td>food     </td></tr>\n",
              "<tr><td>china    </td></tr>\n",
              "<tr><td>dogswell </td></tr>\n",
              "<tr><td>using    </td></tr>\n",
              "<tr><td>propylene</td></tr>\n",
              "<tr><td>glycol   </td></tr>\n",
              "</tbody>\n",
              "</table>"
            ]
          },
          "metadata": {
            "tags": []
          }
        },
        {
          "output_type": "execute_result",
          "data": {
            "text/plain": [
              ""
            ]
          },
          "metadata": {
            "tags": []
          },
          "execution_count": 24
        }
      ]
    },
    {
      "metadata": {
        "id": "qKID5Quqoa_D",
        "colab_type": "text"
      },
      "cell_type": "markdown",
      "source": [
        "## Train Word2Vec Model\n",
        "\n",
        "Now that we've tokenized our words, we can train a word2vec model.  We can use the `find_synonms` function to sanity check our word2vec model after training."
      ]
    },
    {
      "metadata": {
        "id": "RUKWBXKMoa_E",
        "colab_type": "code",
        "colab": {
          "base_uri": "https://localhost:8080/",
          "height": 34
        },
        "outputId": "109ea9db-2496-4e2e-ef60-966288c1f7c5"
      },
      "cell_type": "code",
      "source": [
        "# Train Word2Vec Model\n",
        "from h2o.estimators.word2vec import H2OWord2vecEstimator\n",
        "\n",
        "# This takes time to run - left commented out\n",
        "w2v_model = H2OWord2vecEstimator(vec_size = 100, model_id = \"w2v.hex\")\n",
        "w2v_model.train(training_frame=words)\n",
        "\n",
        "# Pre-trained model available on s3: https://s3.amazonaws.com/tomk/h2o-world/megan/w2v.hex\n",
        "# w2v_model = h2o.load_model(\"/home/h2o/data/megan/w2v.hex\")"
      ],
      "execution_count": 25,
      "outputs": [
        {
          "output_type": "stream",
          "text": [
            "word2vec Model Build progress: |██████████████████████████████████████████| 100%\n"
          ],
          "name": "stdout"
        }
      ]
    },
    {
      "metadata": {
        "id": "mUTJ5ZW4oa_H",
        "colab_type": "code",
        "colab": {
          "base_uri": "https://localhost:8080/",
          "height": 34
        },
        "outputId": "a2a6662e-9074-4741-be8b-a42e1b76963f"
      },
      "cell_type": "code",
      "source": [
        "pwd()"
      ],
      "execution_count": 26,
      "outputs": [
        {
          "output_type": "execute_result",
          "data": {
            "text/plain": [
              "u'/content'"
            ]
          },
          "metadata": {
            "tags": []
          },
          "execution_count": 26
        }
      ]
    },
    {
      "metadata": {
        "id": "sERZopXToa_J",
        "colab_type": "code",
        "colab": {
          "base_uri": "https://localhost:8080/",
          "height": 34
        },
        "outputId": "ad0a1484-4e71-485f-c636-1af669cac5e8"
      },
      "cell_type": "code",
      "source": [
        "# load pre-trained model\n",
        "# w2v_model = h2o.load_model(\"w2v.hex\")\n",
        "# w2v_model = h2o.save_model(w2v_model, \"w2v.hex\")\n",
        "model_path = h2o.save_model(model=w2v_model, path=\"../model\", force=True)\n",
        "print(model_path)\n",
        "\n",
        "# load the model\n",
        "# saved_model = h2o.load_model(model_path)\n",
        "# h2o.save_model(w2v_model, \"../model\")"
      ],
      "execution_count": 27,
      "outputs": [
        {
          "output_type": "stream",
          "text": [
            "/model/w2v.hex\n"
          ],
          "name": "stdout"
        }
      ]
    },
    {
      "metadata": {
        "id": "YmcQyX2foa_M",
        "colab_type": "code",
        "colab": {
          "base_uri": "https://localhost:8080/",
          "height": 194
        },
        "outputId": "71a95a08-6ad7-4955-e269-d5a109476e63"
      },
      "cell_type": "code",
      "source": [
        "# Sanity check - find synonyms for the word 'coffee'\n",
        "w2v_model.find_synonyms(\"coffee\", count = 10)"
      ],
      "execution_count": 28,
      "outputs": [
        {
          "output_type": "execute_result",
          "data": {
            "text/plain": [
              "OrderedDict([(u'coffe', 0.8035005927085876),\n",
              "             (u'coffees', 0.7902882099151611),\n",
              "             (u'espresso', 0.7684420347213745),\n",
              "             (u'expresso', 0.7574020028114319),\n",
              "             (u'starbucks', 0.7301027774810791),\n",
              "             (u'folgers', 0.7280727028846741),\n",
              "             (u'brewed', 0.7256006002426147),\n",
              "             (u'brew', 0.6922662854194641),\n",
              "             (u'cappuccino', 0.6867212057113647),\n",
              "             (u'cofee', 0.6813964247703552)])"
            ]
          },
          "metadata": {
            "tags": []
          },
          "execution_count": 28
        }
      ]
    },
    {
      "metadata": {
        "id": "zUhOALEuoa_O",
        "colab_type": "code",
        "colab": {
          "base_uri": "https://localhost:8080/",
          "height": 105
        },
        "outputId": "9eaf0d3e-f96a-4df5-9398-7b8c7df963ca"
      },
      "cell_type": "code",
      "source": [
        "# Sanity check - find synonyms for the word 'stale'\n",
        "w2v_model.find_synonyms(\"stale\", count = 5)"
      ],
      "execution_count": 29,
      "outputs": [
        {
          "output_type": "execute_result",
          "data": {
            "text/plain": [
              "OrderedDict([(u'rancid', 0.7226726412773132),\n",
              "             (u'inedible', 0.6781060099601746),\n",
              "             (u'moldy', 0.6705579161643982),\n",
              "             (u'expired', 0.643478512763977),\n",
              "             (u'exp', 0.6001684069633484)])"
            ]
          },
          "metadata": {
            "tags": []
          },
          "execution_count": 29
        }
      ]
    },
    {
      "metadata": {
        "id": "8AmOpXVAoa_Q",
        "colab_type": "code",
        "colab": {
          "base_uri": "https://localhost:8080/",
          "height": 141
        },
        "outputId": "870de27a-f06c-43e4-f28e-08debeab7eb1"
      },
      "cell_type": "code",
      "source": [
        "w2v_model.show"
      ],
      "execution_count": 30,
      "outputs": [
        {
          "output_type": "stream",
          "text": [
            "Model Details\n",
            "=============\n",
            "H2OWord2vecEstimator :  Word2Vec\n",
            "Model Key:  w2v.hex\n",
            "No model summary for this model\n",
            "\n"
          ],
          "name": "stdout"
        },
        {
          "output_type": "execute_result",
          "data": {
            "text/plain": [
              "<bound method H2OWord2vecEstimator.show of >"
            ]
          },
          "metadata": {
            "tags": []
          },
          "execution_count": 30
        }
      ]
    },
    {
      "metadata": {
        "id": "FYsdrgvpoa_U",
        "colab_type": "text"
      },
      "cell_type": "markdown",
      "source": [
        "Now that we have a word embedding for each word in our vocabulary, we will aggregate the words for each review using the `transform` function.  This will give us one aggregated word embedding for each review."
      ]
    },
    {
      "metadata": {
        "id": "YoHx1p7Woa_V",
        "colab_type": "code",
        "colab": {}
      },
      "cell_type": "code",
      "source": [
        "# Calculate a vector for each review\n",
        "review_vecs = w2v_model.transform(words, aggregate_method = \"AVERAGE\")"
      ],
      "execution_count": 0,
      "outputs": []
    },
    {
      "metadata": {
        "id": "45qa0qWPoa_Y",
        "colab_type": "code",
        "colab": {
          "base_uri": "https://localhost:8080/",
          "height": 233
        },
        "outputId": "d1656330-4f86-4625-f89f-4d0c135e1539"
      },
      "cell_type": "code",
      "source": [
        "review_vecs"
      ],
      "execution_count": 32,
      "outputs": [
        {
          "output_type": "display_data",
          "data": {
            "text/html": [
              "<table>\n",
              "<thead>\n",
              "<tr><th style=\"text-align: right;\">        C1</th><th style=\"text-align: right;\">       C2</th><th style=\"text-align: right;\">         C3</th><th style=\"text-align: right;\">        C4</th><th style=\"text-align: right;\">       C5</th><th style=\"text-align: right;\">        C6</th><th style=\"text-align: right;\">       C7</th><th style=\"text-align: right;\">        C8</th><th style=\"text-align: right;\">         C9</th><th style=\"text-align: right;\">       C10</th><th style=\"text-align: right;\">       C11</th><th style=\"text-align: right;\">        C12</th><th style=\"text-align: right;\">       C13</th><th style=\"text-align: right;\">      C14</th><th style=\"text-align: right;\">       C15</th><th style=\"text-align: right;\">        C16</th><th style=\"text-align: right;\">        C17</th><th style=\"text-align: right;\">        C18</th><th style=\"text-align: right;\">         C19</th><th style=\"text-align: right;\">       C20</th><th style=\"text-align: right;\">        C21</th><th style=\"text-align: right;\">        C22</th><th style=\"text-align: right;\">       C23</th><th style=\"text-align: right;\">       C24</th><th style=\"text-align: right;\">     C25</th><th style=\"text-align: right;\">       C26</th><th style=\"text-align: right;\">      C27</th><th style=\"text-align: right;\">        C28</th><th style=\"text-align: right;\">        C29</th><th style=\"text-align: right;\">        C30</th><th style=\"text-align: right;\">        C31</th><th style=\"text-align: right;\">       C32</th><th style=\"text-align: right;\">        C33</th><th style=\"text-align: right;\">       C34</th><th style=\"text-align: right;\">       C35</th><th style=\"text-align: right;\">        C36</th><th style=\"text-align: right;\">        C37</th><th style=\"text-align: right;\">       C38</th><th style=\"text-align: right;\">        C39</th><th style=\"text-align: right;\">       C40</th><th style=\"text-align: right;\">        C41</th><th style=\"text-align: right;\">        C42</th><th style=\"text-align: right;\">       C43</th><th style=\"text-align: right;\">       C44</th><th style=\"text-align: right;\">       C45</th><th style=\"text-align: right;\">       C46</th><th style=\"text-align: right;\">         C47</th><th style=\"text-align: right;\">       C48</th><th style=\"text-align: right;\">      C49</th><th style=\"text-align: right;\">        C50</th><th style=\"text-align: right;\">       C51</th><th style=\"text-align: right;\">         C52</th><th style=\"text-align: right;\">         C53</th><th style=\"text-align: right;\">       C54</th><th style=\"text-align: right;\">       C55</th><th style=\"text-align: right;\">       C56</th><th style=\"text-align: right;\">        C57</th><th style=\"text-align: right;\">        C58</th><th style=\"text-align: right;\">       C59</th><th style=\"text-align: right;\">       C60</th><th style=\"text-align: right;\">       C61</th><th style=\"text-align: right;\">       C62</th><th style=\"text-align: right;\">         C63</th><th style=\"text-align: right;\">        C64</th><th style=\"text-align: right;\">       C65</th><th style=\"text-align: right;\">       C66</th><th style=\"text-align: right;\">       C67</th><th style=\"text-align: right;\">         C68</th><th style=\"text-align: right;\">       C69</th><th style=\"text-align: right;\">        C70</th><th style=\"text-align: right;\">        C71</th><th style=\"text-align: right;\">       C72</th><th style=\"text-align: right;\">        C73</th><th style=\"text-align: right;\">       C74</th><th style=\"text-align: right;\">       C75</th><th style=\"text-align: right;\">      C76</th><th style=\"text-align: right;\">       C77</th><th style=\"text-align: right;\">       C78</th><th style=\"text-align: right;\">       C79</th><th style=\"text-align: right;\">        C80</th><th style=\"text-align: right;\">        C81</th><th style=\"text-align: right;\">        C82</th><th style=\"text-align: right;\">        C83</th><th style=\"text-align: right;\">        C84</th><th style=\"text-align: right;\">       C85</th><th style=\"text-align: right;\">        C86</th><th style=\"text-align: right;\">       C87</th><th style=\"text-align: right;\">       C88</th><th style=\"text-align: right;\">        C89</th><th style=\"text-align: right;\">       C90</th><th style=\"text-align: right;\">        C91</th><th style=\"text-align: right;\">        C92</th><th style=\"text-align: right;\">       C93</th><th style=\"text-align: right;\">       C94</th><th style=\"text-align: right;\">       C95</th><th style=\"text-align: right;\">       C96</th><th style=\"text-align: right;\">         C97</th><th style=\"text-align: right;\">        C98</th><th style=\"text-align: right;\">        C99</th><th style=\"text-align: right;\">      C100</th></tr>\n",
              "</thead>\n",
              "<tbody>\n",
              "<tr><td style=\"text-align: right;\">-0.161892 </td><td style=\"text-align: right;\">0.0930343</td><td style=\"text-align: right;\">-0.0851732 </td><td style=\"text-align: right;\"> 0.16904  </td><td style=\"text-align: right;\">0.0278664</td><td style=\"text-align: right;\">-0.0778523</td><td style=\"text-align: right;\">0.0642359</td><td style=\"text-align: right;\"> 0.273262 </td><td style=\"text-align: right;\">-0.0159733 </td><td style=\"text-align: right;\">-0.156453 </td><td style=\"text-align: right;\"> 0.0499398</td><td style=\"text-align: right;\"> 0.183431  </td><td style=\"text-align: right;\"> 0.0934333</td><td style=\"text-align: right;\">0.0940968</td><td style=\"text-align: right;\"> 0.0520977</td><td style=\"text-align: right;\"> 0.054667  </td><td style=\"text-align: right;\">-0.093986  </td><td style=\"text-align: right;\"> 0.0956855 </td><td style=\"text-align: right;\"> 0.00278509 </td><td style=\"text-align: right;\">-0.052165 </td><td style=\"text-align: right;\"> 0.056992  </td><td style=\"text-align: right;\"> 0.124967  </td><td style=\"text-align: right;\">-0.047381 </td><td style=\"text-align: right;\">-0.134972 </td><td style=\"text-align: right;\">0.145481</td><td style=\"text-align: right;\">-0.0183362</td><td style=\"text-align: right;\">0.159669 </td><td style=\"text-align: right;\"> 0.0216429 </td><td style=\"text-align: right;\"> 0.00516524</td><td style=\"text-align: right;\"> 0.0917128 </td><td style=\"text-align: right;\">-0.0748651 </td><td style=\"text-align: right;\">-0.100101 </td><td style=\"text-align: right;\">-0.0484109 </td><td style=\"text-align: right;\"> 0.0444021</td><td style=\"text-align: right;\">-0.085176 </td><td style=\"text-align: right;\"> 0.0154161 </td><td style=\"text-align: right;\"> 0.0261713 </td><td style=\"text-align: right;\"> 0.0381072</td><td style=\"text-align: right;\"> 0.0244145 </td><td style=\"text-align: right;\">-0.156631 </td><td style=\"text-align: right;\"> 0.00560856</td><td style=\"text-align: right;\">-0.0504879 </td><td style=\"text-align: right;\">-0.0963098</td><td style=\"text-align: right;\"> 0.185124 </td><td style=\"text-align: right;\"> 0.230925 </td><td style=\"text-align: right;\"> 0.0495962</td><td style=\"text-align: right;\"> 0.0392641  </td><td style=\"text-align: right;\"> 0.0485997</td><td style=\"text-align: right;\">0.0149761</td><td style=\"text-align: right;\"> 0.102119  </td><td style=\"text-align: right;\"> 0.0363626</td><td style=\"text-align: right;\"> 0.00497538 </td><td style=\"text-align: right;\">-0.0393609  </td><td style=\"text-align: right;\">-0.0668434</td><td style=\"text-align: right;\">-0.194136 </td><td style=\"text-align: right;\">-0.0187047</td><td style=\"text-align: right;\"> 0.0256206 </td><td style=\"text-align: right;\">-0.0356689 </td><td style=\"text-align: right;\">-0.0305356</td><td style=\"text-align: right;\">-0.0663412</td><td style=\"text-align: right;\">-0.179477 </td><td style=\"text-align: right;\">-0.0152186</td><td style=\"text-align: right;\"> 0.098719   </td><td style=\"text-align: right;\"> 0.0709806 </td><td style=\"text-align: right;\">-0.0912172</td><td style=\"text-align: right;\">0.0537844 </td><td style=\"text-align: right;\"> 0.005762 </td><td style=\"text-align: right;\">-0.000178073</td><td style=\"text-align: right;\">-0.190148 </td><td style=\"text-align: right;\">-0.0106966 </td><td style=\"text-align: right;\"> 0.011459  </td><td style=\"text-align: right;\">-0.122516 </td><td style=\"text-align: right;\"> 0.0572487 </td><td style=\"text-align: right;\">-0.0966276</td><td style=\"text-align: right;\"> 0.0675223</td><td style=\"text-align: right;\">0.0321724</td><td style=\"text-align: right;\"> 0.111159 </td><td style=\"text-align: right;\">-0.0104976</td><td style=\"text-align: right;\"> 0.290589 </td><td style=\"text-align: right;\">-0.105715  </td><td style=\"text-align: right;\"> 0.117403  </td><td style=\"text-align: right;\">-0.0933611 </td><td style=\"text-align: right;\"> 0.0891857 </td><td style=\"text-align: right;\"> 0.0925955 </td><td style=\"text-align: right;\"> 0.115495 </td><td style=\"text-align: right;\">-0.0341797 </td><td style=\"text-align: right;\">-0.117218 </td><td style=\"text-align: right;\"> 0.0535851</td><td style=\"text-align: right;\"> 0.0609891 </td><td style=\"text-align: right;\"> 0.059321 </td><td style=\"text-align: right;\"> 0.110375  </td><td style=\"text-align: right;\"> 0.123893  </td><td style=\"text-align: right;\">-0.015318 </td><td style=\"text-align: right;\">-0.0226315</td><td style=\"text-align: right;\">-0.253176 </td><td style=\"text-align: right;\">-0.15128  </td><td style=\"text-align: right;\"> 0.11205    </td><td style=\"text-align: right;\"> 0.0361988 </td><td style=\"text-align: right;\">-0.0198243 </td><td style=\"text-align: right;\"> 0.225661 </td></tr>\n",
              "<tr><td style=\"text-align: right;\">-0.138132 </td><td style=\"text-align: right;\">0.0791107</td><td style=\"text-align: right;\"> 0.0236615 </td><td style=\"text-align: right;\"> 0.160047 </td><td style=\"text-align: right;\">0.23644  </td><td style=\"text-align: right;\">-0.177428 </td><td style=\"text-align: right;\">0.114312 </td><td style=\"text-align: right;\">-0.0875023</td><td style=\"text-align: right;\">-0.0872253 </td><td style=\"text-align: right;\">-0.162354 </td><td style=\"text-align: right;\">-0.17969  </td><td style=\"text-align: right;\">-0.0318285 </td><td style=\"text-align: right;\">-0.0167185</td><td style=\"text-align: right;\">0.0654358</td><td style=\"text-align: right;\">-0.129898 </td><td style=\"text-align: right;\">-0.0560679 </td><td style=\"text-align: right;\">-0.00441063</td><td style=\"text-align: right;\"> 0.0289725 </td><td style=\"text-align: right;\">-0.0337192  </td><td style=\"text-align: right;\">-0.0439396</td><td style=\"text-align: right;\"> 0.0453303 </td><td style=\"text-align: right;\"> 0.0624415 </td><td style=\"text-align: right;\"> 0.0792222</td><td style=\"text-align: right;\"> 0.0734965</td><td style=\"text-align: right;\">0.22009 </td><td style=\"text-align: right;\">-0.022247 </td><td style=\"text-align: right;\">0.18292  </td><td style=\"text-align: right;\">-0.00115537</td><td style=\"text-align: right;\">-0.197502  </td><td style=\"text-align: right;\">-0.11229   </td><td style=\"text-align: right;\"> 0.0203277 </td><td style=\"text-align: right;\"> 0.0423719</td><td style=\"text-align: right;\">-0.0359149 </td><td style=\"text-align: right;\"> 0.0265668</td><td style=\"text-align: right;\"> 0.124274 </td><td style=\"text-align: right;\">-0.00100259</td><td style=\"text-align: right;\">-0.0664857 </td><td style=\"text-align: right;\"> 0.0329106</td><td style=\"text-align: right;\">-0.236811  </td><td style=\"text-align: right;\">-0.117399 </td><td style=\"text-align: right;\">-0.0294851 </td><td style=\"text-align: right;\">-0.115668  </td><td style=\"text-align: right;\">-0.152551 </td><td style=\"text-align: right;\"> 0.156225 </td><td style=\"text-align: right;\"> 0.0995649</td><td style=\"text-align: right;\"> 0.147377 </td><td style=\"text-align: right;\"> 0.0648537  </td><td style=\"text-align: right;\"> 0.0356592</td><td style=\"text-align: right;\">0.0507441</td><td style=\"text-align: right;\"> 0.131795  </td><td style=\"text-align: right;\"> 0.241152 </td><td style=\"text-align: right;\">-0.0840799  </td><td style=\"text-align: right;\"> 0.0322573  </td><td style=\"text-align: right;\">-0.172002 </td><td style=\"text-align: right;\">-0.13646  </td><td style=\"text-align: right;\"> 0.172157 </td><td style=\"text-align: right;\">-0.0146251 </td><td style=\"text-align: right;\"> 0.0439066 </td><td style=\"text-align: right;\"> 0.0571155</td><td style=\"text-align: right;\"> 0.0551726</td><td style=\"text-align: right;\">-0.110076 </td><td style=\"text-align: right;\"> 0.0799305</td><td style=\"text-align: right;\"> 0.00218712 </td><td style=\"text-align: right;\">-0.00762823</td><td style=\"text-align: right;\"> 0.0455663</td><td style=\"text-align: right;\">0.0730291 </td><td style=\"text-align: right;\"> 0.0300165</td><td style=\"text-align: right;\"> 0.214989   </td><td style=\"text-align: right;\">-0.0549826</td><td style=\"text-align: right;\"> 0.0153444 </td><td style=\"text-align: right;\">-0.0528328 </td><td style=\"text-align: right;\">-0.0766511</td><td style=\"text-align: right;\">-0.0329052 </td><td style=\"text-align: right;\">-0.133938 </td><td style=\"text-align: right;\"> 0.106078 </td><td style=\"text-align: right;\">0.162135 </td><td style=\"text-align: right;\"> 0.0174417</td><td style=\"text-align: right;\"> 0.0816817</td><td style=\"text-align: right;\"> 0.135548 </td><td style=\"text-align: right;\"> 0.0211573 </td><td style=\"text-align: right;\"> 0.0620525 </td><td style=\"text-align: right;\">-0.0668017 </td><td style=\"text-align: right;\">-0.0778401 </td><td style=\"text-align: right;\">-0.0490728 </td><td style=\"text-align: right;\">-0.0172248</td><td style=\"text-align: right;\"> 0.0238451 </td><td style=\"text-align: right;\">-0.075888 </td><td style=\"text-align: right;\">-0.1744   </td><td style=\"text-align: right;\"> 0.0101017 </td><td style=\"text-align: right;\">-0.147459 </td><td style=\"text-align: right;\"> 0.0265653 </td><td style=\"text-align: right;\">-0.0433015 </td><td style=\"text-align: right;\"> 0.161185 </td><td style=\"text-align: right;\"> 0.0764873</td><td style=\"text-align: right;\">-0.0463887</td><td style=\"text-align: right;\">-0.132958 </td><td style=\"text-align: right;\"> 0.0247104  </td><td style=\"text-align: right;\"> 0.050651  </td><td style=\"text-align: right;\"> 0.054401  </td><td style=\"text-align: right;\"> 0.0443492</td></tr>\n",
              "<tr><td style=\"text-align: right;\">-0.198694 </td><td style=\"text-align: right;\">0.10007  </td><td style=\"text-align: right;\"> 0.0691786 </td><td style=\"text-align: right;\"> 0.0928468</td><td style=\"text-align: right;\">0.181601 </td><td style=\"text-align: right;\">-0.118148 </td><td style=\"text-align: right;\">0.145056 </td><td style=\"text-align: right;\"> 0.0593711</td><td style=\"text-align: right;\">-0.0885287 </td><td style=\"text-align: right;\">-0.211207 </td><td style=\"text-align: right;\">-0.0886378</td><td style=\"text-align: right;\"> 0.161293  </td><td style=\"text-align: right;\"> 0.0665035</td><td style=\"text-align: right;\">0.176655 </td><td style=\"text-align: right;\"> 0.0247663</td><td style=\"text-align: right;\"> 0.00134263</td><td style=\"text-align: right;\">-0.136302  </td><td style=\"text-align: right;\"> 0.0959065 </td><td style=\"text-align: right;\"> 0.0295963  </td><td style=\"text-align: right;\">-0.0140171</td><td style=\"text-align: right;\"> 0.0395753 </td><td style=\"text-align: right;\"> 0.070712  </td><td style=\"text-align: right;\"> 0.0672258</td><td style=\"text-align: right;\">-0.021858 </td><td style=\"text-align: right;\">0.101301</td><td style=\"text-align: right;\">-0.13412  </td><td style=\"text-align: right;\">0.0453851</td><td style=\"text-align: right;\"> 0.0368789 </td><td style=\"text-align: right;\">-0.048934  </td><td style=\"text-align: right;\"> 0.0544635 </td><td style=\"text-align: right;\">-0.00302398</td><td style=\"text-align: right;\">-0.0409095</td><td style=\"text-align: right;\">-0.0200684 </td><td style=\"text-align: right;\">-0.0310482</td><td style=\"text-align: right;\"> 0.127208 </td><td style=\"text-align: right;\"> 0.135626  </td><td style=\"text-align: right;\">-0.0235635 </td><td style=\"text-align: right;\"> 0.111379 </td><td style=\"text-align: right;\"> 0.0248179 </td><td style=\"text-align: right;\">-0.143949 </td><td style=\"text-align: right;\"> 0.0561378 </td><td style=\"text-align: right;\">-0.0829042 </td><td style=\"text-align: right;\">-0.146434 </td><td style=\"text-align: right;\"> 0.218675 </td><td style=\"text-align: right;\"> 0.252219 </td><td style=\"text-align: right;\"> 0.0715443</td><td style=\"text-align: right;\"> 0.0124759  </td><td style=\"text-align: right;\">-0.013339 </td><td style=\"text-align: right;\">0.129195 </td><td style=\"text-align: right;\"> 0.0518379 </td><td style=\"text-align: right;\"> 0.0294575</td><td style=\"text-align: right;\"> 0.000193571</td><td style=\"text-align: right;\"> 0.1176     </td><td style=\"text-align: right;\">-0.115872 </td><td style=\"text-align: right;\">-0.0417426</td><td style=\"text-align: right;\"> 0.0443272</td><td style=\"text-align: right;\">-0.085428  </td><td style=\"text-align: right;\"> 0.124811  </td><td style=\"text-align: right;\"> 0.0722051</td><td style=\"text-align: right;\">-0.036358 </td><td style=\"text-align: right;\">-0.16826  </td><td style=\"text-align: right;\">-0.107374 </td><td style=\"text-align: right;\">-0.00797028 </td><td style=\"text-align: right;\"> 0.0717093 </td><td style=\"text-align: right;\">-0.0492567</td><td style=\"text-align: right;\">0.127444  </td><td style=\"text-align: right;\"> 0.0250174</td><td style=\"text-align: right;\"> 0.114854   </td><td style=\"text-align: right;\">-0.186374 </td><td style=\"text-align: right;\"> 0.0257305 </td><td style=\"text-align: right;\"> 0.123645  </td><td style=\"text-align: right;\"> 0.0806656</td><td style=\"text-align: right;\">-0.0223753 </td><td style=\"text-align: right;\"> 0.0176133</td><td style=\"text-align: right;\">-0.0352146</td><td style=\"text-align: right;\">0.104699 </td><td style=\"text-align: right;\">-0.025903 </td><td style=\"text-align: right;\">-0.0403786</td><td style=\"text-align: right;\"> 0.146873 </td><td style=\"text-align: right;\"> 0.00302259</td><td style=\"text-align: right;\"> 0.117445  </td><td style=\"text-align: right;\">-0.0193154 </td><td style=\"text-align: right;\">-0.099677  </td><td style=\"text-align: right;\"> 0.00618972</td><td style=\"text-align: right;\"> 0.142715 </td><td style=\"text-align: right;\">-0.161706  </td><td style=\"text-align: right;\">-0.102399 </td><td style=\"text-align: right;\">-0.0147271</td><td style=\"text-align: right;\"> 0.0288738 </td><td style=\"text-align: right;\"> 0.130125 </td><td style=\"text-align: right;\"> 0.00396422</td><td style=\"text-align: right;\">-0.0474123 </td><td style=\"text-align: right;\"> 0.0194477</td><td style=\"text-align: right;\">-0.0181632</td><td style=\"text-align: right;\">-0.102295 </td><td style=\"text-align: right;\">-0.0369286</td><td style=\"text-align: right;\"> 0.00523765 </td><td style=\"text-align: right;\"> 0.014645  </td><td style=\"text-align: right;\"> 0.00158824</td><td style=\"text-align: right;\"> 0.0590781</td></tr>\n",
              "<tr><td style=\"text-align: right;\">-0.0781728</td><td style=\"text-align: right;\">0.0141397</td><td style=\"text-align: right;\"> 0.0817941 </td><td style=\"text-align: right;\"> 0.112643 </td><td style=\"text-align: right;\">0.217448 </td><td style=\"text-align: right;\">-0.0906442</td><td style=\"text-align: right;\">0.133801 </td><td style=\"text-align: right;\"> 0.051942 </td><td style=\"text-align: right;\">-0.0842981 </td><td style=\"text-align: right;\">-0.15672  </td><td style=\"text-align: right;\">-0.0638337</td><td style=\"text-align: right;\"> 0.138187  </td><td style=\"text-align: right;\">-0.0205204</td><td style=\"text-align: right;\">0.125258 </td><td style=\"text-align: right;\"> 0.0167562</td><td style=\"text-align: right;\">-0.0452131 </td><td style=\"text-align: right;\">-0.184357  </td><td style=\"text-align: right;\"> 0.0391022 </td><td style=\"text-align: right;\">-0.0172169  </td><td style=\"text-align: right;\">-0.0251776</td><td style=\"text-align: right;\">-0.00852568</td><td style=\"text-align: right;\">-0.027725  </td><td style=\"text-align: right;\">-0.0335927</td><td style=\"text-align: right;\">-0.120133 </td><td style=\"text-align: right;\">0.105955</td><td style=\"text-align: right;\">-0.0542361</td><td style=\"text-align: right;\">0.0804246</td><td style=\"text-align: right;\"> 0.0259358 </td><td style=\"text-align: right;\">-0.0965326 </td><td style=\"text-align: right;\"> 0.0133101 </td><td style=\"text-align: right;\">-0.00696801</td><td style=\"text-align: right;\"> 0.0355413</td><td style=\"text-align: right;\">-0.0766249 </td><td style=\"text-align: right;\"> 0.0916102</td><td style=\"text-align: right;\"> 0.206086 </td><td style=\"text-align: right;\"> 0.0544953 </td><td style=\"text-align: right;\">-0.00243987</td><td style=\"text-align: right;\"> 0.0398259</td><td style=\"text-align: right;\">-0.0325892 </td><td style=\"text-align: right;\">-0.131699 </td><td style=\"text-align: right;\">-0.0527252 </td><td style=\"text-align: right;\"> 0.0476563 </td><td style=\"text-align: right;\">-0.191133 </td><td style=\"text-align: right;\"> 0.1665   </td><td style=\"text-align: right;\"> 0.284653 </td><td style=\"text-align: right;\"> 0.091945 </td><td style=\"text-align: right;\">-0.0479511  </td><td style=\"text-align: right;\">-0.0715545</td><td style=\"text-align: right;\">0.0323152</td><td style=\"text-align: right;\"> 0.0626445 </td><td style=\"text-align: right;\"> 0.0635747</td><td style=\"text-align: right;\">-0.00166589 </td><td style=\"text-align: right;\"> 0.102737   </td><td style=\"text-align: right;\">-0.0209228</td><td style=\"text-align: right;\"> 0.0234787</td><td style=\"text-align: right;\"> 0.0177419</td><td style=\"text-align: right;\"> 0.0274624 </td><td style=\"text-align: right;\"> 0.0182769 </td><td style=\"text-align: right;\"> 0.138171 </td><td style=\"text-align: right;\"> 0.0200893</td><td style=\"text-align: right;\">-0.085615 </td><td style=\"text-align: right;\">-0.0924776</td><td style=\"text-align: right;\"> 0.0136598  </td><td style=\"text-align: right;\"> 0.0532598 </td><td style=\"text-align: right;\"> 0.0763445</td><td style=\"text-align: right;\">0.0890312 </td><td style=\"text-align: right;\"> 0.0971125</td><td style=\"text-align: right;\"> 0.132502   </td><td style=\"text-align: right;\">-0.126325 </td><td style=\"text-align: right;\"> 0.0568834 </td><td style=\"text-align: right;\"> 0.0177171 </td><td style=\"text-align: right;\"> 0.0277478</td><td style=\"text-align: right;\"> 0.0986242 </td><td style=\"text-align: right;\">-0.0158501</td><td style=\"text-align: right;\"> 0.0894366</td><td style=\"text-align: right;\">0.0375344</td><td style=\"text-align: right;\"> 0.153336 </td><td style=\"text-align: right;\"> 0.0308539</td><td style=\"text-align: right;\"> 0.165728 </td><td style=\"text-align: right;\">-0.0106545 </td><td style=\"text-align: right;\"> 0.0837148 </td><td style=\"text-align: right;\"> 0.0224657 </td><td style=\"text-align: right;\"> 0.025197  </td><td style=\"text-align: right;\"> 0.0563709 </td><td style=\"text-align: right;\"> 0.133665 </td><td style=\"text-align: right;\"> 0.00741971</td><td style=\"text-align: right;\">-0.0586791</td><td style=\"text-align: right;\"> 0.0149274</td><td style=\"text-align: right;\">-0.00177169</td><td style=\"text-align: right;\"> 0.1518   </td><td style=\"text-align: right;\"> 0.00912928</td><td style=\"text-align: right;\">-0.0888202 </td><td style=\"text-align: right;\"> 0.136581 </td><td style=\"text-align: right;\">-0.0437863</td><td style=\"text-align: right;\">-0.125664 </td><td style=\"text-align: right;\">-0.116115 </td><td style=\"text-align: right;\">-0.00271851 </td><td style=\"text-align: right;\"> 0.0464269 </td><td style=\"text-align: right;\"> 0.0262428 </td><td style=\"text-align: right;\"> 0.0308816</td></tr>\n",
              "<tr><td style=\"text-align: right;\">-0.202182 </td><td style=\"text-align: right;\">0.0269253</td><td style=\"text-align: right;\">-0.0353503 </td><td style=\"text-align: right;\"> 0.14491  </td><td style=\"text-align: right;\">0.234572 </td><td style=\"text-align: right;\">-0.131986 </td><td style=\"text-align: right;\">0.150121 </td><td style=\"text-align: right;\"> 0.137195 </td><td style=\"text-align: right;\">-0.0255377 </td><td style=\"text-align: right;\">-0.206225 </td><td style=\"text-align: right;\">-0.0249338</td><td style=\"text-align: right;\"> 0.203399  </td><td style=\"text-align: right;\"> 0.0251706</td><td style=\"text-align: right;\">0.0328042</td><td style=\"text-align: right;\"> 0.0330169</td><td style=\"text-align: right;\">-0.0481998 </td><td style=\"text-align: right;\">-0.148391  </td><td style=\"text-align: right;\"> 0.0313052 </td><td style=\"text-align: right;\"> 0.0283245  </td><td style=\"text-align: right;\">-0.0645778</td><td style=\"text-align: right;\"> 0.0167316 </td><td style=\"text-align: right;\"> 0.084055  </td><td style=\"text-align: right;\"> 0.0411309</td><td style=\"text-align: right;\">-0.132809 </td><td style=\"text-align: right;\">0.123439</td><td style=\"text-align: right;\">-0.0858251</td><td style=\"text-align: right;\">0.11248  </td><td style=\"text-align: right;\">-0.0139286 </td><td style=\"text-align: right;\"> 0.0402636 </td><td style=\"text-align: right;\"> 0.041227  </td><td style=\"text-align: right;\">-0.0808208 </td><td style=\"text-align: right;\">-0.0522975</td><td style=\"text-align: right;\">-0.172134  </td><td style=\"text-align: right;\">-0.0524358</td><td style=\"text-align: right;\"> 0.0994033</td><td style=\"text-align: right;\"> 0.158673  </td><td style=\"text-align: right;\">-0.0567009 </td><td style=\"text-align: right;\"> 0.0393884</td><td style=\"text-align: right;\">-0.023165  </td><td style=\"text-align: right;\">-0.0355983</td><td style=\"text-align: right;\">-0.0556461 </td><td style=\"text-align: right;\">-0.0697331 </td><td style=\"text-align: right;\">-0.185992 </td><td style=\"text-align: right;\"> 0.151812 </td><td style=\"text-align: right;\"> 0.281632 </td><td style=\"text-align: right;\"> 0.0772427</td><td style=\"text-align: right;\">-0.00668337 </td><td style=\"text-align: right;\"> 0.0079301</td><td style=\"text-align: right;\">0.0299082</td><td style=\"text-align: right;\"> 0.127222  </td><td style=\"text-align: right;\"> 0.0696723</td><td style=\"text-align: right;\">-0.0531213  </td><td style=\"text-align: right;\"> 0.0390563  </td><td style=\"text-align: right;\">-0.143182 </td><td style=\"text-align: right;\">-0.0638264</td><td style=\"text-align: right;\">-0.102663 </td><td style=\"text-align: right;\">-0.0444119 </td><td style=\"text-align: right;\">-0.050856  </td><td style=\"text-align: right;\">-0.0226573</td><td style=\"text-align: right;\">-0.0675896</td><td style=\"text-align: right;\">-0.122942 </td><td style=\"text-align: right;\">-0.0193348</td><td style=\"text-align: right;\"> 0.00325392 </td><td style=\"text-align: right;\"> 0.130974  </td><td style=\"text-align: right;\">-0.0637948</td><td style=\"text-align: right;\">0.0969573 </td><td style=\"text-align: right;\"> 0.0351642</td><td style=\"text-align: right;\"> 0.112212   </td><td style=\"text-align: right;\">-0.15772  </td><td style=\"text-align: right;\"> 0.00411816</td><td style=\"text-align: right;\">-0.00217466</td><td style=\"text-align: right;\">-0.0811707</td><td style=\"text-align: right;\"> 0.00164617</td><td style=\"text-align: right;\">-0.0117093</td><td style=\"text-align: right;\">-0.0156056</td><td style=\"text-align: right;\">0.121237 </td><td style=\"text-align: right;\"> 0.150357 </td><td style=\"text-align: right;\"> 0.0742726</td><td style=\"text-align: right;\"> 0.18667  </td><td style=\"text-align: right;\">-0.136742  </td><td style=\"text-align: right;\"> 0.14874   </td><td style=\"text-align: right;\"> 0.00297533</td><td style=\"text-align: right;\">-0.0122951 </td><td style=\"text-align: right;\"> 0.067377  </td><td style=\"text-align: right;\"> 0.0866983</td><td style=\"text-align: right;\">-0.0513485 </td><td style=\"text-align: right;\">-0.1111   </td><td style=\"text-align: right;\">-0.0153155</td><td style=\"text-align: right;\"> 0.0635322 </td><td style=\"text-align: right;\"> 0.0196088</td><td style=\"text-align: right;\">-0.0011625 </td><td style=\"text-align: right;\">-0.00221149</td><td style=\"text-align: right;\"> 0.0515705</td><td style=\"text-align: right;\">-0.0493815</td><td style=\"text-align: right;\">-0.078121 </td><td style=\"text-align: right;\">-0.031934 </td><td style=\"text-align: right;\"> 0.0882728  </td><td style=\"text-align: right;\">-0.011031  </td><td style=\"text-align: right;\">-0.146695  </td><td style=\"text-align: right;\"> 0.151475 </td></tr>\n",
              "<tr><td style=\"text-align: right;\">-0.184663 </td><td style=\"text-align: right;\">0.231391 </td><td style=\"text-align: right;\"> 0.080651  </td><td style=\"text-align: right;\"> 0.146968 </td><td style=\"text-align: right;\">0.174424 </td><td style=\"text-align: right;\">-0.122728 </td><td style=\"text-align: right;\">0.181267 </td><td style=\"text-align: right;\"> 0.0587521</td><td style=\"text-align: right;\"> 0.048269  </td><td style=\"text-align: right;\">-0.171611 </td><td style=\"text-align: right;\">-0.183187 </td><td style=\"text-align: right;\"> 0.00475962</td><td style=\"text-align: right;\"> 0.106839 </td><td style=\"text-align: right;\">0.0446732</td><td style=\"text-align: right;\"> 0.0342508</td><td style=\"text-align: right;\">-0.034118  </td><td style=\"text-align: right;\">-0.108214  </td><td style=\"text-align: right;\"> 0.0809544 </td><td style=\"text-align: right;\"> 0.0343502  </td><td style=\"text-align: right;\"> 0.0292968</td><td style=\"text-align: right;\"> 0.0684397 </td><td style=\"text-align: right;\"> 0.00853468</td><td style=\"text-align: right;\"> 0.100339 </td><td style=\"text-align: right;\">-0.0521386</td><td style=\"text-align: right;\">0.216428</td><td style=\"text-align: right;\"> 0.0152335</td><td style=\"text-align: right;\">0.0654238</td><td style=\"text-align: right;\"> 0.00263137</td><td style=\"text-align: right;\">-0.0776274 </td><td style=\"text-align: right;\"> 0.0906745 </td><td style=\"text-align: right;\"> 0.0585149 </td><td style=\"text-align: right;\"> 0.14818  </td><td style=\"text-align: right;\"> 0.00531114</td><td style=\"text-align: right;\">-0.0372422</td><td style=\"text-align: right;\"> 0.272701 </td><td style=\"text-align: right;\"> 0.024116  </td><td style=\"text-align: right;\"> 0.0493312 </td><td style=\"text-align: right;\"> 0.0930344</td><td style=\"text-align: right;\">-0.121248  </td><td style=\"text-align: right;\">-0.0995483</td><td style=\"text-align: right;\">-0.167489  </td><td style=\"text-align: right;\">-0.00340155</td><td style=\"text-align: right;\">-0.113789 </td><td style=\"text-align: right;\">-0.0600085</td><td style=\"text-align: right;\"> 0.0797835</td><td style=\"text-align: right;\"> 0.0579677</td><td style=\"text-align: right;\">-0.031918   </td><td style=\"text-align: right;\"> 0.0207932</td><td style=\"text-align: right;\">0.198474 </td><td style=\"text-align: right;\">-0.0103913 </td><td style=\"text-align: right;\"> 0.0620393</td><td style=\"text-align: right;\">-0.133164   </td><td style=\"text-align: right;\">-0.000474878</td><td style=\"text-align: right;\">-0.102391 </td><td style=\"text-align: right;\">-0.0781482</td><td style=\"text-align: right;\"> 0.176886 </td><td style=\"text-align: right;\">-0.0944623 </td><td style=\"text-align: right;\"> 0.0977005 </td><td style=\"text-align: right;\"> 0.163024 </td><td style=\"text-align: right;\"> 0.0519679</td><td style=\"text-align: right;\">-0.0765843</td><td style=\"text-align: right;\">-0.100103 </td><td style=\"text-align: right;\">-0.0284695  </td><td style=\"text-align: right;\"> 0.166762  </td><td style=\"text-align: right;\">-0.061592 </td><td style=\"text-align: right;\">0.00499477</td><td style=\"text-align: right;\">-0.0861354</td><td style=\"text-align: right;\"> 0.135622   </td><td style=\"text-align: right;\">-0.0128782</td><td style=\"text-align: right;\"> 0.178533  </td><td style=\"text-align: right;\"> 0.102948  </td><td style=\"text-align: right;\">-0.14142  </td><td style=\"text-align: right;\">-0.083031  </td><td style=\"text-align: right;\">-0.0826811</td><td style=\"text-align: right;\"> 0.125369 </td><td style=\"text-align: right;\">0.140101 </td><td style=\"text-align: right;\"> 0.121077 </td><td style=\"text-align: right;\"> 0.0978198</td><td style=\"text-align: right;\">-0.0141683</td><td style=\"text-align: right;\">-0.00408847</td><td style=\"text-align: right;\"> 0.00301478</td><td style=\"text-align: right;\">-0.0697643 </td><td style=\"text-align: right;\"> 0.0188286 </td><td style=\"text-align: right;\">-0.185857  </td><td style=\"text-align: right;\"> 0.122729 </td><td style=\"text-align: right;\">-0.009206  </td><td style=\"text-align: right;\">-0.0567305</td><td style=\"text-align: right;\"> 0.0536086</td><td style=\"text-align: right;\"> 0.0815661 </td><td style=\"text-align: right;\">-0.136064 </td><td style=\"text-align: right;\"> 0.169045  </td><td style=\"text-align: right;\">-0.0662754 </td><td style=\"text-align: right;\"> 0.0484526</td><td style=\"text-align: right;\">-0.106485 </td><td style=\"text-align: right;\">-0.153001 </td><td style=\"text-align: right;\">-0.144044 </td><td style=\"text-align: right;\"> 0.00384614 </td><td style=\"text-align: right;\">-0.0388521 </td><td style=\"text-align: right;\">-0.145468  </td><td style=\"text-align: right;\">-0.0457865</td></tr>\n",
              "<tr><td style=\"text-align: right;\">-0.163348 </td><td style=\"text-align: right;\">0.0147017</td><td style=\"text-align: right;\"> 0.0766184 </td><td style=\"text-align: right;\"> 0.143211 </td><td style=\"text-align: right;\">0.165174 </td><td style=\"text-align: right;\">-0.129396 </td><td style=\"text-align: right;\">0.0347177</td><td style=\"text-align: right;\">-0.0324774</td><td style=\"text-align: right;\">-0.00461506</td><td style=\"text-align: right;\">-0.0774409</td><td style=\"text-align: right;\">-0.22486  </td><td style=\"text-align: right;\"> 0.105591  </td><td style=\"text-align: right;\"> 0.19017  </td><td style=\"text-align: right;\">0.10574  </td><td style=\"text-align: right;\">-0.116971 </td><td style=\"text-align: right;\">-0.0699293 </td><td style=\"text-align: right;\">-0.00568954</td><td style=\"text-align: right;\">-0.0720564 </td><td style=\"text-align: right;\">-0.0509503  </td><td style=\"text-align: right;\">-0.0543071</td><td style=\"text-align: right;\">-0.0759249 </td><td style=\"text-align: right;\"> 0.116867  </td><td style=\"text-align: right;\">-0.0400733</td><td style=\"text-align: right;\">-0.0655724</td><td style=\"text-align: right;\">0.11639 </td><td style=\"text-align: right;\">-0.0572988</td><td style=\"text-align: right;\">0.162489 </td><td style=\"text-align: right;\"> 0.142339  </td><td style=\"text-align: right;\">-0.023778  </td><td style=\"text-align: right;\">-0.0394132 </td><td style=\"text-align: right;\">-0.0411136 </td><td style=\"text-align: right;\">-0.0314407</td><td style=\"text-align: right;\"> 0.0136597 </td><td style=\"text-align: right;\"> 0.155163 </td><td style=\"text-align: right;\"> 0.0789516</td><td style=\"text-align: right;\">-0.0817091 </td><td style=\"text-align: right;\"> 0.0379615 </td><td style=\"text-align: right;\"> 0.0872967</td><td style=\"text-align: right;\">-0.183913  </td><td style=\"text-align: right;\">-0.126318 </td><td style=\"text-align: right;\">-0.0547123 </td><td style=\"text-align: right;\">-0.0232031 </td><td style=\"text-align: right;\">-0.158732 </td><td style=\"text-align: right;\"> 0.0828839</td><td style=\"text-align: right;\"> 0.110081 </td><td style=\"text-align: right;\"> 0.209895 </td><td style=\"text-align: right;\"> 0.0419869  </td><td style=\"text-align: right;\">-0.0224517</td><td style=\"text-align: right;\">0.062403 </td><td style=\"text-align: right;\">-0.0143007 </td><td style=\"text-align: right;\"> 0.172282 </td><td style=\"text-align: right;\">-0.0328715  </td><td style=\"text-align: right;\">-0.0468964  </td><td style=\"text-align: right;\">-0.126677 </td><td style=\"text-align: right;\"> 0.0262733</td><td style=\"text-align: right;\"> 0.0924833</td><td style=\"text-align: right;\"> 0.0663188 </td><td style=\"text-align: right;\"> 0.0809167 </td><td style=\"text-align: right;\">-0.0151914</td><td style=\"text-align: right;\">-0.0787025</td><td style=\"text-align: right;\">-0.0962195</td><td style=\"text-align: right;\">-0.108584 </td><td style=\"text-align: right;\"> 0.0221839  </td><td style=\"text-align: right;\"> 0.106265  </td><td style=\"text-align: right;\">-0.130033 </td><td style=\"text-align: right;\">0.0183702 </td><td style=\"text-align: right;\">-0.0156831</td><td style=\"text-align: right;\"> 0.00892812 </td><td style=\"text-align: right;\">-0.0602157</td><td style=\"text-align: right;\">-0.0875245 </td><td style=\"text-align: right;\"> 0.0489261 </td><td style=\"text-align: right;\">-0.180984 </td><td style=\"text-align: right;\">-0.0997303 </td><td style=\"text-align: right;\">-0.241893 </td><td style=\"text-align: right;\"> 0.0464765</td><td style=\"text-align: right;\">0.0133941</td><td style=\"text-align: right;\">-0.0785966</td><td style=\"text-align: right;\"> 0.0854619</td><td style=\"text-align: right;\"> 0.107392 </td><td style=\"text-align: right;\">-0.0413861 </td><td style=\"text-align: right;\"> 0.134405  </td><td style=\"text-align: right;\">-0.177079  </td><td style=\"text-align: right;\">-0.00727322</td><td style=\"text-align: right;\"> 0.144099  </td><td style=\"text-align: right;\"> 0.20945  </td><td style=\"text-align: right;\">-0.00677909</td><td style=\"text-align: right;\">-0.0581827</td><td style=\"text-align: right;\">-0.018556 </td><td style=\"text-align: right;\"> 0.0637514 </td><td style=\"text-align: right;\"> 0.0675393</td><td style=\"text-align: right;\"> 0.109452  </td><td style=\"text-align: right;\">-0.00507103</td><td style=\"text-align: right;\"> 0.0706922</td><td style=\"text-align: right;\">-0.140968 </td><td style=\"text-align: right;\">-0.0141889</td><td style=\"text-align: right;\">-0.0573344</td><td style=\"text-align: right;\"> 0.0844235  </td><td style=\"text-align: right;\">-0.117155  </td><td style=\"text-align: right;\"> 0.037892  </td><td style=\"text-align: right;\"> 0.191504 </td></tr>\n",
              "<tr><td style=\"text-align: right;\">-0.235385 </td><td style=\"text-align: right;\">0.130438 </td><td style=\"text-align: right;\">-0.00150324</td><td style=\"text-align: right;\"> 0.0884696</td><td style=\"text-align: right;\">0.12519  </td><td style=\"text-align: right;\">-0.0777146</td><td style=\"text-align: right;\">0.0802588</td><td style=\"text-align: right;\">-0.0249031</td><td style=\"text-align: right;\">-0.0523237 </td><td style=\"text-align: right;\">-0.181417 </td><td style=\"text-align: right;\">-0.16257  </td><td style=\"text-align: right;\"> 0.0836516 </td><td style=\"text-align: right;\"> 0.0367736</td><td style=\"text-align: right;\">0.0380997</td><td style=\"text-align: right;\"> 0.0418768</td><td style=\"text-align: right;\">-0.0963426 </td><td style=\"text-align: right;\">-0.097892  </td><td style=\"text-align: right;\"> 0.00922855</td><td style=\"text-align: right;\"> 0.000125367</td><td style=\"text-align: right;\"> 0.0305823</td><td style=\"text-align: right;\"> 0.0423534 </td><td style=\"text-align: right;\">-0.0226986 </td><td style=\"text-align: right;\"> 0.150064 </td><td style=\"text-align: right;\">-0.0242946</td><td style=\"text-align: right;\">0.154958</td><td style=\"text-align: right;\">-0.0226976</td><td style=\"text-align: right;\">0.0535957</td><td style=\"text-align: right;\"> 0.0223955 </td><td style=\"text-align: right;\">-0.137121  </td><td style=\"text-align: right;\">-0.0308504 </td><td style=\"text-align: right;\"> 0.053465  </td><td style=\"text-align: right;\"> 0.0165351</td><td style=\"text-align: right;\"> 0.0654556 </td><td style=\"text-align: right;\"> 0.051371 </td><td style=\"text-align: right;\"> 0.154204 </td><td style=\"text-align: right;\"> 0.104329  </td><td style=\"text-align: right;\">-0.0518177 </td><td style=\"text-align: right;\"> 0.0333908</td><td style=\"text-align: right;\">-0.161512  </td><td style=\"text-align: right;\">-0.0912487</td><td style=\"text-align: right;\">-0.0836229 </td><td style=\"text-align: right;\"> 0.00871383</td><td style=\"text-align: right;\">-0.123755 </td><td style=\"text-align: right;\"> 0.138197 </td><td style=\"text-align: right;\"> 0.0483889</td><td style=\"text-align: right;\"> 0.124029 </td><td style=\"text-align: right;\">-0.000582363</td><td style=\"text-align: right;\"> 0.0372871</td><td style=\"text-align: right;\">0.15056  </td><td style=\"text-align: right;\"> 0.00341841</td><td style=\"text-align: right;\"> 0.187586 </td><td style=\"text-align: right;\">-0.0346624  </td><td style=\"text-align: right;\"> 0.125976   </td><td style=\"text-align: right;\">-0.150611 </td><td style=\"text-align: right;\">-0.0641686</td><td style=\"text-align: right;\"> 0.167028 </td><td style=\"text-align: right;\">-0.068932  </td><td style=\"text-align: right;\">-0.00796398</td><td style=\"text-align: right;\"> 0.0711225</td><td style=\"text-align: right;\"> 0.0468521</td><td style=\"text-align: right;\">-0.0980333</td><td style=\"text-align: right;\"> 0.0630407</td><td style=\"text-align: right;\">-0.0187732  </td><td style=\"text-align: right;\"> 0.147324  </td><td style=\"text-align: right;\">-0.0620115</td><td style=\"text-align: right;\">0.0218053 </td><td style=\"text-align: right;\">-0.0198068</td><td style=\"text-align: right;\"> 0.129435   </td><td style=\"text-align: right;\">-0.132239 </td><td style=\"text-align: right;\"> 0.0822568 </td><td style=\"text-align: right;\"> 0.0687313 </td><td style=\"text-align: right;\">-0.060604 </td><td style=\"text-align: right;\"> 0.035013  </td><td style=\"text-align: right;\">-0.0441163</td><td style=\"text-align: right;\"> 0.11513  </td><td style=\"text-align: right;\">0.0714535</td><td style=\"text-align: right;\">-0.0460328</td><td style=\"text-align: right;\"> 0.062187 </td><td style=\"text-align: right;\"> 0.012343 </td><td style=\"text-align: right;\">-0.0600418 </td><td style=\"text-align: right;\">-0.0204476 </td><td style=\"text-align: right;\">-0.0730565 </td><td style=\"text-align: right;\"> 0.0327606 </td><td style=\"text-align: right;\">-0.0670811 </td><td style=\"text-align: right;\"> 0.133475 </td><td style=\"text-align: right;\"> 0.0189855 </td><td style=\"text-align: right;\">-0.118147 </td><td style=\"text-align: right;\">-0.159026 </td><td style=\"text-align: right;\"> 0.0758466 </td><td style=\"text-align: right;\">-0.113377 </td><td style=\"text-align: right;\"> 0.0508832 </td><td style=\"text-align: right;\">-0.00609445</td><td style=\"text-align: right;\"> 0.0478822</td><td style=\"text-align: right;\">-0.0826944</td><td style=\"text-align: right;\">-0.128871 </td><td style=\"text-align: right;\">-0.160632 </td><td style=\"text-align: right;\"> 0.0155332  </td><td style=\"text-align: right;\"> 0.00235965</td><td style=\"text-align: right;\"> 0.00337754</td><td style=\"text-align: right;\"> 0.0910643</td></tr>\n",
              "<tr><td style=\"text-align: right;\">-0.28697  </td><td style=\"text-align: right;\">0.139181 </td><td style=\"text-align: right;\"> 0.0570445 </td><td style=\"text-align: right;\">-0.0547186</td><td style=\"text-align: right;\">0.185168 </td><td style=\"text-align: right;\">-0.0623096</td><td style=\"text-align: right;\">0.0826815</td><td style=\"text-align: right;\"> 0.121065 </td><td style=\"text-align: right;\"> 0.0376964 </td><td style=\"text-align: right;\">-0.243326 </td><td style=\"text-align: right;\">-0.139543 </td><td style=\"text-align: right;\"> 0.106665  </td><td style=\"text-align: right;\">-0.0309261</td><td style=\"text-align: right;\">0.136642 </td><td style=\"text-align: right;\">-0.02334  </td><td style=\"text-align: right;\">-0.105045  </td><td style=\"text-align: right;\">-0.152043  </td><td style=\"text-align: right;\"> 0.0799068 </td><td style=\"text-align: right;\"> 0.088099   </td><td style=\"text-align: right;\"> 0.0122062</td><td style=\"text-align: right;\">-0.0200989 </td><td style=\"text-align: right;\"> 0.0642487 </td><td style=\"text-align: right;\"> 0.0902848</td><td style=\"text-align: right;\">-0.0439257</td><td style=\"text-align: right;\">0.106587</td><td style=\"text-align: right;\">-0.015954 </td><td style=\"text-align: right;\">0.0191181</td><td style=\"text-align: right;\"> 0.106492  </td><td style=\"text-align: right;\">-0.0643577 </td><td style=\"text-align: right;\"> 0.00542854</td><td style=\"text-align: right;\">-0.0457562 </td><td style=\"text-align: right;\"> 0.0529974</td><td style=\"text-align: right;\"> 0.0206711 </td><td style=\"text-align: right;\">-0.0892151</td><td style=\"text-align: right;\"> 0.158111 </td><td style=\"text-align: right;\"> 0.0984024 </td><td style=\"text-align: right;\"> 0.0424042 </td><td style=\"text-align: right;\">-0.0487221</td><td style=\"text-align: right;\"> 0.00164659</td><td style=\"text-align: right;\">-0.0825364</td><td style=\"text-align: right;\">-0.068974  </td><td style=\"text-align: right;\"> 0.047501  </td><td style=\"text-align: right;\">-0.167007 </td><td style=\"text-align: right;\"> 0.135314 </td><td style=\"text-align: right;\"> 0.217203 </td><td style=\"text-align: right;\"> 0.0983325</td><td style=\"text-align: right;\"> 0.0357904  </td><td style=\"text-align: right;\"> 0.0359738</td><td style=\"text-align: right;\">0.218962 </td><td style=\"text-align: right;\"> 0.047488  </td><td style=\"text-align: right;\"> 0.0678484</td><td style=\"text-align: right;\">-0.00632701 </td><td style=\"text-align: right;\"> 0.0632036  </td><td style=\"text-align: right;\">-0.1237   </td><td style=\"text-align: right;\">-0.0389486</td><td style=\"text-align: right;\"> 0.102606 </td><td style=\"text-align: right;\"> 0.00429912</td><td style=\"text-align: right;\"> 0.0816957 </td><td style=\"text-align: right;\"> 0.145234 </td><td style=\"text-align: right;\"> 0.0541909</td><td style=\"text-align: right;\">-0.0916075</td><td style=\"text-align: right;\">-0.0320907</td><td style=\"text-align: right;\"> 0.0819797  </td><td style=\"text-align: right;\"> 0.161839  </td><td style=\"text-align: right;\"> 0.0110348</td><td style=\"text-align: right;\">0.0932208 </td><td style=\"text-align: right;\">-0.0672556</td><td style=\"text-align: right;\"> 0.115369   </td><td style=\"text-align: right;\">-0.0470251</td><td style=\"text-align: right;\"> 0.0344173 </td><td style=\"text-align: right;\"> 0.147907  </td><td style=\"text-align: right;\">-0.0436356</td><td style=\"text-align: right;\"> 0.00797972</td><td style=\"text-align: right;\"> 0.0310402</td><td style=\"text-align: right;\"> 0.176031 </td><td style=\"text-align: right;\">0.0762511</td><td style=\"text-align: right;\"> 0.0822459</td><td style=\"text-align: right;\"> 0.0761687</td><td style=\"text-align: right;\">-0.0256413</td><td style=\"text-align: right;\"> 0.0114508 </td><td style=\"text-align: right;\"> 0.0448203 </td><td style=\"text-align: right;\">-0.108044  </td><td style=\"text-align: right;\"> 0.00928074</td><td style=\"text-align: right;\"> 0.00506356</td><td style=\"text-align: right;\"> 0.0944489</td><td style=\"text-align: right;\">-0.022754  </td><td style=\"text-align: right;\">-0.0256539</td><td style=\"text-align: right;\">-0.0392612</td><td style=\"text-align: right;\"> 0.0674003 </td><td style=\"text-align: right;\">-0.0874455</td><td style=\"text-align: right;\"> 0.034539  </td><td style=\"text-align: right;\"> 0.00604639</td><td style=\"text-align: right;\"> 0.0614257</td><td style=\"text-align: right;\">-0.0296351</td><td style=\"text-align: right;\">-0.150331 </td><td style=\"text-align: right;\">-0.0900299</td><td style=\"text-align: right;\"> 0.0772098  </td><td style=\"text-align: right;\"> 0.0396004 </td><td style=\"text-align: right;\"> 0.0439685 </td><td style=\"text-align: right;\"> 0.0482644</td></tr>\n",
              "<tr><td style=\"text-align: right;\">-0.0249958</td><td style=\"text-align: right;\">0.0141873</td><td style=\"text-align: right;\"> 0.0251255 </td><td style=\"text-align: right;\"> 0.033062 </td><td style=\"text-align: right;\">0.436486 </td><td style=\"text-align: right;\">-0.152855 </td><td style=\"text-align: right;\">0.217032 </td><td style=\"text-align: right;\">-0.275092 </td><td style=\"text-align: right;\"> 0.32658   </td><td style=\"text-align: right;\">-0.115975 </td><td style=\"text-align: right;\">-0.151085 </td><td style=\"text-align: right;\"> 0.109845  </td><td style=\"text-align: right;\">-0.0247669</td><td style=\"text-align: right;\">0.114076 </td><td style=\"text-align: right;\"> 0.157571 </td><td style=\"text-align: right;\">-0.0275495 </td><td style=\"text-align: right;\">-0.113345  </td><td style=\"text-align: right;\">-0.0085558 </td><td style=\"text-align: right;\"> 0.134679   </td><td style=\"text-align: right;\"> 0.0336155</td><td style=\"text-align: right;\"> 0.2335    </td><td style=\"text-align: right;\"> 0.270634  </td><td style=\"text-align: right;\">-0.0438782</td><td style=\"text-align: right;\"> 0.0265267</td><td style=\"text-align: right;\">0.388971</td><td style=\"text-align: right;\"> 0.163141 </td><td style=\"text-align: right;\">0.092302 </td><td style=\"text-align: right;\"> 0.102939  </td><td style=\"text-align: right;\">-0.0475189 </td><td style=\"text-align: right;\"> 0.0306648 </td><td style=\"text-align: right;\"> 0.0414538 </td><td style=\"text-align: right;\"> 0.0472149</td><td style=\"text-align: right;\"> 0.070862  </td><td style=\"text-align: right;\">-0.118685 </td><td style=\"text-align: right;\"> 0.0883787</td><td style=\"text-align: right;\"> 0.112195  </td><td style=\"text-align: right;\"> 0.121268  </td><td style=\"text-align: right;\">-0.387311 </td><td style=\"text-align: right;\">-0.146034  </td><td style=\"text-align: right;\">-0.169167 </td><td style=\"text-align: right;\">-0.145552  </td><td style=\"text-align: right;\">-0.0554955 </td><td style=\"text-align: right;\"> 0.0122332</td><td style=\"text-align: right;\"> 0.349761 </td><td style=\"text-align: right;\">-0.105584 </td><td style=\"text-align: right;\">-0.133661 </td><td style=\"text-align: right;\">-0.12405    </td><td style=\"text-align: right;\">-0.038882 </td><td style=\"text-align: right;\">0.391913 </td><td style=\"text-align: right;\">-0.329233  </td><td style=\"text-align: right;\">-0.0871825</td><td style=\"text-align: right;\">-0.15827    </td><td style=\"text-align: right;\"> 0.157921   </td><td style=\"text-align: right;\">-0.207337 </td><td style=\"text-align: right;\">-0.197581 </td><td style=\"text-align: right;\"> 0.185255 </td><td style=\"text-align: right;\"> 0.166499  </td><td style=\"text-align: right;\">-0.0436598 </td><td style=\"text-align: right;\"> 0.183372 </td><td style=\"text-align: right;\">-0.0510461</td><td style=\"text-align: right;\"> 0.0224722</td><td style=\"text-align: right;\"> 0.0343606</td><td style=\"text-align: right;\">-0.000689021</td><td style=\"text-align: right;\"> 0.169792  </td><td style=\"text-align: right;\">-0.0591767</td><td style=\"text-align: right;\">0.0880868 </td><td style=\"text-align: right;\"> 0.0445452</td><td style=\"text-align: right;\"> 0.305591   </td><td style=\"text-align: right;\"> 0.072268 </td><td style=\"text-align: right;\"> 0.0840303 </td><td style=\"text-align: right;\"> 0.157098  </td><td style=\"text-align: right;\">-0.210117 </td><td style=\"text-align: right;\"> 0.0243772 </td><td style=\"text-align: right;\">-0.0711229</td><td style=\"text-align: right;\"> 0.176197 </td><td style=\"text-align: right;\">0.132526 </td><td style=\"text-align: right;\"> 0.220567 </td><td style=\"text-align: right;\"> 0.103134 </td><td style=\"text-align: right;\">-0.0600736</td><td style=\"text-align: right;\">-0.231121  </td><td style=\"text-align: right;\"> 0.0745324 </td><td style=\"text-align: right;\">-0.146312  </td><td style=\"text-align: right;\">-0.15527   </td><td style=\"text-align: right;\">-0.186785  </td><td style=\"text-align: right;\"> 0.259938 </td><td style=\"text-align: right;\"> 0.126381  </td><td style=\"text-align: right;\"> 0.0727751</td><td style=\"text-align: right;\">-0.0797541</td><td style=\"text-align: right;\"> 0.0690846 </td><td style=\"text-align: right;\">-0.227843 </td><td style=\"text-align: right;\"> 0.0395161 </td><td style=\"text-align: right;\">-0.138836  </td><td style=\"text-align: right;\"> 0.371424 </td><td style=\"text-align: right;\">-0.0743971</td><td style=\"text-align: right;\">-0.146819 </td><td style=\"text-align: right;\">-0.018603 </td><td style=\"text-align: right;\">-0.000774758</td><td style=\"text-align: right;\"> 0.241251  </td><td style=\"text-align: right;\"> 0.359273  </td><td style=\"text-align: right;\"> 0.0447457</td></tr>\n",
              "</tbody>\n",
              "</table>"
            ]
          },
          "metadata": {
            "tags": []
          }
        },
        {
          "output_type": "execute_result",
          "data": {
            "text/plain": [
              ""
            ]
          },
          "metadata": {
            "tags": []
          },
          "execution_count": 32
        }
      ]
    },
    {
      "metadata": {
        "id": "8-Zc6wofoa_c",
        "colab_type": "code",
        "colab": {}
      },
      "cell_type": "code",
      "source": [
        "# Add aggregated word embeddings \n",
        "ext_reviews = reviews.cbind(review_vecs)"
      ],
      "execution_count": 0,
      "outputs": []
    },
    {
      "metadata": {
        "id": "btK-zhe0oa_g",
        "colab_type": "text"
      },
      "cell_type": "markdown",
      "source": [
        "## Train GBM Model to Predict Good Review\n",
        "\n",
        "We will train a GBM model with the same parameters as our baseline gbm.  This time, however, we will add the aggregated word embeddings as predictors. "
      ]
    },
    {
      "metadata": {
        "id": "lX5DIbVEoa_h",
        "colab_type": "code",
        "colab": {}
      },
      "cell_type": "code",
      "source": [
        "ext_train = ext_reviews[ext_reviews[\"Train\"] == \"Yes\"]\n",
        "ext_test = ext_reviews[ext_reviews[\"Train\"] == \"No\"]"
      ],
      "execution_count": 0,
      "outputs": []
    },
    {
      "metadata": {
        "id": "SrO7UP_xoa_l",
        "colab_type": "code",
        "colab": {},
        "outputId": "3eba0d70-cfef-4745-c93c-cf48bef3b074"
      },
      "cell_type": "code",
      "source": [
        "predictors = predictors + review_vecs.names\n",
        "response = 'PositiveReview'\n",
        "\n",
        "gbm_embeddings = H2OGradientBoostingEstimator(stopping_metric = \"AUC\", stopping_tolerance = 0.001,\n",
        "                                              stopping_rounds = 5, score_tree_interval = 10,\n",
        "                                              model_id = \"gbm_embeddings.hex\"\n",
        "                                             )\n",
        "gbm_embeddings.train(x = predictors, y = response, \n",
        "                   training_frame = ext_train, validation_frame = ext_test\n",
        "                  )"
      ],
      "execution_count": 0,
      "outputs": [
        {
          "output_type": "stream",
          "text": [
            "gbm Model Build progress: |███████████████████████████████████████████████| 100%\n"
          ],
          "name": "stdout"
        }
      ]
    },
    {
      "metadata": {
        "id": "5Afyj9uzoa_o",
        "colab_type": "code",
        "colab": {},
        "outputId": "d0e27977-e45e-4fff-e0fb-3ff7a92518f0"
      },
      "cell_type": "code",
      "source": [
        "print(\"Baseline AUC: \" + str(round(gbm_baseline.auc(valid = True), 3)))\n",
        "print(\"With Embeddings AUC: \" + str(round(gbm_embeddings.auc(valid = True), 3)))"
      ],
      "execution_count": 0,
      "outputs": [
        {
          "output_type": "stream",
          "text": [
            "Baseline AUC: 0.616\n",
            "With Embeddings AUC: 0.872\n"
          ],
          "name": "stdout"
        }
      ]
    },
    {
      "metadata": {
        "id": "kRtlpM1koa_r",
        "colab_type": "code",
        "colab": {},
        "outputId": "581bbb2d-4364-420b-d75f-0dff743b3824"
      },
      "cell_type": "code",
      "source": [
        "gbm_embeddings.confusion_matrix(valid = True)"
      ],
      "execution_count": 0,
      "outputs": [
        {
          "output_type": "stream",
          "text": [
            "Confusion Matrix (Act/Pred) for max f1 @ threshold = 0.581034717194: \n"
          ],
          "name": "stdout"
        },
        {
          "output_type": "display_data",
          "data": {
            "text/html": [
              "<div style=\"overflow:auto\"><table style=\"width:50%\"><tr><td><b></b></td>\n",
              "<td><b>0</b></td>\n",
              "<td><b>1</b></td>\n",
              "<td><b>Error</b></td>\n",
              "<td><b>Rate</b></td></tr>\n",
              "<tr><td>0</td>\n",
              "<td>2222.0</td>\n",
              "<td>2438.0</td>\n",
              "<td>0.5232</td>\n",
              "<td> (2438.0/4660.0)</td></tr>\n",
              "<tr><td>1</td>\n",
              "<td>750.0</td>\n",
              "<td>14598.0</td>\n",
              "<td>0.0489</td>\n",
              "<td> (750.0/15348.0)</td></tr>\n",
              "<tr><td>Total</td>\n",
              "<td>2972.0</td>\n",
              "<td>17036.0</td>\n",
              "<td>0.1593</td>\n",
              "<td> (3188.0/20008.0)</td></tr></table></div>"
            ],
            "text/plain": [
              "       0     1      Error    Rate\n",
              "-----  ----  -----  -------  ----------------\n",
              "0      2222  2438   0.5232   (2438.0/4660.0)\n",
              "1      750   14598  0.0489   (750.0/15348.0)\n",
              "Total  2972  17036  0.1593   (3188.0/20008.0)"
            ]
          },
          "metadata": {
            "tags": []
          }
        },
        {
          "output_type": "execute_result",
          "data": {
            "text/plain": [
              ""
            ]
          },
          "metadata": {
            "tags": []
          },
          "execution_count": 60
        }
      ]
    },
    {
      "metadata": {
        "id": "WQkbZuJWoa_t",
        "colab_type": "text"
      },
      "cell_type": "markdown",
      "source": [
        "## Adding Summary\n",
        "\n",
        "We saw that the review column is not the only column with text.  We also have a column called `Summary` which summarizes the review.  We will add the word embeddings of the summary to see if this improves our model."
      ]
    },
    {
      "metadata": {
        "id": "bfT4avthoa_u",
        "colab_type": "code",
        "colab": {}
      },
      "cell_type": "code",
      "source": [
        "# Break summaries into sequence of words\n",
        "summary_words = tokenize(reviews[\"Summary\"].ascharacter())"
      ],
      "execution_count": 0,
      "outputs": []
    },
    {
      "metadata": {
        "id": "TpeW8ss4oa_y",
        "colab_type": "code",
        "colab": {}
      },
      "cell_type": "code",
      "source": [
        "# Add aggregated summary word embeddings\n",
        "summary_vecs = w2v_model.transform(summary_words, aggregate_method = \"AVERAGE\")\n",
        "summary_vecs.names = [\"summary_\" + s for s in summary_vecs.names]\n",
        "\n",
        "ext_reviews = ext_reviews.cbind(summary_vecs)"
      ],
      "execution_count": 0,
      "outputs": []
    },
    {
      "metadata": {
        "id": "kJ3N25SYoa_0",
        "colab_type": "code",
        "colab": {}
      },
      "cell_type": "code",
      "source": [
        "ext_train = ext_reviews[ext_reviews[\"Train\"] == \"Yes\"]\n",
        "ext_test = ext_reviews[ext_reviews[\"Train\"] == \"No\"]"
      ],
      "execution_count": 0,
      "outputs": []
    },
    {
      "metadata": {
        "id": "cE8s0lCuoa_3",
        "colab_type": "code",
        "colab": {},
        "outputId": "66fbd280-42b4-4262-cd7c-efa6a8c73eda"
      },
      "cell_type": "code",
      "source": [
        "predictors = predictors + summary_vecs.names\n",
        "response = 'PositiveReview'\n",
        "\n",
        "gbm_plus_summary = H2OGradientBoostingEstimator(stopping_metric = \"AUC\", stopping_tolerance = 0.001,\n",
        "                                              stopping_rounds = 5, score_tree_interval = 10,\n",
        "                                              model_id = \"gbm_plus_summary.hex\"\n",
        "                                             )\n",
        "gbm_plus_summary.train(x = predictors, y = response, \n",
        "                       training_frame = ext_train, validation_frame = ext_test\n",
        "                      )"
      ],
      "execution_count": 0,
      "outputs": [
        {
          "output_type": "stream",
          "text": [
            "gbm Model Build progress: |███████████████████████████████████████████████| 100%\n"
          ],
          "name": "stdout"
        }
      ]
    },
    {
      "metadata": {
        "id": "hSAoRjaWobAB",
        "colab_type": "code",
        "colab": {},
        "outputId": "9b610cf7-dfff-49e6-a572-193ec13a297e"
      },
      "cell_type": "code",
      "source": [
        "print(\"Baseline AUC: \" + str(round(gbm_baseline.auc(valid = True), 3)))\n",
        "print(\"With Embeddings AUC: \" + str(round(gbm_embeddings.auc(valid = True), 3)))\n",
        "print(\"With Summary and Review Embeddings AUC: \" + str(round(gbm_plus_summary.auc(valid = True), 3)))"
      ],
      "execution_count": 0,
      "outputs": [
        {
          "output_type": "stream",
          "text": [
            "Baseline AUC: 0.616\n",
            "With Embeddings AUC: 0.872\n",
            "With Summary and Review Embeddings AUC: 0.909\n"
          ],
          "name": "stdout"
        }
      ]
    },
    {
      "metadata": {
        "id": "e6lC2IijobAE",
        "colab_type": "code",
        "colab": {},
        "outputId": "0f485f95-5b0e-4807-d72b-b0043dcc4304"
      },
      "cell_type": "code",
      "source": [
        "gbm_plus_summary.varimp_plot()"
      ],
      "execution_count": 0,
      "outputs": [
        {
          "output_type": "display_data",
          "data": {
            "image/png": "[encoded data removed]",
            "text/plain": [
              "<Figure size 1008x720 with 1 Axes>"
            ]
          },
          "metadata": {
            "tags": [],
            "needs_background": "light"
          }
        }
      ]
    },
    {
      "metadata": {
        "id": "Oi1YCIjlobAH",
        "colab_type": "code",
        "colab": {},
        "outputId": "2cb9327e-7986-4cf9-ac65-4cd2aebe2a28"
      },
      "cell_type": "code",
      "source": [
        "pdp_word_vecs = gbm_plus_summary.partial_plot(data = ext_train, cols = [\"C43\"])"
      ],
      "execution_count": 0,
      "outputs": [
        {
          "output_type": "stream",
          "text": [
            "PartialDependencePlot progress: |█████████████████████████████████████████| 100%\n"
          ],
          "name": "stdout"
        },
        {
          "output_type": "display_data",
          "data": {
            "image/png": "[encoded data removed]",
            "text/plain": [
              "<Figure size 504x720 with 1 Axes>"
            ]
          },
          "metadata": {
            "tags": [],
            "needs_background": "light"
          }
        }
      ]
    },
    {
      "metadata": {
        "id": "yIGFSdViobAJ",
        "colab_type": "text"
      },
      "cell_type": "markdown",
      "source": [
        "We can see that a low `C43` is associated with a smaller probability of positive review.  Let's see what words have a low `C43` value."
      ]
    },
    {
      "metadata": {
        "id": "GF1Y0cK7obAK",
        "colab_type": "code",
        "colab": {}
      },
      "cell_type": "code",
      "source": [
        "# Get Word Embeddings per Word\n",
        "unique_words = words.asfactor().unique().ascharacter()\n",
        "unique_words.col_names = [\"Word\"]\n",
        "word_embeddings = w2v_model.transform(unique_words, aggregate_method=\"None\")\n",
        "word_embeddings = unique_words.cbind(word_embeddings)\n",
        "word_embeddings = word_embeddings[~(word_embeddings[\"C1\"].isna())]"
      ],
      "execution_count": 0,
      "outputs": []
    },
    {
      "metadata": {
        "scrolled": true,
        "id": "dHdp2ZxdobAM",
        "colab_type": "code",
        "colab": {},
        "outputId": "c811d449-a235-485e-cce2-6508439a46ae"
      },
      "cell_type": "code",
      "source": [
        "word_embeddings[\"C43\"].hist()"
      ],
      "execution_count": 0,
      "outputs": [
        {
          "output_type": "display_data",
          "data": {
            "image/png": "[encoded data removed]",
            "text/plain": [
              "<Figure size 432x288 with 1 Axes>"
            ]
          },
          "metadata": {
            "tags": [],
            "needs_background": "light"
          }
        }
      ]
    },
    {
      "metadata": {
        "scrolled": true,
        "id": "wwvjEOSSobAQ",
        "colab_type": "code",
        "colab": {},
        "outputId": "f45efb06-0e86-4216-a8d1-d7491ed5d1f6"
      },
      "cell_type": "code",
      "source": [
        "low_c43_words = word_embeddings[word_embeddings[\"C43\"] < -1.1]\n",
        "low_c43_words[[\"Word\", \"C43\"]].head(15)"
      ],
      "execution_count": 0,
      "outputs": [
        {
          "output_type": "display_data",
          "data": {
            "text/html": [
              "<table>\n",
              "<thead>\n",
              "<tr><th>Word      </th><th style=\"text-align: right;\">     C43</th></tr>\n",
              "</thead>\n",
              "<tbody>\n",
              "<tr><td>beauty    </td><td style=\"text-align: right;\">-1.1726 </td></tr>\n",
              "<tr><td>dandruff  </td><td style=\"text-align: right;\">-1.1224 </td></tr>\n",
              "<tr><td>itchy     </td><td style=\"text-align: right;\">-1.1547 </td></tr>\n",
              "<tr><td>jim       </td><td style=\"text-align: right;\">-1.18561</td></tr>\n",
              "<tr><td>jims      </td><td style=\"text-align: right;\">-1.3033 </td></tr>\n",
              "<tr><td>migraines </td><td style=\"text-align: right;\">-1.17599</td></tr>\n",
              "<tr><td>nourish   </td><td style=\"text-align: right;\">-1.20569</td></tr>\n",
              "<tr><td>nourishing</td><td style=\"text-align: right;\">-1.18093</td></tr>\n",
              "<tr><td>scalp     </td><td style=\"text-align: right;\">-1.42279</td></tr>\n",
              "<tr><td>shampoos  </td><td style=\"text-align: right;\">-1.11195</td></tr>\n",
              "<tr><td>shea      </td><td style=\"text-align: right;\">-1.10182</td></tr>\n",
              "<tr><td>shinier   </td><td style=\"text-align: right;\">-1.14531</td></tr>\n",
              "<tr><td>smokehouse</td><td style=\"text-align: right;\">-1.18292</td></tr>\n",
              "<tr><td>therapy   </td><td style=\"text-align: right;\">-1.12446</td></tr>\n",
              "<tr><td>ultra     </td><td style=\"text-align: right;\">-1.14977</td></tr>\n",
              "</tbody>\n",
              "</table>"
            ]
          },
          "metadata": {
            "tags": []
          }
        },
        {
          "output_type": "execute_result",
          "data": {
            "text/plain": [
              ""
            ]
          },
          "metadata": {
            "tags": []
          },
          "execution_count": 77
        }
      ]
    },
    {
      "metadata": {
        "id": "VcfX4O-5obAT",
        "colab_type": "text"
      },
      "cell_type": "markdown",
      "source": [
        "The words with low `C43` like `contacted`, `answered`, `emails`, `phone` and `refund` all seem to be related to contacting for a refund.  Words like: `salmonella` are obviously an indicator of a negative review for a food product."
      ]
    },
    {
      "metadata": {
        "id": "o4HZHH2ZobAU",
        "colab_type": "text"
      },
      "cell_type": "markdown",
      "source": [
        "## Predict on New Reviews\n",
        "\n",
        "Now that we've built a model we are satisifed with, we will see how the model performs on new reviews.\n",
        "\n",
        "* *\"The taste is great! especially when you cook it with some vegetable and egg. I like it very much, though it's more expensive than the other noodles\"*\n",
        "\n",
        "\n",
        "* *\"Quite tasteless and they make you order so many. I am stuck with 12 bags of this tasteless stuff. I am not ordering large amounts of anything from Amazon again. So often I don't like it and I am stuck with so much on hand.\"*"
      ]
    },
    {
      "metadata": {
        "id": "Y0biV0uLobAU",
        "colab_type": "code",
        "colab": {}
      },
      "cell_type": "code",
      "source": [
        "def predict(reviews, w2v, gbm):\n",
        "    \n",
        "    words = tokenize(reviews[\"Text\"].ascharacter())\n",
        "    reviews_vec = w2v.transform(words, aggregate_method=\"AVERAGE\")\n",
        "    \n",
        "    summary_words = tokenize(reviews[\"Summary\"].ascharacter())\n",
        "    summary_vec = w2v.transform(summary_words, aggregate_method=\"AVERAGE\")\n",
        "    \n",
        "    model_data = reviews.cbind(reviews_vec).cbind(summary_vec)\n",
        "    print(gbm.predict(model_data))"
      ],
      "execution_count": 0,
      "outputs": []
    },
    {
      "metadata": {
        "id": "-Iz_yDrKobAW",
        "colab_type": "code",
        "colab": {},
        "outputId": "85cc9b23-f128-4036-d50f-5171d209523c"
      },
      "cell_type": "code",
      "source": [
        "good_review = h2o.H2OFrame([[\"B000EQT574\", \"AISQLBDGS2KXR\", 1, 1, 1263340800, \n",
        "                             \"Delicious\",\n",
        "                             \"These chips are delicious. Salty sweet with a hint of spice. I have no idea how Tamari is supposed to taste, but these chips are awesome. I just finished an entire bag in one day!\"]])\n",
        "\n",
        "good_review.col_names = [\"ProductId\",\"UserId\",\"HelpfulnessNumerator\",\"HelpfulnessDenominator\",\"Time\",\"Summary\",\"Text\"]"
      ],
      "execution_count": 0,
      "outputs": [
        {
          "output_type": "stream",
          "text": [
            "Parse progress: |█████████████████████████████████████████████████████████| 100%\n"
          ],
          "name": "stdout"
        }
      ]
    },
    {
      "metadata": {
        "id": "1Fzy9ZGSobAZ",
        "colab_type": "code",
        "colab": {},
        "outputId": "35674bb6-4434-4a4a-918c-9da8be2e4b80"
      },
      "cell_type": "code",
      "source": [
        "bad_review = h2o.H2OFrame([[\"B003BJZMSM\", \"A2JBZHQVQF7MV0\", 1, 2, 1274832000, \n",
        "                            \"Pretty tasteless\",\n",
        "                            \"Quite tasteless and they make you order so many. I am stuck with 12 bags of this tasteless stuff. I am not ordering large amounts of anything from Amazon again. So often I don't like it and I am stuck with so much on hand.\"]])\n",
        "\n",
        "bad_review.col_names = [\"ProductId\",\"UserId\",\"HelpfulnessNumerator\",\"HelpfulnessDenominator\",\"Time\",\"Summary\",\"Text\"]"
      ],
      "execution_count": 0,
      "outputs": [
        {
          "output_type": "stream",
          "text": [
            "Parse progress: |█████████████████████████████████████████████████████████| 100%\n"
          ],
          "name": "stdout"
        }
      ]
    },
    {
      "metadata": {
        "id": "whajWmbSobAb",
        "colab_type": "code",
        "colab": {},
        "outputId": "9781c503-a5cc-4086-86e2-cdf0b5a4f2b9"
      },
      "cell_type": "code",
      "source": [
        "# Predict!\n",
        "print(\"Good Review: \")\n",
        "print(predict(good_review, w2v_model, gbm_embeddings))\n",
        "\n",
        "print(\"Bad Review: \")\n",
        "print(predict(bad_review, w2v_model, gbm_embeddings))"
      ],
      "execution_count": 0,
      "outputs": [
        {
          "output_type": "stream",
          "text": [
            "Good Review: \n",
            "gbm prediction progress: |████████████████████████████████████████████████| 100%\n"
          ],
          "name": "stdout"
        },
        {
          "output_type": "display_data",
          "data": {
            "text/html": [
              "<table>\n",
              "<thead>\n",
              "<tr><th style=\"text-align: right;\">  predict</th><th style=\"text-align: right;\">       p0</th><th style=\"text-align: right;\">      p1</th></tr>\n",
              "</thead>\n",
              "<tbody>\n",
              "<tr><td style=\"text-align: right;\">        1</td><td style=\"text-align: right;\">0.0833834</td><td style=\"text-align: right;\">0.916617</td></tr>\n",
              "</tbody>\n",
              "</table>"
            ]
          },
          "metadata": {
            "tags": []
          }
        },
        {
          "output_type": "stream",
          "text": [
            "\n",
            "None\n",
            "Bad Review: \n"
          ],
          "name": "stdout"
        }
      ]
    },
    {
      "metadata": {
        "id": "nHCv1FMUobAd",
        "colab_type": "code",
        "colab": {}
      },
      "cell_type": "code",
      "source": [
        "h2o.cluster().shutdown()"
      ],
      "execution_count": 0,
      "outputs": []
    },
    {
      "metadata": {
        "collapsed": true,
        "id": "DPAzOPMyobAf",
        "colab_type": "code",
        "colab": {}
      },
      "cell_type": "code",
      "source": [
        ""
      ],
      "execution_count": 0,
      "outputs": []
    }
  ]
}