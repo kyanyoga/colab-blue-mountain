{
 "cells": [
  {
   "cell_type": "markdown",
   "metadata": {},
   "source": [
    "## Predicting Good Amazon Reviews\n",
    "\n",
    "For this demo, we will be using the [Amazon Fine Food Reviews Data](https://www.kaggle.com/snap/amazon-fine-food-reviews).  The Amazon Fine Food Reviews dataset consists of 568,454 food reviews Amazon users left up to October 2012.\n",
    "\n",
    "This script is based off of the [Craigslist Word2Vec Demo](https://github.com/h2oai/h2o-3/blob/master/h2o-py/demos/word2vec_craigslistjobtitles.ipynb).\n",
    "\n",
    "## Import Data\n",
    "\n",
    "We will begin by importing our review data into our H2O cluster.  In this case, I will be starting up an H2O cluster on my local computer."
   ]
  },
  {
   "cell_type": "code",
   "execution_count": 1,
   "metadata": {},
   "outputs": [],
   "source": [
    "import h2o"
   ]
  },
  {
   "cell_type": "code",
   "execution_count": 6,
   "metadata": {},
   "outputs": [],
   "source": [
    "# import pyspark"
   ]
  },
  {
   "cell_type": "code",
   "execution_count": 2,
   "metadata": {},
   "outputs": [
    {
     "name": "stdout",
     "output_type": "stream",
     "text": [
      "Checking whether there is an H2O instance running at http://127.0.0.1:54321..... not found.\n",
      "Attempting to start a local H2O server...\n",
      "  Java Version: java version \"1.8.0_45\"; Java(TM) SE Runtime Environment (build 1.8.0_45-b14); Java HotSpot(TM) 64-Bit Server VM (build 25.45-b02, mixed mode)\n",
      "  Starting server from /Users/kyanyoga/miniconda2/envs/h2o/lib/python2.7/site-packages/h2o/backend/bin/h2o.jar\n",
      "  Ice root: /var/folders/r_/rzlqhwqx0dq8kzm4d16kgjl40000gn/T/tmpFEspJh\n",
      "  JVM stdout: /var/folders/r_/rzlqhwqx0dq8kzm4d16kgjl40000gn/T/tmpFEspJh/h2o_kyanyoga_started_from_python.out\n",
      "  JVM stderr: /var/folders/r_/rzlqhwqx0dq8kzm4d16kgjl40000gn/T/tmpFEspJh/h2o_kyanyoga_started_from_python.err\n",
      "  Server is running at http://127.0.0.1:54321\n",
      "Connecting to H2O server at http://127.0.0.1:54321... successful.\n"
     ]
    },
    {
     "data": {
      "text/html": [
       "<div style=\"overflow:auto\"><table style=\"width:50%\"><tr><td>H2O cluster uptime:</td>\n",
       "<td>02 secs</td></tr>\n",
       "<tr><td>H2O cluster timezone:</td>\n",
       "<td>America/Los_Angeles</td></tr>\n",
       "<tr><td>H2O data parsing timezone:</td>\n",
       "<td>UTC</td></tr>\n",
       "<tr><td>H2O cluster version:</td>\n",
       "<td>3.22.1.5</td></tr>\n",
       "<tr><td>H2O cluster version age:</td>\n",
       "<td>3 days </td></tr>\n",
       "<tr><td>H2O cluster name:</td>\n",
       "<td>H2O_from_python_kyanyoga_o6aibf</td></tr>\n",
       "<tr><td>H2O cluster total nodes:</td>\n",
       "<td>1</td></tr>\n",
       "<tr><td>H2O cluster free memory:</td>\n",
       "<td>910 Mb</td></tr>\n",
       "<tr><td>H2O cluster total cores:</td>\n",
       "<td>4</td></tr>\n",
       "<tr><td>H2O cluster allowed cores:</td>\n",
       "<td>4</td></tr>\n",
       "<tr><td>H2O cluster status:</td>\n",
       "<td>accepting new members, healthy</td></tr>\n",
       "<tr><td>H2O connection url:</td>\n",
       "<td>http://127.0.0.1:54321</td></tr>\n",
       "<tr><td>H2O connection proxy:</td>\n",
       "<td>None</td></tr>\n",
       "<tr><td>H2O internal security:</td>\n",
       "<td>False</td></tr>\n",
       "<tr><td>H2O API Extensions:</td>\n",
       "<td>Amazon S3, XGBoost, Algos, AutoML, Core V3, Core V4</td></tr>\n",
       "<tr><td>Python version:</td>\n",
       "<td>2.7.15 final</td></tr></table></div>"
      ],
      "text/plain": [
       "--------------------------  ---------------------------------------------------\n",
       "H2O cluster uptime:         02 secs\n",
       "H2O cluster timezone:       America/Los_Angeles\n",
       "H2O data parsing timezone:  UTC\n",
       "H2O cluster version:        3.22.1.5\n",
       "H2O cluster version age:    3 days\n",
       "H2O cluster name:           H2O_from_python_kyanyoga_o6aibf\n",
       "H2O cluster total nodes:    1\n",
       "H2O cluster free memory:    910 Mb\n",
       "H2O cluster total cores:    4\n",
       "H2O cluster allowed cores:  4\n",
       "H2O cluster status:         accepting new members, healthy\n",
       "H2O connection url:         http://127.0.0.1:54321\n",
       "H2O connection proxy:\n",
       "H2O internal security:      False\n",
       "H2O API Extensions:         Amazon S3, XGBoost, Algos, AutoML, Core V3, Core V4\n",
       "Python version:             2.7.15 final\n",
       "--------------------------  ---------------------------------------------------"
      ]
     },
     "metadata": {},
     "output_type": "display_data"
    }
   ],
   "source": [
    "# h2o.init(max_mem_size=\"4G\")\n",
    "# h2o.init(max_mem_size=\"1G\", strict_version_check = False)\n",
    "# h2o.init(ip=\"192.168.1.10\", port=54321)\n",
    "#h2o.init()\n",
    "h2o.init(ip = \"127.0.0.1\", port = 54321, max_mem_size=\"1G\")"
   ]
  },
  {
   "cell_type": "code",
   "execution_count": 3,
   "metadata": {},
   "outputs": [
    {
     "name": "stdout",
     "output_type": "stream",
     "text": [
      "Parse progress: |█████████████████████████████████████████████████████████| 100%\n"
     ]
    }
   ],
   "source": [
    "# Use local data file or download from GitHub\n",
    "import os\n",
    "docker_data_path = \"AmazonReviews.csv\"\n",
    "if os.path.isfile(docker_data_path):\n",
    "  data_path = docker_data_path\n",
    "else:\n",
    "  #data_path = \"https://s3.amazonaws.com/tomk/h2o-world/megan/AmazonReviews.csv\"\n",
    "  print('nothing')\n",
    "\n",
    "\n",
    "# Load data into H2O\n",
    "reviews = h2o.import_file(data_path)"
   ]
  },
  {
   "cell_type": "code",
   "execution_count": 4,
   "metadata": {},
   "outputs": [],
   "source": [
    "#' Add Target Column: \"PositiveReview\"\n",
    "reviews[\"PositiveReview\"] = (reviews[\"Score\"] >= 4).ifelse(\"1\", \"0\")"
   ]
  },
  {
   "cell_type": "code",
   "execution_count": 5,
   "metadata": {},
   "outputs": [
    {
     "data": {
      "text/html": [
       "<table>\n",
       "<thead>\n",
       "<tr><th>ProductId  </th><th>UserId        </th><th>Summary                               </th><th style=\"text-align: right;\">  Score</th><th style=\"text-align: right;\">  HelpfulnessDenominator</th><th style=\"text-align: right;\">    Id</th><th>ProfileName                                     </th><th style=\"text-align: right;\">  HelpfulnessNumerator</th><th style=\"text-align: right;\">       Time</th><th>Text                                                                                                                                                                                                                                                                                                                                                                                                                                                                                                                                                                                                                                                                                                                                                                                                                                                                                                                                                                                                                                                                                                                                                                                                                                                                                                                                                                                                                                                                                                                                                                                                                                                                                                                                                                                                                                                                                                                                                                                                                                                                                                                                                                                                                                                                                                                                                                                                                                                                                                                                                                                                                                                                                                                                                                                                                                                                                                                                                                                                                                                                                                                                                                                                                                                        </th><th style=\"text-align: right;\">  PositiveReview</th></tr>\n",
       "</thead>\n",
       "<tbody>\n",
       "<tr><td>B00141QYSQ </td><td>A1YS02UZZGRDCT</td><td>Do Not Buy                            </td><td style=\"text-align: right;\">      1</td><td style=\"text-align: right;\">                       2</td><td style=\"text-align: right;\"> 41471</td><td>Evan Eberhardt                                  </td><td style=\"text-align: right;\">                     2</td><td style=\"text-align: right;\">1.34836e+09</td><td>These are made in China (do not buy ANY pet food from China).  Dogswell has been using propylene glycol to soften their treats (what are they thinkng?).  Do not purchase or support this company in any way until they clean up their act.  And for whatever reason Amazon doesn't allow returns of this item, so I had to toss mine out.  Bad business all around on this one.                                                                                                                                                                                                                                                                                                                                                                                                                                                                                                                                                                                                                                                                                                                                                                                                                                                                                                                                                                                                                                                                                                                                                                                                                                                                                                                                                                                                                                                                                                                                                                                                                                                                                                                                                                                                                                                                                                                                                                                                                                                                                                                                                                                                                                                                                                                                                                                                                                                                                                                                                                                                                                                                                                                                                                                                                                                                            </td><td style=\"text-align: right;\">               0</td></tr>\n",
       "<tr><td>B0089SPEO2 </td><td>A3JOYNYL458QHP</td><td>Less lemon and less zing              </td><td style=\"text-align: right;\">      3</td><td style=\"text-align: right;\">                       0</td><td style=\"text-align: right;\"> 28582</td><td>coleridge                                       </td><td style=\"text-align: right;\">                     0</td><td style=\"text-align: right;\">1.32391e+09</td><td>Everything is ok, except it just isn't as good as it is in the bags.  Just considerably more bland -- less lemon and less zing.  Boring.                                                                                                                                                                                                                                                                                                                                                                                                                                                                                                                                                                                                                                                                                                                                                                                                                                                                                                                                                                                                                                                                                                                                                                                                                                                                                                                                                                                                                                                                                                                                                                                                                                                                                                                                                                                                                                                                                                                                                                                                                                                                                                                                                                                                                                                                                                                                                                                                                                                                                                                                                                                                                                                                                                                                                                                                                                                                                                                                                                                                                                                                                                                    </td><td style=\"text-align: right;\">               0</td></tr>\n",
       "<tr><td>B001PMCDK2 </td><td>A14TTMM0Z03Y2W</td><td>my cat goes crazy for these!          </td><td style=\"text-align: right;\">      5</td><td style=\"text-align: right;\">                       0</td><td style=\"text-align: right;\">389965</td><td>Lindsay S. Bradford                             </td><td style=\"text-align: right;\">                     0</td><td style=\"text-align: right;\">1.3106e+09 </td><td>Best cat treat ever. There isn't anything comparable to the love my cat has for these treats, he snubs away any other kind now.<br />I know he likes to manipulate me with his cattiness but these treats are my way of manipulating him to come sit on my lap and have some chill time. :)                                                                                                                                                                                                                                                                                                                                                                                                                                                                                                                                                                                                                                                                                                                                                                                                                                                                                                                                                                                                                                                                                                                                                                                                                                                                                                                                                                                                                                                                                                                                                                                                                                                                                                                                                                                                                                                                                                                                                                                                                                                                                                                                                                                                                                                                                                                                                                                                                                                                                                                                                                                                                                                                                                                                                                                                                                                                                                                                                                 </td><td style=\"text-align: right;\">               1</td></tr>\n",
       "<tr><td>B002Q8JOSI </td><td>A17UQD2RSSQH5X</td><td>My dogs tell me these treats are YUMMY</td><td style=\"text-align: right;\">      5</td><td style=\"text-align: right;\">                       1</td><td style=\"text-align: right;\">212536</td><td>in the dark                                     </td><td style=\"text-align: right;\">                     1</td><td style=\"text-align: right;\">1.31613e+09</td><td>My two Corgis were thoroughly spoiled by my late husband (I spent a year and a half dieting them down a combined total of 25 pounds!)<br /><br />They are accustomed to the finest of fare, and they absolutely love the Wellness brand of treats.                                                                                                                                                                                                                                                                                                                                                                                                                                                                                                                                                                                                                                                                                                                                                                                                                                                                                                                                                                                                                                                                                                                                                                                                                                                                                                                                                                                                                                                                                                                                                                                                                                                                                                                                                                                                                                                                                                                                                                                                                                                                                                                                                                                                                                                                                                                                                                                                                                                                                                                                                                                                                                                                                                                                                                                                                                                                                                                                                                                                          </td><td style=\"text-align: right;\">               1</td></tr>\n",
       "<tr><td>B00176G870 </td><td>A2F2MZW8EOGH5J</td><td>Yummy to the tummy                    </td><td style=\"text-align: right;\">      5</td><td style=\"text-align: right;\">                       0</td><td style=\"text-align: right;\">115971</td><td>daemoncycler \"When you arrive at a fork in th...</td><td style=\"text-align: right;\">                     0</td><td style=\"text-align: right;\">1.33479e+09</td><td>We used to have drive down to the specialty pet food store for this product.  So glad we discovered Amazon.  As far as I can tell it is no more expensive & in some cases less - Prime membership is awesome.  Loving Pets treats are some of the best according to my dog.  They do not develop that nasty smell like some dog treats do.                                                                                                                                                                                                                                                                                                                                                                                                                                                                                                                                                                                                                                                                                                                                                                                                                                                                                                                                                                                                                                                                                                                                                                                                                                                                                                                                                                                                                                                                                                                                                                                                                                                                                                                                                                                                                                                                                                                                                                                                                                                                                                                                                                                                                                                                                                                                                                                                                                                                                                                                                                                                                                                                                                                                                                                                                                                                                                                  </td><td style=\"text-align: right;\">               1</td></tr>\n",
       "<tr><td>B001CHFUGY </td><td>A2M8VROSDPU4JT</td><td>Very good coffee                      </td><td style=\"text-align: right;\">      5</td><td style=\"text-align: right;\">                       1</td><td style=\"text-align: right;\">434484</td><td>Officefan \"Officefankt\"                         </td><td style=\"text-align: right;\">                     1</td><td style=\"text-align: right;\">1.27725e+09</td><td>I really liked this coffee, it was just as good as everyone claimed it was.  Strong, bold and flavorful!  I would recommend!                                                                                                                                                                                                                                                                                                                                                                                                                                                                                                                                                                                                                                                                                                                                                                                                                                                                                                                                                                                                                                                                                                                                                                                                                                                                                                                                                                                                                                                                                                                                                                                                                                                                                                                                                                                                                                                                                                                                                                                                                                                                                                                                                                                                                                                                                                                                                                                                                                                                                                                                                                                                                                                                                                                                                                                                                                                                                                                                                                                                                                                                                                                                </td><td style=\"text-align: right;\">               1</td></tr>\n",
       "<tr><td>B0041CIR62 </td><td>A16I6WJUEBJ1C3</td><td>okay but not as healthy as it appears </td><td style=\"text-align: right;\">      2</td><td style=\"text-align: right;\">                       1</td><td style=\"text-align: right;\">138997</td><td>doctorsirena \"doctorsirena\"                     </td><td style=\"text-align: right;\">                     1</td><td style=\"text-align: right;\">1.34369e+09</td><td>I am always looking for healthier, whole grain versions of foods I enjoy.  Unfortunately, these Peacock brand noodles are yet another food masquerading as healthy.  The product title in big letters on the front says \"Brown Rice Vermicelli\", making the consumer think \"this is made with brown rice, so it should be a healthy choice\".  But the first indication that it is not is when looking at the fiber content on the nutrition facts - only 0.6g per 2oz serving.  Then onto the ingredients list to see why so low... contains brown rice, sago starch and water.  The sago starch comes from palms and must not have much (if any) fiber.<br /><br />The Annie Chun's Maifun Brown Rice Noodles (sold on Amazon and in my local healthy grocer) has become one of my staples and is my frame of reference when comparing to the Peacock brand.  The Annie Chun's product is made with 100% whole grain, with ingredients brown rice flour and water.  Per 2oz serving, it has 4g fiber and pretty much the same calories and other nutrients as the Peacock brand.<br /><br />If you do try this Peacock brand noodles and have not used rice noodles before, you will need to seek guidance elsewhere on preparation.  As others have pointed out, the Peacock package gives almost no directions on how to prepare the product, aside from a brief mention in the recipes (in the header text it does say that they are \"easy-to-cook\" but does not say how).  It also contains a very strange recipe for rice noodles: Aglio Olio style - this is an Italian recipe for noodles with olive oil/garlic/sprinkled with grated cheese that I think would not be very tasty.  The second recipe appears to be for a soup with veggie strips.  Neither recipe gives amounts or much direction.  In comparison, the Annie Chun's package gives clear, specific directions on rice noodle preparation and two recipes.<br /><br />I use rice noodles = maifun = rice sticks = sometimes called vermicelli for making the Vietnamese salad \"bun tofu\", to serve with stir-fried veggies or in lettuce rolls.  They can also be used in spring rolls/egg rolls.  When cooking with thin rice noodles, be careful not to oversoak/overcook/overmix or they tend to disintegrate.  Asian rice noodle vermicelli (maifun) are not the same as Italian vermicelli and are not readily interchangeable.  If making an Italian recipe, the best results would be expected from Italian pasta and not maifun.<br /><br />A few final notes...  Both Peacock and Annie Chun's brown rice noodles are gluten free.  The Peacock is made in Singapore and the Annie Chun's in Thailand.  The Peacock noodles do taste fine (kind of bland), but so do the Annie Chun's.  At this time, they are both approximately the same price.  Peacock come in an plastic bag with some noodle crushage upon shipping; Annie Chun's are perfect upon removal from their cellophane bag in a box.  Overall, I highly recommend the Annie Chun's Maifun as a healthier option over the Peacock brand.  On a related note, the Annie Chun's soba and brown rice pad thai noodles are also excellent.<br /><br />Rating for this product: 2.5 stars rounded down to 2 stars.</td><td style=\"text-align: right;\">               0</td></tr>\n",
       "<tr><td>B001R3BQFW </td><td>AM50E42AFUVNL </td><td>Taste great.                          </td><td style=\"text-align: right;\">      5</td><td style=\"text-align: right;\">                       0</td><td style=\"text-align: right;\">126555</td><td>T. Higley \"Tina\"                                </td><td style=\"text-align: right;\">                     0</td><td style=\"text-align: right;\">1.32356e+09</td><td>I have tried many different drink mix, this is the best tasting by far. It does not have the after taste of the sweetener and I really like it, it is pretty strong, so I use a big water bottle (20 oz) for one tube, it still a little stronger than I like, but it is just my taste.                                                                                                                                                                                                                                                                                                                                                                                                                                                                                                                                                                                                                                                                                                                                                                                                                                                                                                                                                                                                                                                                                                                                                                                                                                                                                                                                                                                                                                                                                                                                                                                                                                                                                                                                                                                                                                                                                                                                                                                                                                                                                                                                                                                                                                                                                                                                                                                                                                                                                                                                                                                                                                                                                                                                                                                                                                                                                                                                                                     </td><td style=\"text-align: right;\">               1</td></tr>\n",
       "<tr><td>B005HGAV8I </td><td>A2I5KDNOESGJ1H</td><td>variety galore                        </td><td style=\"text-align: right;\">      5</td><td style=\"text-align: right;\">                       1</td><td style=\"text-align: right;\">438837</td><td>TJ                                              </td><td style=\"text-align: right;\">                     1</td><td style=\"text-align: right;\">1.33402e+09</td><td>This is my favorite item to order for my Keurig. There are so many flavors, my finicky palate never gets bored!  The only downside is there are probably 5-6 decaf varieties.  I don't drink decaf (I REQUIRE copious amounts of caffeine), so they sit on the shelf...                                                                                                                                                                                                                                                                                                                                                                                                                                                                                                                                                                                                                                                                                                                                                                                                                                                                                                                                                                                                                                                                                                                                                                                                                                                                                                                                                                                                                                                                                                                                                                                                                                                                                                                                                                                                                                                                                                                                                                                                                                                                                                                                                                                                                                                                                                                                                                                                                                                                                                                                                                                                                                                                                                                                                                                                                                                                                                                                                                                     </td><td style=\"text-align: right;\">               1</td></tr>\n",
       "<tr><td>B000GFYRHQ </td><td>A3A7YUR6FS6ZCI</td><td>Bigelow Earl Grey Green Tea           </td><td style=\"text-align: right;\">      5</td><td style=\"text-align: right;\">                       0</td><td style=\"text-align: right;\">245379</td><td>Tea Lover                                       </td><td style=\"text-align: right;\">                     0</td><td style=\"text-align: right;\">1.17841e+09</td><td>Tastes like Earl Grey, but it's green tea so it's healthier.                                                                                                                                                                                                                                                                                                                                                                                                                                                                                                                                                                                                                                                                                                                                                                                                                                                                                                                                                                                                                                                                                                                                                                                                                                                                                                                                                                                                                                                                                                                                                                                                                                                                                                                                                                                                                                                                                                                                                                                                                                                                                                                                                                                                                                                                                                                                                                                                                                                                                                                                                                                                                                                                                                                                                                                                                                                                                                                                                                                                                                                                                                                                                                                                </td><td style=\"text-align: right;\">               1</td></tr>\n",
       "</tbody>\n",
       "</table>"
      ]
     },
     "metadata": {},
     "output_type": "display_data"
    },
    {
     "data": {
      "text/plain": []
     },
     "execution_count": 5,
     "metadata": {},
     "output_type": "execute_result"
    }
   ],
   "source": [
    "reviews.head()"
   ]
  },
  {
   "cell_type": "code",
   "execution_count": 6,
   "metadata": {},
   "outputs": [
    {
     "data": {
      "text/html": [
       "<table>\n",
       "<thead>\n",
       "<tr><th style=\"text-align: right;\">  PositiveReview</th><th style=\"text-align: right;\">  Count</th></tr>\n",
       "</thead>\n",
       "<tbody>\n",
       "<tr><td style=\"text-align: right;\">               0</td><td style=\"text-align: right;\">  21791</td></tr>\n",
       "<tr><td style=\"text-align: right;\">               1</td><td style=\"text-align: right;\">  78209</td></tr>\n",
       "</tbody>\n",
       "</table>"
      ]
     },
     "metadata": {},
     "output_type": "display_data"
    },
    {
     "data": {
      "text/plain": []
     },
     "execution_count": 6,
     "metadata": {},
     "output_type": "execute_result"
    }
   ],
   "source": [
    "reviews[\"PositiveReview\"].table()"
   ]
  },
  {
   "cell_type": "markdown",
   "metadata": {},
   "source": [
    "## Train Baseline Model\n",
    "\n",
    "We will start by training a baseline model that does not use the review and instead uses other attributes in our dataset."
   ]
  },
  {
   "cell_type": "code",
   "execution_count": 7,
   "metadata": {},
   "outputs": [],
   "source": [
    "# Find the 80th quantile of time in the dataset\n",
    "time_split = reviews[\"Time\"].quantile(prob = [0.8])[1]\n",
    "reviews[\"Train\"] = (reviews[\"Time\"] < time_split).ifelse(\"Yes\", \"No\")"
   ]
  },
  {
   "cell_type": "code",
   "execution_count": 8,
   "metadata": {},
   "outputs": [],
   "source": [
    "train = reviews[reviews[\"Train\"] == \"Yes\"]\n",
    "test = reviews[reviews[\"Train\"] == \"No\"]"
   ]
  },
  {
   "cell_type": "code",
   "execution_count": 9,
   "metadata": {},
   "outputs": [
    {
     "name": "stdout",
     "output_type": "stream",
     "text": [
      "gbm Model Build progress: |███████████████████████████████████████████████| 100%\n"
     ]
    }
   ],
   "source": [
    "from h2o.estimators import H2OGradientBoostingEstimator\n",
    "\n",
    "predictors = ['ProductId', 'UserId', 'HelpfulnessNumerator', 'HelpfulnessDenominator', 'Time']\n",
    "response = 'PositiveReview'\n",
    "\n",
    "gbm_baseline = H2OGradientBoostingEstimator(stopping_metric = \"AUC\", stopping_tolerance = 0.001,\n",
    "                                            stopping_rounds = 5, score_tree_interval = 10,\n",
    "                                            model_id = \"gbm_baseline.hex\"\n",
    "                                           )\n",
    "gbm_baseline.train(x = predictors, y = response, \n",
    "                   training_frame = train, validation_frame = test\n",
    "                  )"
   ]
  },
  {
   "cell_type": "code",
   "execution_count": 10,
   "metadata": {},
   "outputs": [
    {
     "name": "stdout",
     "output_type": "stream",
     "text": [
      "AUC on Validation Data: 0.616\n"
     ]
    }
   ],
   "source": [
    "print(\"AUC on Validation Data: \" + str(round(gbm_baseline.auc(valid = True), 3)))"
   ]
  },
  {
   "cell_type": "markdown",
   "metadata": {},
   "source": [
    "We can see that there is a big room for improvement.  Our error is 22%.  To improve our model, we will train word embeddings for the review."
   ]
  },
  {
   "cell_type": "code",
   "execution_count": 11,
   "metadata": {},
   "outputs": [
    {
     "name": "stdout",
     "output_type": "stream",
     "text": [
      "Confusion Matrix (Act/Pred) for max f1 @ threshold = 0.459316258112: \n"
     ]
    },
    {
     "data": {
      "text/html": [
       "<div style=\"overflow:auto\"><table style=\"width:50%\"><tr><td><b></b></td>\n",
       "<td><b>0</b></td>\n",
       "<td><b>1</b></td>\n",
       "<td><b>Error</b></td>\n",
       "<td><b>Rate</b></td></tr>\n",
       "<tr><td>0</td>\n",
       "<td>384.0</td>\n",
       "<td>4276.0</td>\n",
       "<td>0.9176</td>\n",
       "<td> (4276.0/4660.0)</td></tr>\n",
       "<tr><td>1</td>\n",
       "<td>128.0</td>\n",
       "<td>15220.0</td>\n",
       "<td>0.0083</td>\n",
       "<td> (128.0/15348.0)</td></tr>\n",
       "<tr><td>Total</td>\n",
       "<td>512.0</td>\n",
       "<td>19496.0</td>\n",
       "<td>0.2201</td>\n",
       "<td> (4404.0/20008.0)</td></tr></table></div>"
      ],
      "text/plain": [
       "       0    1      Error    Rate\n",
       "-----  ---  -----  -------  ----------------\n",
       "0      384  4276   0.9176   (4276.0/4660.0)\n",
       "1      128  15220  0.0083   (128.0/15348.0)\n",
       "Total  512  19496  0.2201   (4404.0/20008.0)"
      ]
     },
     "metadata": {},
     "output_type": "display_data"
    },
    {
     "data": {
      "text/plain": []
     },
     "execution_count": 11,
     "metadata": {},
     "output_type": "execute_result"
    }
   ],
   "source": [
    "gbm_baseline.confusion_matrix(valid = True)"
   ]
  },
  {
   "cell_type": "markdown",
   "metadata": {},
   "source": [
    "The variable importance plot below shows us that the most important variable is `HelpfulnessNumerator`.  Looking at the partial dependency plot for that variable, we see that the more people who find the review helpful, the more likely it is a good review."
   ]
  },
  {
   "cell_type": "code",
   "execution_count": 12,
   "metadata": {},
   "outputs": [
    {
     "data": {
      "text/plain": [
       "<Figure size 1400x1000 with 1 Axes>"
      ]
     },
     "metadata": {},
     "output_type": "display_data"
    }
   ],
   "source": [
    "gbm_baseline.varimp_plot()"
   ]
  },
  {
   "cell_type": "code",
   "execution_count": 13,
   "metadata": {},
   "outputs": [
    {
     "name": "stdout",
     "output_type": "stream",
     "text": [
      "PartialDependencePlot progress: |█████████████████████████████████████████| 100%\n"
     ]
    },
    {
     "name": "stderr",
     "output_type": "stream",
     "text": [
      "/Users/kyanyoga/miniconda2/envs/h2o/lib/python2.7/site-packages/matplotlib/font_manager.py:281: UserWarning: Matplotlib is building the font cache using fc-list. This may take a moment.\n",
      "  'Matplotlib is building the font cache using fc-list. '\n"
     ]
    },
    {
     "data": {
      "image/png": "[encoded data removed]",
      "text/plain": [
       "<Figure size 504x720 with 1 Axes>"
      ]
     },
     "metadata": {
      "needs_background": "light"
     },
     "output_type": "display_data"
    }
   ],
   "source": [
    "%matplotlib inline  \n",
    "pdp_helpfulness = gbm_baseline.partial_plot(train, cols = [\"HelpfulnessNumerator\"])"
   ]
  },
  {
   "cell_type": "markdown",
   "metadata": {},
   "source": [
    "## Tokenize Words in Review\n",
    "\n",
    "Our first step will be to tokenize the words in the review column. We will do this by creating a function called `tokenize`.  This will split the reviews into words and remove any stop words, small words, or words with numbers in them."
   ]
  },
  {
   "cell_type": "code",
   "execution_count": 14,
   "metadata": {},
   "outputs": [],
   "source": [
    "# Set Stop Words\n",
    "# The STOP WORDS we are importing are from the nltk package\n",
    "import pandas as pd\n",
    "import os\n",
    "\n",
    "# Use local data file or download from GitHub\n",
    "docker_data_path = \"/home/h2o/data/nlp/stopwords.csv\"\n",
    "if os.path.isfile(docker_data_path):\n",
    "  data_path = docker_data_path\n",
    "else:\n",
    "  data_path = \"https://raw.githubusercontent.com/h2oai/h2o-tutorials/master/h2o-world-2017/nlp/stopwords.csv\"\n",
    "\n",
    "STOP_WORDS = pd.read_csv(data_path, header=0)\n",
    "STOP_WORDS = list(STOP_WORDS['STOP_WORD'])"
   ]
  },
  {
   "cell_type": "code",
   "execution_count": 15,
   "metadata": {},
   "outputs": [],
   "source": [
    "def tokenize(sentences, stop_word = STOP_WORDS):\n",
    "    tokenized = sentences.tokenize(\"\\\\W+\")\n",
    "    tokenized_lower = tokenized.tolower()\n",
    "    tokenized_filtered = tokenized_lower[(tokenized_lower.nchar() >= 2) | (tokenized_lower.isna()),:]\n",
    "    tokenized_words = tokenized_filtered[tokenized_filtered.grep(\"[0-9]\",invert=True,output_logical=True),:]\n",
    "    tokenized_words = tokenized_words[(tokenized_words.isna()) | (~ tokenized_words.isin(STOP_WORDS)),:]\n",
    "    return tokenized_words"
   ]
  },
  {
   "cell_type": "code",
   "execution_count": 16,
   "metadata": {},
   "outputs": [],
   "source": [
    "# Break reviews into sequence of words\n",
    "words = tokenize(reviews[\"Text\"])"
   ]
  },
  {
   "cell_type": "code",
   "execution_count": 27,
   "metadata": {},
   "outputs": [
    {
     "data": {
      "text/html": [
       "<table>\n",
       "<thead>\n",
       "<tr><th>C1       </th></tr>\n",
       "</thead>\n",
       "<tbody>\n",
       "<tr><td>made     </td></tr>\n",
       "<tr><td>china    </td></tr>\n",
       "<tr><td>buy      </td></tr>\n",
       "<tr><td>pet      </td></tr>\n",
       "<tr><td>food     </td></tr>\n",
       "<tr><td>china    </td></tr>\n",
       "<tr><td>dogswell </td></tr>\n",
       "<tr><td>using    </td></tr>\n",
       "<tr><td>propylene</td></tr>\n",
       "<tr><td>glycol   </td></tr>\n",
       "</tbody>\n",
       "</table>"
      ]
     },
     "metadata": {},
     "output_type": "display_data"
    },
    {
     "data": {
      "text/plain": []
     },
     "execution_count": 27,
     "metadata": {},
     "output_type": "execute_result"
    }
   ],
   "source": [
    "words.head()"
   ]
  },
  {
   "cell_type": "markdown",
   "metadata": {},
   "source": [
    "## Train Word2Vec Model\n",
    "\n",
    "Now that we've tokenized our words, we can train a word2vec model.  We can use the `find_synonms` function to sanity check our word2vec model after training."
   ]
  },
  {
   "cell_type": "code",
   "execution_count": 17,
   "metadata": {},
   "outputs": [
    {
     "name": "stdout",
     "output_type": "stream",
     "text": [
      "word2vec Model Build progress: |██████████████████████████████████████████| 100%\n"
     ]
    }
   ],
   "source": [
    "# Train Word2Vec Model\n",
    "from h2o.estimators.word2vec import H2OWord2vecEstimator\n",
    "\n",
    "# This takes time to run - left commented out\n",
    "w2v_model = H2OWord2vecEstimator(vec_size = 100, model_id = \"w2v.hex\")\n",
    "w2v_model.train(training_frame=words)\n",
    "\n",
    "# Pre-trained model available on s3: https://s3.amazonaws.com/tomk/h2o-world/megan/w2v.hex\n",
    "# w2v_model = h2o.load_model(\"/home/h2o/data/megan/w2v.hex\")"
   ]
  },
  {
   "cell_type": "code",
   "execution_count": 18,
   "metadata": {},
   "outputs": [
    {
     "data": {
      "text/plain": [
       "u'/Users/kyanyoga/GoogleDrive/Analytics/Text_NLP_Language/h2o-amazon-reviews'"
      ]
     },
     "execution_count": 18,
     "metadata": {},
     "output_type": "execute_result"
    }
   ],
   "source": [
    "pwd()"
   ]
  },
  {
   "cell_type": "code",
   "execution_count": 19,
   "metadata": {},
   "outputs": [
    {
     "name": "stdout",
     "output_type": "stream",
     "text": [
      "/Users/kyanyoga/GoogleDrive/Analytics/Text_NLP_Language/model/w2v.hex\n"
     ]
    }
   ],
   "source": [
    "# load pre-trained model\n",
    "# w2v_model = h2o.load_model(\"w2v.hex\")\n",
    "# w2v_model = h2o.save_model(w2v_model, \"w2v.hex\")\n",
    "model_path = h2o.save_model(model=w2v_model, path=\"../model\", force=True)\n",
    "print(model_path)\n",
    "\n",
    "# load the model\n",
    "# saved_model = h2o.load_model(model_path)\n",
    "# h2o.save_model(w2v_model, \"../model\")"
   ]
  },
  {
   "cell_type": "code",
   "execution_count": 20,
   "metadata": {},
   "outputs": [
    {
     "data": {
      "text/plain": [
       "OrderedDict([(u'coffe', 0.8205943703651428),\n",
       "             (u'coffees', 0.7765927314758301),\n",
       "             (u'expresso', 0.7517380118370056),\n",
       "             (u'espresso', 0.7435140609741211),\n",
       "             (u'starbucks', 0.7224873900413513),\n",
       "             (u'brew', 0.7193624973297119),\n",
       "             (u'folgers', 0.7086639404296875),\n",
       "             (u'brewed', 0.6886677145957947),\n",
       "             (u'brews', 0.6861093640327454),\n",
       "             (u'starbuck', 0.6857811212539673)])"
      ]
     },
     "execution_count": 20,
     "metadata": {},
     "output_type": "execute_result"
    }
   ],
   "source": [
    "# Sanity check - find synonyms for the word 'coffee'\n",
    "w2v_model.find_synonyms(\"coffee\", count = 10)"
   ]
  },
  {
   "cell_type": "code",
   "execution_count": 21,
   "metadata": {},
   "outputs": [
    {
     "data": {
      "text/plain": [
       "OrderedDict([(u'moldy', 0.711353600025177),\n",
       "             (u'rancid', 0.6865692734718323),\n",
       "             (u'inedible', 0.6511632800102234),\n",
       "             (u'staleness', 0.6405073404312134),\n",
       "             (u'expired', 0.6320290565490723)])"
      ]
     },
     "execution_count": 21,
     "metadata": {},
     "output_type": "execute_result"
    }
   ],
   "source": [
    "# Sanity check - find synonyms for the word 'stale'\n",
    "w2v_model.find_synonyms(\"stale\", count = 5)"
   ]
  },
  {
   "cell_type": "code",
   "execution_count": 23,
   "metadata": {},
   "outputs": [
    {
     "name": "stdout",
     "output_type": "stream",
     "text": [
      "Model Details\n",
      "=============\n",
      "H2OWord2vecEstimator :  Word2Vec\n",
      "Model Key:  w2v.hex\n",
      "No model summary for this model\n",
      "\n"
     ]
    },
    {
     "data": {
      "text/plain": [
       "<bound method H2OWord2vecEstimator.show of >"
      ]
     },
     "execution_count": 23,
     "metadata": {},
     "output_type": "execute_result"
    }
   ],
   "source": [
    "w2v_model.show"
   ]
  },
  {
   "cell_type": "markdown",
   "metadata": {},
   "source": [
    "Now that we have a word embedding for each word in our vocabulary, we will aggregate the words for each review using the `transform` function.  This will give us one aggregated word embedding for each review."
   ]
  },
  {
   "cell_type": "code",
   "execution_count": 24,
   "metadata": {},
   "outputs": [],
   "source": [
    "# Calculate a vector for each review\n",
    "review_vecs = w2v_model.transform(words, aggregate_method = \"AVERAGE\")"
   ]
  },
  {
   "cell_type": "code",
   "execution_count": 25,
   "metadata": {},
   "outputs": [
    {
     "data": {
      "text/html": [
       "<table>\n",
       "<thead>\n",
       "<tr><th style=\"text-align: right;\">       C1</th><th style=\"text-align: right;\">        C2</th><th style=\"text-align: right;\">         C3</th><th style=\"text-align: right;\">        C4</th><th style=\"text-align: right;\">        C5</th><th style=\"text-align: right;\">          C6</th><th style=\"text-align: right;\">        C7</th><th style=\"text-align: right;\">        C8</th><th style=\"text-align: right;\">        C9</th><th style=\"text-align: right;\">        C10</th><th style=\"text-align: right;\">         C11</th><th style=\"text-align: right;\">       C12</th><th style=\"text-align: right;\">        C13</th><th style=\"text-align: right;\">       C14</th><th style=\"text-align: right;\">       C15</th><th style=\"text-align: right;\">        C16</th><th style=\"text-align: right;\">        C17</th><th style=\"text-align: right;\">        C18</th><th style=\"text-align: right;\">         C19</th><th style=\"text-align: right;\">        C20</th><th style=\"text-align: right;\">       C21</th><th style=\"text-align: right;\">       C22</th><th style=\"text-align: right;\">       C23</th><th style=\"text-align: right;\">       C24</th><th style=\"text-align: right;\">      C25</th><th style=\"text-align: right;\">       C26</th><th style=\"text-align: right;\">        C27</th><th style=\"text-align: right;\">       C28</th><th style=\"text-align: right;\">        C29</th><th style=\"text-align: right;\">        C30</th><th style=\"text-align: right;\">        C31</th><th style=\"text-align: right;\">       C32</th><th style=\"text-align: right;\">      C33</th><th style=\"text-align: right;\">        C34</th><th style=\"text-align: right;\">        C35</th><th style=\"text-align: right;\">        C36</th><th style=\"text-align: right;\">       C37</th><th style=\"text-align: right;\">       C38</th><th style=\"text-align: right;\">       C39</th><th style=\"text-align: right;\">       C40</th><th style=\"text-align: right;\">       C41</th><th style=\"text-align: right;\">        C42</th><th style=\"text-align: right;\">       C43</th><th style=\"text-align: right;\">      C44</th><th style=\"text-align: right;\">        C45</th><th style=\"text-align: right;\">        C46</th><th style=\"text-align: right;\">        C47</th><th style=\"text-align: right;\">        C48</th><th style=\"text-align: right;\">        C49</th><th style=\"text-align: right;\">        C50</th><th style=\"text-align: right;\">        C51</th><th style=\"text-align: right;\">        C52</th><th style=\"text-align: right;\">       C53</th><th style=\"text-align: right;\">         C54</th><th style=\"text-align: right;\">        C55</th><th style=\"text-align: right;\">        C56</th><th style=\"text-align: right;\">        C57</th><th style=\"text-align: right;\">       C58</th><th style=\"text-align: right;\">       C59</th><th style=\"text-align: right;\">       C60</th><th style=\"text-align: right;\">        C61</th><th style=\"text-align: right;\">        C62</th><th style=\"text-align: right;\">       C63</th><th style=\"text-align: right;\">        C64</th><th style=\"text-align: right;\">       C65</th><th style=\"text-align: right;\">        C66</th><th style=\"text-align: right;\">       C67</th><th style=\"text-align: right;\">       C68</th><th style=\"text-align: right;\">       C69</th><th style=\"text-align: right;\">       C70</th><th style=\"text-align: right;\">       C71</th><th style=\"text-align: right;\">        C72</th><th style=\"text-align: right;\">       C73</th><th style=\"text-align: right;\">       C74</th><th style=\"text-align: right;\">        C75</th><th style=\"text-align: right;\">       C76</th><th style=\"text-align: right;\">      C77</th><th style=\"text-align: right;\">      C78</th><th style=\"text-align: right;\">       C79</th><th style=\"text-align: right;\">        C80</th><th style=\"text-align: right;\">         C81</th><th style=\"text-align: right;\">       C82</th><th style=\"text-align: right;\">         C83</th><th style=\"text-align: right;\">       C84</th><th style=\"text-align: right;\">        C85</th><th style=\"text-align: right;\">       C86</th><th style=\"text-align: right;\">        C87</th><th style=\"text-align: right;\">      C88</th><th style=\"text-align: right;\">       C89</th><th style=\"text-align: right;\">      C90</th><th style=\"text-align: right;\">        C91</th><th style=\"text-align: right;\">       C92</th><th style=\"text-align: right;\">      C93</th><th style=\"text-align: right;\">        C94</th><th style=\"text-align: right;\">       C95</th><th style=\"text-align: right;\">         C96</th><th style=\"text-align: right;\">       C97</th><th style=\"text-align: right;\">       C98</th><th style=\"text-align: right;\">        C99</th><th style=\"text-align: right;\">     C100</th></tr>\n",
       "</thead>\n",
       "<tbody>\n",
       "<tr><td style=\"text-align: right;\">-0.137327</td><td style=\"text-align: right;\"> 0.117106 </td><td style=\"text-align: right;\">-0.143058  </td><td style=\"text-align: right;\"> 0.0163701</td><td style=\"text-align: right;\">-0.0369724</td><td style=\"text-align: right;\">-0.0515406  </td><td style=\"text-align: right;\">-0.108495 </td><td style=\"text-align: right;\">-0.0967395</td><td style=\"text-align: right;\">-0.180222 </td><td style=\"text-align: right;\">-0.0358403 </td><td style=\"text-align: right;\">-0.0512601  </td><td style=\"text-align: right;\">-0.0972346</td><td style=\"text-align: right;\"> 0.138922  </td><td style=\"text-align: right;\">-0.116875 </td><td style=\"text-align: right;\">-0.0209895</td><td style=\"text-align: right;\">-0.159763  </td><td style=\"text-align: right;\">-0.0570016 </td><td style=\"text-align: right;\"> 0.0367249 </td><td style=\"text-align: right;\"> 0.0345536  </td><td style=\"text-align: right;\"> 0.0899741 </td><td style=\"text-align: right;\">-0.118105 </td><td style=\"text-align: right;\"> 0.0294942</td><td style=\"text-align: right;\">-0.151536 </td><td style=\"text-align: right;\">-0.0429727</td><td style=\"text-align: right;\">0.0545813</td><td style=\"text-align: right;\">-0.119151 </td><td style=\"text-align: right;\"> 0.023107  </td><td style=\"text-align: right;\">-0.0953429</td><td style=\"text-align: right;\"> 0.12145   </td><td style=\"text-align: right;\"> 0.00851751</td><td style=\"text-align: right;\">-0.0715047 </td><td style=\"text-align: right;\"> 0.103797 </td><td style=\"text-align: right;\">0.241902 </td><td style=\"text-align: right;\">-0.0361379 </td><td style=\"text-align: right;\">-0.126281  </td><td style=\"text-align: right;\"> 0.00785811</td><td style=\"text-align: right;\"> 0.105999 </td><td style=\"text-align: right;\"> 0.144295 </td><td style=\"text-align: right;\"> 0.0561818</td><td style=\"text-align: right;\">-0.105258 </td><td style=\"text-align: right;\"> 0.105609 </td><td style=\"text-align: right;\">-0.12856   </td><td style=\"text-align: right;\">-0.114186 </td><td style=\"text-align: right;\">0.176467 </td><td style=\"text-align: right;\"> 0.0276357 </td><td style=\"text-align: right;\"> 0.0203246 </td><td style=\"text-align: right;\">-0.0537611 </td><td style=\"text-align: right;\"> 0.162354  </td><td style=\"text-align: right;\"> 0.00575095</td><td style=\"text-align: right;\">-0.00112605</td><td style=\"text-align: right;\">-0.165453  </td><td style=\"text-align: right;\"> 0.0540537 </td><td style=\"text-align: right;\">-0.0665733</td><td style=\"text-align: right;\"> 0.000575734</td><td style=\"text-align: right;\">-0.0338558 </td><td style=\"text-align: right;\"> 0.0064097 </td><td style=\"text-align: right;\"> 0.0494852 </td><td style=\"text-align: right;\">-0.0928464</td><td style=\"text-align: right;\">-0.0358787</td><td style=\"text-align: right;\"> 0.217209 </td><td style=\"text-align: right;\">-0.0279001 </td><td style=\"text-align: right;\"> 0.058724  </td><td style=\"text-align: right;\">-0.0466213</td><td style=\"text-align: right;\"> 0.084655  </td><td style=\"text-align: right;\">-0.184291 </td><td style=\"text-align: right;\"> 0.0552411 </td><td style=\"text-align: right;\"> 0.0438613</td><td style=\"text-align: right;\"> 0.0622004</td><td style=\"text-align: right;\">-0.0603018</td><td style=\"text-align: right;\">-0.0523615</td><td style=\"text-align: right;\">-0.0837755</td><td style=\"text-align: right;\">-0.0612897 </td><td style=\"text-align: right;\"> 0.0849023</td><td style=\"text-align: right;\">-0.0265477</td><td style=\"text-align: right;\">-0.00771394</td><td style=\"text-align: right;\"> 0.0693007</td><td style=\"text-align: right;\">0.183161 </td><td style=\"text-align: right;\">0.0823719</td><td style=\"text-align: right;\"> 0.0461368</td><td style=\"text-align: right;\">-0.202577  </td><td style=\"text-align: right;\"> 0.0328397  </td><td style=\"text-align: right;\"> 0.0336606</td><td style=\"text-align: right;\"> 0.207479   </td><td style=\"text-align: right;\"> 0.13519  </td><td style=\"text-align: right;\"> 0.0916521 </td><td style=\"text-align: right;\"> 0.0229596</td><td style=\"text-align: right;\"> 0.0123298 </td><td style=\"text-align: right;\">0.133246 </td><td style=\"text-align: right;\"> 0.0545904</td><td style=\"text-align: right;\">0.0905148</td><td style=\"text-align: right;\"> 0.101026  </td><td style=\"text-align: right;\"> 0.0808002</td><td style=\"text-align: right;\">0.0626895</td><td style=\"text-align: right;\"> 0.12345   </td><td style=\"text-align: right;\">-0.0165294</td><td style=\"text-align: right;\">-0.131443   </td><td style=\"text-align: right;\"> 0.0613747</td><td style=\"text-align: right;\">-0.0330359</td><td style=\"text-align: right;\">-0.121638  </td><td style=\"text-align: right;\">0.327261 </td></tr>\n",
       "<tr><td style=\"text-align: right;\">-0.194944</td><td style=\"text-align: right;\">-0.0794259</td><td style=\"text-align: right;\"> 0.0252228 </td><td style=\"text-align: right;\">-0.0940071</td><td style=\"text-align: right;\">-0.0301648</td><td style=\"text-align: right;\"> 0.11179    </td><td style=\"text-align: right;\">-0.113057 </td><td style=\"text-align: right;\">-0.0033253</td><td style=\"text-align: right;\">-0.108578 </td><td style=\"text-align: right;\"> 0.0966169 </td><td style=\"text-align: right;\">-0.0583331  </td><td style=\"text-align: right;\">-0.204132 </td><td style=\"text-align: right;\"> 0.155888  </td><td style=\"text-align: right;\">-0.160066 </td><td style=\"text-align: right;\">-0.107635 </td><td style=\"text-align: right;\">-0.0228705 </td><td style=\"text-align: right;\">-0.00726308</td><td style=\"text-align: right;\">-0.0354809 </td><td style=\"text-align: right;\">-0.000861324</td><td style=\"text-align: right;\"> 0.0535808 </td><td style=\"text-align: right;\"> 0.0542935</td><td style=\"text-align: right;\">-0.223938 </td><td style=\"text-align: right;\"> 0.0393878</td><td style=\"text-align: right;\"> 0.0612438</td><td style=\"text-align: right;\">0.056448 </td><td style=\"text-align: right;\">-0.103724 </td><td style=\"text-align: right;\"> 0.0488604 </td><td style=\"text-align: right;\">-0.117224 </td><td style=\"text-align: right;\">-0.037542  </td><td style=\"text-align: right;\"> 0.0323587 </td><td style=\"text-align: right;\">-0.0545126 </td><td style=\"text-align: right;\"> 0.118317 </td><td style=\"text-align: right;\">0.081435 </td><td style=\"text-align: right;\"> 0.0245117 </td><td style=\"text-align: right;\">-0.200091  </td><td style=\"text-align: right;\">-0.0462331 </td><td style=\"text-align: right;\"> 0.0249502</td><td style=\"text-align: right;\">-0.20162  </td><td style=\"text-align: right;\"> 0.104681 </td><td style=\"text-align: right;\">-0.154882 </td><td style=\"text-align: right;\"> 0.0066683</td><td style=\"text-align: right;\">-0.146104  </td><td style=\"text-align: right;\">-0.20978  </td><td style=\"text-align: right;\">0.172415 </td><td style=\"text-align: right;\">-0.0149411 </td><td style=\"text-align: right;\"> 0.121536  </td><td style=\"text-align: right;\"> 0.00644336</td><td style=\"text-align: right;\"> 0.0320147 </td><td style=\"text-align: right;\">-0.068268  </td><td style=\"text-align: right;\">-0.112972  </td><td style=\"text-align: right;\">-0.049908  </td><td style=\"text-align: right;\"> 0.0285507 </td><td style=\"text-align: right;\"> 0.0953786</td><td style=\"text-align: right;\"> 0.0572628  </td><td style=\"text-align: right;\">-0.119272  </td><td style=\"text-align: right;\"> 0.0559863 </td><td style=\"text-align: right;\">-0.146084  </td><td style=\"text-align: right;\">-0.0879221</td><td style=\"text-align: right;\">-0.0584682</td><td style=\"text-align: right;\"> 0.17507  </td><td style=\"text-align: right;\"> 0.063406  </td><td style=\"text-align: right;\"> 0.0208763 </td><td style=\"text-align: right;\">-0.0568677</td><td style=\"text-align: right;\">-0.139852  </td><td style=\"text-align: right;\">-0.0673416</td><td style=\"text-align: right;\"> 0.0967894 </td><td style=\"text-align: right;\"> 0.0929958</td><td style=\"text-align: right;\"> 0.0995603</td><td style=\"text-align: right;\">-0.0949567</td><td style=\"text-align: right;\">-0.0761321</td><td style=\"text-align: right;\">-0.0887424</td><td style=\"text-align: right;\">-0.0915284 </td><td style=\"text-align: right;\">-0.0589595</td><td style=\"text-align: right;\"> 0.168592 </td><td style=\"text-align: right;\"> 0.0904293 </td><td style=\"text-align: right;\"> 0.0928116</td><td style=\"text-align: right;\">0.0855538</td><td style=\"text-align: right;\">0.162118 </td><td style=\"text-align: right;\">-0.103686 </td><td style=\"text-align: right;\">-0.0503028 </td><td style=\"text-align: right;\"> 0.040968   </td><td style=\"text-align: right;\">-0.107733 </td><td style=\"text-align: right;\"> 0.0834665  </td><td style=\"text-align: right;\"> 0.0712746</td><td style=\"text-align: right;\">-0.00563363</td><td style=\"text-align: right;\">-0.0485043</td><td style=\"text-align: right;\">-0.0251475 </td><td style=\"text-align: right;\">0.0387156</td><td style=\"text-align: right;\">-0.0417978</td><td style=\"text-align: right;\">0.0864089</td><td style=\"text-align: right;\"> 0.0158195 </td><td style=\"text-align: right;\">-0.165895 </td><td style=\"text-align: right;\">0.0956207</td><td style=\"text-align: right;\"> 0.0378524 </td><td style=\"text-align: right;\">-0.154459 </td><td style=\"text-align: right;\"> 0.0132743  </td><td style=\"text-align: right;\">-0.0371381</td><td style=\"text-align: right;\"> 0.189449 </td><td style=\"text-align: right;\"> 0.0290891 </td><td style=\"text-align: right;\">0.06569  </td></tr>\n",
       "<tr><td style=\"text-align: right;\">-0.113753</td><td style=\"text-align: right;\"> 0.181544 </td><td style=\"text-align: right;\">-0.0355501 </td><td style=\"text-align: right;\"> 0.10375  </td><td style=\"text-align: right;\"> 0.0216525</td><td style=\"text-align: right;\"> 0.0366882  </td><td style=\"text-align: right;\">-0.0637111</td><td style=\"text-align: right;\">-0.0901659</td><td style=\"text-align: right;\">-0.0469094</td><td style=\"text-align: right;\"> 0.020034  </td><td style=\"text-align: right;\">-0.128082   </td><td style=\"text-align: right;\">-0.0245713</td><td style=\"text-align: right;\"> 0.0831929 </td><td style=\"text-align: right;\">-0.196019 </td><td style=\"text-align: right;\">-0.0683021</td><td style=\"text-align: right;\">-0.107336  </td><td style=\"text-align: right;\"> 0.0127745 </td><td style=\"text-align: right;\"> 0.0336634 </td><td style=\"text-align: right;\">-0.0324065  </td><td style=\"text-align: right;\"> 0.0134736 </td><td style=\"text-align: right;\"> 0.0261437</td><td style=\"text-align: right;\">-0.190871 </td><td style=\"text-align: right;\">-0.0812731</td><td style=\"text-align: right;\"> 0.0515964</td><td style=\"text-align: right;\">0.0203531</td><td style=\"text-align: right;\">-0.164186 </td><td style=\"text-align: right;\">-0.00403579</td><td style=\"text-align: right;\">-0.0894996</td><td style=\"text-align: right;\"> 0.103797  </td><td style=\"text-align: right;\"> 0.0598946 </td><td style=\"text-align: right;\">-0.00980791</td><td style=\"text-align: right;\"> 0.0648664</td><td style=\"text-align: right;\">0.251168 </td><td style=\"text-align: right;\"> 0.0352848 </td><td style=\"text-align: right;\">-0.0873402 </td><td style=\"text-align: right;\">-0.0328605 </td><td style=\"text-align: right;\"> 0.0855086</td><td style=\"text-align: right;\">-0.015523 </td><td style=\"text-align: right;\"> 0.0117169</td><td style=\"text-align: right;\">-0.159895 </td><td style=\"text-align: right;\"> 0.0600068</td><td style=\"text-align: right;\">-0.0303497 </td><td style=\"text-align: right;\">-0.0116717</td><td style=\"text-align: right;\">0.173462 </td><td style=\"text-align: right;\"> 0.0923783 </td><td style=\"text-align: right;\">-0.00961416</td><td style=\"text-align: right;\"> 0.0336053 </td><td style=\"text-align: right;\"> 0.155028  </td><td style=\"text-align: right;\">-0.0444234 </td><td style=\"text-align: right;\">-0.0128186 </td><td style=\"text-align: right;\">-0.0925232 </td><td style=\"text-align: right;\">-0.0580412 </td><td style=\"text-align: right;\"> 0.084198 </td><td style=\"text-align: right;\">-0.02227    </td><td style=\"text-align: right;\">-0.051689  </td><td style=\"text-align: right;\"> 0.0176213 </td><td style=\"text-align: right;\">-0.133462  </td><td style=\"text-align: right;\"> 0.0930173</td><td style=\"text-align: right;\"> 0.0146836</td><td style=\"text-align: right;\"> 0.116001 </td><td style=\"text-align: right;\">-0.0834971 </td><td style=\"text-align: right;\"> 0.0692799 </td><td style=\"text-align: right;\">-0.17763  </td><td style=\"text-align: right;\"> 0.0571833 </td><td style=\"text-align: right;\">-0.12673  </td><td style=\"text-align: right;\"> 0.0190864 </td><td style=\"text-align: right;\"> 0.0676945</td><td style=\"text-align: right;\"> 0.149497 </td><td style=\"text-align: right;\">-0.0534362</td><td style=\"text-align: right;\"> 0.0178537</td><td style=\"text-align: right;\">-0.142963 </td><td style=\"text-align: right;\">-0.00333342</td><td style=\"text-align: right;\"> 0.0697242</td><td style=\"text-align: right;\"> 0.0627148</td><td style=\"text-align: right;\"> 0.0461171 </td><td style=\"text-align: right;\"> 0.187371 </td><td style=\"text-align: right;\">0.0480606</td><td style=\"text-align: right;\">0.168606 </td><td style=\"text-align: right;\">-0.0120626</td><td style=\"text-align: right;\">-0.0877528 </td><td style=\"text-align: right;\"> 0.0698203  </td><td style=\"text-align: right;\"> 0.167375 </td><td style=\"text-align: right;\"> 0.0426067  </td><td style=\"text-align: right;\"> 0.0669228</td><td style=\"text-align: right;\"> 0.098502  </td><td style=\"text-align: right;\">-0.18388  </td><td style=\"text-align: right;\"> 0.0603604 </td><td style=\"text-align: right;\">0.088928 </td><td style=\"text-align: right;\"> 0.0625766</td><td style=\"text-align: right;\">0.171978 </td><td style=\"text-align: right;\">-0.0388312 </td><td style=\"text-align: right;\">-0.129208 </td><td style=\"text-align: right;\">0.113457 </td><td style=\"text-align: right;\"> 0.0586057 </td><td style=\"text-align: right;\"> 0.0138264</td><td style=\"text-align: right;\">-0.115061   </td><td style=\"text-align: right;\"> 0.110097 </td><td style=\"text-align: right;\"> 0.115402 </td><td style=\"text-align: right;\"> 0.0464534 </td><td style=\"text-align: right;\">0.135018 </td></tr>\n",
       "<tr><td style=\"text-align: right;\">-0.024628</td><td style=\"text-align: right;\"> 0.0645641</td><td style=\"text-align: right;\">-0.0221547 </td><td style=\"text-align: right;\"> 0.063485 </td><td style=\"text-align: right;\">-0.0770724</td><td style=\"text-align: right;\"> 0.109052   </td><td style=\"text-align: right;\">-0.092912 </td><td style=\"text-align: right;\">-0.0846669</td><td style=\"text-align: right;\">-0.150489 </td><td style=\"text-align: right;\">-0.0325025 </td><td style=\"text-align: right;\">-0.0607125  </td><td style=\"text-align: right;\">-0.0760142</td><td style=\"text-align: right;\"> 0.118682  </td><td style=\"text-align: right;\">-0.20265  </td><td style=\"text-align: right;\"> 0.0868301</td><td style=\"text-align: right;\">-0.0386547 </td><td style=\"text-align: right;\">-0.0651081 </td><td style=\"text-align: right;\">-0.0521027 </td><td style=\"text-align: right;\"> 0.0232272  </td><td style=\"text-align: right;\"> 0.00496413</td><td style=\"text-align: right;\"> 0.0469279</td><td style=\"text-align: right;\">-0.0715143</td><td style=\"text-align: right;\">-0.0856767</td><td style=\"text-align: right;\">-0.0654027</td><td style=\"text-align: right;\">0.0574682</td><td style=\"text-align: right;\">-0.137487 </td><td style=\"text-align: right;\">-0.0637173 </td><td style=\"text-align: right;\">-0.157329 </td><td style=\"text-align: right;\"> 0.136521  </td><td style=\"text-align: right;\">-0.0144026 </td><td style=\"text-align: right;\">-0.0556519 </td><td style=\"text-align: right;\"> 0.0461695</td><td style=\"text-align: right;\">0.233669 </td><td style=\"text-align: right;\"> 0.0431003 </td><td style=\"text-align: right;\">-0.086474  </td><td style=\"text-align: right;\">-0.0390935 </td><td style=\"text-align: right;\"> 0.0172617</td><td style=\"text-align: right;\">-0.0445976</td><td style=\"text-align: right;\"> 0.0457892</td><td style=\"text-align: right;\">-0.0393505</td><td style=\"text-align: right;\"> 0.0638196</td><td style=\"text-align: right;\">-0.0336987 </td><td style=\"text-align: right;\">-0.159144 </td><td style=\"text-align: right;\">0.261665 </td><td style=\"text-align: right;\"> 0.134989  </td><td style=\"text-align: right;\"> 0.0513681 </td><td style=\"text-align: right;\"> 0.0774403 </td><td style=\"text-align: right;\"> 0.0433217 </td><td style=\"text-align: right;\">-0.158566  </td><td style=\"text-align: right;\">-0.0853639 </td><td style=\"text-align: right;\">-0.0852366 </td><td style=\"text-align: right;\">-0.0826532 </td><td style=\"text-align: right;\"> 0.0789006</td><td style=\"text-align: right;\"> 0.0997945  </td><td style=\"text-align: right;\"> 0.0485593 </td><td style=\"text-align: right;\"> 0.174969  </td><td style=\"text-align: right;\">-0.111366  </td><td style=\"text-align: right;\">-0.0321599</td><td style=\"text-align: right;\"> 0.034578 </td><td style=\"text-align: right;\"> 0.0428722</td><td style=\"text-align: right;\">-0.105962  </td><td style=\"text-align: right;\">-0.00343123</td><td style=\"text-align: right;\">-0.150047 </td><td style=\"text-align: right;\">-0.00401529</td><td style=\"text-align: right;\">-0.0328757</td><td style=\"text-align: right;\"> 0.0289587 </td><td style=\"text-align: right;\">-0.0109494</td><td style=\"text-align: right;\"> 0.0703314</td><td style=\"text-align: right;\"> 0.0468126</td><td style=\"text-align: right;\">-0.089913 </td><td style=\"text-align: right;\">-0.0638407</td><td style=\"text-align: right;\">-0.0619585 </td><td style=\"text-align: right;\"> 0.0404941</td><td style=\"text-align: right;\"> 0.119482 </td><td style=\"text-align: right;\"> 0.0800266 </td><td style=\"text-align: right;\"> 0.147945 </td><td style=\"text-align: right;\">0.0214407</td><td style=\"text-align: right;\">0.153646 </td><td style=\"text-align: right;\"> 0.0104038</td><td style=\"text-align: right;\">-0.0798341 </td><td style=\"text-align: right;\"> 0.06634    </td><td style=\"text-align: right;\"> 0.0497588</td><td style=\"text-align: right;\"> 0.0448914  </td><td style=\"text-align: right;\"> 0.088586 </td><td style=\"text-align: right;\"> 0.143865  </td><td style=\"text-align: right;\">-0.0538652</td><td style=\"text-align: right;\">-0.00971027</td><td style=\"text-align: right;\">0.0725318</td><td style=\"text-align: right;\">-0.0210118</td><td style=\"text-align: right;\">0.130326 </td><td style=\"text-align: right;\"> 0.0140292 </td><td style=\"text-align: right;\">-0.103192 </td><td style=\"text-align: right;\">0.0746631</td><td style=\"text-align: right;\"> 0.0181977 </td><td style=\"text-align: right;\"> 0.0361575</td><td style=\"text-align: right;\">-0.0928006  </td><td style=\"text-align: right;\"> 0.121052 </td><td style=\"text-align: right;\"> 0.0399937</td><td style=\"text-align: right;\">-0.00169092</td><td style=\"text-align: right;\">0.202725 </td></tr>\n",
       "<tr><td style=\"text-align: right;\">-0.188457</td><td style=\"text-align: right;\"> 0.140619 </td><td style=\"text-align: right;\">-0.0756601 </td><td style=\"text-align: right;\"> 0.0462651</td><td style=\"text-align: right;\">-0.0453078</td><td style=\"text-align: right;\">-0.000329077</td><td style=\"text-align: right;\">-0.0230098</td><td style=\"text-align: right;\">-0.086378 </td><td style=\"text-align: right;\">-0.121432 </td><td style=\"text-align: right;\">-0.00235264</td><td style=\"text-align: right;\">-0.000389819</td><td style=\"text-align: right;\">-0.128324 </td><td style=\"text-align: right;\"> 0.109179  </td><td style=\"text-align: right;\">-0.247678 </td><td style=\"text-align: right;\"> 0.0319287</td><td style=\"text-align: right;\">-0.109373  </td><td style=\"text-align: right;\">-0.0722973 </td><td style=\"text-align: right;\"> 0.0189272 </td><td style=\"text-align: right;\"> 0.00830353 </td><td style=\"text-align: right;\">-0.0553562 </td><td style=\"text-align: right;\"> 0.0778905</td><td style=\"text-align: right;\">-0.0907407</td><td style=\"text-align: right;\">-0.138428 </td><td style=\"text-align: right;\">-0.0727779</td><td style=\"text-align: right;\">0.0614942</td><td style=\"text-align: right;\">-0.103452 </td><td style=\"text-align: right;\">-0.0160698 </td><td style=\"text-align: right;\">-0.042953 </td><td style=\"text-align: right;\"> 0.071261  </td><td style=\"text-align: right;\">-0.0123552 </td><td style=\"text-align: right;\">-0.0905513 </td><td style=\"text-align: right;\"> 0.131908 </td><td style=\"text-align: right;\">0.122129 </td><td style=\"text-align: right;\">-0.0134568 </td><td style=\"text-align: right;\">-0.19596   </td><td style=\"text-align: right;\"> 0.0494053 </td><td style=\"text-align: right;\"> 0.12028  </td><td style=\"text-align: right;\"> 0.0573743</td><td style=\"text-align: right;\"> 0.0164241</td><td style=\"text-align: right;\">-0.0366443</td><td style=\"text-align: right;\">-0.0210554</td><td style=\"text-align: right;\">-0.0838263 </td><td style=\"text-align: right;\">-0.172403 </td><td style=\"text-align: right;\">0.134696 </td><td style=\"text-align: right;\"> 0.0929717 </td><td style=\"text-align: right;\"> 0.0503217 </td><td style=\"text-align: right;\"> 0.0265709 </td><td style=\"text-align: right;\"> 0.102418  </td><td style=\"text-align: right;\">-0.0360924 </td><td style=\"text-align: right;\"> 0.0385635 </td><td style=\"text-align: right;\">-0.0366321 </td><td style=\"text-align: right;\">-0.0263414 </td><td style=\"text-align: right;\"> 0.0204867</td><td style=\"text-align: right;\">-0.0190877  </td><td style=\"text-align: right;\"> 0.00314356</td><td style=\"text-align: right;\">-0.00758281</td><td style=\"text-align: right;\">-0.0374355 </td><td style=\"text-align: right;\"> 0.0248599</td><td style=\"text-align: right;\">-0.0253902</td><td style=\"text-align: right;\"> 0.224019 </td><td style=\"text-align: right;\"> 0.0217237 </td><td style=\"text-align: right;\"> 0.101285  </td><td style=\"text-align: right;\">-0.0869182</td><td style=\"text-align: right;\"> 0.0230456 </td><td style=\"text-align: right;\">-0.119391 </td><td style=\"text-align: right;\">-0.00840888</td><td style=\"text-align: right;\"> 0.0221978</td><td style=\"text-align: right;\"> 0.114607 </td><td style=\"text-align: right;\"> 0.0730215</td><td style=\"text-align: right;\">-0.0809923</td><td style=\"text-align: right;\">-0.159214 </td><td style=\"text-align: right;\">-0.0819665 </td><td style=\"text-align: right;\"> 0.049622 </td><td style=\"text-align: right;\"> 0.021412 </td><td style=\"text-align: right;\"> 0.0483854 </td><td style=\"text-align: right;\"> 0.161946 </td><td style=\"text-align: right;\">0.133253 </td><td style=\"text-align: right;\">0.203236 </td><td style=\"text-align: right;\"> 0.0663205</td><td style=\"text-align: right;\">-0.154241  </td><td style=\"text-align: right;\">-0.000669342</td><td style=\"text-align: right;\"> 0.0621482</td><td style=\"text-align: right;\">-0.0261939  </td><td style=\"text-align: right;\"> 0.205232 </td><td style=\"text-align: right;\"> 0.0494166 </td><td style=\"text-align: right;\">-0.0401466</td><td style=\"text-align: right;\"> 0.11867   </td><td style=\"text-align: right;\">0.0823159</td><td style=\"text-align: right;\"> 0.0100376</td><td style=\"text-align: right;\">0.16028  </td><td style=\"text-align: right;\"> 0.0103591 </td><td style=\"text-align: right;\">-0.13775  </td><td style=\"text-align: right;\">0.0827632</td><td style=\"text-align: right;\"> 0.102637  </td><td style=\"text-align: right;\"> 0.0113613</td><td style=\"text-align: right;\">-0.121271   </td><td style=\"text-align: right;\"> 0.133114 </td><td style=\"text-align: right;\"> 0.0431719</td><td style=\"text-align: right;\">-0.099927  </td><td style=\"text-align: right;\">0.268227 </td></tr>\n",
       "<tr><td style=\"text-align: right;\">-0.184234</td><td style=\"text-align: right;\"> 0.0423425</td><td style=\"text-align: right;\">-0.0745604 </td><td style=\"text-align: right;\">-0.0380734</td><td style=\"text-align: right;\"> 0.055481 </td><td style=\"text-align: right;\">-0.074535   </td><td style=\"text-align: right;\"> 0.0106383</td><td style=\"text-align: right;\"> 0.0812083</td><td style=\"text-align: right;\">-0.113539 </td><td style=\"text-align: right;\"> 0.110515  </td><td style=\"text-align: right;\">-0.011305   </td><td style=\"text-align: right;\">-0.137057 </td><td style=\"text-align: right;\"> 0.102197  </td><td style=\"text-align: right;\"> 0.0202492</td><td style=\"text-align: right;\">-0.107844 </td><td style=\"text-align: right;\">-0.0284232 </td><td style=\"text-align: right;\">-0.0343445 </td><td style=\"text-align: right;\">-0.0474992 </td><td style=\"text-align: right;\"> 0.119688   </td><td style=\"text-align: right;\"> 0.0785744 </td><td style=\"text-align: right;\"> 0.193271 </td><td style=\"text-align: right;\">-0.273852 </td><td style=\"text-align: right;\">-0.157092 </td><td style=\"text-align: right;\"> 0.0306421</td><td style=\"text-align: right;\">0.0491039</td><td style=\"text-align: right;\">-0.183424 </td><td style=\"text-align: right;\">-0.0679592 </td><td style=\"text-align: right;\">-0.00219  </td><td style=\"text-align: right;\">-0.0690658 </td><td style=\"text-align: right;\">-0.049922  </td><td style=\"text-align: right;\">-0.101092  </td><td style=\"text-align: right;\"> 0.0575919</td><td style=\"text-align: right;\">0.103664 </td><td style=\"text-align: right;\"> 0.113601  </td><td style=\"text-align: right;\">-0.0806405 </td><td style=\"text-align: right;\">-0.170619  </td><td style=\"text-align: right;\"> 0.1479   </td><td style=\"text-align: right;\">-0.18392  </td><td style=\"text-align: right;\">-0.0563571</td><td style=\"text-align: right;\">-0.262066 </td><td style=\"text-align: right;\">-0.0702306</td><td style=\"text-align: right;\">-0.0220747 </td><td style=\"text-align: right;\">-0.182053 </td><td style=\"text-align: right;\">0.047458 </td><td style=\"text-align: right;\"> 0.017115  </td><td style=\"text-align: right;\"> 0.0571105 </td><td style=\"text-align: right;\"> 0.108813  </td><td style=\"text-align: right;\"> 0.0329257 </td><td style=\"text-align: right;\">-0.0797706 </td><td style=\"text-align: right;\">-0.0700952 </td><td style=\"text-align: right;\">-0.00577225</td><td style=\"text-align: right;\"> 0.0239281 </td><td style=\"text-align: right;\"> 0.0869706</td><td style=\"text-align: right;\"> 0.24323    </td><td style=\"text-align: right;\"> 0.0238349 </td><td style=\"text-align: right;\"> 0.12579   </td><td style=\"text-align: right;\">-0.0243474 </td><td style=\"text-align: right;\"> 0.0896235</td><td style=\"text-align: right;\"> 0.063498 </td><td style=\"text-align: right;\"> 0.0367774</td><td style=\"text-align: right;\"> 0.0224674 </td><td style=\"text-align: right;\">-0.0560998 </td><td style=\"text-align: right;\">-0.120817 </td><td style=\"text-align: right;\">-0.0103151 </td><td style=\"text-align: right;\">-0.0800922</td><td style=\"text-align: right;\">-0.0119628 </td><td style=\"text-align: right;\"> 0.160744 </td><td style=\"text-align: right;\"> 0.234176 </td><td style=\"text-align: right;\">-0.038646 </td><td style=\"text-align: right;\">-0.0839827</td><td style=\"text-align: right;\"> 0.0489119</td><td style=\"text-align: right;\"> 0.0468187 </td><td style=\"text-align: right;\"> 0.0435287</td><td style=\"text-align: right;\">-0.0414725</td><td style=\"text-align: right;\"> 0.154572  </td><td style=\"text-align: right;\"> 0.208043 </td><td style=\"text-align: right;\">0.174518 </td><td style=\"text-align: right;\">0.244372 </td><td style=\"text-align: right;\">-0.0598721</td><td style=\"text-align: right;\"> 0.00183293</td><td style=\"text-align: right;\">-0.0459025  </td><td style=\"text-align: right;\"> 0.026664 </td><td style=\"text-align: right;\">-0.0241769  </td><td style=\"text-align: right;\">-0.020912 </td><td style=\"text-align: right;\">-0.02521   </td><td style=\"text-align: right;\"> 0.0142908</td><td style=\"text-align: right;\">-0.109799  </td><td style=\"text-align: right;\">0.0984082</td><td style=\"text-align: right;\"> 0.0576193</td><td style=\"text-align: right;\">0.0420924</td><td style=\"text-align: right;\"> 0.0820726 </td><td style=\"text-align: right;\">-0.127168 </td><td style=\"text-align: right;\">0.128074 </td><td style=\"text-align: right;\">-0.043353  </td><td style=\"text-align: right;\">-0.0376182</td><td style=\"text-align: right;\">-0.178505   </td><td style=\"text-align: right;\"> 0.0801546</td><td style=\"text-align: right;\"> 0.0285908</td><td style=\"text-align: right;\">-0.0842598 </td><td style=\"text-align: right;\">0.13176  </td></tr>\n",
       "<tr><td style=\"text-align: right;\">-0.175329</td><td style=\"text-align: right;\"> 0.115319 </td><td style=\"text-align: right;\">-0.101819  </td><td style=\"text-align: right;\">-0.104932 </td><td style=\"text-align: right;\"> 0.0175749</td><td style=\"text-align: right;\">-0.029523   </td><td style=\"text-align: right;\">-0.012644 </td><td style=\"text-align: right;\">-0.0762063</td><td style=\"text-align: right;\"> 0.0515901</td><td style=\"text-align: right;\">-0.0378299 </td><td style=\"text-align: right;\">-0.153619   </td><td style=\"text-align: right;\">-0.198613 </td><td style=\"text-align: right;\"> 0.0542989 </td><td style=\"text-align: right;\">-0.121679 </td><td style=\"text-align: right;\">-0.108007 </td><td style=\"text-align: right;\">-0.163518  </td><td style=\"text-align: right;\"> 0.0829222 </td><td style=\"text-align: right;\"> 0.00697469</td><td style=\"text-align: right;\">-0.0726974  </td><td style=\"text-align: right;\"> 0.0124617 </td><td style=\"text-align: right;\">-0.11188  </td><td style=\"text-align: right;\">-0.149325 </td><td style=\"text-align: right;\">-0.230394 </td><td style=\"text-align: right;\"> 0.0375035</td><td style=\"text-align: right;\">0.0336952</td><td style=\"text-align: right;\">-0.0725732</td><td style=\"text-align: right;\">-0.0300657 </td><td style=\"text-align: right;\">-0.0617085</td><td style=\"text-align: right;\"> 0.00905926</td><td style=\"text-align: right;\">-0.0429881 </td><td style=\"text-align: right;\">-0.15335   </td><td style=\"text-align: right;\">-0.0142972</td><td style=\"text-align: right;\">0.199042 </td><td style=\"text-align: right;\">-0.00786578</td><td style=\"text-align: right;\">-0.14227   </td><td style=\"text-align: right;\">-0.0983355 </td><td style=\"text-align: right;\"> 0.0919076</td><td style=\"text-align: right;\">-0.124015 </td><td style=\"text-align: right;\">-0.0710798</td><td style=\"text-align: right;\">-0.0352592</td><td style=\"text-align: right;\"> 0.0621067</td><td style=\"text-align: right;\">-0.173569  </td><td style=\"text-align: right;\">-0.219165 </td><td style=\"text-align: right;\">0.0415812</td><td style=\"text-align: right;\"> 0.059844  </td><td style=\"text-align: right;\"> 0.115539  </td><td style=\"text-align: right;\">-0.00982656</td><td style=\"text-align: right;\"> 0.113005  </td><td style=\"text-align: right;\">-0.137214  </td><td style=\"text-align: right;\">-0.144782  </td><td style=\"text-align: right;\">-0.0132631 </td><td style=\"text-align: right;\">-0.0183076 </td><td style=\"text-align: right;\">-0.016371 </td><td style=\"text-align: right;\"> 0.0157724  </td><td style=\"text-align: right;\">-0.125411  </td><td style=\"text-align: right;\"> 0.0896952 </td><td style=\"text-align: right;\">-0.00611724</td><td style=\"text-align: right;\"> 0.0139192</td><td style=\"text-align: right;\"> 0.0338529</td><td style=\"text-align: right;\"> 0.0884362</td><td style=\"text-align: right;\"> 0.0398665 </td><td style=\"text-align: right;\">-0.180407  </td><td style=\"text-align: right;\">-0.0711454</td><td style=\"text-align: right;\">-0.0453099 </td><td style=\"text-align: right;\"> 0.0435204</td><td style=\"text-align: right;\"> 0.103591  </td><td style=\"text-align: right;\"> 0.0159901</td><td style=\"text-align: right;\">-0.0717452</td><td style=\"text-align: right;\">-0.162899 </td><td style=\"text-align: right;\">-0.0554751</td><td style=\"text-align: right;\"> 0.0288845</td><td style=\"text-align: right;\">-0.18589   </td><td style=\"text-align: right;\">-0.010133 </td><td style=\"text-align: right;\"> 0.0203311</td><td style=\"text-align: right;\"> 0.199487  </td><td style=\"text-align: right;\">-0.0176986</td><td style=\"text-align: right;\">0.0454671</td><td style=\"text-align: right;\">0.104495 </td><td style=\"text-align: right;\"> 0.0407678</td><td style=\"text-align: right;\">-0.205711  </td><td style=\"text-align: right;\"> 0.136664   </td><td style=\"text-align: right;\">-0.0148081</td><td style=\"text-align: right;\"> 0.104502   </td><td style=\"text-align: right;\">-0.0161352</td><td style=\"text-align: right;\"> 0.0382315 </td><td style=\"text-align: right;\">-0.0429893</td><td style=\"text-align: right;\"> 0.00597397</td><td style=\"text-align: right;\">0.164723 </td><td style=\"text-align: right;\">-0.0575721</td><td style=\"text-align: right;\">0.149265 </td><td style=\"text-align: right;\"> 0.11722   </td><td style=\"text-align: right;\">-0.0410415</td><td style=\"text-align: right;\">0.0562293</td><td style=\"text-align: right;\"> 0.1004    </td><td style=\"text-align: right;\">-0.090348 </td><td style=\"text-align: right;\">-0.149522   </td><td style=\"text-align: right;\">-0.0103049</td><td style=\"text-align: right;\"> 0.0728902</td><td style=\"text-align: right;\"> 0.10697   </td><td style=\"text-align: right;\">0.238856 </td></tr>\n",
       "<tr><td style=\"text-align: right;\">-0.161623</td><td style=\"text-align: right;\"> 0.0105249</td><td style=\"text-align: right;\">-0.00263434</td><td style=\"text-align: right;\">-0.0656876</td><td style=\"text-align: right;\"> 0.001138 </td><td style=\"text-align: right;\"> 0.121719   </td><td style=\"text-align: right;\">-0.0146332</td><td style=\"text-align: right;\">-0.0259604</td><td style=\"text-align: right;\">-0.0278702</td><td style=\"text-align: right;\"> 0.034081  </td><td style=\"text-align: right;\">-0.0390502  </td><td style=\"text-align: right;\">-0.120918 </td><td style=\"text-align: right;\"> 0.00520557</td><td style=\"text-align: right;\">-0.162025 </td><td style=\"text-align: right;\">-0.050484 </td><td style=\"text-align: right;\"> 0.0196221 </td><td style=\"text-align: right;\"> 0.0776449 </td><td style=\"text-align: right;\">-0.0636785 </td><td style=\"text-align: right;\"> 0.14452    </td><td style=\"text-align: right;\"> 0.0490282 </td><td style=\"text-align: right;\"> 0.109796 </td><td style=\"text-align: right;\">-0.246684 </td><td style=\"text-align: right;\">-0.0514109</td><td style=\"text-align: right;\"> 0.0785918</td><td style=\"text-align: right;\">0.040451 </td><td style=\"text-align: right;\">-0.142426 </td><td style=\"text-align: right;\">-0.00138721</td><td style=\"text-align: right;\">-0.0751615</td><td style=\"text-align: right;\">-0.00872404</td><td style=\"text-align: right;\">-0.00683516</td><td style=\"text-align: right;\">-0.0455357 </td><td style=\"text-align: right;\"> 0.086725 </td><td style=\"text-align: right;\">0.223632 </td><td style=\"text-align: right;\"> 0.00984033</td><td style=\"text-align: right;\">-0.209909  </td><td style=\"text-align: right;\">-0.14321   </td><td style=\"text-align: right;\"> 0.0120612</td><td style=\"text-align: right;\">-0.196073 </td><td style=\"text-align: right;\"> 0.102445 </td><td style=\"text-align: right;\">-0.184825 </td><td style=\"text-align: right;\"> 0.0337688</td><td style=\"text-align: right;\">-0.0638663 </td><td style=\"text-align: right;\">-0.154293 </td><td style=\"text-align: right;\">0.0922878</td><td style=\"text-align: right;\">-0.0759248 </td><td style=\"text-align: right;\"> 0.0255207 </td><td style=\"text-align: right;\"> 0.124724  </td><td style=\"text-align: right;\"> 0.0915339 </td><td style=\"text-align: right;\">-0.043535  </td><td style=\"text-align: right;\"> 0.0125194 </td><td style=\"text-align: right;\">-0.0727036 </td><td style=\"text-align: right;\"> 0.00931181</td><td style=\"text-align: right;\"> 0.0635388</td><td style=\"text-align: right;\"> 0.148374   </td><td style=\"text-align: right;\">-0.0205851 </td><td style=\"text-align: right;\"> 0.021926  </td><td style=\"text-align: right;\">-0.0133283 </td><td style=\"text-align: right;\">-0.0381227</td><td style=\"text-align: right;\">-0.0250269</td><td style=\"text-align: right;\"> 0.148173 </td><td style=\"text-align: right;\"> 0.00185414</td><td style=\"text-align: right;\"> 0.03115   </td><td style=\"text-align: right;\">-0.114475 </td><td style=\"text-align: right;\">-0.0352148 </td><td style=\"text-align: right;\">-0.0772304</td><td style=\"text-align: right;\"> 0.0392315 </td><td style=\"text-align: right;\"> 0.119693 </td><td style=\"text-align: right;\"> 0.104606 </td><td style=\"text-align: right;\">-0.071036 </td><td style=\"text-align: right;\">-0.0550966</td><td style=\"text-align: right;\">-0.0785171</td><td style=\"text-align: right;\">-0.0555854 </td><td style=\"text-align: right;\"> 0.098982 </td><td style=\"text-align: right;\">-0.0123405</td><td style=\"text-align: right;\"> 0.116808  </td><td style=\"text-align: right;\"> 0.088447 </td><td style=\"text-align: right;\">0.123166 </td><td style=\"text-align: right;\">0.18919  </td><td style=\"text-align: right;\">-0.0200988</td><td style=\"text-align: right;\">-0.0541542 </td><td style=\"text-align: right;\">-0.104363   </td><td style=\"text-align: right;\">-0.0241712</td><td style=\"text-align: right;\">-0.0284298  </td><td style=\"text-align: right;\"> 0.0348271</td><td style=\"text-align: right;\">-0.00724506</td><td style=\"text-align: right;\">-0.110717 </td><td style=\"text-align: right;\">-0.0141505 </td><td style=\"text-align: right;\">0.117486 </td><td style=\"text-align: right;\">-0.0284656</td><td style=\"text-align: right;\">0.039468 </td><td style=\"text-align: right;\"> 0.00671007</td><td style=\"text-align: right;\">-0.0646858</td><td style=\"text-align: right;\">0.0660228</td><td style=\"text-align: right;\">-0.0692742 </td><td style=\"text-align: right;\">-0.106904 </td><td style=\"text-align: right;\">-0.167342   </td><td style=\"text-align: right;\"> 0.0296691</td><td style=\"text-align: right;\"> 0.144399 </td><td style=\"text-align: right;\"> 0.0827652 </td><td style=\"text-align: right;\">0.0871032</td></tr>\n",
       "<tr><td style=\"text-align: right;\">-0.194047</td><td style=\"text-align: right;\"> 0.0894385</td><td style=\"text-align: right;\">-0.0219024 </td><td style=\"text-align: right;\">-0.0435665</td><td style=\"text-align: right;\">-0.0211486</td><td style=\"text-align: right;\"> 0.0841899  </td><td style=\"text-align: right;\">-0.0575964</td><td style=\"text-align: right;\">-0.0535681</td><td style=\"text-align: right;\">-0.0786282</td><td style=\"text-align: right;\">-0.0158459 </td><td style=\"text-align: right;\">-0.0287693  </td><td style=\"text-align: right;\">-0.133031 </td><td style=\"text-align: right;\"> 0.0479188 </td><td style=\"text-align: right;\">-0.136487 </td><td style=\"text-align: right;\">-0.154747 </td><td style=\"text-align: right;\">-0.00276976</td><td style=\"text-align: right;\">-0.0154412 </td><td style=\"text-align: right;\">-0.0512915 </td><td style=\"text-align: right;\"> 0.0942054  </td><td style=\"text-align: right;\">-0.0164511 </td><td style=\"text-align: right;\"> 0.112676 </td><td style=\"text-align: right;\">-0.172489 </td><td style=\"text-align: right;\">-0.0741617</td><td style=\"text-align: right;\"> 0.0312667</td><td style=\"text-align: right;\">0.0679718</td><td style=\"text-align: right;\">-0.136075 </td><td style=\"text-align: right;\">-0.0651319 </td><td style=\"text-align: right;\">-0.112845 </td><td style=\"text-align: right;\">-0.0363252 </td><td style=\"text-align: right;\"> 0.0256916 </td><td style=\"text-align: right;\">-0.0880312 </td><td style=\"text-align: right;\"> 0.109654 </td><td style=\"text-align: right;\">0.187707 </td><td style=\"text-align: right;\">-0.00245571</td><td style=\"text-align: right;\"> 0.00970592</td><td style=\"text-align: right;\">-0.133294  </td><td style=\"text-align: right;\"> 0.0103043</td><td style=\"text-align: right;\">-0.189345 </td><td style=\"text-align: right;\"> 0.0348143</td><td style=\"text-align: right;\">-0.260102 </td><td style=\"text-align: right;\"> 0.0297872</td><td style=\"text-align: right;\"> 0.00396594</td><td style=\"text-align: right;\">-0.130685 </td><td style=\"text-align: right;\">0.190627 </td><td style=\"text-align: right;\"> 0.00375357</td><td style=\"text-align: right;\">-0.0287644 </td><td style=\"text-align: right;\"> 0.0993489 </td><td style=\"text-align: right;\">-0.00959903</td><td style=\"text-align: right;\"> 0.064623  </td><td style=\"text-align: right;\"> 0.00779776</td><td style=\"text-align: right;\">-0.0765753 </td><td style=\"text-align: right;\">-0.0260299 </td><td style=\"text-align: right;\"> 0.0485384</td><td style=\"text-align: right;\"> 0.0581527  </td><td style=\"text-align: right;\">-0.0500218 </td><td style=\"text-align: right;\"> 0.0837162 </td><td style=\"text-align: right;\">-0.0749991 </td><td style=\"text-align: right;\"> 0.118947 </td><td style=\"text-align: right;\"> 0.0751263</td><td style=\"text-align: right;\"> 0.132197 </td><td style=\"text-align: right;\">-0.0495787 </td><td style=\"text-align: right;\"> 0.0894941 </td><td style=\"text-align: right;\">-0.0989447</td><td style=\"text-align: right;\"> 0.122575  </td><td style=\"text-align: right;\">-0.0777952</td><td style=\"text-align: right;\">-0.0238819 </td><td style=\"text-align: right;\"> 0.0499807</td><td style=\"text-align: right;\"> 0.0662463</td><td style=\"text-align: right;\"> 0.0227251</td><td style=\"text-align: right;\">-0.0827018</td><td style=\"text-align: right;\"> 0.0350645</td><td style=\"text-align: right;\"> 0.00620339</td><td style=\"text-align: right;\"> 0.168149 </td><td style=\"text-align: right;\"> 0.0803857</td><td style=\"text-align: right;\"> 0.0665916 </td><td style=\"text-align: right;\"> 0.113579 </td><td style=\"text-align: right;\">0.0610449</td><td style=\"text-align: right;\">0.205876 </td><td style=\"text-align: right;\"> 0.0178117</td><td style=\"text-align: right;\">-0.0632227 </td><td style=\"text-align: right;\"> 0.0519864  </td><td style=\"text-align: right;\"> 0.0893175</td><td style=\"text-align: right;\">-0.000991797</td><td style=\"text-align: right;\"> 0.14744  </td><td style=\"text-align: right;\"> 0.0186771 </td><td style=\"text-align: right;\">-0.086851 </td><td style=\"text-align: right;\">-0.11798   </td><td style=\"text-align: right;\">0.152567 </td><td style=\"text-align: right;\"> 0.0664946</td><td style=\"text-align: right;\">0.200106 </td><td style=\"text-align: right;\"> 0.0285086 </td><td style=\"text-align: right;\">-0.0356619</td><td style=\"text-align: right;\">0.0455654</td><td style=\"text-align: right;\"> 0.00180924</td><td style=\"text-align: right;\">-0.0348382</td><td style=\"text-align: right;\">-0.148653   </td><td style=\"text-align: right;\"> 0.0275158</td><td style=\"text-align: right;\"> 0.073901 </td><td style=\"text-align: right;\">-0.00598462</td><td style=\"text-align: right;\">0.167328 </td></tr>\n",
       "<tr><td style=\"text-align: right;\">-0.02919 </td><td style=\"text-align: right;\">-0.125206 </td><td style=\"text-align: right;\"> 0.311131  </td><td style=\"text-align: right;\">-0.134408 </td><td style=\"text-align: right;\">-0.031816 </td><td style=\"text-align: right;\"> 0.0798702  </td><td style=\"text-align: right;\">-0.132469 </td><td style=\"text-align: right;\"> 0.0960045</td><td style=\"text-align: right;\">-0.323729 </td><td style=\"text-align: right;\"> 0.0580034 </td><td style=\"text-align: right;\"> 0.11846    </td><td style=\"text-align: right;\">-0.228232 </td><td style=\"text-align: right;\">-0.104984  </td><td style=\"text-align: right;\"> 0.103332 </td><td style=\"text-align: right;\">-0.17952  </td><td style=\"text-align: right;\"> 0.137583  </td><td style=\"text-align: right;\">-0.206603  </td><td style=\"text-align: right;\">-0.148551  </td><td style=\"text-align: right;\"> 0.16613    </td><td style=\"text-align: right;\"> 0.0229121 </td><td style=\"text-align: right;\"> 0.341958 </td><td style=\"text-align: right;\">-0.124443 </td><td style=\"text-align: right;\">-0.054997 </td><td style=\"text-align: right;\"> 0.0598634</td><td style=\"text-align: right;\">0.36471  </td><td style=\"text-align: right;\">-0.17168  </td><td style=\"text-align: right;\">-0.0323551 </td><td style=\"text-align: right;\"> 0.119611 </td><td style=\"text-align: right;\">-0.0203313 </td><td style=\"text-align: right;\"> 0.222679  </td><td style=\"text-align: right;\">-0.288889  </td><td style=\"text-align: right;\">-0.224593 </td><td style=\"text-align: right;\">0.0417433</td><td style=\"text-align: right;\"> 0.0288748 </td><td style=\"text-align: right;\">-0.300227  </td><td style=\"text-align: right;\">-0.214862  </td><td style=\"text-align: right;\">-0.161794 </td><td style=\"text-align: right;\">-0.4669   </td><td style=\"text-align: right;\"> 0.133716 </td><td style=\"text-align: right;\">-0.355672 </td><td style=\"text-align: right;\">-0.177895 </td><td style=\"text-align: right;\">-0.297676  </td><td style=\"text-align: right;\">-0.116176 </td><td style=\"text-align: right;\">0.157495 </td><td style=\"text-align: right;\"> 0.112572  </td><td style=\"text-align: right;\">-0.0609062 </td><td style=\"text-align: right;\">-0.00472087</td><td style=\"text-align: right;\"> 0.270142  </td><td style=\"text-align: right;\"> 0.250359  </td><td style=\"text-align: right;\">-0.128017  </td><td style=\"text-align: right;\">-0.0236328 </td><td style=\"text-align: right;\">-0.0796739 </td><td style=\"text-align: right;\"> 0.18151  </td><td style=\"text-align: right;\">-0.123892   </td><td style=\"text-align: right;\"> 0.0334975 </td><td style=\"text-align: right;\"> 0.0221961 </td><td style=\"text-align: right;\"> 0.0894877 </td><td style=\"text-align: right;\">-0.0753977</td><td style=\"text-align: right;\"> 0.14601  </td><td style=\"text-align: right;\">-0.152963 </td><td style=\"text-align: right;\"> 0.0215999 </td><td style=\"text-align: right;\"> 0.168235  </td><td style=\"text-align: right;\">-0.166595 </td><td style=\"text-align: right;\"> 0.0226262 </td><td style=\"text-align: right;\"> 0.0189418</td><td style=\"text-align: right;\">-0.00815266</td><td style=\"text-align: right;\"> 0.339516 </td><td style=\"text-align: right;\"> 0.15207  </td><td style=\"text-align: right;\"> 0.0195341</td><td style=\"text-align: right;\">-0.0585011</td><td style=\"text-align: right;\"> 0.200846 </td><td style=\"text-align: right;\">-0.226671  </td><td style=\"text-align: right;\">-0.0889565</td><td style=\"text-align: right;\"> 0.024578 </td><td style=\"text-align: right;\"> 0.160298  </td><td style=\"text-align: right;\"> 0.0728478</td><td style=\"text-align: right;\">0.161182 </td><td style=\"text-align: right;\">0.37164  </td><td style=\"text-align: right;\">-0.0544425</td><td style=\"text-align: right;\">-0.0995174 </td><td style=\"text-align: right;\">-0.195541   </td><td style=\"text-align: right;\">-0.178877 </td><td style=\"text-align: right;\"> 0.0901503  </td><td style=\"text-align: right;\"> 0.0931526</td><td style=\"text-align: right;\">-0.011747  </td><td style=\"text-align: right;\">-0.292071 </td><td style=\"text-align: right;\">-0.17188   </td><td style=\"text-align: right;\">0.0232474</td><td style=\"text-align: right;\"> 0.106708 </td><td style=\"text-align: right;\">0.165062 </td><td style=\"text-align: right;\"> 0.143153  </td><td style=\"text-align: right;\">-0.0268618</td><td style=\"text-align: right;\">0.0457528</td><td style=\"text-align: right;\"> 0.0938475 </td><td style=\"text-align: right;\"> 0.201255 </td><td style=\"text-align: right;\"> 0.000789749</td><td style=\"text-align: right;\"> 0.250522 </td><td style=\"text-align: right;\"> 0.179704 </td><td style=\"text-align: right;\"> 0.182658  </td><td style=\"text-align: right;\">0.281363 </td></tr>\n",
       "</tbody>\n",
       "</table>"
      ]
     },
     "metadata": {},
     "output_type": "display_data"
    },
    {
     "data": {
      "text/plain": []
     },
     "execution_count": 25,
     "metadata": {},
     "output_type": "execute_result"
    }
   ],
   "source": [
    "review_vecs"
   ]
  },
  {
   "cell_type": "code",
   "execution_count": 26,
   "metadata": {},
   "outputs": [],
   "source": [
    "# Add aggregated word embeddings \n",
    "ext_reviews = reviews.cbind(review_vecs)"
   ]
  },
  {
   "cell_type": "markdown",
   "metadata": {},
   "source": [
    "## Train GBM Model to Predict Good Review\n",
    "\n",
    "We will train a GBM model with the same parameters as our baseline gbm.  This time, however, we will add the aggregated word embeddings as predictors. "
   ]
  },
  {
   "cell_type": "code",
   "execution_count": 57,
   "metadata": {},
   "outputs": [],
   "source": [
    "ext_train = ext_reviews[ext_reviews[\"Train\"] == \"Yes\"]\n",
    "ext_test = ext_reviews[ext_reviews[\"Train\"] == \"No\"]"
   ]
  },
  {
   "cell_type": "code",
   "execution_count": 58,
   "metadata": {},
   "outputs": [
    {
     "name": "stdout",
     "output_type": "stream",
     "text": [
      "gbm Model Build progress: |███████████████████████████████████████████████| 100%\n"
     ]
    }
   ],
   "source": [
    "predictors = predictors + review_vecs.names\n",
    "response = 'PositiveReview'\n",
    "\n",
    "gbm_embeddings = H2OGradientBoostingEstimator(stopping_metric = \"AUC\", stopping_tolerance = 0.001,\n",
    "                                              stopping_rounds = 5, score_tree_interval = 10,\n",
    "                                              model_id = \"gbm_embeddings.hex\"\n",
    "                                             )\n",
    "gbm_embeddings.train(x = predictors, y = response, \n",
    "                   training_frame = ext_train, validation_frame = ext_test\n",
    "                  )"
   ]
  },
  {
   "cell_type": "code",
   "execution_count": 59,
   "metadata": {},
   "outputs": [
    {
     "name": "stdout",
     "output_type": "stream",
     "text": [
      "Baseline AUC: 0.616\n",
      "With Embeddings AUC: 0.872\n"
     ]
    }
   ],
   "source": [
    "print(\"Baseline AUC: \" + str(round(gbm_baseline.auc(valid = True), 3)))\n",
    "print(\"With Embeddings AUC: \" + str(round(gbm_embeddings.auc(valid = True), 3)))"
   ]
  },
  {
   "cell_type": "code",
   "execution_count": 60,
   "metadata": {},
   "outputs": [
    {
     "name": "stdout",
     "output_type": "stream",
     "text": [
      "Confusion Matrix (Act/Pred) for max f1 @ threshold = 0.581034717194: \n"
     ]
    },
    {
     "data": {
      "text/html": [
       "<div style=\"overflow:auto\"><table style=\"width:50%\"><tr><td><b></b></td>\n",
       "<td><b>0</b></td>\n",
       "<td><b>1</b></td>\n",
       "<td><b>Error</b></td>\n",
       "<td><b>Rate</b></td></tr>\n",
       "<tr><td>0</td>\n",
       "<td>2222.0</td>\n",
       "<td>2438.0</td>\n",
       "<td>0.5232</td>\n",
       "<td> (2438.0/4660.0)</td></tr>\n",
       "<tr><td>1</td>\n",
       "<td>750.0</td>\n",
       "<td>14598.0</td>\n",
       "<td>0.0489</td>\n",
       "<td> (750.0/15348.0)</td></tr>\n",
       "<tr><td>Total</td>\n",
       "<td>2972.0</td>\n",
       "<td>17036.0</td>\n",
       "<td>0.1593</td>\n",
       "<td> (3188.0/20008.0)</td></tr></table></div>"
      ],
      "text/plain": [
       "       0     1      Error    Rate\n",
       "-----  ----  -----  -------  ----------------\n",
       "0      2222  2438   0.5232   (2438.0/4660.0)\n",
       "1      750   14598  0.0489   (750.0/15348.0)\n",
       "Total  2972  17036  0.1593   (3188.0/20008.0)"
      ]
     },
     "metadata": {},
     "output_type": "display_data"
    },
    {
     "data": {
      "text/plain": []
     },
     "execution_count": 60,
     "metadata": {},
     "output_type": "execute_result"
    }
   ],
   "source": [
    "gbm_embeddings.confusion_matrix(valid = True)"
   ]
  },
  {
   "cell_type": "markdown",
   "metadata": {},
   "source": [
    "## Adding Summary\n",
    "\n",
    "We saw that the review column is not the only column with text.  We also have a column called `Summary` which summarizes the review.  We will add the word embeddings of the summary to see if this improves our model."
   ]
  },
  {
   "cell_type": "code",
   "execution_count": 61,
   "metadata": {},
   "outputs": [],
   "source": [
    "# Break summaries into sequence of words\n",
    "summary_words = tokenize(reviews[\"Summary\"].ascharacter())"
   ]
  },
  {
   "cell_type": "code",
   "execution_count": 62,
   "metadata": {},
   "outputs": [],
   "source": [
    "# Add aggregated summary word embeddings\n",
    "summary_vecs = w2v_model.transform(summary_words, aggregate_method = \"AVERAGE\")\n",
    "summary_vecs.names = [\"summary_\" + s for s in summary_vecs.names]\n",
    "\n",
    "ext_reviews = ext_reviews.cbind(summary_vecs)"
   ]
  },
  {
   "cell_type": "code",
   "execution_count": 63,
   "metadata": {},
   "outputs": [],
   "source": [
    "ext_train = ext_reviews[ext_reviews[\"Train\"] == \"Yes\"]\n",
    "ext_test = ext_reviews[ext_reviews[\"Train\"] == \"No\"]"
   ]
  },
  {
   "cell_type": "code",
   "execution_count": 64,
   "metadata": {},
   "outputs": [
    {
     "name": "stdout",
     "output_type": "stream",
     "text": [
      "gbm Model Build progress: |███████████████████████████████████████████████| 100%\n"
     ]
    }
   ],
   "source": [
    "predictors = predictors + summary_vecs.names\n",
    "response = 'PositiveReview'\n",
    "\n",
    "gbm_plus_summary = H2OGradientBoostingEstimator(stopping_metric = \"AUC\", stopping_tolerance = 0.001,\n",
    "                                              stopping_rounds = 5, score_tree_interval = 10,\n",
    "                                              model_id = \"gbm_plus_summary.hex\"\n",
    "                                             )\n",
    "gbm_plus_summary.train(x = predictors, y = response, \n",
    "                       training_frame = ext_train, validation_frame = ext_test\n",
    "                      )"
   ]
  },
  {
   "cell_type": "code",
   "execution_count": 67,
   "metadata": {},
   "outputs": [
    {
     "name": "stdout",
     "output_type": "stream",
     "text": [
      "Baseline AUC: 0.616\n",
      "With Embeddings AUC: 0.872\n",
      "With Summary and Review Embeddings AUC: 0.909\n"
     ]
    }
   ],
   "source": [
    "print(\"Baseline AUC: \" + str(round(gbm_baseline.auc(valid = True), 3)))\n",
    "print(\"With Embeddings AUC: \" + str(round(gbm_embeddings.auc(valid = True), 3)))\n",
    "print(\"With Summary and Review Embeddings AUC: \" + str(round(gbm_plus_summary.auc(valid = True), 3)))"
   ]
  },
  {
   "cell_type": "code",
   "execution_count": 68,
   "metadata": {},
   "outputs": [
    {
     "data": {
      "image/png": "[encoded data removed]",
      "text/plain": [
       "<Figure size 1008x720 with 1 Axes>"
      ]
     },
     "metadata": {
      "needs_background": "light"
     },
     "output_type": "display_data"
    }
   ],
   "source": [
    "gbm_plus_summary.varimp_plot()"
   ]
  },
  {
   "cell_type": "code",
   "execution_count": 78,
   "metadata": {},
   "outputs": [
    {
     "name": "stdout",
     "output_type": "stream",
     "text": [
      "PartialDependencePlot progress: |█████████████████████████████████████████| 100%\n"
     ]
    },
    {
     "data": {
      "image/png": "[encoded data removed]",
      "text/plain": [
       "<Figure size 504x720 with 1 Axes>"
      ]
     },
     "metadata": {
      "needs_background": "light"
     },
     "output_type": "display_data"
    }
   ],
   "source": [
    "pdp_word_vecs = gbm_plus_summary.partial_plot(data = ext_train, cols = [\"C43\"])"
   ]
  },
  {
   "cell_type": "markdown",
   "metadata": {},
   "source": [
    "We can see that a low `C43` is associated with a smaller probability of positive review.  Let's see what words have a low `C43` value."
   ]
  },
  {
   "cell_type": "code",
   "execution_count": 74,
   "metadata": {},
   "outputs": [],
   "source": [
    "# Get Word Embeddings per Word\n",
    "unique_words = words.asfactor().unique().ascharacter()\n",
    "unique_words.col_names = [\"Word\"]\n",
    "word_embeddings = w2v_model.transform(unique_words, aggregate_method=\"None\")\n",
    "word_embeddings = unique_words.cbind(word_embeddings)\n",
    "word_embeddings = word_embeddings[~(word_embeddings[\"C1\"].isna())]"
   ]
  },
  {
   "cell_type": "code",
   "execution_count": 76,
   "metadata": {
    "scrolled": true
   },
   "outputs": [
    {
     "data": {
      "image/png": "[encoded data removed]",
      "text/plain": [
       "<Figure size 432x288 with 1 Axes>"
      ]
     },
     "metadata": {
      "needs_background": "light"
     },
     "output_type": "display_data"
    }
   ],
   "source": [
    "word_embeddings[\"C43\"].hist()"
   ]
  },
  {
   "cell_type": "code",
   "execution_count": 77,
   "metadata": {
    "scrolled": true
   },
   "outputs": [
    {
     "data": {
      "text/html": [
       "<table>\n",
       "<thead>\n",
       "<tr><th>Word      </th><th style=\"text-align: right;\">     C43</th></tr>\n",
       "</thead>\n",
       "<tbody>\n",
       "<tr><td>beauty    </td><td style=\"text-align: right;\">-1.1726 </td></tr>\n",
       "<tr><td>dandruff  </td><td style=\"text-align: right;\">-1.1224 </td></tr>\n",
       "<tr><td>itchy     </td><td style=\"text-align: right;\">-1.1547 </td></tr>\n",
       "<tr><td>jim       </td><td style=\"text-align: right;\">-1.18561</td></tr>\n",
       "<tr><td>jims      </td><td style=\"text-align: right;\">-1.3033 </td></tr>\n",
       "<tr><td>migraines </td><td style=\"text-align: right;\">-1.17599</td></tr>\n",
       "<tr><td>nourish   </td><td style=\"text-align: right;\">-1.20569</td></tr>\n",
       "<tr><td>nourishing</td><td style=\"text-align: right;\">-1.18093</td></tr>\n",
       "<tr><td>scalp     </td><td style=\"text-align: right;\">-1.42279</td></tr>\n",
       "<tr><td>shampoos  </td><td style=\"text-align: right;\">-1.11195</td></tr>\n",
       "<tr><td>shea      </td><td style=\"text-align: right;\">-1.10182</td></tr>\n",
       "<tr><td>shinier   </td><td style=\"text-align: right;\">-1.14531</td></tr>\n",
       "<tr><td>smokehouse</td><td style=\"text-align: right;\">-1.18292</td></tr>\n",
       "<tr><td>therapy   </td><td style=\"text-align: right;\">-1.12446</td></tr>\n",
       "<tr><td>ultra     </td><td style=\"text-align: right;\">-1.14977</td></tr>\n",
       "</tbody>\n",
       "</table>"
      ]
     },
     "metadata": {},
     "output_type": "display_data"
    },
    {
     "data": {
      "text/plain": []
     },
     "execution_count": 77,
     "metadata": {},
     "output_type": "execute_result"
    }
   ],
   "source": [
    "low_c43_words = word_embeddings[word_embeddings[\"C43\"] < -1.1]\n",
    "low_c43_words[[\"Word\", \"C43\"]].head(15)"
   ]
  },
  {
   "cell_type": "markdown",
   "metadata": {},
   "source": [
    "The words with low `C43` like `contacted`, `answered`, `emails`, `phone` and `refund` all seem to be related to contacting for a refund.  Words like: `salmonella` are obviously an indicator of a negative review for a food product."
   ]
  },
  {
   "cell_type": "markdown",
   "metadata": {},
   "source": [
    "## Predict on New Reviews\n",
    "\n",
    "Now that we've built a model we are satisifed with, we will see how the model performs on new reviews.\n",
    "\n",
    "* *\"The taste is great! especially when you cook it with some vegetable and egg. I like it very much, though it's more expensive than the other noodles\"*\n",
    "\n",
    "\n",
    "* *\"Quite tasteless and they make you order so many. I am stuck with 12 bags of this tasteless stuff. I am not ordering large amounts of anything from Amazon again. So often I don't like it and I am stuck with so much on hand.\"*"
   ]
  },
  {
   "cell_type": "code",
   "execution_count": 79,
   "metadata": {},
   "outputs": [],
   "source": [
    "def predict(reviews, w2v, gbm):\n",
    "    \n",
    "    words = tokenize(reviews[\"Text\"].ascharacter())\n",
    "    reviews_vec = w2v.transform(words, aggregate_method=\"AVERAGE\")\n",
    "    \n",
    "    summary_words = tokenize(reviews[\"Summary\"].ascharacter())\n",
    "    summary_vec = w2v.transform(summary_words, aggregate_method=\"AVERAGE\")\n",
    "    \n",
    "    model_data = reviews.cbind(reviews_vec).cbind(summary_vec)\n",
    "    print(gbm.predict(model_data))"
   ]
  },
  {
   "cell_type": "code",
   "execution_count": 80,
   "metadata": {},
   "outputs": [
    {
     "name": "stdout",
     "output_type": "stream",
     "text": [
      "Parse progress: |█████████████████████████████████████████████████████████| 100%\n"
     ]
    }
   ],
   "source": [
    "good_review = h2o.H2OFrame([[\"B000EQT574\", \"AISQLBDGS2KXR\", 1, 1, 1263340800, \n",
    "                             \"Delicious\",\n",
    "                             \"These chips are delicious. Salty sweet with a hint of spice. I have no idea how Tamari is supposed to taste, but these chips are awesome. I just finished an entire bag in one day!\"]])\n",
    "\n",
    "good_review.col_names = [\"ProductId\",\"UserId\",\"HelpfulnessNumerator\",\"HelpfulnessDenominator\",\"Time\",\"Summary\",\"Text\"]"
   ]
  },
  {
   "cell_type": "code",
   "execution_count": 81,
   "metadata": {},
   "outputs": [
    {
     "name": "stdout",
     "output_type": "stream",
     "text": [
      "Parse progress: |█████████████████████████████████████████████████████████| 100%\n"
     ]
    }
   ],
   "source": [
    "bad_review = h2o.H2OFrame([[\"B003BJZMSM\", \"A2JBZHQVQF7MV0\", 1, 2, 1274832000, \n",
    "                            \"Pretty tasteless\",\n",
    "                            \"Quite tasteless and they make you order so many. I am stuck with 12 bags of this tasteless stuff. I am not ordering large amounts of anything from Amazon again. So often I don't like it and I am stuck with so much on hand.\"]])\n",
    "\n",
    "bad_review.col_names = [\"ProductId\",\"UserId\",\"HelpfulnessNumerator\",\"HelpfulnessDenominator\",\"Time\",\"Summary\",\"Text\"]"
   ]
  },
  {
   "cell_type": "code",
   "execution_count": null,
   "metadata": {},
   "outputs": [
    {
     "name": "stdout",
     "output_type": "stream",
     "text": [
      "Good Review: \n",
      "gbm prediction progress: |████████████████████████████████████████████████| 100%\n"
     ]
    },
    {
     "data": {
      "text/html": [
       "<table>\n",
       "<thead>\n",
       "<tr><th style=\"text-align: right;\">  predict</th><th style=\"text-align: right;\">       p0</th><th style=\"text-align: right;\">      p1</th></tr>\n",
       "</thead>\n",
       "<tbody>\n",
       "<tr><td style=\"text-align: right;\">        1</td><td style=\"text-align: right;\">0.0833834</td><td style=\"text-align: right;\">0.916617</td></tr>\n",
       "</tbody>\n",
       "</table>"
      ]
     },
     "metadata": {},
     "output_type": "display_data"
    },
    {
     "name": "stdout",
     "output_type": "stream",
     "text": [
      "\n",
      "None\n",
      "Bad Review: \n"
     ]
    }
   ],
   "source": [
    "# Predict!\n",
    "print(\"Good Review: \")\n",
    "print(predict(good_review, w2v_model, gbm_embeddings))\n",
    "\n",
    "print(\"Bad Review: \")\n",
    "print(predict(bad_review, w2v_model, gbm_embeddings))"
   ]
  },
  {
   "cell_type": "code",
   "execution_count": null,
   "metadata": {},
   "outputs": [],
   "source": [
    "h2o.cluster().shutdown()"
   ]
  },
  {
   "cell_type": "code",
   "execution_count": null,
   "metadata": {
    "collapsed": true
   },
   "outputs": [],
   "source": []
  }
 ],
 "metadata": {
  "kernelspec": {
   "display_name": "Python 2",
   "language": "python",
   "name": "python2"
  },
  "language_info": {
   "codemirror_mode": {
    "name": "ipython",
    "version": 2
   },
   "file_extension": ".py",
   "mimetype": "text/x-python",
   "name": "python",
   "nbconvert_exporter": "python",
   "pygments_lexer": "ipython2",
   "version": "2.7.15"
  }
 },
 "nbformat": 4,
 "nbformat_minor": 2
}
